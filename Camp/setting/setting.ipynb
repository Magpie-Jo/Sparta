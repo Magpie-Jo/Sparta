{
 "cells": [
  {
   "cell_type": "code",
   "execution_count": null,
   "id": "50994dd5",
   "metadata": {},
   "outputs": [],
   "source": [
    "git config"
   ]
  }
 ],
 "metadata": {
  "language_info": {
   "name": "python"
  }
 },
 "nbformat": 4,
 "nbformat_minor": 5
}
