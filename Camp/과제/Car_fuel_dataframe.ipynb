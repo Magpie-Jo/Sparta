{
 "cells": [
  {
   "cell_type": "markdown",
   "id": "2cf61b5c",
   "metadata": {},
   "source": [
    "111"
   ]
  },
  {
   "cell_type": "code",
   "execution_count": null,
   "id": "f522f8b2",
   "metadata": {},
   "outputs": [],
   "source": []
  }
 ],
 "metadata": {
  "language_info": {
   "name": "python"
  }
 },
 "nbformat": 4,
 "nbformat_minor": 5
}
