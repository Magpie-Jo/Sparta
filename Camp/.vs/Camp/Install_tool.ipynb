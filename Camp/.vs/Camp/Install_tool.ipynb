{
 "cells": [
  {
   "cell_type": "code",
   "execution_count": null,
   "id": "e2a42ca9",
   "metadata": {},
   "outputs": [],
   "source": [
    "# pip"
   ]
  },
  {
   "cell_type": "markdown",
   "id": "cf644292",
   "metadata": {},
   "source": [
    "데이터 분석 설치 패키지 목록\n",
    "\n",
    "터미널에 복붙"
   ]
  },
  {
   "cell_type": "code",
   "execution_count": null,
   "id": "f016b47d",
   "metadata": {},
   "outputs": [
    {
     "ename": "SyntaxError",
     "evalue": "invalid syntax (2469728782.py, line 6)",
     "output_type": "error",
     "traceback": [
      "  \u001b[36mCell\u001b[39m\u001b[36m \u001b[39m\u001b[32mIn[3]\u001b[39m\u001b[32m, line 6\u001b[39m\n\u001b[31m    \u001b[39m\u001b[31mpip install seaborn\u001b[39m\n        ^\n\u001b[31mSyntaxError\u001b[39m\u001b[31m:\u001b[39m invalid syntax\n"
     ]
    }
   ],
   "source": [
    "# pip install numpy\n",
    "# pip install pandas\n",
    "# pip install matplotlib\n",
    "# pip install scipy\n",
    "# pip install jupyter\n",
    "# pip install seaborn\n",
    "# pip install openpyxl"
   ]
  }
 ],
 "metadata": {
  "kernelspec": {
   "display_name": "Python 3",
   "language": "python",
   "name": "python3"
  },
  "language_info": {
   "codemirror_mode": {
    "name": "ipython",
    "version": 3
   },
   "file_extension": ".py",
   "mimetype": "text/x-python",
   "name": "python",
   "nbconvert_exporter": "python",
   "pygments_lexer": "ipython3",
   "version": "3.13.7"
  }
 },
 "nbformat": 4,
 "nbformat_minor": 5
}
