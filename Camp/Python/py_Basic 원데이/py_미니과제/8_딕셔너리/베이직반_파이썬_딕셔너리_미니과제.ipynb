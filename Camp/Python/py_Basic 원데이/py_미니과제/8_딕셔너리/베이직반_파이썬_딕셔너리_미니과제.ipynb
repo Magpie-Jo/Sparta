{
 "cells": [
  {
   "cell_type": "markdown",
   "metadata": {},
   "source": [
    "## 문제 1\n",
    "다음과 같은 정보를 담은 딕셔너리 person을 생성하고, 'name' 키를 이용해 값을 출력하세요.\n",
    "\n",
    "- 키: 'name', 값: '홍길동'\n",
    "- 키: 'age', 값: 30\n",
    "- 키: 'city', 값: '서울'"
   ]
  },
  {
   "cell_type": "code",
   "execution_count": 1,
   "metadata": {},
   "outputs": [
    {
     "data": {
      "text/plain": [
       "'홍길동'"
      ]
     },
     "execution_count": 1,
     "metadata": {},
     "output_type": "execute_result"
    }
   ],
   "source": [
    "person = {'name' : '홍길동', 'age' : 30 , 'city' : '서울'}\n",
    "\n",
    "person['name']"
   ]
  },
  {
   "cell_type": "markdown",
   "metadata": {},
   "source": [
    "## 문제 2\n",
    "다음 딕셔너리 person = {'name': '홍길동', 'age': 30}가 있을 때, 'city' 키에 해당하는 값을 get() 메서드를 사용하여 가져오되, 키가 없을 경우 'Unknown'을 반환하도록 하세요."
   ]
  },
  {
   "cell_type": "code",
   "execution_count": 8,
   "metadata": {},
   "outputs": [
    {
     "name": "stdout",
     "output_type": "stream",
     "text": [
      "Unknown\n"
     ]
    }
   ],
   "source": [
    "person = {'name': '홍길동', 'age': 30}\n",
    "\n",
    "if person.get('city') is None:\n",
    "    print('Unknown')"
   ]
  },
  {
   "cell_type": "markdown",
   "metadata": {},
   "source": [
    "## 문제 3\n",
    "car = {'brand': 'Ford', 'model': 'Mustang'}가 있을 때, 'year' 키를 1964로 추가하고, 'model' 값을 'Thunderbird'로 변경하세요."
   ]
  },
  {
   "cell_type": "code",
   "execution_count": 14,
   "metadata": {},
   "outputs": [
    {
     "name": "stdout",
     "output_type": "stream",
     "text": [
      "{'brand': 'Ford', 'model': 'Thunderbird', 'year': 1964}\n"
     ]
    }
   ],
   "source": [
    "car = {'brand': 'Ford', 'model': 'Mustang'}\n",
    "\n",
    "car['year'] =  1964\n",
    "car['model'] = 'Thunderbird'\n",
    "\n",
    "print(car)"
   ]
  },
  {
   "cell_type": "markdown",
   "metadata": {},
   "source": [
    "## 문제 4\n",
    "문제: fruit = {'apple': 2, 'banana': 3, 'cherry': 5}가 있을 때, 'banana' 키-값 쌍을 제거하고, 제거된 값을 출력한 뒤 딕셔너리를 확인하세요."
   ]
  },
  {
   "cell_type": "code",
   "execution_count": 15,
   "metadata": {},
   "outputs": [
    {
     "name": "stdout",
     "output_type": "stream",
     "text": [
      "{'apple': 2, 'cherry': 5}\n"
     ]
    }
   ],
   "source": [
    "fruit = {'apple': 2, 'banana': 3, 'cherry': 5}\n",
    "\n",
    "del fruit['banana']\n",
    "\n",
    "print(fruit)"
   ]
  },
  {
   "cell_type": "markdown",
   "metadata": {},
   "source": [
    "## 문제 5\n",
    "person = {'name': 'Alice', 'age': 25, 'city': 'New York'}에 대하여, key 값들과, value 값들, 그리고 key와 value 값 동시(items)에 출력하세요."
   ]
  },
  {
   "cell_type": "code",
   "execution_count": 18,
   "metadata": {},
   "outputs": [
    {
     "name": "stdout",
     "output_type": "stream",
     "text": [
      "dict_items([('name', 'Alice'), ('age', 25), ('city', 'New York')])\n"
     ]
    }
   ],
   "source": [
    "person = {'name': 'Alice', 'age': 25, 'city': 'New York'}\n",
    "\n",
    "print(person.items())"
   ]
  },
  {
   "cell_type": "markdown",
   "metadata": {},
   "source": [
    "## 문제 6\n",
    "문제: d = {'a': 1, 'b': 2}가 있을 때, 다른 딕셔너리 d2 = {'b': 3, 'c': 4} 로 업데이트하고, 결과를 출력하세요."
   ]
  },
  {
   "cell_type": "code",
   "execution_count": 20,
   "metadata": {},
   "outputs": [
    {
     "name": "stdout",
     "output_type": "stream",
     "text": [
      "{'b': 3, 'c': 4}\n"
     ]
    }
   ],
   "source": [
    "d = {'a': 1, 'b': 2}\n",
    "\n",
    "d['b'] = 3\n",
    "d['c'] = 4\n",
    "del d['a']\n",
    "\n",
    "print(d)"
   ]
  },
  {
   "cell_type": "markdown",
   "metadata": {},
   "source": [
    "## 문제 7\n",
    "person = {'name': 'Alice', 'age': 25, 'city': 'New York'}를 순회하여 key, value 값을 출력해보세요. (반복문, items 사용)"
   ]
  },
  {
   "cell_type": "raw",
   "metadata": {
    "vscode": {
     "languageId": "raw"
    }
   },
   "source": [
    "예상 출력 : \n",
    "\n",
    "name Alice\n",
    "age 25\n",
    "city New York"
   ]
  },
  {
   "cell_type": "code",
   "execution_count": 21,
   "metadata": {},
   "outputs": [
    {
     "name": "stdout",
     "output_type": "stream",
     "text": [
      "name Alice\n",
      "age 25\n",
      "city New York\n"
     ]
    }
   ],
   "source": [
    "person = {'name': 'Alice', 'age': 25, 'city': 'New York'}\n",
    "\n",
    "for key, value in person.items():\n",
    "    print(f'{key} {value}')"
   ]
  },
  {
   "cell_type": "markdown",
   "metadata": {},
   "source": [
    "## 문제 8\n",
    "1부터 5까지의 숫자를 키로 하고, 각 숫자의 세제곱을 값으로 하는 딕셔너리를 딕셔너리 컴프리헨션을 사용하여 만드세요. (반복문 사용) "
   ]
  },
  {
   "cell_type": "code",
   "execution_count": 27,
   "metadata": {},
   "outputs": [
    {
     "name": "stdout",
     "output_type": "stream",
     "text": [
      "{1: 1, 2: 8, 3: 27, 4: 64, 5: 125}\n"
     ]
    }
   ],
   "source": [
    "triple = {i : i**3 for i in range(1,6)}\n",
    "\n",
    "print(triple)"
   ]
  },
  {
   "cell_type": "markdown",
   "metadata": {},
   "source": [
    "## 문제 9\n",
    "prices = {'apple': 2.5, 'banana': 1.8, 'cherry': 3.0}에서 가격이 2.0 이상인 과일만을 담은 딕셔너리를 딕셔너리 컴프리헨션을 이용하여 만드세요. (반복문/조건문 사용)"
   ]
  },
  {
   "cell_type": "code",
   "execution_count": 45,
   "metadata": {},
   "outputs": [
    {
     "name": "stdout",
     "output_type": "stream",
     "text": [
      "{'apple': 2.5, 'cherry': 3.0}\n"
     ]
    }
   ],
   "source": [
    "prices = {'apple': 2.5, 'banana': 1.8, 'cherry': 3.0}\n",
    "\n",
    "prices_2over = {fruit : price  for fruit, price in prices.items() if price >= 2.0}\n",
    "\n",
    "print(prices_2over)"
   ]
  },
  {
   "cell_type": "markdown",
   "metadata": {},
   "source": [
    "## 문제 10\n",
    "person = {'name': 'Alice', 'age': 25, 'city': 'New York'}에서 'name' 키가 존재하는지, 'email' 키가 존재하는지 확인하세요! (`in` 연산자 사용, 조건문 사용)"
   ]
  },
  {
   "cell_type": "code",
   "execution_count": 68,
   "metadata": {},
   "outputs": [
    {
     "name": "stdout",
     "output_type": "stream",
     "text": [
      "'age' 키가 존재합니다.\n"
     ]
    }
   ],
   "source": [
    "person = {'name': 'Alice', 'age': 25, 'city': 'New York'}\n",
    "\n",
    "input_key = input('확인하실 Key를 입력하세요')\n",
    "check = input_key\n",
    "\n",
    "if (check in person) == True:\n",
    "    print(f\"'{check}' 키가 존재합니다.\")\n",
    "else:\n",
    "    print(f\"{check} 키는 없습니다.\")\n",
    "        \n",
    "\n"
   ]
  },
  {
   "cell_type": "markdown",
   "metadata": {},
   "source": [
    "## 문제 11\n",
    "student2의 'age' 값 중 20의 값을 출력하세요."
   ]
  },
  {
   "cell_type": "raw",
   "metadata": {
    "vscode": {
     "languageId": "raw"
    }
   },
   "source": [
    "students = {\n",
    "    'student1': {'name': 'Alice', 'age': [25, 26, 27, 28, 29]},\n",
    "    'student2': {'name': 'Bob', 'age': [18, 19, 20, 21, 22]},\n",
    "    'student3': {'name': 'Charlie', 'age': 23}\n",
    "}"
   ]
  },
  {
   "cell_type": "code",
   "execution_count": 116,
   "metadata": {},
   "outputs": [
    {
     "name": "stdout",
     "output_type": "stream",
     "text": [
      "20\n"
     ]
    }
   ],
   "source": [
    "students = {\n",
    "    'student1': {'name': 'Alice', 'age': [25, 26, 27, 28, 29]},\n",
    "    'student2': {'name': 'Bob', 'age': [18, 19, 20, 21, 22]},\n",
    "    'student3': {'name': 'Charlie', 'age': 23}\n",
    "}\n",
    "\n",
    "stu2_age = students.get('student2').get('age')\n",
    "find20 = stu2_age.pop(stu2_age.index(20))\n",
    "\n",
    "#find20 = [i for i in students.get('student2').get('age')if i==20].pop(0)\n",
    "print(find20)"
   ]
  },
  {
   "cell_type": "markdown",
   "metadata": {},
   "source": [
    "# 응용"
   ]
  },
  {
   "cell_type": "markdown",
   "metadata": {},
   "source": [
    "## 문제 1\n",
    "아래와 같은 딕셔너리가 있을 때, 'salary'가 높은 순으로 정렬한 딕셔너리를 출력하세요."
   ]
  },
  {
   "cell_type": "raw",
   "metadata": {
    "vscode": {
     "languageId": "raw"
    }
   },
   "source": [
    "company_info = {\n",
    "    \"V company\" : 4800,\n",
    "    \"D company\" : 4500,\n",
    "    \"L company\" : 5400,\n",
    "    \"K company\" : 5200,\n",
    "    \"S company\" : 4300\n",
    "}\n",
    "\n",
    "출력\n",
    "{'L company': 5400, 'K company': 5200, 'V company': 4800, 'D company': 4500, 'S company': 4300}"
   ]
  },
  {
   "cell_type": "code",
   "execution_count": 124,
   "metadata": {},
   "outputs": [
    {
     "name": "stdout",
     "output_type": "stream",
     "text": [
      "{'L company': 5400, 'K company': 5200, 'V company': 4800, 'D company': 4500, 'S company': 4300}\n"
     ]
    }
   ],
   "source": [
    "company_info = {\n",
    "    \"V company\" : 4800,\n",
    "    \"D company\" : 4500,\n",
    "    \"L company\" : 5400,\n",
    "    \"K company\" : 5200,\n",
    "    \"S company\" : 4300\n",
    "}\n",
    "\n",
    "sort_list = sorted(company_info.items(), key= lambda company : -company[1])\n",
    "sort_list = dict(sort_list)\n",
    "print(sort_list)"
   ]
  },
  {
   "cell_type": "markdown",
   "metadata": {},
   "source": [
    "## 문제 2\n",
    "'salary'는 오름차순, 회사명은 알파벳 순으로 정렬한 딕셔너리를 출력하세요"
   ]
  },
  {
   "cell_type": "raw",
   "metadata": {
    "vscode": {
     "languageId": "raw"
    }
   },
   "source": [
    "company_info = {\n",
    "    \"V company\" : 4800,\n",
    "    \"D company\" : 4500,\n",
    "    \"L company\" : 5400,\n",
    "    \"K company\" : 5200,\n",
    "    \"S company\" : 4300\n",
    "}\n",
    "\n",
    "출력\n",
    "{'S company': 4300, 'D company': 4500, 'V company': 4800, 'K company': 5200, 'L company': 5400}"
   ]
  },
  {
   "cell_type": "code",
   "execution_count": 128,
   "metadata": {},
   "outputs": [
    {
     "name": "stdout",
     "output_type": "stream",
     "text": [
      "{'D company': 4500, 'K company': 5200, 'L company': 5400, 'S company': 4300, 'V company': 4800}\n"
     ]
    }
   ],
   "source": [
    "company_info = {\n",
    "    \"V company\" : 4800,\n",
    "    \"D company\" : 4500,\n",
    "    \"L company\" : 5400,\n",
    "    \"K company\" : 5200,\n",
    "    \"S company\" : 4300\n",
    "}\n",
    "\n",
    "sort_name = sorted(company_info.items(), key= lambda salary:salary[0])\n",
    "sort_name = dict(sort_name)\n",
    "print(sort_name)"
   ]
  },
  {
   "cell_type": "code",
   "execution_count": null,
   "metadata": {},
   "outputs": [],
   "source": []
  }
 ],
 "metadata": {
  "kernelspec": {
   "display_name": "Python 3",
   "language": "python",
   "name": "python3"
  },
  "language_info": {
   "codemirror_mode": {
    "name": "ipython",
    "version": 3
   },
   "file_extension": ".py",
   "mimetype": "text/x-python",
   "name": "python",
   "nbconvert_exporter": "python",
   "pygments_lexer": "ipython3",
   "version": "3.12.0"
  }
 },
 "nbformat": 4,
 "nbformat_minor": 2
}
