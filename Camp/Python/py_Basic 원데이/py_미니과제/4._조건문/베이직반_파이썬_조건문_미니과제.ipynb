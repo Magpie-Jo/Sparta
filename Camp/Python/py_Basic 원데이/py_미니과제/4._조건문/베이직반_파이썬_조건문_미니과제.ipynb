{
 "cells": [
  {
   "cell_type": "markdown",
   "metadata": {},
   "source": [
    "## 문제 1\n",
    "사용자로부터 정수를 입력받은 뒤, 해당 정수가 다음 조건 중 하나에 해당하는지 판별하는 프로그램을 작성하세요.\n",
    "\n",
    "- 3의 배수이면서 동시에 7의 배수인 경우: \"3과 7의 공배수입니다.\" 출력\n",
    "- 3의 배수이지만 7의 배수는 아닌 경우: \"3의 배수입니다.\" 출력\n",
    "- 7의 배수이지만 3의 배수는 아닌 경우: \"7의 배수입니다.\" 출력\n",
    "- 위의 어떤 조건도 만족하지 않으면: \"3과 7의 배수가 아닙니다.\" 출력"
   ]
  },
  {
   "cell_type": "raw",
   "metadata": {
    "vscode": {
     "languageId": "raw"
    }
   },
   "source": [
    "테스트 입력값\n",
    "\n",
    "입력: 21\n",
    "21은 3의 배수이면서 7의 배수 → \"3과 7의 공배수입니다.\"\n",
    "\n",
    "입력: 9\n",
    "9는 3의 배수지만 7의 배수 아님 → \"3의 배수입니다.\"\n",
    "\n",
    "입력: 14\n",
    "14는 7의 배수지만 3의 배수 아님 → \"7의 배수입니다.\"\n",
    "\n",
    "입력: 10\n",
    "3의 배수도, 7의 배수도 아님 → \"3과 7의 배수가 아닙니다.\""
   ]
  },
  {
   "cell_type": "code",
   "execution_count": null,
   "metadata": {},
   "outputs": [],
   "source": []
  },
  {
   "cell_type": "markdown",
   "metadata": {},
   "source": [
    "## 문제 2\n",
    "사용자로부터 문자열을 입력받아, 해당 문자열이 모두 알파벳으로만 이루어져 있으며(공백 없음), 길이가 8 이상인 경우 \"사용 가능한 비밀번호입니다.\"를 출력하고, 그렇지 않으면 \"사용 불가능한 비밀번호입니다.\"를 출력하세요. \n",
    "\n",
    "\n",
    "특이 사항(아래 함수들을 모른다면 google 검색 or chatgpt 검색!!! ex. 파이썬 isalpha() 검색 후 정리된 블로그 글을 보고, 해당 문제에 적용!)\n",
    "1. isalpha() 사용(해당 문자열이 모두 알파벳으로만 이뤄져 있는지 확인하는 함수)\n",
    "2. len() 사용(문자열 길이 측정하는 함수)"
   ]
  },
  {
   "cell_type": "raw",
   "metadata": {
    "vscode": {
     "languageId": "raw"
    }
   },
   "source": [
    "테스트 입력값\n",
    "\n",
    "입력: abcdefgh\n",
    "전부 알파벳, 길이 8 → \"사용 가능한 비밀번호입니다.\"\n",
    "\n",
    "입력: abc123\n",
    "숫자 포함 → \"사용 불가능한 비밀번호입니다.\"\n",
    "\n",
    "입력: abc\n",
    "전부 알파벳이나 길이 3 < 8 → \"사용 불가능한 비밀번호입니다.\""
   ]
  },
  {
   "cell_type": "code",
   "execution_count": null,
   "metadata": {},
   "outputs": [],
   "source": []
  },
  {
   "cell_type": "markdown",
   "metadata": {},
   "source": [
    "## 문제 3\n",
    "사용자로부터 연도를 입력받아 해당 연도가 윤년인지 판단하는 프로그램을 작성하세요.  \n",
    "\n",
    "윤년 판단 규칙:\n",
    "- 연도가 4로 나누어 떨어지고\n",
    "- 100으로 나누어 떨어지지 않거나 400으로 나누어 떨어지면 윤년이다."
   ]
  },
  {
   "cell_type": "raw",
   "metadata": {
    "vscode": {
     "languageId": "raw"
    }
   },
   "source": [
    "테스트 입력값\n",
    "\n",
    "입력: 2020\n",
    "2020 %4=0, %100=20, %400=... 조건 만족 → \"윤년입니다.\"\n",
    "\n",
    "입력: 2100\n",
    "2100 %4=0 but %100=0 and %400=100 → \"윤년이 아닙니다.\"\n",
    "\n",
    "입력: 2000\n",
    "2000 %400=0 → \"윤년입니다.\""
   ]
  },
  {
   "cell_type": "code",
   "execution_count": null,
   "metadata": {},
   "outputs": [],
   "source": []
  },
  {
   "cell_type": "markdown",
   "metadata": {},
   "source": [
    "## 문제 4\n",
    "사용자로부터 두 정수를 입력받아, 만약 두 수 중 하나라도 0이면 \"0으로 나눌 수 없습니다.\"를 출력하고 종료합니다.  \n",
    "둘 다 0이 아니면 두 수의 비율(a/b)을 계산한 뒤,\n",
    "\n",
    "- 비율이 1보다 크면 \"a가 b보다 큽니다.\"\n",
    "- 비율이 1이면 \"두 수는 같습니다.\"\n",
    "- 비율이 1보다 작으면 \"a가 b보다 작습니다.\"\n",
    "를 출력하세요."
   ]
  },
  {
   "cell_type": "raw",
   "metadata": {
    "vscode": {
     "languageId": "raw"
    }
   },
   "source": [
    "테스트 입력값\n",
    "\n",
    "입력: a=10, b=5\n",
    "ratio=10/5=2 >1 → \"a가 b보다 큽니다.\"\n",
    "\n",
    "입력: a=10, b=0\n",
    "b가 0 → \"0으로 나눌 수 없습니다.\"\n",
    "\n",
    "입력: a=5, b=5\n",
    "ratio=1 → \"두 수는 같습니다.\""
   ]
  },
  {
   "cell_type": "code",
   "execution_count": null,
   "metadata": {},
   "outputs": [],
   "source": []
  },
  {
   "cell_type": "markdown",
   "metadata": {},
   "source": [
    "## 문제 5\n",
    "사용자로부터 영문 문자열을 입력받아, 문자열에 대문자와 소문자가 섞여 있는 경우 \"대소문자 섞여 있음\", 전부 소문자면 \"전부 소문자\", 전부 대문자면 \"전부 대문자\"를 출력하세요. 알파벳 외 다른 문자가 포함되어 있다면 \"알파벳 이외의 문자가 있습니다.\"를 출력하세요.\n",
    "\n",
    "특이사항\n",
    "1. isalpha() 사용 (문자열이 알파벳으로만 구성되어 있는지)\n",
    "2. islower() 사용 (문자열이 전부 소문자인지)\n",
    "3. isupper() 사용 (문자열이 전부 대문자인지)"
   ]
  },
  {
   "cell_type": "raw",
   "metadata": {
    "vscode": {
     "languageId": "raw"
    }
   },
   "source": [
    "테스트 입력값\n",
    "\n",
    "입력: \"HELLO\"\n",
    "모두 대문자 → \"전부 대문자\"\n",
    "\n",
    "입력: \"hello\"\n",
    "모두 소문자 → \"전부 소문자\"\n",
    "\n",
    "입력: \"Hello\"\n",
    "대소문자 섞임 → \"대소문자 섞여 있음\"\n",
    "\n",
    "입력: \"Hello!\"\n",
    "알파벳 이외 문자인 '!' 존재 → \"알파벳 이외의 문자가 있습니다.\""
   ]
  },
  {
   "cell_type": "code",
   "execution_count": null,
   "metadata": {},
   "outputs": [],
   "source": []
  }
 ],
 "metadata": {
  "kernelspec": {
   "display_name": "data6",
   "language": "python",
   "name": "python3"
  },
  "language_info": {
   "codemirror_mode": {
    "name": "ipython",
    "version": 3
   },
   "file_extension": ".py",
   "mimetype": "text/x-python",
   "name": "python",
   "nbconvert_exporter": "python",
   "pygments_lexer": "ipython3",
   "version": "3.10.12"
  }
 },
 "nbformat": 4,
 "nbformat_minor": 2
}
