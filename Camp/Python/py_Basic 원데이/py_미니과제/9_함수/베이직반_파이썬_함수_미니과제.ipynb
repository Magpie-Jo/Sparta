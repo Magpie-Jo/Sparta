{
 "cells": [
  {
   "cell_type": "markdown",
   "metadata": {},
   "source": [
    "## 문제 1\n",
    "문제: 정수를 입력받아 해당 정수의 제곱을 반환하는 함수 square_number(num)를 작성하세요.  \n",
    "예: square_number(5)를 호출하면 25를 반환해야 합니다."
   ]
  },
  {
   "cell_type": "code",
   "execution_count": 2,
   "metadata": {},
   "outputs": [
    {
     "name": "stdout",
     "output_type": "stream",
     "text": [
      "25\n"
     ]
    }
   ],
   "source": [
    "def square_number(num):\n",
    "    result = num ** 2\n",
    "    return result\n",
    "\n",
    "print(square_number(5))"
   ]
  },
  {
   "cell_type": "markdown",
   "metadata": {},
   "source": [
    "## 문제 2\n",
    "문제: 문자열을 인자로 받아, 그 문자열을 대문자로 변환한 후 반환하는 함수 to_uppercase(s)를 작성하세요.  \n",
    "예:  \n",
    "1. to_uppercase(\"hello\") -> \"HELLO\""
   ]
  },
  {
   "cell_type": "code",
   "execution_count": 4,
   "metadata": {},
   "outputs": [
    {
     "data": {
      "text/plain": [
       "'HELLO'"
      ]
     },
     "execution_count": 4,
     "metadata": {},
     "output_type": "execute_result"
    }
   ],
   "source": [
    "def to_uppercase(s):\n",
    "    result = s.upper()\n",
    "    return result\n",
    "\n",
    "s = 'hello'\n",
    "to_uppercase(s)"
   ]
  },
  {
   "cell_type": "markdown",
   "metadata": {},
   "source": [
    "## 문제 3\n",
    "문제: 리스트를 인자로 받아, 리스트 내 모든 숫자의 합을 반환하는 함수 sum_list(lst)를 작성하세요. 만약 리스트가 비어있다면 0을 반환하세요.  \n",
    "예:  \n",
    "1. sum_list([1, 2, 3]) -> 6\n",
    "2. sum_list([]) -> 0"
   ]
  },
  {
   "cell_type": "code",
   "execution_count": 11,
   "metadata": {},
   "outputs": [
    {
     "name": "stdout",
     "output_type": "stream",
     "text": [
      "6\n"
     ]
    }
   ],
   "source": [
    "def sum_list(lst):\n",
    "    total = sum(lst)\n",
    "    return total\n",
    "    \n",
    "lst = [1,2,3]\n",
    "#lst = \"\"\n",
    "\n",
    "print(sum_list(lst))    "
   ]
  },
  {
   "cell_type": "markdown",
   "metadata": {},
   "source": [
    "## 문제 4\n",
    "문제: 두 개의 숫자를 인자로 받아, 그 중 더 큰 값을 반환하는 함수 max_of_two(a, b)를 작성하세요.  \n",
    "예:  \n",
    "1. max_of_two(5, 10) -> 10\n",
    "2. max_of_two(-3, -1) -> -1"
   ]
  },
  {
   "cell_type": "code",
   "execution_count": 12,
   "metadata": {},
   "outputs": [
    {
     "name": "stdout",
     "output_type": "stream",
     "text": [
      "10\n",
      "-1\n"
     ]
    }
   ],
   "source": [
    "def max_of_two(a,b):\n",
    "    num_lst =[a,b]\n",
    "    result = max(num_lst)\n",
    "    return result\n",
    "\n",
    "print(max_of_two(5, 10))\n",
    "print(max_of_two(-3, -1))"
   ]
  },
  {
   "cell_type": "markdown",
   "metadata": {},
   "source": [
    "## 문제 5\n",
    "문제: 정수를 인자로 받아, 1부터 그 정수까지의 곱(팩토리얼)을 계산하는 함수 factorial(n)을 작성하세요. n이 0이면 결과는 1입니다.  \n",
    "예:  \n",
    "1. factorial(5) -> 120 (54321)"
   ]
  },
  {
   "cell_type": "code",
   "execution_count": 42,
   "metadata": {},
   "outputs": [
    {
     "name": "stdout",
     "output_type": "stream",
     "text": [
      "120\n"
     ]
    }
   ],
   "source": [
    "def factorial(n):\n",
    "    fact= 1\n",
    "    if n == 0:\n",
    "        return 1\n",
    "    else:\n",
    "        for f in range(n,0,-1):\n",
    "            fact = (fact*f)\n",
    "        return fact\n",
    "\n",
    "print(factorial(5))"
   ]
  },
  {
   "cell_type": "markdown",
   "metadata": {},
   "source": [
    "## 문제 6\n",
    "문제: 리스트를 인자로 받아, 그 리스트 내에 있는 모든 정수들의 평균을 반환하는 함수 average(lst)를 작성하세요. 리스트가 비어있을 경우 0을 반환하세요.  \n",
    "예:  \n",
    "1. average([10, 20, 30]) -> 20.0\n",
    "2. average([]) -> 0"
   ]
  },
  {
   "cell_type": "code",
   "execution_count": 45,
   "metadata": {},
   "outputs": [
    {
     "name": "stdout",
     "output_type": "stream",
     "text": [
      "20.0\n",
      "0\n"
     ]
    }
   ],
   "source": [
    "def average(lst):\n",
    "    if len(lst) == 0:\n",
    "        return 0\n",
    "    else:\n",
    "        avg = sum(lst) / len(lst)\n",
    "        return avg\n",
    "    \n",
    "print(average([10,20,30]))\n",
    "print(average([]))"
   ]
  },
  {
   "cell_type": "markdown",
   "metadata": {},
   "source": [
    "## 문제 7\n",
    "문제: 두 개의 정수 start, end를 인자로 받아, start부터 end까지(포함) 정수의 합을 반환하는 함수 sum_range(start, end)를 작성하세요.  \n",
    "start가 end보다 클 경우, 두 값을 바꿔서라도 합을 계산해야 합니다.  \n",
    "즉, sum_range(5, 3)도 3부터 5까지의 합인 3+4+5=12를 반환해야 합니다.  \n",
    "\n",
    "예:  \n",
    "1. sum_range(1, 3) -> 6(1+2+3)\n",
    "2. sum_range(3, 1) -> 6(1+2+3)"
   ]
  },
  {
   "cell_type": "code",
   "execution_count": 52,
   "metadata": {},
   "outputs": [
    {
     "name": "stdout",
     "output_type": "stream",
     "text": [
      "6\n",
      "6\n"
     ]
    }
   ],
   "source": [
    "def sum_range(start, end):\n",
    "    total = 0\n",
    "    range_num = (start, end)\n",
    "    range_start = min(range_num)\n",
    "    range_end = max(range_num)+1\n",
    "\n",
    "    for i in range(range_start,range_end):\n",
    "        total += i\n",
    "    return total\n",
    "\n",
    "print(sum_range(1,3))\n",
    "print(sum_range(3,1))"
   ]
  }
 ],
 "metadata": {
  "kernelspec": {
   "display_name": "Python 3",
   "language": "python",
   "name": "python3"
  },
  "language_info": {
   "codemirror_mode": {
    "name": "ipython",
    "version": 3
   },
   "file_extension": ".py",
   "mimetype": "text/x-python",
   "name": "python",
   "nbconvert_exporter": "python",
   "pygments_lexer": "ipython3",
   "version": "3.12.0"
  }
 },
 "nbformat": 4,
 "nbformat_minor": 2
}
