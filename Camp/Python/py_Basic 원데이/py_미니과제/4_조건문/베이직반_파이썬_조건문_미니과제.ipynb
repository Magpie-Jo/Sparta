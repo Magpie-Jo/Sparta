{
 "cells": [
  {
   "cell_type": "markdown",
   "metadata": {},
   "source": [
    "## 문제 1\n",
    "사용자로부터 정수를 입력받은 뒤, 해당 정수가 다음 조건 중 하나에 해당하는지 판별하는 프로그램을 작성하세요.\n",
    "\n",
    "- 3의 배수이면서 동시에 7의 배수인 경우: \"3과 7의 공배수입니다.\" 출력\n",
    "- 3의 배수이지만 7의 배수는 아닌 경우: \"3의 배수입니다.\" 출력\n",
    "- 7의 배수이지만 3의 배수는 아닌 경우: \"7의 배수입니다.\" 출력\n",
    "- 위의 어떤 조건도 만족하지 않으면: \"3과 7의 배수가 아닙니다.\" 출력"
   ]
  },
  {
   "cell_type": "markdown",
   "metadata": {
    "vscode": {
     "languageId": "raw"
    }
   },
   "source": [
    "테스트 입력값\n",
    "\n",
    "입력: 21\n",
    "21은 3의 배수이면서 7의 배수 → \"3과 7의 공배수입니다.\"\n",
    "\n",
    "입력: 9\n",
    "9는 3의 배수지만 7의 배수 아님 → \"3의 배수입니다.\"\n",
    "\n",
    "입력: 14\n",
    "14는 7의 배수지만 3의 배수 아님 → \"7의 배수입니다.\"\n",
    "\n",
    "입력: 10\n",
    "3의 배수도, 7의 배수도 아님 → \"3과 7의 배수가 아닙니다.\""
   ]
  },
  {
   "cell_type": "code",
   "execution_count": null,
   "metadata": {},
   "outputs": [
    {
     "name": "stdout",
     "output_type": "stream",
     "text": [
      "3과 7의 배수가 아닙니다.\n"
     ]
    }
   ],
   "source": [
    "#정수 입력\n",
    "num = int(input('숫자를 입력하세요'))       \n",
    "\n",
    "mult_3 = (num % 3 == 0)                     # 3배수 조건식\n",
    "mult_7 = (num % 7 == 0)                     # 7배수 조건식\n",
    "\n",
    "com_mult = mult_3 & mult_7                  # 공배수 조건 선언\n",
    "\n",
    "if com_mult:\n",
    "    print('3과 7의 공배수 입니다.')\n",
    "else:\n",
    "    if mult_3:\n",
    "        print('3의 배수 입니다.')\n",
    "    elif mult_7:\n",
    "        print('7의 배수 입니다.')\n",
    "    else:\n",
    "        print('3과 7의 배수가 아닙니다.')\n",
    "        "
   ]
  },
  {
   "cell_type": "markdown",
   "metadata": {},
   "source": [
    "## 문제 2\n",
    "사용자로부터 문자열을 입력받아, 해당 문자열이 모두 알파벳으로만 이루어져 있으며(공백 없음), 길이가 8 이상인 경우 \"사용 가능한 비밀번호입니다.\"를 출력하고, 그렇지 않으면 \"사용 불가능한 비밀번호입니다.\"를 출력하세요. \n",
    "\n",
    "\n",
    "특이 사항(아래 함수들을 모른다면 google 검색 or chatgpt 검색!!! ex. 파이썬 isalpha() 검색 후 정리된 블로그 글을 보고, 해당 문제에 적용!)\n",
    "1. isalpha() 사용(해당 문자열이 모두 알파벳으로만 이뤄져 있는지 확인하는 함수)\n",
    "2. len() 사용(문자열 길이 측정하는 함수)"
   ]
  },
  {
   "cell_type": "markdown",
   "metadata": {
    "vscode": {
     "languageId": "raw"
    }
   },
   "source": [
    "테스트 입력값\n",
    "\n",
    "입력: abcdefgh\n",
    "전부 알파벳, 길이 8 → \"사용 가능한 비밀번호입니다.\"\n",
    "\n",
    "입력: abc123\n",
    "숫자 포함 → \"사용 불가능한 비밀번호입니다.\"\n",
    "\n",
    "입력: abc\n",
    "전부 알파벳이나 길이 3 < 8 → \"사용 불가능한 비밀번호입니다.\""
   ]
  },
  {
   "cell_type": "code",
   "execution_count": null,
   "metadata": {},
   "outputs": [
    {
     "name": "stdout",
     "output_type": "stream",
     "text": [
      "사용 불가능한 비밀번호 입니다.\n"
     ]
    }
   ],
   "source": [
    "# 비밀번호 사용자 입력\n",
    "pw = input('비밀번호를 입력하세요')          \n",
    "\n",
    "pw_len = len(pw) >= 8                       # 비밀번호 길이 제한\n",
    "pw_isalpha = pw.isalpha()                   # 비밀번호 영문 제한\n",
    "\n",
    "log_in = pw_len & pw_isalpha                # 로그인 성공 조건\n",
    "\n",
    "if log_in:                                  # 로그인 성공 시\n",
    "    print('사용 가능한 비밀번호 입니다.')\n",
    "else:                                       # 로그인 실패 시\n",
    "    print('사용 불가능한 비밀번호 입니다.')"
   ]
  },
  {
   "cell_type": "markdown",
   "metadata": {},
   "source": [
    "## 문제 3\n",
    "사용자로부터 연도를 입력받아 해당 연도가 윤년인지 판단하는 프로그램을 작성하세요.  \n",
    "\n",
    "윤년 판단 규칙:\n",
    "- 연도가 4로 나누어 떨어지고\n",
    "- 100으로 나누어 떨어지지 않거나 400으로 나누어 떨어지면 윤년이다."
   ]
  },
  {
   "cell_type": "raw",
   "metadata": {
    "vscode": {
     "languageId": "raw"
    }
   },
   "source": [
    "테스트 입력값\n",
    "\n",
    "입력: 2020\n",
    "2020 %4=0, %100=20, %400=... 조건 만족 → \"윤년입니다.\"\n",
    "\n",
    "입력: 2100\n",
    "2100 %4=0 but %100=0 and %400=100 → \"윤년이 아닙니다.\"\n",
    "\n",
    "입력: 2000\n",
    "2000 %400=0 → \"윤년입니다.\""
   ]
  },
  {
   "cell_type": "code",
   "execution_count": null,
   "metadata": {},
   "outputs": [
    {
     "name": "stdout",
     "output_type": "stream",
     "text": [
      "윤년 입니다.\n"
     ]
    }
   ],
   "source": [
    "# 연도 사용자 입력\n",
    "i_year = int(input('연도를 입력하세요.'))   \n",
    "\n",
    "div_4 = i_year % 4 == 0                     # 조건 1 (연도 / 4 몫 0)\n",
    "div_100 = i_year % 100 == 0                 # 조건 2 (연도 / 100 몫 0)\n",
    "div_400 = i_year % 400 == 0                 # 조건 3 (연도 / 400 몫 0)\n",
    "\n",
    "if div_4:                                   # 조건 1 미충족시 윤년 절대 미해당으로 우선 조건문 발동 \n",
    "    if (div_400) | (not div_100) :          # 조건 2 False & 조건 3 해당시 윤년으로 or( | ) 사용\n",
    "        print('윤년 입니다.')\n",
    "    else:\n",
    "        print('윤년이 아닙니다.')\n",
    "else:                                       # 조건 1 미해당은 무조건 윤년아니므로 else 문 작성\n",
    "        print('윤년이 아닙니다.')           "
   ]
  },
  {
   "cell_type": "markdown",
   "metadata": {},
   "source": [
    "## 문제 4\n",
    "사용자로부터 두 정수를 입력받아, 만약 두 수 중 하나라도 0이면 \"0으로 나눌 수 없습니다.\"를 출력하고 종료합니다.  \n",
    "둘 다 0이 아니면 두 수의 비율(a/b)을 계산한 뒤,\n",
    "\n",
    "- 비율이 1보다 크면 \"a가 b보다 큽니다.\"\n",
    "- 비율이 1이면 \"두 수는 같습니다.\"\n",
    "- 비율이 1보다 작으면 \"a가 b보다 작습니다.\"\n",
    "를 출력하세요."
   ]
  },
  {
   "cell_type": "raw",
   "metadata": {
    "vscode": {
     "languageId": "raw"
    }
   },
   "source": [
    "테스트 입력값\n",
    "\n",
    "입력: a=10, b=5\n",
    "ratio=10/5=2 >1 → \"a가 b보다 큽니다.\"\n",
    "\n",
    "입력: a=10, b=0\n",
    "b가 0 → \"0으로 나눌 수 없습니다.\"\n",
    "\n",
    "입력: a=5, b=5\n",
    "ratio=1 → \"두 수는 같습니다.\""
   ]
  },
  {
   "cell_type": "code",
   "execution_count": null,
   "metadata": {},
   "outputs": [
    {
     "name": "stdout",
     "output_type": "stream",
     "text": [
      "두 수는 같습니다.\n"
     ]
    }
   ],
   "source": [
    "#정수 a,b 사용자 입력\n",
    "a,b = int(input('정수 a를 입력하세요.')), int(input('정수 b를 입력하세요.'))        \n",
    "\n",
    "ratio = a/b                        # a / b 실행\n",
    "zero_a_b = a*b==0          # a,b 중 0인 경우 조건 지정\n",
    "\n",
    "large_a = ratio > 1               # a가 클 경우\n",
    "large_b = ratio < 1               # b가 클 경우\n",
    "same_a_b= ratio == 1              # a,b가 같을 경우\n",
    "\n",
    "if zero_a_b:                      # 두 수 중 0일 경우 우선 발동\n",
    "    print('0으로 나눌수 없습니다.')\n",
    "\n",
    "elif large_a:\n",
    "    print('a 가 b 보다 큽니다.')\n",
    "\n",
    "elif large_b:\n",
    "    print('a 가 b 보다 작습니다.')\n",
    "\n",
    "elif same_a_b:\n",
    "    print('두 수는 같습니다.')\n"
   ]
  },
  {
   "cell_type": "markdown",
   "metadata": {},
   "source": [
    "## 문제 5\n",
    "사용자로부터 영문 문자열을 입력받아, 문자열에 대문자와 소문자가 섞여 있는 경우 \"대소문자 섞여 있음\", 전부 소문자면 \"전부 소문자\", 전부 대문자면 \"전부 대문자\"를 출력하세요. 알파벳 외 다른 문자가 포함되어 있다면 \"알파벳 이외의 문자가 있습니다.\"를 출력하세요.\n",
    "\n",
    "특이사항\n",
    "1. isalpha() 사용 (문자열이 알파벳으로만 구성되어 있는지)\n",
    "2. islower() 사용 (문자열이 전부 소문자인지)\n",
    "3. isupper() 사용 (문자열이 전부 대문자인지)"
   ]
  },
  {
   "cell_type": "raw",
   "metadata": {
    "vscode": {
     "languageId": "raw"
    }
   },
   "source": [
    "테스트 입력값\n",
    "\n",
    "입력: \"HELLO\"\n",
    "모두 대문자 → \"전부 대문자\"\n",
    "\n",
    "입력: \"hello\"\n",
    "모두 소문자 → \"전부 소문자\"\n",
    "\n",
    "입력: \"Hello\"\n",
    "대소문자 섞임 → \"대소문자 섞여 있음\"\n",
    "\n",
    "입력: \"Hello!\"\n",
    "알파벳 이외 문자인 '!' 존재 → \"알파벳 이외의 문자가 있습니다.\""
   ]
  },
  {
   "cell_type": "code",
   "execution_count": null,
   "metadata": {},
   "outputs": [
    {
     "name": "stdout",
     "output_type": "stream",
     "text": [
      "대소문자 섞여있음\n"
     ]
    }
   ],
   "source": [
    "# 문자열 사용자 입력\n",
    "say = input('영문 문자를 입력해주세요')     \n",
    "\n",
    "alpha = say.isalpha()       # 문자열 전체 알파벳 여부 확인\n",
    "upper = say.isupper()       # 대문자 확인\n",
    "lower = say.islower()       # 소문자 확인\n",
    "\n",
    "if say == \"\" :                  # 입력 값 없을경우\n",
    "    print(\"입력 값이 없습니다.\")\n",
    "\n",
    "else:                           # 입력 값이 있을 경우\n",
    "\n",
    "    if alpha:                   # 전부 문자열(알파벳) 일 경우 우선 조건\n",
    "        \n",
    "        if upper:               # 문자열 전체 대문자인 경우\n",
    "            print('전부 대문자')\n",
    "        \n",
    "        elif lower:             # 문자열 전체 소문자인 경우\n",
    "            print('전부 소문자')\n",
    "        \n",
    "        elif (not upper) & (not lower): # 전체 문자열이지만, 전체 대문자도 소문자도 아닌 경우 = 대소문자 조합\n",
    "            print('대소문자 섞여있음')\n",
    "    \n",
    "    else:\n",
    "        print('알파벳 이외의 문자가 있습니다.') #전체 문자열(알파벳)이 아닌경우 = 다른 글자(특수문자,숫자) 섞인경우"
   ]
  },
  {
   "cell_type": "code",
   "execution_count": null,
   "metadata": {},
   "outputs": [],
   "source": []
  }
 ],
 "metadata": {
  "kernelspec": {
   "display_name": "Python 3",
   "language": "python",
   "name": "python3"
  },
  "language_info": {
   "codemirror_mode": {
    "name": "ipython",
    "version": 3
   },
   "file_extension": ".py",
   "mimetype": "text/x-python",
   "name": "python",
   "nbconvert_exporter": "python",
   "pygments_lexer": "ipython3",
   "version": "3.12.0"
  }
 },
 "nbformat": 4,
 "nbformat_minor": 2
}
