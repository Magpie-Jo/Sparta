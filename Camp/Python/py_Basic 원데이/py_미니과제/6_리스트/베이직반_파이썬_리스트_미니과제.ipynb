{
 "cells": [
  {
   "cell_type": "markdown",
   "metadata": {},
   "source": [
    "# 기초"
   ]
  },
  {
   "cell_type": "markdown",
   "metadata": {},
   "source": [
    "## 문제 1\n",
    "다음 코드의 출력 결과는 무엇인가요?"
   ]
  },
  {
   "cell_type": "raw",
   "metadata": {
    "vscode": {
     "languageId": "raw"
    }
   },
   "source": [
    "fruits = ['apple', 'banana', 'cherry', 'date']\n",
    "print(fruits[1], fruits[3])\n",
    "print(len(fruits))\n",
    "print(fruits[2], fruits[4])\n",
    "\n",
    "# banana date\n",
    "# 4\n",
    "# error - list index out of range"
   ]
  },
  {
   "cell_type": "code",
   "execution_count": 1,
   "metadata": {},
   "outputs": [
    {
     "name": "stdout",
     "output_type": "stream",
     "text": [
      "banana date\n",
      "4\n"
     ]
    },
    {
     "ename": "IndexError",
     "evalue": "list index out of range",
     "output_type": "error",
     "traceback": [
      "\u001b[31m---------------------------------------------------------------------------\u001b[39m",
      "\u001b[31mIndexError\u001b[39m                                Traceback (most recent call last)",
      "\u001b[36mCell\u001b[39m\u001b[36m \u001b[39m\u001b[32mIn[1]\u001b[39m\u001b[32m, line 4\u001b[39m\n\u001b[32m      2\u001b[39m \u001b[38;5;28mprint\u001b[39m(fruits[\u001b[32m1\u001b[39m], fruits[\u001b[32m3\u001b[39m])\n\u001b[32m      3\u001b[39m \u001b[38;5;28mprint\u001b[39m(\u001b[38;5;28mlen\u001b[39m(fruits))\n\u001b[32m----> \u001b[39m\u001b[32m4\u001b[39m \u001b[38;5;28mprint\u001b[39m(fruits[\u001b[32m2\u001b[39m], \u001b[43mfruits\u001b[49m\u001b[43m[\u001b[49m\u001b[32;43m4\u001b[39;49m\u001b[43m]\u001b[49m)\n",
      "\u001b[31mIndexError\u001b[39m: list index out of range"
     ]
    }
   ],
   "source": [
    "fruits = ['apple', 'banana', 'cherry', 'date']\n",
    "print(fruits[1], fruits[3])\n",
    "print(len(fruits))\n",
    "print(fruits[2], fruits[4])"
   ]
  },
  {
   "cell_type": "markdown",
   "metadata": {},
   "source": [
    "## 문제 2\n",
    "다음 코드의 출력 결과는 무엇인가요?"
   ]
  },
  {
   "cell_type": "raw",
   "metadata": {
    "vscode": {
     "languageId": "raw"
    }
   },
   "source": [
    "my_list = [0, 1, 2, 3, 4, 5, 6]\n",
    "print(my_list[2:5])\n",
    "\n",
    "# [2,3,4]"
   ]
  },
  {
   "cell_type": "code",
   "execution_count": 2,
   "metadata": {},
   "outputs": [
    {
     "name": "stdout",
     "output_type": "stream",
     "text": [
      "[2, 3, 4]\n"
     ]
    }
   ],
   "source": [
    "my_list = [0, 1, 2, 3, 4, 5, 6]\n",
    "print(my_list[2:5])"
   ]
  },
  {
   "cell_type": "markdown",
   "metadata": {},
   "source": [
    "## 문제 3\n",
    "리스트 fruits = ['apple', 'banana', 'cherry']가 있습니다.  \n",
    "이 리스트에 'date'를 추가하여 ['apple', 'banana', 'cherry', 'date']로 만드세요. 리스트 메서드 중 적절한 것을 사용하세요."
   ]
  },
  {
   "cell_type": "code",
   "execution_count": 5,
   "metadata": {},
   "outputs": [
    {
     "name": "stdout",
     "output_type": "stream",
     "text": [
      "['apple', 'banana', 'cherry', 'date']\n"
     ]
    }
   ],
   "source": [
    "fruits = ['apple', 'banana', 'cherry']\n",
    "\n",
    "fruits.append('date')\n",
    "\n",
    "print(fruits)"
   ]
  },
  {
   "cell_type": "markdown",
   "metadata": {},
   "source": [
    "### 문제 3-1\n",
    "리스트 fruits = ['apple', 'banana', 'cherry', 'date'] 에서 2번 인덱스 자리에 'watermelon'을 추가하는 코드를 작성하세요"
   ]
  },
  {
   "cell_type": "code",
   "execution_count": 10,
   "metadata": {},
   "outputs": [
    {
     "name": "stdout",
     "output_type": "stream",
     "text": [
      "['apple', 'banana', 'watermelon', 'watermelon', 'date']\n"
     ]
    }
   ],
   "source": [
    "fruits.insert(2,'watermelon')\n",
    "\n",
    "print(fruits)"
   ]
  },
  {
   "cell_type": "markdown",
   "metadata": {},
   "source": [
    "### 문제 3-2\n",
    "다음 코드의 출력 결과는 무엇인가요?"
   ]
  },
  {
   "cell_type": "raw",
   "metadata": {
    "vscode": {
     "languageId": "raw"
    }
   },
   "source": [
    "fruits = [['apple', 'banana', 'cherry', 'watermelon', 'date']]\n",
    "new_fruits = ['melon', 'blueberry']\n",
    "fruits.extend(new_fruits)\n",
    "print(fruits)\n",
    "\n",
    "# [['apple', 'banana', 'cherry', 'watermelon', 'date'],'melon', 'blueberry']"
   ]
  },
  {
   "cell_type": "code",
   "execution_count": 12,
   "metadata": {},
   "outputs": [
    {
     "name": "stdout",
     "output_type": "stream",
     "text": [
      "[['apple', 'banana', 'cherry', 'watermelon', 'date'], 'melon', 'blueberry']\n"
     ]
    }
   ],
   "source": [
    "fruits = [['apple', 'banana', 'cherry', 'watermelon', 'date']]\n",
    "new_fruits = ['melon', 'blueberry']\n",
    "fruits.extend(new_fruits)\n",
    "print(fruits)"
   ]
  },
  {
   "cell_type": "raw",
   "metadata": {
    "vscode": {
     "languageId": "raw"
    }
   },
   "source": [
    "fruits = ['apple', 'banana', 'cherry', 'watermelon', 'date']\n",
    "new_fruits = ['melon', 'blueberry']\n",
    "print(fruits + new_fruits)\n",
    "\n",
    "#['apple', 'banana', 'cherry', 'watermelon', 'date','melon', 'blueberry']"
   ]
  },
  {
   "cell_type": "code",
   "execution_count": 14,
   "metadata": {},
   "outputs": [
    {
     "name": "stdout",
     "output_type": "stream",
     "text": [
      "['apple', 'banana', 'cherry', 'watermelon', 'date', 'melon', 'blueberry']\n"
     ]
    }
   ],
   "source": [
    "fruits = ['apple', 'banana', 'cherry', 'watermelon', 'date']\n",
    "new_fruits = ['melon', 'blueberry']\n",
    "print(fruits + new_fruits)"
   ]
  },
  {
   "cell_type": "markdown",
   "metadata": {},
   "source": [
    "### 문제 3-3\n",
    "리스트 fruits = ['apple', 'banana', 'cherry', 'watermelon', 'date'] 에서 'cherry'를 제거하고 fruits를 출력하세요"
   ]
  },
  {
   "cell_type": "raw",
   "metadata": {
    "vscode": {
     "languageId": "raw"
    }
   },
   "source": [
    "fruits = ['apple', 'banana', 'cherry', 'watermelon', 'date']\n",
    "\n",
    "print(fruits)"
   ]
  },
  {
   "cell_type": "code",
   "execution_count": 15,
   "metadata": {},
   "outputs": [
    {
     "name": "stdout",
     "output_type": "stream",
     "text": [
      "['apple', 'banana', 'watermelon', 'date']\n"
     ]
    }
   ],
   "source": [
    "fruits = ['apple', 'banana', 'cherry', 'watermelon', 'date']\n",
    "fruits.remove('cherry')\n",
    "print(fruits)"
   ]
  },
  {
   "cell_type": "markdown",
   "metadata": {},
   "source": [
    "## 문제 4\n",
    "다음 코드의 출력 결과는 무엇인가요?"
   ]
  },
  {
   "cell_type": "raw",
   "metadata": {
    "vscode": {
     "languageId": "raw"
    }
   },
   "source": [
    "my_list = ['a', 'b', 'c', 'd', 'e']\n",
    "print(my_list[::-1])\n",
    "\n",
    "#'e','d','c','b','a'"
   ]
  },
  {
   "cell_type": "code",
   "execution_count": 16,
   "metadata": {},
   "outputs": [
    {
     "name": "stdout",
     "output_type": "stream",
     "text": [
      "['e', 'd', 'c', 'b', 'a']\n"
     ]
    }
   ],
   "source": [
    "my_list = ['a', 'b', 'c', 'd', 'e']\n",
    "print(my_list[::-1])"
   ]
  },
  {
   "cell_type": "markdown",
   "metadata": {},
   "source": [
    "## 문제 5\n",
    "다음 코드의 출력 결과는 무엇인가요?"
   ]
  },
  {
   "cell_type": "raw",
   "metadata": {
    "vscode": {
     "languageId": "raw"
    }
   },
   "source": [
    "list1 = [1, 2, 3]\n",
    "list2 = [4, 5]\n",
    "print(list1)\n",
    "print(list2)\n",
    "print(list1+list2*2)\n",
    "\n",
    "# [1,2,3]\n",
    "# [4,5]\n",
    "# [1,2,3,4,5,4,5]"
   ]
  },
  {
   "cell_type": "code",
   "execution_count": 17,
   "metadata": {},
   "outputs": [
    {
     "name": "stdout",
     "output_type": "stream",
     "text": [
      "[1, 2, 3]\n",
      "[4, 5]\n",
      "[1, 2, 3, 4, 5, 4, 5]\n"
     ]
    }
   ],
   "source": [
    "list1 = [1, 2, 3]\n",
    "list2 = [4, 5]\n",
    "print(list1)\n",
    "print(list2)\n",
    "print(list1+list2*2)"
   ]
  },
  {
   "cell_type": "markdown",
   "metadata": {},
   "source": [
    "## 문제 6\n",
    "다음 코드의 출력 결과는 무엇인가요?"
   ]
  },
  {
   "cell_type": "raw",
   "metadata": {
    "vscode": {
     "languageId": "raw"
    }
   },
   "source": [
    "my_list = [0, 1, 2, 3, 4, 5]\n",
    "print(my_list[5:1:-1])\n",
    "\n",
    "# [5,4,3,2]"
   ]
  },
  {
   "cell_type": "code",
   "execution_count": 18,
   "metadata": {},
   "outputs": [
    {
     "name": "stdout",
     "output_type": "stream",
     "text": [
      "[5, 4, 3, 2]\n"
     ]
    }
   ],
   "source": [
    "my_list = [0, 1, 2, 3, 4, 5]\n",
    "print(my_list[5:1:-1])"
   ]
  },
  {
   "cell_type": "markdown",
   "metadata": {},
   "source": [
    "## 문제 7\n",
    "리스트 numbers = [1, 3, 3, 1, 7, 2, 9, 3, 5, 7] 에서 처음으로 7의 값이 나오는 인덱스를 출력하세요. (단순 인덱스로 출력 X -> 특정 함수를 사용!)"
   ]
  },
  {
   "cell_type": "code",
   "execution_count": 20,
   "metadata": {},
   "outputs": [
    {
     "data": {
      "text/plain": [
       "4"
      ]
     },
     "execution_count": 20,
     "metadata": {},
     "output_type": "execute_result"
    }
   ],
   "source": [
    "numbers = [1, 3, 3, 1, 7, 2, 9, 3, 5, 7]\n",
    "\n",
    "numbers.index(7)"
   ]
  },
  {
   "cell_type": "markdown",
   "metadata": {},
   "source": [
    "### 문제 7-1\n",
    "위 numbers 리스트에서 3라는 값의 개수를 출력하세요."
   ]
  },
  {
   "cell_type": "code",
   "execution_count": 24,
   "metadata": {},
   "outputs": [
    {
     "name": "stdout",
     "output_type": "stream",
     "text": [
      "3\n"
     ]
    }
   ],
   "source": [
    "cnt_num = numbers.count(3)\n",
    "\n",
    "print(cnt_num)"
   ]
  },
  {
   "cell_type": "markdown",
   "metadata": {},
   "source": [
    "# 실습"
   ]
  },
  {
   "cell_type": "markdown",
   "metadata": {},
   "source": [
    "## 문제 1\n",
    "다음 코드의 출력 결과는 무엇인가요?"
   ]
  },
  {
   "cell_type": "raw",
   "metadata": {
    "vscode": {
     "languageId": "raw"
    }
   },
   "source": [
    "numbers = [1, 2, 3, 4, 5]\n",
    "numbers[1:4] = [9, 9, 9]\n",
    "print(numbers)\n",
    "\n",
    "# [1,9,9,9,5]"
   ]
  },
  {
   "cell_type": "code",
   "execution_count": 25,
   "metadata": {},
   "outputs": [
    {
     "name": "stdout",
     "output_type": "stream",
     "text": [
      "[1, 9, 9, 9, 5]\n"
     ]
    }
   ],
   "source": [
    "numbers = [1, 2, 3, 4, 5]\n",
    "numbers[1:4] = [9, 9, 9]\n",
    "print(numbers)"
   ]
  },
  {
   "cell_type": "markdown",
   "metadata": {},
   "source": [
    "## 문제 2\n",
    "문자열 \"hello\"를 리스트 ['h', 'e', 'l', 'l', 'o']로 변환하는 코드를 작성하세요."
   ]
  },
  {
   "cell_type": "code",
   "execution_count": 30,
   "metadata": {},
   "outputs": [
    {
     "name": "stdout",
     "output_type": "stream",
     "text": [
      "['h', 'e', 'l', 'l', 'o']\n"
     ]
    }
   ],
   "source": [
    "str1= 'hello'\n",
    "\n",
    "str1 = list(str1)\n",
    "\n",
    "print(str1)\n"
   ]
  },
  {
   "cell_type": "markdown",
   "metadata": {},
   "source": [
    "## 문제 3\n",
    "다음 리스트에서 numbers = [3, 1, 4, 1, 5, 9, 2, 6, 5] 오름차순으로 정렬하시오"
   ]
  },
  {
   "cell_type": "code",
   "execution_count": 41,
   "metadata": {},
   "outputs": [
    {
     "name": "stdout",
     "output_type": "stream",
     "text": [
      "[1, 1, 2, 3, 4, 5, 5, 6, 9]\n"
     ]
    }
   ],
   "source": [
    "numbers = [3, 1, 4, 1, 5, 9, 2, 6, 5]\n",
    "\n",
    "num_sort = list(numbers)\n",
    "num_sort.sort()\n",
    "\n",
    "print(num_sort)"
   ]
  },
  {
   "cell_type": "markdown",
   "metadata": {},
   "source": [
    "### 문제 3-1\n",
    "내림차순으로 정렬하시오"
   ]
  },
  {
   "cell_type": "code",
   "execution_count": 43,
   "metadata": {},
   "outputs": [
    {
     "name": "stdout",
     "output_type": "stream",
     "text": [
      "[9, 6, 5, 5, 4, 3, 2, 1, 1]\n"
     ]
    }
   ],
   "source": [
    "num_sort_desc = list(numbers)\n",
    "\n",
    "num_sort_desc.sort(reverse=True)\n",
    "\n",
    "print(num_sort_desc)"
   ]
  },
  {
   "cell_type": "markdown",
   "metadata": {},
   "source": [
    "## 문제 4\n",
    "리스트 a = [1, 2, 3]가 있습니다. 이 리스트를 얕은 복사가 아닌 완전한 복사(깊은 복사)하여 b에 저장하고 싶습니다. 어떻게 해야 하나요?"
   ]
  },
  {
   "cell_type": "code",
   "execution_count": 48,
   "metadata": {},
   "outputs": [
    {
     "name": "stdout",
     "output_type": "stream",
     "text": [
      "[1, 2, 3]\n"
     ]
    }
   ],
   "source": [
    "import copy\n",
    "\n",
    "a =[1,2,3]\n",
    "\n",
    "b = copy.deepcopy(a)\n",
    "\n",
    "print(b)\n"
   ]
  },
  {
   "cell_type": "markdown",
   "metadata": {},
   "source": [
    "## 문제 5\n",
    "다음 코드의 실행 결과는 무엇인가요?"
   ]
  },
  {
   "cell_type": "raw",
   "metadata": {
    "vscode": {
     "languageId": "raw"
    }
   },
   "source": [
    "a = [1, 2, 3]\n",
    "b = a\n",
    "a.append(4)\n",
    "print(b)\n",
    "\n",
    "[1,2,3,4]"
   ]
  },
  {
   "cell_type": "code",
   "execution_count": 49,
   "metadata": {},
   "outputs": [
    {
     "name": "stdout",
     "output_type": "stream",
     "text": [
      "[1, 2, 3, 4]\n"
     ]
    }
   ],
   "source": [
    "a = [1, 2, 3]\n",
    "b = a\n",
    "a.append(4)\n",
    "print(b)"
   ]
  },
  {
   "cell_type": "markdown",
   "metadata": {},
   "source": [
    "# 심화\n",
    "리스트 컴프리헨션, 반복문, 조건문 사용"
   ]
  },
  {
   "cell_type": "markdown",
   "metadata": {},
   "source": [
    "## 문제 1\n",
    "리스트 numbers = [1, 2, 3, 4, 5]가 있습니다. 이 리스트의 모든 요소를 제곱한 새로운 리스트 squared_numbers 출력하세요"
   ]
  },
  {
   "cell_type": "code",
   "execution_count": 54,
   "metadata": {},
   "outputs": [
    {
     "name": "stdout",
     "output_type": "stream",
     "text": [
      "[1, 4, 9, 16, 25]\n"
     ]
    }
   ],
   "source": [
    "numbers = [1, 2, 3, 4, 5]\n",
    "\n",
    "squared_numbers = [numbers[i]**2 for i in range(0,len(numbers))]\n",
    "\n",
    "print(squared_numbers)"
   ]
  },
  {
   "cell_type": "markdown",
   "metadata": {},
   "source": [
    "## 문제 2\n",
    "리스트 numbers = [1, 2, 3, 4, 5, 6]에서 짝수만을 포함하는 새로운 리스트를 출력하세요"
   ]
  },
  {
   "cell_type": "code",
   "execution_count": 56,
   "metadata": {},
   "outputs": [
    {
     "name": "stdout",
     "output_type": "stream",
     "text": [
      "[2, 4, 6]\n"
     ]
    }
   ],
   "source": [
    "numbers = [1, 2, 3, 4, 5, 6]\n",
    "\n",
    "even = [numbers[i] for i in range(0,len(numbers)) if numbers[i] % 2==0]\n",
    "\n",
    "print(even)"
   ]
  },
  {
   "cell_type": "markdown",
   "metadata": {},
   "source": [
    "## 문제 3\n",
    "2차원 리스트 matrix = [[1, 2], [3, 4], [5, 6]]에서 각 요소를 모두 더한 합계를 계산하세요."
   ]
  },
  {
   "cell_type": "code",
   "execution_count": 73,
   "metadata": {},
   "outputs": [
    {
     "name": "stdout",
     "output_type": "stream",
     "text": [
      "[3, 7, 11]\n",
      "21\n"
     ]
    }
   ],
   "source": [
    "matrix = [[1, 2], [3, 4], [5, 6]]\n",
    "sum_list = []\n",
    "\n",
    "for i in range(len(matrix)):\n",
    "    sum_list.append(sum(matrix[i]))\n",
    "total_sum = sum(sum_list)\n",
    "\n",
    "print(sum_list)\n",
    "print(total_sum)\n"
   ]
  },
  {
   "cell_type": "markdown",
   "metadata": {},
   "source": [
    "## 문제 4 - set 함수 사용\n",
    "다음 리스트에서 중복된 요소를 제거하고, 오름차순으로 정렬된 새로운 리스트를 만드세요:  \n",
    "numbers = [3, 1, 4, 1, 5, 9, 2, 6, 5]\n",
    "\n",
    "Tips! 파이썬 정렬 sorted() 함수를 검색해보세요!!!!!!! "
   ]
  },
  {
   "cell_type": "code",
   "execution_count": 83,
   "metadata": {},
   "outputs": [
    {
     "name": "stdout",
     "output_type": "stream",
     "text": [
      "[1, 2, 3, 4, 5, 6, 9]\n"
     ]
    }
   ],
   "source": [
    "numbers = [3, 1, 4, 1, 5, 9, 2, 6, 5]\n",
    "\n",
    "numbers.sort()\n",
    "new_num = list(set(numbers))\n",
    "\n",
    "print(new_num)"
   ]
  }
 ],
 "metadata": {
  "kernelspec": {
   "display_name": "Python 3",
   "language": "python",
   "name": "python3"
  },
  "language_info": {
   "codemirror_mode": {
    "name": "ipython",
    "version": 3
   },
   "file_extension": ".py",
   "mimetype": "text/x-python",
   "name": "python",
   "nbconvert_exporter": "python",
   "pygments_lexer": "ipython3",
   "version": "3.12.0"
  }
 },
 "nbformat": 4,
 "nbformat_minor": 2
}
