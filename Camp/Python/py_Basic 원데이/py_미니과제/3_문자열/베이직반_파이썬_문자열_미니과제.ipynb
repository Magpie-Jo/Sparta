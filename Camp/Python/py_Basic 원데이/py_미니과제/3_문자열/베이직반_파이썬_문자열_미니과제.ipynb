{
 "cells": [
  {
   "cell_type": "markdown",
   "metadata": {},
   "source": [
    "## 문제 1\n",
    "주어진 문자열 s = \"abcdefghij\"에서 인덱스 2부터 5까지의 부분 문자열을 출력하세요."
   ]
  },
  {
   "cell_type": "code",
   "execution_count": 1,
   "metadata": {},
   "outputs": [
    {
     "name": "stdout",
     "output_type": "stream",
     "text": [
      "cde\n"
     ]
    }
   ],
   "source": [
    "s = \"abcdefghij\"\n",
    "\n",
    "s_slc = s[2:5]\n",
    "\n",
    "print(s_slc)"
   ]
  },
  {
   "cell_type": "markdown",
   "metadata": {},
   "source": [
    "## 문제 2\n",
    "문자열 s = \"I love apples\"에서 \"apples\"를 \"bananas\"로 대체하여 출력하세요."
   ]
  },
  {
   "cell_type": "code",
   "execution_count": 3,
   "metadata": {},
   "outputs": [
    {
     "name": "stdout",
     "output_type": "stream",
     "text": [
      "I love bananas\n"
     ]
    }
   ],
   "source": [
    "s = \"I love apples\"\n",
    "\n",
    "rep_s = s.replace('apples','bananas')\n",
    "\n",
    "print(rep_s)"
   ]
  },
  {
   "cell_type": "markdown",
   "metadata": {},
   "source": [
    "## 문제 3\n",
    "문자열 s = \"Find the index of the first 'e' character\"에서 문자 'e'가 처음으로 등장하는 위치의 인덱스를 출력하세요."
   ]
  },
  {
   "cell_type": "code",
   "execution_count": 5,
   "metadata": {},
   "outputs": [
    {
     "name": "stdout",
     "output_type": "stream",
     "text": [
      "7\n"
     ]
    }
   ],
   "source": [
    "s = \"Find the index of the first 'e' character\"\n",
    "\n",
    "idx_s = s.find('e')\n",
    "\n",
    "print(idx_s)"
   ]
  },
  {
   "cell_type": "markdown",
   "metadata": {},
   "source": [
    "## 문제 4\n",
    "리스트 lst = ['Python', 'is', 'fun']를 하이픈(-)으로 구분된 하나의 문자열로 결합하여 출력하세요."
   ]
  },
  {
   "cell_type": "code",
   "execution_count": 6,
   "metadata": {},
   "outputs": [
    {
     "name": "stdout",
     "output_type": "stream",
     "text": [
      "Python-is-fun\n"
     ]
    }
   ],
   "source": [
    "st = ['Python', 'is', 'fun']\n",
    "\n",
    "join_s = '-'.join(st)\n",
    "\n",
    "print(join_s)"
   ]
  },
  {
   "cell_type": "markdown",
   "metadata": {},
   "source": [
    "## 문제 5\n",
    "문자열 s = \"1234567890\"에서 처음부터 3번째 문자까지와 마지막 3개의 문자를 연결하여 새로운 문자열을 출력하세요."
   ]
  },
  {
   "cell_type": "code",
   "execution_count": 11,
   "metadata": {},
   "outputs": [
    {
     "name": "stdout",
     "output_type": "stream",
     "text": [
      "앞 3글자 : 123\n",
      "뒤 3글자 : 890\n",
      "조합 문장 : 123890\n"
     ]
    }
   ],
   "source": [
    "s = \"1234567890\"\n",
    "\n",
    "first_3_s = s[:3]\n",
    "end_3_s = s[-3:]\n",
    "comb_s = first_3_s + end_3_s\n",
    "\n",
    "print(f'앞 3글자 : {first_3_s}')\n",
    "print(f'뒤 3글자 : {end_3_s}')\n",
    "print(f'조합 문장 : {comb_s}')\n"
   ]
  },
  {
   "cell_type": "markdown",
   "metadata": {},
   "source": [
    "### 역 슬라이싱을 이용해서 4567 출력이 나오도록"
   ]
  },
  {
   "cell_type": "code",
   "execution_count": 20,
   "metadata": {},
   "outputs": [
    {
     "name": "stdout",
     "output_type": "stream",
     "text": [
      "4567\n"
     ]
    }
   ],
   "source": [
    "rvs_s = s[-7:-3]\n",
    "\n",
    "print(rvs_s)"
   ]
  },
  {
   "cell_type": "markdown",
   "metadata": {},
   "source": [
    "## 문제 6\n",
    "문자열 s = \"Hello, World!\"에서 마지막 문자 '!'를 제외한 나머지 문자열을 출력하세요."
   ]
  },
  {
   "cell_type": "code",
   "execution_count": 23,
   "metadata": {},
   "outputs": [
    {
     "name": "stdout",
     "output_type": "stream",
     "text": [
      "Hello, World\n"
     ]
    }
   ],
   "source": [
    "s = \"Hello, World!\"\n",
    "\n",
    "strip_s = s.strip('!')\n",
    "\n",
    "print(strip_s)"
   ]
  },
  {
   "cell_type": "markdown",
   "metadata": {},
   "source": [
    "# 응용"
   ]
  },
  {
   "cell_type": "markdown",
   "metadata": {},
   "source": [
    "## 문제 1\n",
    "주어진 문자열 s = \"Hello, World!\"에서 쉼표(,) 뒤의 문자열만 출력하세요."
   ]
  },
  {
   "cell_type": "code",
   "execution_count": 27,
   "metadata": {},
   "outputs": [
    {
     "name": "stdout",
     "output_type": "stream",
     "text": [
      " World!\n"
     ]
    }
   ],
   "source": [
    "idx_comma = s.find(\",\")\n",
    "choice_s = s[idx_comma+1:]\n",
    "\n",
    "print(choice_s)"
   ]
  },
  {
   "cell_type": "markdown",
   "metadata": {},
   "source": [
    "## 문제 2\n",
    "문자열 s = \"python programming\"에서 모든 단어의 첫 글자를 대문자로 변환하여 출력하세요."
   ]
  },
  {
   "cell_type": "code",
   "execution_count": 29,
   "metadata": {},
   "outputs": [
    {
     "name": "stdout",
     "output_type": "stream",
     "text": [
      "Python Programming\n"
     ]
    }
   ],
   "source": [
    "s = \"python programming\"\n",
    "\n",
    "title_s = s.title()\n",
    "\n",
    "print(title_s)"
   ]
  },
  {
   "cell_type": "markdown",
   "metadata": {},
   "source": [
    "## 문제 3\n",
    "주어진 문자열 s = \"Python is fun\"에서 공백을 기준으로 단어들을 분리하여 리스트로 반환하세요."
   ]
  },
  {
   "cell_type": "code",
   "execution_count": 31,
   "metadata": {},
   "outputs": [
    {
     "name": "stdout",
     "output_type": "stream",
     "text": [
      "['Python', 'is', 'fun']\n"
     ]
    }
   ],
   "source": [
    "s = \"Python is fun\"\n",
    "\n",
    "spl_s = s.split(' ')\n",
    "\n",
    "print(spl_s)"
   ]
  },
  {
   "cell_type": "markdown",
   "metadata": {},
   "source": [
    "## 문제 4\n",
    "주어진 문자열 s = \"Data Science\"를 거꾸로 뒤집어서 출력하세요."
   ]
  },
  {
   "cell_type": "code",
   "execution_count": 32,
   "metadata": {},
   "outputs": [
    {
     "name": "stdout",
     "output_type": "stream",
     "text": [
      "ecneicS ataD\n"
     ]
    }
   ],
   "source": [
    "s = \"Data Science\"\n",
    "\n",
    "rvs_s = s[::-1]\n",
    "\n",
    "print(rvs_s)"
   ]
  },
  {
   "cell_type": "markdown",
   "metadata": {},
   "source": [
    "## 문제 5\n",
    "문자열 s = \"   OpenAI   \"에서 양쪽 공백을 제거하고, 모든 문자를 대문자로 변환하여 출력하세요."
   ]
  },
  {
   "cell_type": "code",
   "execution_count": 36,
   "metadata": {},
   "outputs": [
    {
     "name": "stdout",
     "output_type": "stream",
     "text": [
      "OPENAI\n"
     ]
    }
   ],
   "source": [
    "s = \"   OpenAI   \"\n",
    "\n",
    "strp_upp_s = s.strip().upper()\n",
    "\n",
    "print(strp_upp_s)"
   ]
  },
  {
   "cell_type": "markdown",
   "metadata": {},
   "source": [
    "## 문제 6\n",
    "사용자에게 이메일 주소를 입력받아, 아이디 부분과 도메인 부분을 분리하여 출력하세요."
   ]
  },
  {
   "cell_type": "raw",
   "metadata": {},
   "source": [
    "입력 : \n",
    "\n",
    "이메일 주소를 입력하세요 : spartacodingAI@naver.com"
   ]
  },
  {
   "cell_type": "raw",
   "metadata": {},
   "source": [
    "출력 : \n",
    "\n",
    "아이디 : spartacodingAI\n",
    "도메인 : naver.com"
   ]
  },
  {
   "cell_type": "code",
   "execution_count": 39,
   "metadata": {},
   "outputs": [
    {
     "name": "stdout",
     "output_type": "stream",
     "text": [
      "아이디 : spartacodingAI\n",
      "도메인 : naver.com\n"
     ]
    }
   ],
   "source": [
    "e_mail = input('이메일 주소를 입력하세요 :')\n",
    "\n",
    "find_at_idx = e_mail.find('@')\n",
    "\n",
    "ID = e_mail[:find_at_idx]\n",
    "domain = e_mail[find_at_idx+1:]\n",
    "\n",
    "print(f'아이디 : {ID}')\n",
    "print(f'도메인 : {domain}')"
   ]
  },
  {
   "cell_type": "markdown",
   "metadata": {},
   "source": [
    "## 문제 7\n",
    "문자열 s = \"abcdefg\"에서 인덱스가 홀수인 문자들만 출력하세요."
   ]
  },
  {
   "cell_type": "code",
   "execution_count": 43,
   "metadata": {},
   "outputs": [
    {
     "name": "stdout",
     "output_type": "stream",
     "text": [
      "bdf\n"
     ]
    }
   ],
   "source": [
    "s = \"abcdefg\"\n",
    "\n",
    "s_odd_idx = s[1::2]\n",
    "\n",
    "print(s_odd_idx)"
   ]
  }
 ],
 "metadata": {
  "kernelspec": {
   "display_name": "Python 3",
   "language": "python",
   "name": "python3"
  },
  "language_info": {
   "codemirror_mode": {
    "name": "ipython",
    "version": 3
   },
   "file_extension": ".py",
   "mimetype": "text/x-python",
   "name": "python",
   "nbconvert_exporter": "python",
   "pygments_lexer": "ipython3",
   "version": "3.13.7"
  }
 },
 "nbformat": 4,
 "nbformat_minor": 2
}
