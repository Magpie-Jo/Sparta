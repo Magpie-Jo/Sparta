{
 "cells": [
  {
   "cell_type": "code",
   "execution_count": null,
   "id": "7faacde4",
   "metadata": {},
   "outputs": [],
   "source": []
  },
  {
   "cell_type": "markdown",
   "id": "90bc3074",
   "metadata": {},
   "source": [
    "# 실습 문제 1 : 문자열 인덱싱과 슬라이싱\n",
    "## 문제  \n",
    "사용자로부터 문자열을 하나 입력받아 다음을 출력하세요.  \n",
    "첫 번째 문자와 마지막 문자 (한 줄에 함께 출력)  \n",
    "문자열의 앞 3글자와 뒤 3글자  \n",
    "문자열을 거꾸로 뒤집은 문자열  \n",
    "\n",
    "\n",
    "## 실행 예시\n",
    "문자열을 입력하세요: Python  \n",
    "첫 글자: P, 마지막 글자: n  \n",
    "앞 3글자: Pyt, 뒤 3글자: hon  \n",
    "거꾸로: nohtyP  "
   ]
  },
  {
   "cell_type": "code",
   "execution_count": 10,
   "id": "9eaa568b",
   "metadata": {},
   "outputs": [
    {
     "name": "stdout",
     "output_type": "stream",
     "text": [
      "문자열을 입력하세요 : Python\n",
      "첫글자 : P ,마지막 글자: n\n",
      "앞 3글자 : Pyt ,뒤 3글자: hon\n",
      "꺼꾸로 : nohtyP\n"
     ]
    }
   ],
   "source": [
    "in_str = input('문자열을 입력하세요 :')\n",
    "\n",
    "first_str = in_str[0]\n",
    "end_str = in_str[-1]\n",
    "cut3_front_str = in_str[:3]\n",
    "cut3_back_str = in_str[-3:]\n",
    "reverse_str =  in_str[::-1]\n",
    "\n",
    "print(f'문자열을 입력하세요 : {in_str}')\n",
    "print(f'첫글자 : {first_str} ,마지막 글자: {end_str}')\n",
    "print(f'앞 3글자 : {cut3_front_str} ,뒤 3글자: {cut3_back_str}')\n",
    "print(f'꺼꾸로 : {reverse_str}')\n"
   ]
  },
  {
   "cell_type": "markdown",
   "id": "e9b48eb2",
   "metadata": {},
   "source": [
    "# 실습 문제 2 : 문자열 메서드 활용\n",
    "## 문제\n",
    "아래의 문자열을 이용해 다음 작업을 수행하세요.  \n",
    "sentence = \"   I love Python. Python is powerful!   \"  \n",
    "​\n",
    "양쪽 공백을 제거한 후 소문자로 변환한 문자열 출력 \n",
    "  \n",
    "\"python\"이 몇 번 나오는지 개수 출력 (sentence.count(’python’)) → 1, 2, 3)  \n",
    "\"python\"을 \"java\"로 치환한 문자열 출력  \n",
    "문자열을 공백 기준으로 나누어 리스트로 출력  \n",
    "\n",
    "## 실행 예시\n",
    "정제된 문자열: i love python. python is powerful!  \n",
    "'python' 개수: 2  \n",
    "치환 결과: i love java. java is powerful!  \n",
    "단어 리스트: ['i', 'love', 'python.', 'python', 'is', 'powerful!']  "
   ]
  },
  {
   "cell_type": "code",
   "execution_count": 15,
   "id": "33e7fc0d",
   "metadata": {},
   "outputs": [
    {
     "name": "stdout",
     "output_type": "stream",
     "text": [
      "정제된 문자열: i love python. python is powerful!\n",
      "'Python'의 개수 : 0 \n",
      "치환 결과 : i love python. python is powerful! \n",
      "단어 리스트: ['i', 'love', 'python.', 'python', 'is', 'powerful!']\n"
     ]
    }
   ],
   "source": [
    "sentence = \"   I love Python. Python is powerful!   \"  \n",
    "\n",
    "strip_sen = sentence.strip()\n",
    "low_sen = strip_sen.lower()\n",
    "cnt_sen = low_sen.count('Python')\n",
    "rep_sen = low_sen.replace('Python','java')\n",
    "spl_sen = low_sen.split(\" \")\n",
    "\n",
    "print(f'정제된 문자열: {low_sen}')\n",
    "print(f\"'Python'의 개수 : {cnt_sen} \")\n",
    "print(f'치환 결과 : {rep_sen} ')\n",
    "print(f'단어 리스트: {spl_sen}')\n"
   ]
  },
  {
   "cell_type": "markdown",
   "id": "754256b5",
   "metadata": {},
   "source": [
    "# 실습 문제 3 : 문자열 합치기와 분리\n",
    "  \n",
    "## 문제  \n",
    "### 아래 두 문자열을 각각 변수에 저장하세요.\n",
    "\"Hello\"  \n",
    "\"Python\"  \n",
    "  \n",
    "  \n",
    "두 문자열을 + 연산자로 연결하여 \"Hello Python!\" 형태로 출력하세요. (단, 사이에 공백과 느낌표 포함)  \n",
    "\"apple,banana,cherry\"라는 문자열을 split(\",\")을 이용하여 리스트로 변환하고, 결과를 출력하세요.  \n",
    "위 리스트를 \" | \" 구분자를 사용해 다시 문자열로 합쳐 출력하세요.  \n",
    "\n",
    "## 실행 예시\n",
    "Hello Python!  \n",
    "['apple', 'banana', 'cherry']  \n",
    "apple | banana | cherry  "
   ]
  },
  {
   "cell_type": "code",
   "execution_count": 21,
   "id": "b89c10d5",
   "metadata": {},
   "outputs": [
    {
     "name": "stdout",
     "output_type": "stream",
     "text": [
      "Hello Python!\n",
      "['apple', 'banana', 'cherry']\n",
      "apple|banana|cherry\n"
     ]
    }
   ],
   "source": [
    "t1 = 'Hello'\n",
    "t2 = 'Python'\n",
    "fruit = 'apple,banana,cherry' \n",
    "\n",
    "f_list = fruit.split(',')\n",
    "f_join = '|'.join(f_list)\n",
    "\n",
    "print(t1 + ' ' + t2 + '!')\n",
    "print(f_list)\n",
    "print(f_join)\n"
   ]
  },
  {
   "cell_type": "code",
   "execution_count": null,
   "id": "4e7439b7",
   "metadata": {},
   "outputs": [],
   "source": []
  }
 ],
 "metadata": {
  "kernelspec": {
   "display_name": "Python 3",
   "language": "python",
   "name": "python3"
  },
  "language_info": {
   "codemirror_mode": {
    "name": "ipython",
    "version": 3
   },
   "file_extension": ".py",
   "mimetype": "text/x-python",
   "name": "python",
   "nbconvert_exporter": "python",
   "pygments_lexer": "ipython3",
   "version": "3.13.7"
  }
 },
 "nbformat": 4,
 "nbformat_minor": 5
}
