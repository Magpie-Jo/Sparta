{
 "cells": [
  {
   "cell_type": "markdown",
   "id": "07b1301e",
   "metadata": {},
   "source": [
    "# 실습 문제 1 : 영화관 티켓 요금 계산\n",
    "\n",
    "##다음 규칙을 만족하도록 **조건문**을 작성하세요.\n",
    "\n",
    "| 구분 | 나이 조건 | 티켓 요금 |  \n",
    "| --- | --- | --- |  \n",
    "| 유아 | 0 – 6세 | 0원 (무료) |  \n",
    "| 청소년 | 7 – 18세 | 8 000원 |  \n",
    "| 성인 | 19 – 64세 | 12 000원 |  \n",
    "| 시니어 | 65세 이상 | 6 000원 |  \n",
    "1. `input()`으로 관람객 나이(정수)를 입력받습니다.  \n",
    "2. 위 표에 따라 요금을 계산해 `\"요금은 12000원입니다.\"` 형식으로 출력하세요.  \n",
    "3. 나이가 음수이거나 150세를 초과하면 `\"잘못된 나이입니다.\"`를 출력하고 프로그램을 종료합니다.  "
   ]
  },
  {
   "cell_type": "code",
   "execution_count": 1,
   "id": "e1861166",
   "metadata": {},
   "outputs": [
    {
     "name": "stdout",
     "output_type": "stream",
     "text": [
      "요금은 무료 입니다.\n"
     ]
    }
   ],
   "source": [
    "customer_age = int(input('관람객 나이를 입력하세요 :'))\n",
    "\n",
    "infant = 0 <= customer_age <= 6\n",
    "youth = 7 <= customer_age <= 18\n",
    "adult = 19 <= customer_age <= 64\n",
    "senior = 65 <= customer_age <= 150\n",
    "\n",
    "free, price_8k, price_12k, price_6k = '무료', '8,000원', '12,000원', '6,000원'\n",
    "\n",
    "if infant :\n",
    "    print(f'요금은 {free} 입니다.')\n",
    "\n",
    "elif youth : \n",
    "    print(f'요금은 {price_8k} 입니다.')\n",
    "\n",
    "elif adult : \n",
    "    print(f'요금은 {price_12k} 입니다.')\n",
    "\n",
    "elif senior : \n",
    "    print(f'요금은 {price_6k} 입니다.')\n",
    "\n",
    "else:\n",
    "    print('잘못된 나이 입니다.')"
   ]
  },
  {
   "cell_type": "markdown",
   "id": "822e4641",
   "metadata": {},
   "source": [
    "# 실습 문제 2 : BMI 지수로 건강 상태 판정\n",
    "\n",
    "1. 사용자에게 **몸무게(kg)**와 **키(cm)**를 각각 입력받으세요.\n",
    "2. BMI 지수를 `몸무게 / (키 m 단위²)` 공식으로 계산합니다. ( 제곱 : `단위²` → ** 2 )\n",
    "3. 다음 범위를 기준으로 건강 상태를 출력하세요.\n",
    "\n",
    "| BMI | 판정 |\n",
    "| --- | --- |\n",
    "| 0 ≤ BMI < 18.5 | 저체중 |\n",
    "| 18.5 ≤ BMI < 23 | 정상 |\n",
    "| 23 ≤ BMI < 25 | 과체중 |\n",
    "| 25 ≤ BMI | 비만 |\n",
    "\n",
    "> 추가 과제 : 키나 체중이 0 이하이면 \"잘못된 입력입니다.\"라고 안내하고 종료하세요.\n",
    ">"
   ]
  },
  {
   "cell_type": "code",
   "execution_count": null,
   "id": "7165701c",
   "metadata": {},
   "outputs": [
    {
     "name": "stdout",
     "output_type": "stream",
     "text": [
      "잘못된 입력입니다.\n"
     ]
    }
   ],
   "source": [
    "height = int(input('키를 입력하세요(cm) : '))\n",
    "weight = int(input('몸무게를 입력하세요(kg) : '))\n",
    "\n",
    "bmi = weight / ((height/100)**2)\n",
    "\n",
    "low_w  = 0 <= bmi < 18.5\n",
    "nomal_w = 18.5 <= bmi < 23\n",
    "over_w  = 23 <= bmi < 25\n",
    "obesity = 25 <= bmi\n",
    "\n",
    "error_w_h = (weight < 0) | (height < 0)\n",
    "\n",
    "if error_w_h:\n",
    "    print('잘못된 입력입니다.')\n",
    "elif low_w:\n",
    "    print('저체중 입니다.')\n",
    "\n",
    "elif nomal_w:\n",
    "    print('정상 입니다.')\n",
    "\n",
    "elif over_w:\n",
    "    print('과체중 입니다.')\n",
    "\n",
    "elif obesity:\n",
    "    print('비만 입니다.')\n"
   ]
  },
  {
   "cell_type": "markdown",
   "id": "847fe8c0",
   "metadata": {},
   "source": [
    "# 실습 문제 3 : 삼각형 종류 판별기\n",
    "\n",
    "세 변의 길이 `a`, `b`, `c`(정수)를 한 줄씩 입력받아 다음을 판단하세요.\n",
    "\n",
    "1. **삼각형이 될 수 없는 경우**\n",
    "    - 세 변 중 하나라도 0 이하이거나,\n",
    "    - 삼각형 부등식 `a + b > c`, `a + c > b`, `b + c > a`를 만족하지 않으면\n",
    "        \n",
    "        `\"삼각형이 아닙니다.\"`를 출력하고 종료합니다.\n",
    "        \n",
    "2. 삼각형이라면 종류를 구분해 출력하세요.\n",
    "\n",
    "| 조건 | 출력 |\n",
    "| --- | --- |\n",
    "| 세 변이 모두 같음 | 정삼각형 |\n",
    "| 두 변만 같음 | 이등변삼각형 |\n",
    "| 세 변이 모두 다름 | 일반 삼각형 |\n",
    "| 직각삼각형(`a² + b² = c²` 등) | 직각삼각형 (※ 다른 분류보다 우선) |"
   ]
  },
  {
   "cell_type": "code",
   "execution_count": 41,
   "id": "ac4af8c2",
   "metadata": {},
   "outputs": [
    {
     "ename": "ValueError",
     "evalue": "invalid literal for int() with base 10: ''",
     "output_type": "error",
     "traceback": [
      "\u001b[31m---------------------------------------------------------------------------\u001b[39m",
      "\u001b[31mValueError\u001b[39m                                Traceback (most recent call last)",
      "\u001b[36mCell\u001b[39m\u001b[36m \u001b[39m\u001b[32mIn[41]\u001b[39m\u001b[32m, line 2\u001b[39m\n\u001b[32m      1\u001b[39m \u001b[38;5;66;03m# a,b,c 입력\u001b[39;00m\n\u001b[32m----> \u001b[39m\u001b[32m2\u001b[39m a,b,c = \u001b[38;5;28;43mint\u001b[39;49m\u001b[43m(\u001b[49m\u001b[38;5;28;43minput\u001b[39;49m\u001b[43m(\u001b[49m\u001b[33;43m'\u001b[39;49m\u001b[33;43ma를 입력하세요\u001b[39;49m\u001b[33;43m'\u001b[39;49m\u001b[43m)\u001b[49m\u001b[43m)\u001b[49m,\u001b[38;5;28mint\u001b[39m(\u001b[38;5;28minput\u001b[39m(\u001b[33m'\u001b[39m\u001b[33mb를 입력하세요\u001b[39m\u001b[33m'\u001b[39m)),\u001b[38;5;28mint\u001b[39m(\u001b[38;5;28minput\u001b[39m(\u001b[33m'\u001b[39m\u001b[33mc를 입력하세요\u001b[39m\u001b[33m'\u001b[39m))\n\u001b[32m      4\u001b[39m \u001b[38;5;66;03m# 삼각형 조건 미충족 식\u001b[39;00m\n\u001b[32m      5\u001b[39m under_0 = (a <= \u001b[32m0\u001b[39m) | (b <= \u001b[32m0\u001b[39m) | (c <= \u001b[32m0\u001b[39m)\n",
      "\u001b[31mValueError\u001b[39m: invalid literal for int() with base 10: ''"
     ]
    }
   ],
   "source": [
    "# a,b,c 입력\n",
    "a,b,c = int(input('a를 입력하세요')),int(input('b를 입력하세요')),int(input('c를 입력하세요'))\n",
    "\n",
    "# 삼각형 조건 미충족 식\n",
    "under_0 = (a <= 0) | (b <= 0) | (c <= 0)\n",
    "not_tri = (a + b <= c) | (a + c <= b) | (b + c <= a)\n",
    "\n",
    "# 삼각형 종류별 조건\n",
    "equilateral = a==b==c       #정삼각형\n",
    "isosceles = (a == b) | (a == c) | (b == c) #이등변 삼각형        \n",
    "regular = a != b != c           #일반삼각형\n",
    "right = (a**2 + b**2 == c**2) | (a**2 + c**2 == b**2) | (b**2 + c**2 == a**2) #직각삼각형 (우선조건)\n",
    "\n",
    "# 결과물 선언\n",
    "dont_tri = '삼삭형이 아닙니다.'\n",
    "equ_tri = '정삼각형'\n",
    "iso_tri = '이등변삼각형'\n",
    "reg_tri = '일반삼각형'\n",
    "rig_tri = '직각삼각형'\n",
    "\n",
    "# 삼각형 출력 조건문\n",
    "if under_0:             #미충족 조건1 (변 중 하나라도 0일 경우)\n",
    "    print(dont_tri)\n",
    "\n",
    "elif not_tri:           #미충족 조건2 (두 변의 합이 나머지보다 작을 경우)\n",
    "    print(dont_tri)\n",
    "\n",
    "else:\n",
    "    if right:                       # 직각삼각형 조건\n",
    "        print(f'{rig_tri} 입니다')\n",
    "\n",
    "    elif equilateral:               # 정삼각형 조건\n",
    "        print(f'{equ_tri} 입니다')\n",
    "    \n",
    "    elif isosceles:                 # 이등변삼각형 조건\n",
    "        print(f'{iso_tri} 입니다')\n",
    "    \n",
    "    elif regular:                   # 일반삼각형 조건\n",
    "        print(f'{reg_tri} 입니다')"
   ]
  },
  {
   "cell_type": "markdown",
   "id": "07387388",
   "metadata": {},
   "source": []
  }
 ],
 "metadata": {
  "kernelspec": {
   "display_name": "Python 3",
   "language": "python",
   "name": "python3"
  },
  "language_info": {
   "codemirror_mode": {
    "name": "ipython",
    "version": 3
   },
   "file_extension": ".py",
   "mimetype": "text/x-python",
   "name": "python",
   "nbconvert_exporter": "python",
   "pygments_lexer": "ipython3",
   "version": "3.13.7"
  }
 },
 "nbformat": 4,
 "nbformat_minor": 5
}
