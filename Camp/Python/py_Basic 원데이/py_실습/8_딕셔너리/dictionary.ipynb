{
 "cells": [
  {
   "cell_type": "markdown",
   "id": "47012ecb",
   "metadata": {},
   "source": [
    "미니실습 1"
   ]
  },
  {
   "cell_type": "code",
   "execution_count": 47,
   "id": "b9bb986e",
   "metadata": {},
   "outputs": [
    {
     "data": {
      "text/plain": [
       "{'eraser': 500, 'notebook': 800, 'pen': 1200}"
      ]
     },
     "execution_count": 47,
     "metadata": {},
     "output_type": "execute_result"
    }
   ],
   "source": [
    "prices = {\"pen\": 1200, \"notebook\": 800, \"eraser\": 500}\n",
    "dict(sorted(prices.items(),\n",
    "       key = lambda kv: kv[1]))\n"
   ]
  },
  {
   "cell_type": "markdown",
   "id": "67fe87b4",
   "metadata": {},
   "source": [
    "미니실습 2"
   ]
  },
  {
   "cell_type": "code",
   "execution_count": 46,
   "id": "9e5e7688",
   "metadata": {},
   "outputs": [
    {
     "data": {
      "text/plain": [
       "{'Amy': 95, 'Ben': 95, 'Ann': 80, 'Tom': 70}"
      ]
     },
     "execution_count": 46,
     "metadata": {},
     "output_type": "execute_result"
    }
   ],
   "source": [
    "scores = {\"Ann\": 80, \"Ben\": 95, \"Amy\": 95, \"Tom\": 70}\n",
    "\n",
    "dict(sorted(scores.items(),\n",
    "       key = lambda kv : (-kv[1],kv[0])))"
   ]
  },
  {
   "cell_type": "markdown",
   "id": "98293529",
   "metadata": {},
   "source": [
    "# 💻 실습 문제 (딕셔너리)\n",
    "\n",
    "## 실습 문제 1 : 심플 연락처 관리\n",
    "### 문제 설명\n",
    "먼저 빈 딕셔너리를 하나 만드세요.  \n",
    "phonebook = {}  \n",
    "​\n",
    "input()을 사용하여 이름과 전화번호를 3명 입력받으세요.  \n",
    "\n",
    "### 예시 입력 흐름\n",
    "이름을 입력하세요: 홍길동  \n",
    "전화번호를 입력하세요: 010-1234-5678  \n",
    "​\n",
    "이런 방식으로 3명을 차례대로 입력받아 딕셔너리에 저장하세요.  \n",
    "→ {\"홍길동\": \"010-1234-5678\", ...}  \n",
    "모든 연락처를 한 줄씩 \"홍길동:010-1234-5678\" 형식으로 출력하세요.  \n",
    "마지막으로 삭제할 이름을 input()으로 한 번 더 입력받고, 해당 키를 pop()으로 삭제하세요.  \n",
    "만약 없는 이름이면 \"해당 이름이 없습니다.\" 라고 출력하세요.   \n",
    "최종 남은 딕셔너리를 그대로 출력하세요.   \n",
    "### 예시 실행\n",
    "a : 01012341234  \n",
    "b : 01023452345  \n",
    "c : 01034563456  \n",
    "b 연락처가 삭제되었습니다.  \n",
    "최종 연락처: {'a': '01012341234', 'c': '01034563456'}  "
   ]
  },
  {
   "cell_type": "code",
   "execution_count": 24,
   "id": "55994663",
   "metadata": {},
   "outputs": [
    {
     "name": "stdout",
     "output_type": "stream",
     "text": [
      "\n",
      "연락처 목록\n",
      "a: 123\n",
      "b: 456\n",
      "c: 789\n",
      "해당 이름이 없습니다. 다시 입력하세요.\n",
      "해당 이름이 없습니다. 다시 입력하세요.\n",
      "해당 이름이 없습니다. 다시 입력하세요.\n",
      "a 연락처가 삭제되었습니다.\n",
      "최종 연락처: {'b': '456', 'c': '789'}\n"
     ]
    }
   ],
   "source": [
    "phonebook = {}\n",
    "\n",
    "\n",
    "for i in range(3):\n",
    "    name = input('이름을 입력하세요')\n",
    "    ph = input('전화번호를 입력하세요.')\n",
    "    phonebook[name]=ph\n",
    "\n",
    "print('\\n연락처 목록')\n",
    "for name, ph in phonebook.items():\n",
    "    print(f'{name}: {ph}')\n",
    "\n",
    "while True:\n",
    "    del_name = input(\"\\n삭제할 이름을 입력하세요 (그만하려면 Enter)\")\n",
    "    \n",
    "    if not del_name:\n",
    "        print('삭제를 취소합니다.')\n",
    "        break\n",
    "\n",
    "    if del_name in phonebook:\n",
    "        del phonebook[del_name]\n",
    "        print(f'{del_name} 연락처가 삭제되었습니다.')\n",
    "        break\n",
    "\n",
    "    else:\n",
    "        print('해당 이름이 없습니다. 다시 입력하세요.')\n",
    "\n",
    "print(f'최종 연락처: {phonebook}')"
   ]
  },
  {
   "cell_type": "code",
   "execution_count": 11,
   "id": "1574c4fb",
   "metadata": {},
   "outputs": [
    {
     "name": "stdout",
     "output_type": "stream",
     "text": [
      "True\n"
     ]
    }
   ],
   "source": [
    "a = del_name in phonebook\n",
    "\n",
    "print(a)\n"
   ]
  },
  {
   "cell_type": "code",
   "execution_count": null,
   "id": "5d21cdb4",
   "metadata": {},
   "outputs": [],
   "source": []
  }
 ],
 "metadata": {
  "kernelspec": {
   "display_name": "Python 3",
   "language": "python",
   "name": "python3"
  },
  "language_info": {
   "codemirror_mode": {
    "name": "ipython",
    "version": 3
   },
   "file_extension": ".py",
   "mimetype": "text/x-python",
   "name": "python",
   "nbconvert_exporter": "python",
   "pygments_lexer": "ipython3",
   "version": "3.12.0"
  }
 },
 "nbformat": 4,
 "nbformat_minor": 5
}
