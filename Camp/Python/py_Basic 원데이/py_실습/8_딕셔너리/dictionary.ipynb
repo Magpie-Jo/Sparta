{
 "cells": [
  {
   "cell_type": "markdown",
   "id": "47012ecb",
   "metadata": {},
   "source": [
    "미니실습 1"
   ]
  },
  {
   "cell_type": "code",
   "execution_count": 47,
   "id": "b9bb986e",
   "metadata": {},
   "outputs": [
    {
     "data": {
      "text/plain": [
       "{'eraser': 500, 'notebook': 800, 'pen': 1200}"
      ]
     },
     "execution_count": 47,
     "metadata": {},
     "output_type": "execute_result"
    }
   ],
   "source": [
    "prices = {\"pen\": 1200, \"notebook\": 800, \"eraser\": 500}\n",
    "dict(sorted(prices.items(),\n",
    "       key = lambda kv: kv[1]))\n"
   ]
  },
  {
   "cell_type": "markdown",
   "id": "67fe87b4",
   "metadata": {},
   "source": [
    "미니실습 2"
   ]
  },
  {
   "cell_type": "code",
   "execution_count": 46,
   "id": "9e5e7688",
   "metadata": {},
   "outputs": [
    {
     "data": {
      "text/plain": [
       "{'Amy': 95, 'Ben': 95, 'Ann': 80, 'Tom': 70}"
      ]
     },
     "execution_count": 46,
     "metadata": {},
     "output_type": "execute_result"
    }
   ],
   "source": [
    "scores = {\"Ann\": 80, \"Ben\": 95, \"Amy\": 95, \"Tom\": 70}\n",
    "\n",
    "dict(sorted(scores.items(),\n",
    "       key = lambda kv : (-kv[1],kv[0])))"
   ]
  },
  {
   "cell_type": "markdown",
   "id": "98293529",
   "metadata": {},
   "source": [
    "# 💻 실습 문제 (딕셔너리)\n",
    "\n",
    "## 실습 문제 1 : 심플 연락처 관리\n",
    "### 문제 설명\n",
    "먼저 빈 딕셔너리를 하나 만드세요.  \n",
    "phonebook = {}  \n",
    "​\n",
    "input()을 사용하여 이름과 전화번호를 3명 입력받으세요.  \n",
    "\n",
    "### 예시 입력 흐름\n",
    "이름을 입력하세요: 홍길동  \n",
    "전화번호를 입력하세요: 010-1234-5678  \n",
    "​\n",
    "이런 방식으로 3명을 차례대로 입력받아 딕셔너리에 저장하세요.  \n",
    "→ {\"홍길동\": \"010-1234-5678\", ...}  \n",
    "모든 연락처를 한 줄씩 \"홍길동:010-1234-5678\" 형식으로 출력하세요.  \n",
    "마지막으로 삭제할 이름을 input()으로 한 번 더 입력받고, 해당 키를 pop()으로 삭제하세요.  \n",
    "만약 없는 이름이면 \"해당 이름이 없습니다.\" 라고 출력하세요.   \n",
    "최종 남은 딕셔너리를 그대로 출력하세요.   \n",
    "### 예시 실행\n",
    "a : 01012341234  \n",
    "b : 01023452345  \n",
    "c : 01034563456  \n",
    "b 연락처가 삭제되었습니다.  \n",
    "최종 연락처: {'a': '01012341234', 'c': '01034563456'}  "
   ]
  },
  {
   "cell_type": "code",
   "execution_count": 24,
   "id": "55994663",
   "metadata": {},
   "outputs": [
    {
     "name": "stdout",
     "output_type": "stream",
     "text": [
      "\n",
      "연락처 목록\n",
      "a: 123\n",
      "b: 456\n",
      "c: 789\n",
      "해당 이름이 없습니다. 다시 입력하세요.\n",
      "해당 이름이 없습니다. 다시 입력하세요.\n",
      "해당 이름이 없습니다. 다시 입력하세요.\n",
      "a 연락처가 삭제되었습니다.\n",
      "최종 연락처: {'b': '456', 'c': '789'}\n"
     ]
    }
   ],
   "source": [
    "phonebook = {}\n",
    "\n",
    "\n",
    "for i in range(3):\n",
    "    name = input('이름을 입력하세요')\n",
    "    ph = input('전화번호를 입력하세요.')\n",
    "    phonebook[name]=ph\n",
    "\n",
    "print('\\n연락처 목록')\n",
    "for name, ph in phonebook.items():\n",
    "    print(f'{name}: {ph}')\n",
    "\n",
    "while True:\n",
    "    del_name = input(\"\\n삭제할 이름을 입력하세요 (그만하려면 Enter)\")\n",
    "    \n",
    "    if not del_name:\n",
    "        print('삭제를 취소합니다.')\n",
    "        break\n",
    "\n",
    "    if del_name in phonebook:\n",
    "        del phonebook[del_name]\n",
    "        print(f'{del_name} 연락처가 삭제되었습니다.')\n",
    "        break\n",
    "\n",
    "    else:\n",
    "        print('해당 이름이 없습니다. 다시 입력하세요.')\n",
    "\n",
    "print(f'최종 연락처: {phonebook}')"
   ]
  },
  {
   "cell_type": "markdown",
   "id": "1574c4fb",
   "metadata": {},
   "source": [
    "# 실습 문제 2 : 시험 점수 딕셔너리 분석\n",
    "## 문제 설명\n",
    "다음과 같은 딕셔너리가 있습니다.  \n",
    "scores = {\"Alice\": 88, \"Bob\": 95, \"Charlie\": 70, \"Dave\": 95, \"Eve\": 62}  \n",
    "​\n",
    "### 모든 학생의 평균 점수를 출력하세요.\n",
    "평균 점수: 82.0  \n",
    "​  \n",
    "### 최고 점수를 받은 학생 이름과 점수를 모두 출력하세요. (동점 가능)\n",
    "최고 점수 학생: Bob(95), Dave(95)  \n",
    "​\n",
    "### 점수가 70점 이상이면 \"Pass\", 아니면 \"Fail\"을 저장하는 새 딕셔너리를 만들어 출력하세요.\n",
    "먼저 일반 for문으로 만든 뒤,  \n",
    "같은 내용을 딕셔너리 컴프리헨션으로 바꿔보세요.  \n",
    "### 예시 실행\n",
    "평균 점수: 82.0  \n",
    "최고 점수 학생: Bob(95), Dave(95)  \n",
    "일반 for문: {'Alice': 'Pass', 'Bob': 'Pass', 'Charlie': 'Pass', 'Dave': 'Pass', 'Eve': 'Fail'}  \n",
    "컴프리헨션: {'Alice': 'Pass', 'Bob': 'Pass', 'Charlie': 'Pass', 'Dave': 'Pass', 'Eve': 'Fail'}\n"
   ]
  },
  {
   "cell_type": "code",
   "execution_count": null,
   "id": "5d21cdb4",
   "metadata": {},
   "outputs": [
    {
     "name": "stdout",
     "output_type": "stream",
     "text": [
      "82.0\n",
      "최고 점수 학생 : Bob(95)\n",
      "최고 점수 학생 : Dave(95)\n",
      "{'Alice': 'Pass', 'Bob': 'Pass', 'Charlie': 'Pass', 'Dave': 'Pass', 'Eve': 'Fail'}\n",
      "{'Alice': 'Pass', 'Bob': 'Pass', 'Charlie': 'Pass', 'Dave': 'Pass', 'Eve': 'Fail'}\n"
     ]
    }
   ],
   "source": [
    "# 딕셔너리 데이터\n",
    "scores = {\"Alice\": 88, \"Bob\": 95, \"Charlie\": 70, \"Dave\": 95, \"Eve\": 62}\n",
    "\n",
    "# 평균 점수 구하기\n",
    "score_list = list(scores.values())\n",
    "avg_score = sum(score_list)/len(score_list)\n",
    "\n",
    "# 평균 점수 출력\n",
    "print(avg_score)\n",
    "\n",
    "\n",
    "# 최고 점수 구하기\n",
    "max_score = max(scores.values())\n",
    "for name , score in scores.items():\n",
    "    if score == max_score:\n",
    "        print(f'최고 점수 학생 : {name}({score})')\n",
    "\n",
    "# \n",
    "Pass_score = 70\n",
    "Pass_list = {}\n",
    "for name, score in scores.items():\n",
    "    if score < Pass_score:\n",
    "        Pass_list[name] = 'Fail'\n",
    "    elif score >= Pass_score:\n",
    "        Pass_list[name] = 'Pass'\n",
    "\n",
    "print(Pass_list)\n",
    "\n",
    "Pass_list_comp = {name : ('Pass' if score >= Pass_score else 'Fail') for name, score in scores.items()}\n",
    "print(Pass_list_comp)"
   ]
  },
  {
   "cell_type": "markdown",
   "id": "cd9a9880",
   "metadata": {},
   "source": [
    "# 실습 문제 3 : 람다로 딕셔너리 정렬\n",
    "## 문제 설명\n",
    "### 다음과 같은 상품-가격 딕셔너리가 있습니다.\n",
    "products = {  \n",
    "    \"Keyboard\": 49_000,  \n",
    "    \"Monitor\": 219_000,  \n",
    "    \"Mouse\": 25_000,  \n",
    "    \"Speaker\": 49_000,  \n",
    "    \"Webcam\": 89_000  \n",
    "}  \n",
    "​\n",
    "sorted()와 람다 함수를 이용해 아래 조건으로 정렬하세요.  \n",
    "가격 기준 내림차순  \n",
    "가격이 같다면 상품 이름 기준 오름차순  \n",
    "정렬된 결과를 다시 딕셔너리로 변환해 sorted_products에 저장한 뒤 출력하세요.  \n",
    "### 출력 예시  \n",
    "{'Monitor': 219000, 'Webcam': 89000, 'Keyboard': 49000, 'Speaker': 49000, 'Mouse': 25000}  "
   ]
  },
  {
   "cell_type": "code",
   "execution_count": 146,
   "id": "2d772d7a",
   "metadata": {},
   "outputs": [
    {
     "name": "stdout",
     "output_type": "stream",
     "text": [
      "{'Monitor': 219000, 'Webcam': 89000, 'Keyboard': 49000, 'Speaker': 49000, 'Mouse': 25000}\n"
     ]
    }
   ],
   "source": [
    "products = {\n",
    "    \"Keyboard\": 49_000,\n",
    "    \"Monitor\": 219_000,\n",
    "    \"Mouse\": 25_000,\n",
    "    \"Speaker\": 49_000,\n",
    "    \"Webcam\": 89_000\n",
    "    } \n",
    "\n",
    "p_sort = sorted(products.items(), key= lambda kv : kv[1], reverse=True)\n",
    "dict_p_sort = dict(p_sort)\n",
    "\n",
    "print(dict_p_sort)"
   ]
  }
 ],
 "metadata": {
  "kernelspec": {
   "display_name": "Python 3",
   "language": "python",
   "name": "python3"
  },
  "language_info": {
   "codemirror_mode": {
    "name": "ipython",
    "version": 3
   },
   "file_extension": ".py",
   "mimetype": "text/x-python",
   "name": "python",
   "nbconvert_exporter": "python",
   "pygments_lexer": "ipython3",
   "version": "3.12.0"
  }
 },
 "nbformat": 4,
 "nbformat_minor": 5
}
