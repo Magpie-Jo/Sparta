{
 "cells": [
  {
   "cell_type": "markdown",
   "id": "d7425541",
   "metadata": {},
   "source": [
    "# 💻 실습 문제 (함수)\n",
    "## 실습 문제 1 : 리스트의 합 list_sum\n",
    "### 문제 설명\n",
    "정수로만 이루어진 리스트 nums를 매개변수로 받아 모든 요소의 합을 반환하는 함수를 만드세요.  \n",
    "리스트가 비어 있다면 0을 반환해야 합니다.  \n",
    "### 예시 실행\n",
    "print(list_sum([1, 2, 3, 4]))  # 10  \n",
    "print(list_sum([]))            # 0"
   ]
  },
  {
   "cell_type": "code",
   "execution_count": null,
   "id": "6d553c21",
   "metadata": {},
   "outputs": [
    {
     "name": "stdout",
     "output_type": "stream",
     "text": [
      "입력을 종료합니다.\n"
     ]
    },
    {
     "data": {
      "text/plain": [
       "6"
      ]
     },
     "execution_count": 9,
     "metadata": {},
     "output_type": "execute_result"
    }
   ],
   "source": [
    "\n",
    "def list_sum(nums):\n",
    "    \"\"\" nums 리스트 내 \n",
    "    정수 매개 변수 전부를 합한 값을 리턴 \"\"\"\n",
    "    \n",
    "    if not nums:\n",
    "        return 0\n",
    "    else:\n",
    "        result = sum(nums)\n",
    "        return result\n",
    "\n",
    "nums=[]\n",
    "\n",
    "while True:\n",
    "    num = input(\"\\n 숫자를 입력해주세요 (Enter입력 시 종료)\")\n",
    "              \n",
    "    if not num:\n",
    "        print('입력을 종료합니다.')\n",
    "        break\n",
    "    else:\n",
    "        nums.append(int(num))\n",
    "        num = ''\n",
    "\n",
    "print(list_sum(nums))"
   ]
  },
  {
   "cell_type": "markdown",
   "id": "5903c9d8",
   "metadata": {},
   "source": [
    "# 실습 문제 2 : 단어 빈도 세기 함수 word_count\n",
    "### 문제 설명\n",
    "문자열을 매개변수로 받아, 공백을 기준으로 단어를 분리합니다.  \n",
    "각 단어가 몇 번 나왔는지 딕셔너리 형태로 반환하세요.  \n",
    "대소문자는 구분하지 않으며, 모두 소문자로 변환한 뒤 계산하세요.  \n",
    "### 예시 실행\n",
    "**print(word_count(\"Apple banana apple Orange orange banana apple\"))**  \n",
    " **{'apple': 3, 'banana': 2, 'orange': 2}**"
   ]
  },
  {
   "cell_type": "code",
   "execution_count": 32,
   "id": "90b3bbaf",
   "metadata": {},
   "outputs": [
    {
     "name": "stdout",
     "output_type": "stream",
     "text": [
      "{'apple': 3, 'banana': 2, 'orange': 2}\n"
     ]
    }
   ],
   "source": [
    "str1 = \"Apple banana apple Orange orange banana apple\"\n",
    "\n",
    "def cnt_word(word):\n",
    "    word_list = word.lower().split(' ')\n",
    "    fruit = {}\n",
    "\n",
    "    for name in word_list:\n",
    "        fruit[name] = word_list.count(name)\n",
    "        \n",
    "    return fruit\n",
    "    \n",
    "print(cnt_word(str1))"
   ]
  },
  {
   "cell_type": "markdown",
   "id": "07d501ac",
   "metadata": {},
   "source": [
    "# 실습 문제 3 : 학점 계산 함수 grade_report\n",
    "## 문제 설명\n",
    "학생 이름과 점수가 들어있는 딕셔너리를 매개변수로 받으세요.  \n",
    "점수를 기준으로 학점(A, B, C, D, F)을 매겨서 새 딕셔너리로 반환하세요.  \n",
    "학점 기준은 다음과 같습니다.  \n",
    "### 점수 범위\n",
    "학점  \n",
    "|점수 범위| 학점|\n",
    "|:-:|:-:|\n",
    "|90 이상|A|\n",
    "|80~89\t|B|\n",
    "|70~79\t|C|\n",
    "|60~69\t|D|\n",
    "|60 미만|F|\n",
    "### 예시 실행\n",
    "**scores = {\"Alice\": 85, \"Bob\": 92, \"Charlie\": 67, \"Dave\": 58}**  \n",
    "**print(grade_report(scores))**  \n",
    "**{'Alice': 'B', 'Bob': 'A', 'Charlie': 'D', 'Dave': 'F'}**"
   ]
  },
  {
   "cell_type": "code",
   "execution_count": 43,
   "id": "5ccb3cf4",
   "metadata": {},
   "outputs": [
    {
     "name": "stdout",
     "output_type": "stream",
     "text": [
      "{'Alice': 'B', 'Bob': 'A', 'Charlie': 'D', 'Dave': 'F'}\n"
     ]
    }
   ],
   "source": [
    "scores = {\"Alice\": 85, \"Bob\": 92, \"Charlie\": 67, \"Dave\": 58}\n",
    "\n",
    "def grade_report(scores):\n",
    "    example_grade={}\n",
    "\n",
    "    for name, score in scores.items():\n",
    "\n",
    "        if 90 <= score :\n",
    "            grade = \"A\"\n",
    "        elif 80 <= score < 90:\n",
    "            grade = \"B\"\n",
    "        elif 70 <= score < 80:\n",
    "            grade = \"C\"\n",
    "        elif 60 <= score < 70:\n",
    "            grade = \"D\"\n",
    "        elif score < 60:\n",
    "            grade = \"F\"\n",
    "            \n",
    "        example_grade[name] = grade\n",
    "\n",
    "    return example_grade\n",
    "\n",
    "\n",
    "print(grade_report(scores))"
   ]
  },
  {
   "cell_type": "code",
   "execution_count": null,
   "id": "3ca40f9e",
   "metadata": {},
   "outputs": [],
   "source": []
  }
 ],
 "metadata": {
  "kernelspec": {
   "display_name": "Python 3",
   "language": "python",
   "name": "python3"
  },
  "language_info": {
   "codemirror_mode": {
    "name": "ipython",
    "version": 3
   },
   "file_extension": ".py",
   "mimetype": "text/x-python",
   "name": "python",
   "nbconvert_exporter": "python",
   "pygments_lexer": "ipython3",
   "version": "3.12.0"
  }
 },
 "nbformat": 4,
 "nbformat_minor": 5
}
