{
 "cells": [
  {
   "cell_type": "markdown",
   "id": "4c89903d",
   "metadata": {},
   "source": [
    "# 실습 문제 1 : 튜플 언패킹 & 값 교환\n",
    "### 문제\n",
    "두 변수 a, b에 각각 정수를 입력받아 저장하세요.  \n",
    "튜플 언패킹을 활용해 a와 b의 값을 교환한 뒤 출력하세요.  \n",
    "\n",
    "### 예시 실행\n",
    "정수 두 개 입력: 10 20  \n",
    "교환 후: a=20, b=10"
   ]
  },
  {
   "cell_type": "code",
   "execution_count": 44,
   "id": "c2e755da",
   "metadata": {},
   "outputs": [
    {
     "name": "stdout",
     "output_type": "stream",
     "text": [
      "교환 전 : a = 10 , b = 20\n",
      "교환 후 : a = 20 , b = 10\n"
     ]
    }
   ],
   "source": [
    "a,b = ((\n",
    "    int(input('a 의 값을 입력하세요(int)')),\n",
    "    int(input('b 의 값을 입력하세요(int)'))))\n",
    "\n",
    "print(f'교환 전 : a = {a} , b = {b}')\n",
    "a,b = b,a\n",
    "\n",
    "print(f'교환 후 : a = {a} , b = {b}')\n"
   ]
  },
  {
   "cell_type": "markdown",
   "id": "6d57c78e",
   "metadata": {},
   "source": [
    "# 실습 문제 2 : 과일 바구니 슬라이싱\n",
    "## 문제\n",
    "다음 튜플이 주어집니다.  \n",
    "fruits = (\"사과\", \"배\", \"포도\", \"딸기\", \"바나나\", \"귤\", \"망고\")  \n",
    "​\n",
    "## 아래 조건에 맞게 슬라이싱을 사용하여 출력하세요.\n",
    "첫 번째부터 세 번째까지 과일  \n",
    "뒤에서 3개 과일  \n",
    "짝수 인덱스(0, 2, 4, …) 과일만 출력  \n",
    "### 예시 실행\n",
    "첫 3개 과일: ('사과', '배', '포도')  \n",
    "마지막 3개 과일: ('바나나', '귤', '망고')  \n",
    "짝수 인덱스 과일: ('사과', '포도', '바나나', '망고')  "
   ]
  },
  {
   "cell_type": "code",
   "execution_count": 51,
   "id": "56a41984",
   "metadata": {},
   "outputs": [
    {
     "name": "stdout",
     "output_type": "stream",
     "text": [
      "('사과', '배', '포도')\n",
      "('바나나', '귤', '망고')\n",
      "('사과', '포도', '바나나', '망고')\n"
     ]
    }
   ],
   "source": [
    "fruits = (\"사과\", \"배\", \"포도\", \"딸기\", \"바나나\", \"귤\", \"망고\") \n",
    "\n",
    "print(fruits[:3])\n",
    "print(fruits[-3:])\n",
    "print(fruits[::2])"
   ]
  }
 ],
 "metadata": {
  "kernelspec": {
   "display_name": "Python 3",
   "language": "python",
   "name": "python3"
  },
  "language_info": {
   "codemirror_mode": {
    "name": "ipython",
    "version": 3
   },
   "file_extension": ".py",
   "mimetype": "text/x-python",
   "name": "python",
   "nbconvert_exporter": "python",
   "pygments_lexer": "ipython3",
   "version": "3.12.0"
  }
 },
 "nbformat": 4,
 "nbformat_minor": 5
}
