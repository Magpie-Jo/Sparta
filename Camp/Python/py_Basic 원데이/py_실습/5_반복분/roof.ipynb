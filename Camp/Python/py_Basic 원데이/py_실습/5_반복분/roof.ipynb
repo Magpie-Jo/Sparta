{
 "cells": [
  {
   "cell_type": "code",
   "execution_count": 38,
   "id": "91279eff",
   "metadata": {},
   "outputs": [],
   "source": [
    "import random as rd"
   ]
  },
  {
   "cell_type": "markdown",
   "id": "1849c7ec",
   "metadata": {},
   "source": [
    "# 실습 문제 1 : 약수 구하기\n",
    "## 문제\n",
    "사용자에게 정수 n을 입력받아, n의 모든 약수를 출력하세요.  \n",
    "(약수의 개념? 1부터 n(자기 자신)까지 나눈 나머지가 0인 값이 약수이다!   \n",
    "ex. n=6, 6%1=0, 6%2=0, 6%3=0, 6%6=0 —→ n의 약수는 1, 2, 3, 6 )  \n",
    "\n",
    "### 예시 실행\n",
    "정수를 입력하세요: 12  \n",
    "12의 약수: 1 2 3 4 6 12  "
   ]
  },
  {
   "cell_type": "code",
   "execution_count": 10,
   "id": "1b0431ea",
   "metadata": {},
   "outputs": [
    {
     "name": "stdout",
     "output_type": "stream",
     "text": [
      "1\n"
     ]
    }
   ],
   "source": [
    "num = int(input('정수를 입력하세요'))\n",
    "\n",
    "for i in range(1,num+1):\n",
    "    if num % i == 0:\n",
    "        print(i)\n"
   ]
  },
  {
   "cell_type": "markdown",
   "id": "0b2e34b8",
   "metadata": {},
   "source": [
    "# 실습 문제 2 : 문자열 뒤집기\n",
    "### 문제\n",
    "사용자에게 문자열을 입력받아, 뒤집어서 출력하세요.  \n",
    "(reversed 함수 X, 슬라이싱 X → 반복문을 써서 풀어보세요!)  \n",
    "## 예시 실행\n",
    "문자열을 입력하세요: hello  \n",
    "olleh "
   ]
  },
  {
   "cell_type": "code",
   "execution_count": 37,
   "id": "44d832bf",
   "metadata": {},
   "outputs": [
    {
     "name": "stdout",
     "output_type": "stream",
     "text": [
      "olleh\n"
     ]
    }
   ],
   "source": [
    "say = input(\"문자열을 입력하세요\")\n",
    "\n",
    "reverse_say = ''\n",
    "\n",
    "for ch in say :\n",
    "    reverse_say = ch + reverse_say\n",
    "\n",
    "print(reverse_say)\n",
    "\n",
    "    "
   ]
  },
  {
   "cell_type": "markdown",
   "id": "996dd4b9",
   "metadata": {},
   "source": [
    "## 실습 문제 3 : 숫자 맞히기 게임 🎲\n",
    "\n",
    "**문제**\n",
    "\n",
    "- 1부터 10 사이의 정답 숫자가 있습니다. **(정답은 사용자가 고정적인 값으로 정하면 됩니다!)**\n",
    "- 사용자가 정답을 맞힐 때까지 계속 입력을 받으세요. **(While True)**\n",
    "- 맞히면 `\"정답입니다!\"`를 출력하고 종료하세요.\n",
    "\n",
    "**예시 실행**"
   ]
  },
  {
   "cell_type": "code",
   "execution_count": 45,
   "id": "b7c50c20",
   "metadata": {},
   "outputs": [
    {
     "name": "stdout",
     "output_type": "stream",
     "text": [
      "입력하신 1은 틀렸습니다 다시 입력하세요\n",
      "입력하신 2은 틀렸습니다 다시 입력하세요\n",
      "입력하신 4은 틀렸습니다 다시 입력하세요\n",
      "입력하신 3은 틀렸습니다 다시 입력하세요\n",
      "입력하신 5은 틀렸습니다 다시 입력하세요\n",
      "입력하신 6은 틀렸습니다 다시 입력하세요\n",
      "입력하신 7은 틀렸습니다 다시 입력하세요\n",
      "8은 정답입니다.\n"
     ]
    }
   ],
   "source": [
    "corr = rd.randint(1,10)\n",
    "num = 0\n",
    "\n",
    "while num != corr:\n",
    "   num = int(input('1~10 의 숫자를 입력하세요'))\n",
    "   if num !=corr:\n",
    "    print(f'입력하신 {num}은 틀렸습니다 다시 입력하세요')\n",
    "\n",
    "print(f'{num}은 정답입니다.')\n",
    "   "
   ]
  },
  {
   "cell_type": "code",
   "execution_count": null,
   "id": "34fd070a",
   "metadata": {},
   "outputs": [],
   "source": []
  }
 ],
 "metadata": {
  "kernelspec": {
   "display_name": "Python 3",
   "language": "python",
   "name": "python3"
  },
  "language_info": {
   "codemirror_mode": {
    "name": "ipython",
    "version": 3
   },
   "file_extension": ".py",
   "mimetype": "text/x-python",
   "name": "python",
   "nbconvert_exporter": "python",
   "pygments_lexer": "ipython3",
   "version": "3.12.0"
  }
 },
 "nbformat": 4,
 "nbformat_minor": 5
}
