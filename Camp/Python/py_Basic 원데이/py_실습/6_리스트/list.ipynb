{
 "cells": [
  {
   "cell_type": "markdown",
   "id": "eeaaee9d",
   "metadata": {},
   "source": [
    "# 💻 실습 문제 (리스트)\n",
    "## 실습 문제 1 : 리스트 슬라이싱 & 메서드 콜라주\n",
    "다음 코드를 한 줄씩 완성해 보세요.  \n",
    "cities = [\"Seoul\", \"Busan\", \"Incheon\", \"Gwangju\", \"Daejeon\"]  \n",
    "\n",
    "TODO 1) 리스트에서 가운데 3개 도시만 잘라 sub_cities 에 저장  \n",
    "TODO 2) sub_cities 의 순서를 거꾸로 뒤집어 reversed_cities 에 저장  \n",
    "TODO 3) reversed_cities 에 \"Ulsan\" 을 맨 뒤에 추가  \n",
    "TODO 4) 최종 리스트를 출력  \n",
    "​  \n",
    "예상 출력 예시\n",
    "['Gwangju', 'Incheon', 'Busan', 'Ulsan']"
   ]
  },
  {
   "cell_type": "code",
   "execution_count": null,
   "id": "97e98a05",
   "metadata": {},
   "outputs": [
    {
     "name": "stdout",
     "output_type": "stream",
     "text": [
      "['Busan', 'Incheon', 'Gwangju']\n",
      "['Gwangju', 'Incheon', 'Busan']\n",
      "['Gwangju', 'Incheon', 'Busan', 'Ulsan']\n"
     ]
    }
   ],
   "source": [
    "cities = [\"Seoul\", \"Busan\", \"Incheon\", \"Gwangju\", \"Daejeon\"]\n",
    "\n",
    "sub_cities = cities[1:4]\n",
    "reversed_cities = list(reversed(sub_cities))\n",
    "append_cities = list(reversed_cities)\n",
    "append_cities.append('Ulsan')\n",
    "\n",
    "print(sub_cities)\n",
    "print(reversed_cities)\n",
    "print(append_cities)"
   ]
  },
  {
   "cell_type": "markdown",
   "id": "e8c4bc71",
   "metadata": {},
   "source": [
    "### 실습 문제 2 : 리스트 컴프리헨션으로 데이터 가공(반복문, 조건문 사용)\n",
    "\n",
    "아래 조건을 만족하는 리스트를 **한 줄의 리스트 컴프리헨션**으로 생성해 보세요. (먼저 리스트 컴프리헨션을 사용하지 않고 생성하고 그 내용을 리스트 컴프리헨션으로 바꿔보세요! )\n",
    "\n",
    "1. 1 부터 30 까지 정수 중\n",
    "2. 3의 배수이면서 2의 배수가 **아닌** 숫자를 제곱해서 저장\n",
    "3. 결과 리스트를 `result` 변수에 담고 출력\n",
    "\n",
    "> 예시 결과 : [9, 81, 225, 441, 729]\n",
    ">"
   ]
  },
  {
   "cell_type": "code",
   "execution_count": null,
   "id": "40ddd3c6",
   "metadata": {},
   "outputs": [
    {
     "name": "stdout",
     "output_type": "stream",
     "text": [
      "[9, 81, 225, 441, 729]\n"
     ]
    }
   ],
   "source": [
    "result = [i**2 for i in range(1,30) if (i % 3 == 0) & (i % 2 != 0)]\n",
    "    \n",
    "print(result)"
   ]
  },
  {
   "cell_type": "markdown",
   "id": "d6b0ac08",
   "metadata": {},
   "source": [
    "### 실습 문제 3 : 리스트의 최대/최소와 평균 구하기\n",
    "\n",
    "**문제**\n",
    "\n",
    "1. 사용자에게 정수 여러 개를 입력받아 리스트에 저장하세요. (예: `10 20 30 5 7`)\n",
    "2. 리스트의 **최댓값, 최솟값, 평균**을 각각 구해 출력하세요.\n",
    "\n",
    "**예시 실행**\n",
    "\n",
    "```\n",
    "정수를 입력하세요 (공백 구분): 10 20 30 5 7\n",
    "최댓값: 30\n",
    "최솟값: 5\n",
    "평균: 14.4\n",
    "```\n",
    "\n",
    "> 힌트 : 리스트의 최대 값은 `max()`, 최소값은 `min()`, 평균은 리스트의 합(`sum()`) 나누기 리스트의 길이(`len()`) 입니다! 이해가 잘 안된다면 검색 ! 아시죠~?\n",
    ">"
   ]
  },
  {
   "cell_type": "code",
   "execution_count": null,
   "id": "a5c7e3f9",
   "metadata": {},
   "outputs": [
    {
     "name": "stdout",
     "output_type": "stream",
     "text": [
      "[10, 20, 30, 5, 7]\n",
      "입력하신 수는 다음과 같습니다.\n",
      "입력 : [10, 20, 30, 5, 7]\n",
      "\n",
      "리스트 내 최대, 최소 , 평균 값은 다음과 같습니다.\n",
      "최대 : 30 , 최소 : 5 , 평균 : 14.4\n"
     ]
    }
   ],
   "source": [
    "num_list = []\n",
    "\n",
    "# num_list = input('숫자를 공백으로 구분하여 입력하세요 ex) 10 20 30 5 7 ')    # 입력방법 1\n",
    "# num_list = [int(i) for i in num_list.split(' ')]\n",
    "\n",
    "while True:                                                                  # 입력방법 2\n",
    "    input_num = int(input('숫자를 입력하세요 **0 입력 시 종료 됩니다.'))\n",
    "\n",
    "    if input_num == 0:\n",
    "        break\n",
    "    else:\n",
    "        num_list.append(input_num)\n",
    "\n",
    "max_num = max(num_list)\n",
    "min_num = min(num_list)\n",
    "avg_num = round(sum(num_list)/len(num_list),2)\n",
    "\n",
    "print('입력하신 수는 다음과 같습니다.')\n",
    "print(f'입력 : {num_list}\\n')\n",
    "print('리스트 내 최대, 최소 , 평균 값은 다음과 같습니다.')\n",
    "print(f'최대 : {max_num} , 최소 : {min_num} , 평균 : {avg_num}')\n",
    "\n"
   ]
  }
 ],
 "metadata": {
  "kernelspec": {
   "display_name": "Python 3",
   "language": "python",
   "name": "python3"
  },
  "language_info": {
   "codemirror_mode": {
    "name": "ipython",
    "version": 3
   },
   "file_extension": ".py",
   "mimetype": "text/x-python",
   "name": "python",
   "nbconvert_exporter": "python",
   "pygments_lexer": "ipython3",
   "version": "3.12.0"
  }
 },
 "nbformat": 4,
 "nbformat_minor": 5
}
