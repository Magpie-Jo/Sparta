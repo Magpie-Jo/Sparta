{
 "cells": [
  {
   "cell_type": "markdown",
   "metadata": {},
   "source": [
    "## 문제 1\n",
    "다음 코드의 출력 결과를 예측해보세요."
   ]
  },
  {
   "cell_type": "code",
   "execution_count": 1,
   "metadata": {},
   "outputs": [
    {
     "name": "stdout",
     "output_type": "stream",
     "text": [
      "5\n"
     ]
    }
   ],
   "source": [
    "x = 5\n",
    "y = x\n",
    "x = 10\n",
    "print(y)\n",
    "\n",
    "# 결과 : 5"
   ]
  },
  {
   "cell_type": "markdown",
   "metadata": {},
   "source": [
    "int(정수형) 불변(immutable)객체입니다. 즉, 값이 변경되지 않습니다. (문자열, 튜플)\n",
    "변수에 새로운 값을 할당하면 새로운 객체를 가리켜요"
   ]
  },
  {
   "cell_type": "markdown",
   "metadata": {},
   "source": [
    "## 문제 1-2\n",
    "변수 a, b, c에 각각 1, 2, 3을 한 줄의 코드로 동시에 할당하는 코드를 작성하세요."
   ]
  },
  {
   "cell_type": "code",
   "execution_count": 4,
   "metadata": {},
   "outputs": [
    {
     "name": "stdout",
     "output_type": "stream",
     "text": [
      "a: 1\n",
      "b: 2\n",
      "c: 3\n"
     ]
    }
   ],
   "source": [
    "a,b,c = 1,2,3\n",
    "\n",
    "print(f'a: {a}')\n",
    "print(f'b: {b}')\n",
    "print(f'c: {c}')"
   ]
  },
  {
   "cell_type": "markdown",
   "metadata": {},
   "source": [
    "## 문제 2\n",
    "변수 a와 b에 각각 10과 20을 할당하고, 두 변수의 값을 서로 교환하는 코드를 작성하세요."
   ]
  },
  {
   "cell_type": "raw",
   "metadata": {
    "vscode": {
     "languageId": "raw"
    }
   },
   "source": [
    "출력 결과 : \n",
    "\n",
    "교환 후 a의 값: 20\n",
    "교환 후 b의 값: 10"
   ]
  },
  {
   "cell_type": "code",
   "execution_count": 6,
   "metadata": {},
   "outputs": [
    {
     "name": "stdout",
     "output_type": "stream",
     "text": [
      "교환 전 a: 10 , b: 20 \n",
      "교환 후 a의 값: 20\n",
      "교환 후 b의 값: 10\n"
     ]
    }
   ],
   "source": [
    "a,b = 10, 20\n",
    "print(f'교환 전 a: {a} , b: {b} ')\n",
    "\n",
    "x = a\n",
    "a = b\n",
    "b = x\n",
    "\n",
    "print(f'교환 후 a의 값: {a}')\n",
    "print(f'교환 후 b의 값: {b}')\n"
   ]
  },
  {
   "cell_type": "markdown",
   "metadata": {},
   "source": [
    "## 문제 3\n",
    "다음 코드에서 변수 result의 데이터 타입은 무엇인지 예측해보세요"
   ]
  },
  {
   "cell_type": "raw",
   "metadata": {
    "vscode": {
     "languageId": "raw"
    }
   },
   "source": [
    "a = 10\n",
    "b = 3.5\n",
    "result = a + b\n",
    "\n",
    "# float"
   ]
  },
  {
   "cell_type": "code",
   "execution_count": 11,
   "metadata": {},
   "outputs": [
    {
     "name": "stdout",
     "output_type": "stream",
     "text": [
      "<class 'float'>\n"
     ]
    }
   ],
   "source": [
    "a = 10\n",
    "b = 3.5\n",
    "result = a + b\n",
    "\n",
    "print(type(result))"
   ]
  },
  {
   "cell_type": "markdown",
   "metadata": {},
   "source": [
    "## 문제 4\n",
    "변수 이름으로 사용할 수 없는 것을 모두 고르세요."
   ]
  },
  {
   "cell_type": "raw",
   "metadata": {
    "vscode": {
     "languageId": "raw"
    }
   },
   "source": [
    "1. my_var \n",
    "2. 1st_place\n",
    "3. total$\n",
    "4. _count\n",
    "5. for\n",
    "\n",
    "1. my_var 사용가능\n",
    "\n",
    "사용 불가\n",
    "2. 1st_place    - 숫자로 시작X\n",
    "3. total$       - 특수문자X\n",
    "4. _count       - 언더바(_)로 시작X\n",
    "5. for          - 예약어 사용X"
   ]
  },
  {
   "cell_type": "code",
   "execution_count": null,
   "metadata": {},
   "outputs": [
    {
     "name": "stdout",
     "output_type": "stream",
     "text": [
      "1\n"
     ]
    }
   ],
   "source": [
    "my_var = 1\n"
   ]
  },
  {
   "cell_type": "markdown",
   "metadata": {},
   "source": [
    "## 문제 5\n",
    "사용자로부터 두 개의 정수를 입력받아 변수 num1과 num2에 저장하고, 두 숫자의 곱셈과 나눗셈의 결과를 출력하는 코드를 작성하세요.\n",
    "* 고려 사항 : 두 변수의 계산 결과를 새로운 변수에 저장해야 한다!"
   ]
  },
  {
   "cell_type": "code",
   "execution_count": 25,
   "metadata": {},
   "outputs": [
    {
     "name": "stdout",
     "output_type": "stream",
     "text": [
      "11 * 6 = 66\n",
      "11 / 6 = 1.8333\n"
     ]
    }
   ],
   "source": [
    "num1 = int(input(\"첫번째 숫자를 입력하세요.\"))   # 숫자1 입력\n",
    "num2 = int(input(\"두번째 숫자를 입력하세요.\"))   # 숫자2 입력\n",
    "\n",
    "mlt = num1 * num2                               # 곱셈 연산\n",
    "div = num1 / num2                               # 나눗셈 연산\n",
    "\n",
    "print(f'{num1} * {num2} = {mlt}')          # 곱셈 출력\n",
    "if div.is_integer():\n",
    "    print(f'{num1} / {num2} = {int(div)}')      # 나눗셈 소수점 0으로 떨어지는 경우 정수\n",
    "else:\n",
    "    print(f'{num1} / {num2} = {div:.4f}')       # 나눗셈 소수점 0으로 떨어지지 않는 경우 실수"
   ]
  },
  {
   "cell_type": "markdown",
   "metadata": {},
   "source": [
    "## 문제 6\n",
    "다음 코드의 실행 결과를 예측해보세요."
   ]
  },
  {
   "cell_type": "raw",
   "metadata": {
    "vscode": {
     "languageId": "raw"
    }
   },
   "source": [
    "x = 5\n",
    "x += 3\n",
    "x *= 2\n",
    "print(x)\n",
    "\n",
    "#16"
   ]
  },
  {
   "cell_type": "code",
   "execution_count": null,
   "metadata": {},
   "outputs": [
    {
     "name": "stdout",
     "output_type": "stream",
     "text": [
      "16\n"
     ]
    }
   ],
   "source": [
    "x = 5       # 5\n",
    "x += 3      # x = 5 + 3\n",
    "x *= 2      # x = 8 * 2\n",
    "print(x)    # 16"
   ]
  },
  {
   "cell_type": "raw",
   "metadata": {
    "vscode": {
     "languageId": "raw"
    }
   },
   "source": [
    "x = 10\n",
    "x **= 2\n",
    "print(x)\n",
    "\n",
    "# 100?"
   ]
  },
  {
   "cell_type": "code",
   "execution_count": 28,
   "metadata": {},
   "outputs": [
    {
     "name": "stdout",
     "output_type": "stream",
     "text": [
      "100\n"
     ]
    }
   ],
   "source": [
    "x = 10\n",
    "x **= 2  # x = 10^2 = 10 * 10\n",
    "print(x)\n"
   ]
  },
  {
   "cell_type": "markdown",
   "metadata": {},
   "source": [
    "## 문제 7\n",
    "파이썬에서 변수 PI를 선언하여 원주율 3.14159를 저장하고, 반지름이 5인 원의 면적을 계산하여 출력하는 코드를 작성하세요. (원의 면적 = PI * r * r)"
   ]
  },
  {
   "cell_type": "code",
   "execution_count": null,
   "metadata": {},
   "outputs": [
    {
     "name": "stdout",
     "output_type": "stream",
     "text": [
      "원주율 : 3.14159\n",
      "반지름 : 5\n",
      "원의 면적 : 78.53975\n"
     ]
    }
   ],
   "source": [
    "PI = 3.14159                                   # 파이 변수 선언 및 값 지정\n",
    "\n",
    "radius = int(input(\"반지름을 입력하세요\"))      # 반지름 입력 코드\n",
    "\n",
    "area = PI*(radius**2)                          # 원의 면적 계산식\n",
    "\n",
    "print(f'원주율 : {PI}')                        # 원주율 출력\n",
    "print(f'반지름 : {radius}')                    # 반지름 출력\n",
    "print(f'원의 면적 : {area}')                   # 원의 면적 출력"
   ]
  },
  {
   "cell_type": "markdown",
   "metadata": {},
   "source": [
    "## 문제 8\n",
    "다음 코드에서 변수 c의 값은 무엇인지 쓰세요."
   ]
  },
  {
   "cell_type": "raw",
   "metadata": {
    "vscode": {
     "languageId": "raw"
    }
   },
   "source": [
    "a = '3'\n",
    "b = 4\n",
    "c = a * b\n",
    "print(c)\n",
    "\n",
    "3333"
   ]
  },
  {
   "cell_type": "code",
   "execution_count": 32,
   "metadata": {},
   "outputs": [
    {
     "name": "stdout",
     "output_type": "stream",
     "text": [
      "3333\n"
     ]
    }
   ],
   "source": [
    "a = '3'\n",
    "b = 4\n",
    "c = a * b\n",
    "print(c)"
   ]
  },
  {
   "cell_type": "raw",
   "metadata": {
    "vscode": {
     "languageId": "raw"
    }
   },
   "source": [
    "c = int(a) / b\n",
    "print(c)\n",
    "\n",
    "#0.75"
   ]
  },
  {
   "cell_type": "code",
   "execution_count": 33,
   "metadata": {},
   "outputs": [
    {
     "name": "stdout",
     "output_type": "stream",
     "text": [
      "0.75\n"
     ]
    }
   ],
   "source": [
    "c = int(a) / b\n",
    "print(c)"
   ]
  },
  {
   "cell_type": "markdown",
   "metadata": {},
   "source": [
    "## 문제 9\n",
    "변수 x에 숫자 10을 저장하고, 변수 y에 문자열 '10'을 저장했습니다.  \n",
    "이 두 변수가 같은 값인지, 같은 데이터 타입인지 비교하는 코드를 작성하고 결과를 출력하세요."
   ]
  },
  {
   "cell_type": "code",
   "execution_count": null,
   "metadata": {},
   "outputs": [
    {
     "name": "stdout",
     "output_type": "stream",
     "text": [
      "x : 10 , 타입 - <class 'int'>\n",
      "y : '10' , 타입 - <class 'str'>\n",
      "x 와 y 는 값과 타입이 다릅니다.\n"
     ]
    },
    {
     "ename": "",
     "evalue": "",
     "output_type": "error",
     "traceback": [
      "\u001b[1;31m현재 셀 또는 이전 셀에서 코드를 실행하는 동안 Kernel이 충돌했습니다. \n",
      "\u001b[1;31m셀의 코드를 검토하여 가능한 오류 원인을 식별하세요. \n",
      "\u001b[1;31m자세한 내용을 보려면 <a href='https://aka.ms/vscodeJupyterKernelCrash'>여기</a>를 클릭하세요. \n",
      "\u001b[1;31m자세한 내용은 Jupyter <a href='command:jupyter.viewOutput'>로그</a>를 참조하세요."
     ]
    }
   ],
   "source": [
    "x = 10\n",
    "y = '10'\n",
    "\n",
    "x_type = type(x)\n",
    "y_type = type(y)\n",
    "req = x == y\n",
    "\n",
    "\n",
    "if req :\n",
    "   print(f\"x : {x!r} , 타입 - {x_type}\")\n",
    "   print(f\"y : {y!r} , 타입 - {y_type}\")\n",
    "   print('x와y 는 값과 타입이 같습니다.')\n",
    "else:\n",
    "    print(f\"x : {x!r} , 타입 - {x_type}\")\n",
    "    print(f\"y : {y!r} , 타입 - {y_type}\")\n",
    "    print('x 와 y 는 값과 타입이 다릅니다.')"
   ]
  }
 ],
 "metadata": {
  "kernelspec": {
   "display_name": "Python 3",
   "language": "python",
   "name": "python3"
  },
  "language_info": {
   "codemirror_mode": {
    "name": "ipython",
    "version": 3
   },
   "file_extension": ".py",
   "mimetype": "text/x-python",
   "name": "python",
   "nbconvert_exporter": "python",
   "pygments_lexer": "ipython3",
   "version": "3.12.0"
  }
 },
 "nbformat": 4,
 "nbformat_minor": 2
}
