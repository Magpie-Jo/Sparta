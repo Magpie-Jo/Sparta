{
 "cells": [
  {
   "cell_type": "markdown",
   "id": "ea28f8f4",
   "metadata": {},
   "source": [
    "### 실습 문제 1 : 나만의 명함 만들기\n",
    "\n",
    "1. `input()`으로 이름과 나이를 **각각** 입력 받으세요.\n",
    "2. `print()`를 한 줄만 사용해 다음 형식으로 출력하세요 (f-문자열 이용)."
   ]
  },
  {
   "cell_type": "code",
   "execution_count": null,
   "id": "06adc621",
   "metadata": {},
   "outputs": [
    {
     "name": "stdout",
     "output_type": "stream",
     "text": [
      "이름: 노주현 | 나이: 32\n"
     ]
    }
   ],
   "source": [
    "name = input(\"이름을 입력해 주세요.\")\n",
    "age = int(input(\"나이를 입력해 주세요.\"))\n",
    "\n",
    "print(f'이름: {name} | 나이: {age}')"
   ]
  },
  {
   "cell_type": "markdown",
   "id": "39dce06d",
   "metadata": {},
   "source": [
    "### 실습 문제 2 : 구분자와 줄 바꿈 바꿔보기\n",
    "\n",
    "1. 1 ~ 5를 출력하는 코드를 작성하세요.\n",
    "2. **조건**\n",
    "    - `print()`를 **한 번**만 사용해 다섯 개 숫자를 출력할 것.\n",
    "    - 숫자 사이 구분자는 콤마 `,` 대신 **세미콜론 `;`**으로 바꾼다.\n",
    "    - 마지막에 줄 바꿈 대신 느낌표 `!`로 끝난다."
   ]
  },
  {
   "cell_type": "code",
   "execution_count": 5,
   "id": "b4a7504b",
   "metadata": {},
   "outputs": [
    {
     "name": "stdout",
     "output_type": "stream",
     "text": [
      "1;2;3;4;5!"
     ]
    }
   ],
   "source": [
    "\n",
    "\n",
    "print(1,2,3,4,5,sep=\";\",end=\"!\")"
   ]
  },
  {
   "cell_type": "markdown",
   "id": "109c125e",
   "metadata": {},
   "source": [
    "### 실습 문제 3 : 두 수를 한 줄에 입력받아 계산하기\n",
    "\n",
    "1. 사용자에게 “두 수를 입력하세요(공백으로 구분): ”라고 안내하고, 정수 두 개를 **한 줄**에 입력 받으세요.\n",
    "2. `map(int, input().split())` 패턴을 사용해 두 수를 정수로 변환하십시오.\n",
    "3. 두 수의 **합**과 **차**를 다음 형식으로 출력하세요(각각 한 줄).\n",
    "\n",
    "```\n",
    "10 + 3 = 13\n",
    "10 - 3 = 7\n",
    "```\n",
    "\n",
    "- 출력은 f-문자열을 사용하며, 연산 기호와 결과 사이에 정확히 한 칸의 공백이 들어가야 합니다."
   ]
  },
  {
   "cell_type": "code",
   "execution_count": 7,
   "id": "921547a0",
   "metadata": {},
   "outputs": [
    {
     "name": "stdout",
     "output_type": "stream",
     "text": [
      "10 + 3 = 13\n",
      "10 - 3 = 7\n"
     ]
    }
   ],
   "source": [
    "num1 , num2 = map(int,input('두 수를 입력하세요(공백으로 구분) : ').split(' ')) \n",
    "pls = num1 + num2\n",
    "mns = num1 - num2\n",
    "\n",
    "print(f'{num1} + {num2} = {pls}')\n",
    "print(f'{num1} - {num2} = {mns}')\n",
    "\n"
   ]
  },
  {
   "cell_type": "code",
   "execution_count": null,
   "id": "4ff3912c",
   "metadata": {},
   "outputs": [],
   "source": []
  }
 ],
 "metadata": {
  "kernelspec": {
   "display_name": "Python 3",
   "language": "python",
   "name": "python3"
  },
  "language_info": {
   "codemirror_mode": {
    "name": "ipython",
    "version": 3
   },
   "file_extension": ".py",
   "mimetype": "text/x-python",
   "name": "python",
   "nbconvert_exporter": "python",
   "pygments_lexer": "ipython3",
   "version": "3.13.7"
  }
 },
 "nbformat": 4,
 "nbformat_minor": 5
}
