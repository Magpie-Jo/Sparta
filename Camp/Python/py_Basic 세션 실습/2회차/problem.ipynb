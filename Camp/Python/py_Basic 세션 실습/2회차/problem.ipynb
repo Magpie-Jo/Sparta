{
  "cells": [
    {
      "cell_type": "markdown",
      "metadata": {},
      "source": [
        "# 파이썬 기초 문제\n",
        "\n",
        "A 묶음(1~5)은 **함수 없이** 풀이하는 문제, B 묶음(6~10)은 **반드시 함수를 사용**해야 하는 문제입니다.\n",
        "\n",
        "\n"
      ]
    },
    {
      "cell_type": "markdown",
      "metadata": {},
      "source": [
        "## A. 함수 없이 풀기 (문제 1~5)"
      ]
    },
    {
      "cell_type": "markdown",
      "metadata": {},
      "source": [
        "### 문제 1 — 두 수의 기본 연산과 큰 수 판별\n",
        "\n",
        "**목표:** 입력/출력, 변수, 산술 연산, 조건문.\n",
        "\n",
        "- 한 줄에 **정수** 두 개 `a b`를 공백으로 입력받습니다.\n",
        "- 아래 네 줄을 순서대로 출력하세요.\n",
        "  1) `합: <a+b>`  \n",
        "  2) `차: <a-b>`  \n",
        "  3) `곱: <a*b>`  \n",
        "  4) `큰 수: <더 큰 값>` (두 수가 같으면 `같음` 출력)\n",
        "\n",
        "**입력 예시**\n",
        "```\n",
        "7 7\n",
        "```\n",
        "\n",
        "**출력 예시**\n",
        "```\n",
        "합: 14\n",
        "차: 0\n",
        "곱: 49\n",
        "큰 수: 같음\n",
        "```\n"
      ]
    },
    {
      "cell_type": "code",
      "execution_count": 1,
      "metadata": {},
      "outputs": [
        {
          "name": "stdout",
          "output_type": "stream",
          "text": [
            "합 : 3\n",
            "차 : -1\n",
            "곱 : 2\n",
            "큰 수 : 2\n"
          ]
        }
      ],
      "source": [
        "a,b = int(input('정수 a를 입력하세요')), int(input('정수 b를 입력하세요'))\n",
        "\n",
        "pls = a+b\n",
        "mns = a-b\n",
        "mlt = a*b\n",
        "if a>b:\n",
        "    max_num = a\n",
        "elif a<b :\n",
        "    max_num = b\n",
        "else:\n",
        "    max_num = '같음'\n",
        "\n",
        "print(f'합 : {pls}')\n",
        "print(f'차 : {mns}')\n",
        "print(f'곱 : {mlt}')\n",
        "print(f'큰 수 : {max_num}')"
      ]
    },
    {
      "cell_type": "markdown",
      "metadata": {},
      "source": [
        "### 문제 2 — 인사와 이름 반복 출력(반복문)\n",
        "\n",
        "**목표:** 문자열, 반복문, 형 변환.\n",
        "\n",
        "- 첫 줄에 이름(문자열), 둘째 줄에 횟수 `n`(정수)을 입력받습니다.\n",
        "- 첫 줄에 `안녕하세요, <이름>!`을 출력합니다.\n",
        "- 이어서 **n줄**에 걸쳐 `1) <이름>`, `2) <이름>`처럼 번호와 함께 이름을 한 줄씩 출력하세요.\n",
        "\n",
        "**입력 예시**\n",
        "```\n",
        "민수\n",
        "3\n",
        "```\n",
        "\n",
        "**출력 예시**\n",
        "```\n",
        "안녕하세요, 민수!\n",
        "1) 민수\n",
        "2) 민수\n",
        "3) 민수\n",
        "```\n"
      ]
    },
    {
      "cell_type": "code",
      "execution_count": 2,
      "metadata": {},
      "outputs": [
        {
          "name": "stdout",
          "output_type": "stream",
          "text": [
            "안녕하세요. asd!\n",
            "1) asd\n",
            "2) asd\n",
            "3) asd\n"
          ]
        }
      ],
      "source": [
        "name , n = input('이름을 입력하세요'), int(input('횟수를 입력하세요'))\n",
        "\n",
        "print(f'안녕하세요. {name}!')\n",
        "for order in range(1,n+1):\n",
        "    print(f'{order}) {name}')"
      ]
    },
    {
      "cell_type": "code",
      "execution_count": null,
      "id": "7dae4e1c",
      "metadata": {},
      "outputs": [
        {
          "name": "stdout",
          "output_type": "stream",
          "text": [
            "안녕하세요. asd!\n",
            "1) asd\n",
            "2) asd\n",
            "3) asd\n"
          ]
        }
      ],
      "source": [
        "def hello(ur_name,order):\n",
        "    for order in range(1,n+1):\n",
        "        print(f'{order}) {ur_name}')\n",
        "\n",
        "name = input('이름을 입력하세요') \n",
        "n = int(input('횟수를 입력하세요'))\n",
        "\n",
        "print(f'안녕하세요. {name}!')\n",
        "hello(name,n)"
      ]
    },
    {
      "cell_type": "markdown",
      "metadata": {},
      "source": [
        "### 문제 3 — 한 단어 정보(문자열)\n",
        "\n",
        "**목표:** 문자열 인덱싱/메서드, 출력 서식.\n",
        "\n",
        "- 한 줄에 **한 단어**를 입력받습니다(공백 없음).\n",
        "- 다음 다섯 줄을 출력하세요.\n",
        "  1) `길이: <글자수>`  \n",
        "  2) `첫 글자: <word[0]>`  \n",
        "  3) `마지막 글자: <word[-1]>`  \n",
        "  4) `대문자: <대문자로 변환>`  \n",
        "  5) `소문자: <소문자로 변환>`\n",
        "\n",
        "**입력 예시**\n",
        "```\n",
        "Python\n",
        "```\n",
        "\n",
        "**출력 예시**\n",
        "```\n",
        "길이: 6\n",
        "첫 글자: P\n",
        "마지막 글자: n\n",
        "대문자: PYTHON\n",
        "소문자: python\n",
        "```\n"
      ]
    },
    {
      "cell_type": "code",
      "execution_count": 4,
      "metadata": {},
      "outputs": [
        {
          "name": "stdout",
          "output_type": "stream",
          "text": [
            "길이: 3\n",
            "첫 글자: a\n",
            "마지막 글자: d\n",
            "마지막 글자: ASD\n",
            "마지막 글자: asd\n"
          ]
        }
      ],
      "source": [
        "word = input('단어를 입력하세요')\n",
        "\n",
        "print(f'길이: {len(word)}')\n",
        "print(f'첫 글자: {word[:1]}')\n",
        "print(f'마지막 글자: {word[-1:]}')\n",
        "print(f'마지막 글자: {word.upper()}')\n",
        "print(f'마지막 글자: {word.lower()}')\n"
      ]
    },
    {
      "cell_type": "code",
      "execution_count": 5,
      "id": "d846c01d",
      "metadata": {},
      "outputs": [
        {
          "name": "stdout",
          "output_type": "stream",
          "text": [
            "길이: 3\n",
            "첫 글자: a\n",
            "마지막 글자: d\n",
            "마지막 글자: ASD\n",
            "마지막 글자: asd\n"
          ]
        }
      ],
      "source": [
        "def word_info(in_put: str) -> list:\n",
        "    word_len = len(in_put)\n",
        "    word_first = in_put[:1]\n",
        "    word_last = in_put[-1:]\n",
        "    word_upper = in_put.upper()\n",
        "    word_lower = in_put.lower()\n",
        "    \n",
        "    return word_len,word_first,word_last,word_upper,word_lower\n",
        "\n",
        "word = input('단어를 입력하세요')\n",
        "\n",
        "word_len,word_first,word_last,word_upper,word_lower = word_info(word)\n",
        "\n",
        "print(f'길이: {word_len}')\n",
        "print(f'첫 글자: {word_first}')\n",
        "print(f'마지막 글자: {word_last}')\n",
        "print(f'마지막 글자: {word_upper}')\n",
        "print(f'마지막 글자: {word_lower}')"
      ]
    },
    {
      "cell_type": "markdown",
      "metadata": {},
      "source": [
        "### 문제 4 — 정수 목록 요약(리스트)\n",
        "\n",
        "**목표:** 리스트, 반복문, 기본 통계(개수/합/평균/최솟값/최댓값).\n",
        "\n",
        "- 한 줄에 **정수**들을 공백으로 입력받습니다(예: `3 1 2 2`).\n",
        "- 아래 다섯 줄을 출력하세요.\n",
        "  1) `개수: <n>`  \n",
        "  2) `합계: <sum>`  \n",
        "  3) `평균: <mean>` (소수점 **첫째 자리**까지 - `round`)  \n",
        "  4) `최솟값: <min>`  \n",
        "  5) `최댓값: <max>`\n",
        "\n",
        "**입력 예시**\n",
        "```\n",
        "5 2 9 2\n",
        "```\n",
        "\n",
        "**출력 예시**\n",
        "```\n",
        "개수: 4\n",
        "합계: 18\n",
        "평균: 4.5\n",
        "최솟값: 2\n",
        "최댓값: 9\n",
        "```\n"
      ]
    },
    {
      "cell_type": "code",
      "execution_count": null,
      "metadata": {},
      "outputs": [
        {
          "name": "stdout",
          "output_type": "stream",
          "text": [
            "개수: 4\n",
            "합계: 18\n",
            "개수: 4.5\n",
            "개수: 2\n",
            "개수: 9\n"
          ]
        }
      ],
      "source": [
        "num_list = input(\"정수 목록을 작성하세요. 공백'(' ')으로 구분하세요\")\n",
        "\n",
        "int_list = list(map(int, num_list.split(\" \")))\n",
        "\n",
        "print(f'개수: {len(int_list)}')\n",
        "print(f'합계: {sum(int_list)}')\n",
        "print(f'개수: {sum(int_list)/len(int_list)}')\n",
        "print(f'개수: {min(int_list)}')\n",
        "print(f'개수: {max(int_list)}')"
      ]
    },
    {
      "cell_type": "code",
      "execution_count": 19,
      "id": "1a39c183",
      "metadata": {},
      "outputs": [
        {
          "name": "stdout",
          "output_type": "stream",
          "text": [
            "4 18 4.5 2 9\n"
          ]
        }
      ],
      "source": [
        "def intTranslate(nums_list):\n",
        "    nums_len = len(nums_list)\n",
        "    nums_sum = sum(nums_list)\n",
        "    nums_mean = nums_sum / nums_len\n",
        "    nums_min = min(nums_list)\n",
        "    nums_max = max(nums_list)\n",
        "    \n",
        "    return nums_len, nums_sum, nums_mean, nums_min, nums_max\n",
        "nums = list(map(int, input().split()))\n",
        "nums_len, nums_sum, nums_mean, nums_min, nums_max = intTranslate(nums)\n",
        "print(nums_len, nums_sum, nums_mean, nums_min, nums_max)"
      ]
    },
    {
      "cell_type": "code",
      "execution_count": 18,
      "id": "19841210",
      "metadata": {},
      "outputs": [
        {
          "ename": "UnboundLocalError",
          "evalue": "cannot access local variable 'num_mean' where it is not associated with a value",
          "output_type": "error",
          "traceback": [
            "\u001b[31m---------------------------------------------------------------------------\u001b[39m",
            "\u001b[31mUnboundLocalError\u001b[39m                         Traceback (most recent call last)",
            "\u001b[36mCell\u001b[39m\u001b[36m \u001b[39m\u001b[32mIn[18]\u001b[39m\u001b[32m, line 13\u001b[39m\n\u001b[32m     10\u001b[39m n_list = \u001b[38;5;28minput\u001b[39m(\u001b[33m\"\u001b[39m\u001b[33m정수 목록을 작성하세요. 공백\u001b[39m\u001b[33m'\u001b[39m\u001b[33m(\u001b[39m\u001b[33m'\u001b[39m\u001b[33m \u001b[39m\u001b[33m'\u001b[39m\u001b[33m)으로 구분하세요\u001b[39m\u001b[33m\"\u001b[39m)\n\u001b[32m     11\u001b[39m nums = \u001b[38;5;28mlist\u001b[39m(\u001b[38;5;28mmap\u001b[39m(\u001b[38;5;28mint\u001b[39m, n_list.split()))\n\u001b[32m---> \u001b[39m\u001b[32m13\u001b[39m num_len, num_sum, num_mean, num_min, num_max = \u001b[43mnum_info\u001b[49m\u001b[43m(\u001b[49m\u001b[43mnums\u001b[49m\u001b[43m)\u001b[49m\n\u001b[32m     15\u001b[39m \u001b[38;5;28mprint\u001b[39m(num_len, num_sum, num_mean, num_min, num_max)\n",
            "\u001b[36mCell\u001b[39m\u001b[36m \u001b[39m\u001b[32mIn[18]\u001b[39m\u001b[32m, line 4\u001b[39m, in \u001b[36mnum_info\u001b[39m\u001b[34m(num_list)\u001b[39m\n\u001b[32m      2\u001b[39m num_len = \u001b[38;5;28mlen\u001b[39m(num_list)\n\u001b[32m      3\u001b[39m num_sum = \u001b[38;5;28msum\u001b[39m(num_list)\n\u001b[32m----> \u001b[39m\u001b[32m4\u001b[39m num_mean = \u001b[43mnum_mean\u001b[49m/num_len\n\u001b[32m      5\u001b[39m num_min = \u001b[38;5;28mmin\u001b[39m(num_list)\n\u001b[32m      6\u001b[39m num_max = \u001b[38;5;28mmax\u001b[39m(num_list)\n",
            "\u001b[31mUnboundLocalError\u001b[39m: cannot access local variable 'num_mean' where it is not associated with a value"
          ]
        }
      ],
      "source": [
        "def num_info(num_list):\n",
        "    num_len = len(num_list)\n",
        "    num_sum = sum(num_list)\n",
        "    num_mean = num_mean/num_len\n",
        "    num_min = min(num_list)\n",
        "    num_max = max(num_list)\n",
        "\n",
        "    return num_len, num_sum, num_mean, num_min, num_max\n",
        "\n",
        "n_list = input(\"정수 목록을 작성하세요. 공백'(' ')으로 구분하세요\")\n",
        "nums = list(map(int, n_list.split()))\n",
        "\n",
        "num_len, num_sum, num_mean, num_min, num_max = num_info(nums)\n",
        "\n",
        "print(num_len, num_sum, num_mean, num_min, num_max)"
      ]
    },
    {
      "cell_type": "markdown",
      "metadata": {},
      "source": [
        "### 문제 5 — 좌표와 원점 거리(튜플)\n",
        "\n",
        "**목표:** 튜플, 실수 연산, 출력 포맷팅.\n",
        "\n",
        "- 한 줄에 실수 두 개 `x y`를 입력받아 점 `p=(x, y)`를 **튜플**로 만듭니다.\n",
        "- 아래 세 줄을 출력하세요.\n",
        "  1) `p: (<x>, <y>)` (튜플 그대로 출력)  \n",
        "  2) `원점까지 거리: <sqrt(x^2 + y^2)>` == `(x^2 + y^2) ^0.5` (소수점 **둘째 자리**까지)  \n",
        "  3) `사분면: <1|2|3|4|축>` — 점이 축 위에 있으면 `축`\n",
        "    - 축 : x == 0 or y == 0 \n",
        "    - 1 사분면 : x > 0 and y > 0\n",
        "    - 2 사분면 : x < 0 and y > 0\n",
        "    - 3 사분면 : x < 0 and y < 0\n",
        "    - 4 사분면 : x > 0 and y < 0\n",
        "\n",
        "**입력 예시**\n",
        "```\n",
        "3 4\n",
        "```\n",
        "\n",
        "**출력 예시**\n",
        "```\n",
        "p: (3.0, 4.0)\n",
        "원점까지 거리: 5.00\n",
        "사분면: 1\n",
        "```\n"
      ]
    },
    {
      "cell_type": "code",
      "execution_count": 7,
      "metadata": {},
      "outputs": [],
      "source": [
        "# 문제 5 풀이\n",
        "# 여기에 코드를 작성하세요.\n"
      ]
    },
    {
      "cell_type": "markdown",
      "metadata": {},
      "source": [
        "## B. 반드시 **함수**를 사용해 풀기 (문제 6~10)"
      ]
    },
    {
      "cell_type": "markdown",
      "metadata": {},
      "source": [
        "### 문제 6 — 1부터 n까지의 합 (함수 사용 필수)\n",
        "\n",
        "**목표:** 함수 정의/호출, 반복문.\n",
        "\n",
        "- **반드시 함수** `sum_to_n(n: int) -> int`을 정의하세요. (반복문으로 합을 구하세요)\n",
        "- 정수 `n(>=1)`을 입력받아 `1+2+...+n`의 값을 출력합니다.\n",
        "\n",
        "**입력 예시**\n",
        "```\n",
        "5\n",
        "```\n",
        "\n",
        "**출력 예시**\n",
        "```\n",
        "15\n",
        "```\n"
      ]
    },
    {
      "cell_type": "code",
      "execution_count": 23,
      "metadata": {},
      "outputs": [
        {
          "name": "stdout",
          "output_type": "stream",
          "text": [
            "15\n"
          ]
        }
      ],
      "source": [
        "def sum_to_n(n_func: int) -> int:\n",
        "    total = 0\n",
        "    for i in range(1,n_func+1):\n",
        "        total += i\n",
        "    return total\n",
        "\n",
        "n = int(input())\n",
        "\n",
        "print(sum_to_n(n))"
      ]
    },
    {
      "cell_type": "markdown",
      "metadata": {},
      "source": [
        "### 문제 7 — 문자 개수 세기 (함수 사용 필수)\n",
        "\n",
        "**목표:** 함수, 문자열, 반복문.\n",
        "\n",
        "- **반드시 함수** `count_char(s: str, ch: str) -> int`를 정의하세요.  \n",
        "  (문자열 `s`에서 문자 `ch`가 몇 번 나오는지 세어 반환)\n",
        "- 첫 줄에 문자열 `s`, 둘째 줄에 **한 글자** `ch`를 입력받아 개수를 출력하세요.\n",
        "\n",
        "**입력 예시**\n",
        "```\n",
        "banana\n",
        "a\n",
        "```\n",
        "\n",
        "**출력 예시**\n",
        "```\n",
        "3\n",
        "```\n"
      ]
    },
    {
      "cell_type": "code",
      "execution_count": 35,
      "metadata": {},
      "outputs": [
        {
          "name": "stdout",
          "output_type": "stream",
          "text": [
            "3\n"
          ]
        }
      ],
      "source": [
        "def count_char(s: str, ch: str) -> int:\n",
        "    cnt = 0\n",
        "    for i in s:\n",
        "        if i == ch:\n",
        "            cnt += 1\n",
        "    return cnt\n",
        "        \n",
        "string = input()\n",
        "char = input()\n",
        "result = count_char(string,char)\n",
        "\n",
        "print(result)"
      ]
    },
    {
      "cell_type": "markdown",
      "metadata": {},
      "source": [
        "### 문제 8 — 짝수만 고르기(리스트) (함수 사용 필수)\n",
        "\n",
        "**목표:** 함수, 리스트 순회, 조건문.\n",
        "\n",
        "- **반드시 함수** `filter_even(nums: list[int]) -> list[int]`를 정의하세요.  \n",
        "  (리스트에서 짝수만 뽑아 새 리스트로 반환)\n",
        "- 한 줄에 **정수**들을 공백으로 입력받아 짝수 리스트를 그대로 출력하세요.\n",
        "\n",
        "**입력 예시**\n",
        "```\n",
        "5 2 9 8 4\n",
        "```\n",
        "\n",
        "**출력 예시**\n",
        "```\n",
        "[2, 8, 4]\n",
        "```\n"
      ]
    },
    {
      "cell_type": "code",
      "execution_count": 46,
      "metadata": {},
      "outputs": [
        {
          "name": "stdout",
          "output_type": "stream",
          "text": [
            "[2, 8, 4]\n"
          ]
        }
      ],
      "source": [
        "def filter_even(nums: list[int]) -> list[int]:\n",
        "    new_nums = [i for i in nums if i % 2 == 0]\n",
        "    return new_nums\n",
        "\n",
        "num_list = list(map(int, input().split()))\n",
        "result = filter_even(num_list)\n",
        "\n",
        "print(result)"
      ]
    },
    {
      "cell_type": "markdown",
      "metadata": {},
      "source": [
        "### 문제 9 — 값 교환(튜플 반환) (함수 사용 필수)\n",
        "\n",
        "**목표:** 함수, 튜플 반환, 문자열 입출력.\n",
        "\n",
        "- **반드시 함수** `swap(a: str, b: str) -> tuple[str, str]`를 정의하세요.  \n",
        "  (두 값을 서로 바꾼 튜플 `(b, a)`를 반환)\n",
        "- 한 줄에 공백으로 구분된 두 단어를 입력받아 함수의 반환값을 출력하세요.\n",
        "\n",
        "**입력 예시**\n",
        "```\n",
        "hello world\n",
        "```\n",
        "\n",
        "**출력 예시**\n",
        "```\n",
        "('world', 'hello')\n",
        "```\n"
      ]
    },
    {
      "cell_type": "code",
      "execution_count": 11,
      "metadata": {},
      "outputs": [],
      "source": [
        "# 문제 9 풀이 (반드시 함수 사용)\n",
        "# 여기에 코드를 작성하세요.\n"
      ]
    },
    {
      "cell_type": "markdown",
      "metadata": {},
      "source": [
        "### 문제 10 — 이름과 점수로 딕셔너리 만들기 (함수 사용 필수)\n",
        "\n",
        "**목표:** 함수, 문자열 분리, 형 변환, 딕셔너리.\n",
        "\n",
        "- **반드시 함수** `build_grade_dict(names_line: str, scores_line: str) -> dict[str, int]`를 정의하세요.  \n",
        "  (이름과 점수는 **쉼표(,)** 로 구분됨. 두 줄은 **항목 수가 같다고 가정**)\n",
        "- 첫 줄에 `이름들(쉼표로 구분)`, 둘째 줄에 `점수들(쉼표로 구분, 정수)`를 입력받아\n",
        "  1) 만들어진 딕셔너리를 그대로 출력하고,  \n",
        "  2) `학생 수: <명수>`  \n",
        "  3) `평균: <평균>` (소수점 첫째 자리까지) 를 출력하세요.\n",
        "\n",
        "**입력 예시**\n",
        "```\n",
        "민수, 지연, 철수\n",
        "80, 95, 70\n",
        "```\n",
        "\n",
        "**출력 예시**\n",
        "```\n",
        "{'민수': 80, '지연': 95, '철수': 70}\n",
        "학생 수: 3\n",
        "평균: 81.7\n",
        "```\n"
      ]
    },
    {
      "cell_type": "code",
      "execution_count": 12,
      "metadata": {},
      "outputs": [],
      "source": [
        "# 문제 10 풀이 (반드시 함수 사용)\n",
        "# 여기에 코드를 작성하세요.\n"
      ]
    }
  ],
  "metadata": {
    "authors": [
      {
        "name": "Generated by ChatGPT"
      }
    ],
    "created": "2025-09-30T00:08:45.977140Z",
    "kernelspec": {
      "display_name": "Python 3",
      "language": "python",
      "name": "python3"
    },
    "language_info": {
      "codemirror_mode": {
        "name": "ipython",
        "version": 3
      },
      "file_extension": ".py",
      "mimetype": "text/x-python",
      "name": "python",
      "nbconvert_exporter": "python",
      "pygments_lexer": "ipython3",
      "version": "3.13.7"
    }
  },
  "nbformat": 4,
  "nbformat_minor": 5
}
