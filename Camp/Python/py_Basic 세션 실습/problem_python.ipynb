{
 "cells": [
  {
   "cell_type": "markdown",
   "id": "1f363841",
   "metadata": {},
   "source": [
    "# 파이썬 라이브 코딩 "
   ]
  },
  {
   "cell_type": "markdown",
   "id": "bafa84dc",
   "metadata": {},
   "source": [
    "## 문제 1 — 인사와 글자수 분류\n",
    "\n",
    "**사용 개념**: 입출력, 문자열, 조건문\n",
    "\n",
    "이름을 입력받아 인사말과 이름의 글자수를 출력하고, 글자수가 5 이상이면 `이름이 길어요`, 아니면 `이름이 짧아요`를 출력하세요.\n",
    "\n",
    "- **입력**: 한 줄 (이름)\n",
    "- **출력**:\n",
    "  1) `안녕하세요, 이름님!`\n",
    "  2) `글자수: N`\n",
    "  3) `이름이 길어요` 또는 `이름이 짧아요`\n",
    "\n",
    "**예시**\n",
    "입력:\n",
    "```\n",
    "홍길동\n",
    "```\n",
    "출력(예):\n",
    "```\n",
    "안녕하세요, 홍길동님!\n",
    "글자수: 3\n",
    "이름이 짧아요\n",
    "```"
   ]
  },
  {
   "cell_type": "code",
   "execution_count": 3,
   "id": "ff01ea3a",
   "metadata": {},
   "outputs": [
    {
     "name": "stdout",
     "output_type": "stream",
     "text": [
      "안녕하세요, 홍길동님!\n",
      "글자 수 : 3\n",
      "이름이 짧아요\n"
     ]
    }
   ],
   "source": [
    "# TODO\n",
    "name = input().strip()\n",
    "# len()과 if를 사용해 요구사항을 출력해 보세요\n",
    "\n",
    "len_name = len(name)\n",
    "\n",
    "print(f'안녕하세요, {name}님!')\n",
    "print(f'글자 수 : {len_name}')\n",
    "\n",
    "if len_name >= 5:\n",
    "    print('이름이 길어요')\n",
    "else:\n",
    "    print('이름이 짧아요')"
   ]
  },
  {
   "cell_type": "markdown",
   "id": "42c3178b",
   "metadata": {},
   "source": [
    "## 문제 2 — 짝수/홀수 + 1부터 N까지 합\n",
    "\n",
    "**사용 개념**: 입출력, 조건문, 반복문, 변수\n",
    "\n",
    "정수 `N`을 입력받아 먼저 `짝수` 또는 `홀수`를 출력하고, 이어서 1부터 N까지의 **합**을 출력하세요.\n",
    "\n",
    "- **입력**: 정수 N\n",
    "- **출력**:\n",
    "  1) `짝수` 또는 `홀수`\n",
    "  2) `합: S`\n",
    "\n",
    "**예시**\n",
    "입력:\n",
    "```\n",
    "3\n",
    "```\n",
    "출력(예):\n",
    "```\n",
    "홀수\n",
    "합: 6\n",
    "```"
   ]
  },
  {
   "cell_type": "code",
   "execution_count": null,
   "id": "4c4ba278",
   "metadata": {},
   "outputs": [
    {
     "name": "stdout",
     "output_type": "stream",
     "text": [
      "짝수\n",
      "합 : 21\n"
     ]
    }
   ],
   "source": [
    "# TODO\n",
    "N = int(input().strip())\n",
    "# if로 짝/홀을 판단하고, for로 1부터 N까지의 합을 구해 출력하세요\n",
    "\n",
    "if N % 2 == 0:\n",
    "    print('짝수')\n",
    "else:\n",
    "    print('홀수')\n",
    "    \n",
    "num = 0\n",
    "for i in range(1,N+1):\n",
    "    num += i\n",
    "\n",
    "\n",
    "print(f'합 : {num}')"
   ]
  },
  {
   "cell_type": "markdown",
   "id": "d62f9c18",
   "metadata": {},
   "source": [
    "## 문제 3 — 'python' 포함 여부 (대소문자 무시)\n",
    "\n",
    "**사용 개념**: 입출력, 문자열, 조건문\n",
    "\n",
    "문장을 입력받아 `python`이라는 단어가 **대소문자 구분 없이** 포함되어 있으면 `있음`, 아니면 `없음`을 출력하세요.\n",
    "\n",
    "- **입력**: 한 줄의 문자열\n",
    "- **출력**: `있음` 또는 `없음`\n",
    "\n",
    "**예시**\n",
    "입력:\n",
    "```\n",
    "I love PyThoN!\n",
    "```\n",
    "출력:\n",
    "```\n",
    "있음\n",
    "```"
   ]
  },
  {
   "cell_type": "code",
   "execution_count": null,
   "id": "9d9b1585",
   "metadata": {},
   "outputs": [
    {
     "name": "stdout",
     "output_type": "stream",
     "text": [
      "있음\n"
     ]
    }
   ],
   "source": [
    "# TODO\n",
    "line = input()\n",
    "# 소문자로 바꾼 뒤 'python' 포함 여부를 if로 판별하세요\n",
    "\n",
    "taget = 'python'\n",
    "low_line = line.lower()\n",
    "\n",
    "if taget in low_line:\n",
    "    print('있음')\n",
    "else:\n",
    "    print('없음')"
   ]
  },
  {
   "cell_type": "markdown",
   "id": "6c0425ac",
   "metadata": {},
   "source": [
    "## 문제 4 — 세 수 중 가장 큰 수\n",
    "\n",
    "**사용 개념**: 입출력, 변수, 조건문\n",
    "\n",
    "정수 3개를 한 줄에 하나씩 입력받아, 그 중 **가장 큰 수**를 출력하세요.\n",
    "\n",
    "- **입력**: 3줄 정수\n",
    "- **출력**: `가장큰수: X`\n",
    "\n",
    "**예시**\n",
    "입력:\n",
    "```\n",
    "7\n",
    "2\n",
    "5\n",
    "```\n",
    "출력:\n",
    "```\n",
    "가장큰수: 7\n",
    "```"
   ]
  },
  {
   "cell_type": "code",
   "execution_count": 110,
   "id": "5c561d7c",
   "metadata": {},
   "outputs": [
    {
     "name": "stdout",
     "output_type": "stream",
     "text": [
      "가장 큰 수 : 8\n",
      "가장 큰 수 : 8\n",
      "가장 큰 수 : 8\n"
     ]
    }
   ],
   "source": [
    "# TODO\n",
    "a = int(input().strip())\n",
    "b = int(input().strip())\n",
    "c = int(input().strip())\n",
    "# if를 이용해 가장 큰 수를 고르고 출력하세요\n",
    "max_num = a\n",
    "if b > max_num:\n",
    "    max_num = b\n",
    "if c > max_num:\n",
    "    max_num = c\n",
    "\n",
    "print(f'가장 큰 수 : {max_num}')\n",
    "\n",
    "if a > (b and c):\n",
    "    print(f'가장 큰 수 : {a}')\n",
    "elif b > (a and c):\n",
    "    print(f'가장 큰 수 : {b}')\n",
    "else:\n",
    "    print(f'가장 큰 수 : {c}')\n",
    "\n",
    "max_num = max(a,b,c)\n",
    "print(f'가장 큰 수 : {max_num}')\n"
   ]
  },
  {
   "cell_type": "markdown",
   "id": "9f87ab99",
   "metadata": {},
   "source": [
    "## 문제 5 — 문자 개수 세기\n",
    "\n",
    "**사용 개념**: 입출력, 문자열, 반복문\n",
    "\n",
    "문장과 한 글자를 입력받아, 그 글자가 문장에 **몇 번 등장하는지** 세어 `개수: N`으로 출력하세요. (대소문자 구분)\n",
    "\n",
    "- **입력**: 2줄 (1) 문장, (2) 한 글자\n",
    "- **출력**: `개수: N`\n",
    "\n",
    "**예시**\n",
    "입력:\n",
    "```\n",
    "Hello\n",
    "l\n",
    "```\n",
    "출력:\n",
    "```\n",
    "개수: 2\n",
    "```"
   ]
  },
  {
   "cell_type": "code",
   "execution_count": null,
   "id": "2fcdb23d",
   "metadata": {},
   "outputs": [
    {
     "name": "stdout",
     "output_type": "stream",
     "text": [
      "개수 : 2\n"
     ]
    }
   ],
   "source": [
    "# TODO\n",
    "sentence = input()\n",
    "ch = input()\n",
    "# for 반복문으로 등장 횟수를 세어 보세요\n",
    "\n",
    "cnt = 0\n",
    "\n",
    "for i in sentence:\n",
    "    if i == ch:\n",
    "        cnt += 1\n",
    "        \n",
    "print(f'개수 : {cnt}')"
   ]
  },
  {
   "cell_type": "markdown",
   "id": "be06f7f2",
   "metadata": {},
   "source": [
    "## 문제 6 — 구구단 한 단 출력\n",
    "\n",
    "**사용 개념**: 입출력, 반복문\n",
    "\n",
    "정수 `dan(2~9)`을 입력받아 그 단의 구구단을 `dan x 1 = ...`부터 `dan x 9 = ...`까지 출력하세요.\n",
    "\n",
    "- **입력**: 정수 dan\n",
    "- **출력**: 9줄\n",
    "\n",
    "**예시**\n",
    "입력:\n",
    "```\n",
    "3\n",
    "```\n",
    "출력(일부):\n",
    "```\n",
    "3 x 1 = 3\n",
    "...\n",
    "3 x 9 = 27\n",
    "```"
   ]
  },
  {
   "cell_type": "code",
   "execution_count": 66,
   "id": "440a8778",
   "metadata": {},
   "outputs": [
    {
     "name": "stdout",
     "output_type": "stream",
     "text": [
      "3 X 1 = 3\n",
      "3 X 2 = 6\n",
      "3 X 3 = 9\n",
      "3 X 4 = 12\n",
      "3 X 5 = 15\n",
      "3 X 6 = 18\n",
      "3 X 7 = 21\n",
      "3 X 8 = 24\n",
      "3 X 9 = 27\n"
     ]
    }
   ],
   "source": [
    "# TODO\n",
    "dan = int(input().strip())\n",
    "# for로 1부터 9까지 곱셈 결과를 출력하세요\n",
    "\n",
    "for num in range(1,9+1):\n",
    "    print(f'{dan} X {num} = {dan*num}')"
   ]
  },
  {
   "cell_type": "markdown",
   "id": "78fd4880",
   "metadata": {},
   "source": [
    "## 문제 7 — 비밀번호 간단 검사\n",
    "\n",
    "**사용 개념**: 문자열, 반복문, 조건문, 입출력\n",
    "\n",
    "비밀번호를 입력받아 **길이가 6 이상**이고 **숫자가 1개 이상** 포함되어 있으면 `통과`, 아니면 `실패`를 출력하세요.\n",
    "\n",
    "- **입력**: 한 줄 (비밀번호)\n",
    "- **출력**: `통과` 또는 `실패`\n"
   ]
  },
  {
   "cell_type": "code",
   "execution_count": 109,
   "id": "481e48ba",
   "metadata": {},
   "outputs": [
    {
     "name": "stdout",
     "output_type": "stream",
     "text": [
      "실패\n"
     ]
    }
   ],
   "source": [
    "# TODO\n",
    "pwd = input().strip()\n",
    "# 숫자 포함 여부와 길이를 확인해 결과를 출력하세요\n",
    "\n",
    "# pass_num = '1234567890'\n",
    "\n",
    "# if len(pwd) <= 6:\n",
    "#     log_in = '실패'\n",
    "    \n",
    "# else:\n",
    "#     for pw_digit in pass_num:\n",
    "#         if log_in == '성공':\n",
    "#             break\n",
    "\n",
    "#         for user_pw in pwd:\n",
    "#             if pw_digit == user_pw:\n",
    "#                 log_in = '성공'\n",
    "#             else:\n",
    "#                 log_in = '실패'\n",
    "\n",
    "check_digit = False \n",
    "\n",
    "for ch in pwd:\n",
    "    if '0' <= ch <= '9':\n",
    "        check_digit = True\n",
    "\n",
    "if len(pwd) >= 6 and check_digit:\n",
    "    print('통과')\n",
    "else:\n",
    "    print('실패')"
   ]
  },
  {
   "cell_type": "markdown",
   "id": "b039002d",
   "metadata": {},
   "source": [
    "## 문제 8 — 왼쪽 정렬 별 계단\n",
    "\n",
    "**사용 개념**: 입출력, 반복문, 문자열\n",
    "\n",
    "정수 `n(1≤n≤20)`을 입력받아, 첫 줄에는 `*` 1개, 둘째 줄에는 2개, ... n번째 줄에는 n개를 출력하세요.\n",
    "\n",
    "- **입력**: 정수 n\n",
    "- **출력**: n줄\n"
   ]
  },
  {
   "cell_type": "code",
   "execution_count": null,
   "id": "4e2f0e38",
   "metadata": {},
   "outputs": [
    {
     "name": "stdout",
     "output_type": "stream",
     "text": [
      "*\n",
      "**\n",
      "***\n",
      "****\n",
      "*****\n",
      "    *\n",
      "   **\n",
      "  ***\n",
      " ****\n",
      "*****\n",
      "    *\n",
      "   ***\n",
      "  *****\n",
      " *******\n",
      "*********\n",
      "\n",
      "*********\n",
      " *******\n",
      "  *****\n",
      "   ***\n",
      "    *\n"
     ]
    }
   ],
   "source": [
    "# TODO\n",
    "n = int(input().strip())\n",
    "# for로 i가 1부터 n까지 증가하며 '*' * i를 출력하세요\n",
    "\n",
    "space = ' '\n",
    "star = '*'\n",
    "# 계단\n",
    "for floor in range(1,n+1):\n",
    "\n",
    "    for lengh in range(1,n):\n",
    "        show = star*floor\n",
    "    print(show)\n",
    "\n",
    "#역계단\n",
    "for floor in range(1,n+1):\n",
    "    show_space = space * (n-floor)\n",
    "\n",
    "    for lengh in range(1,n):\n",
    "        show = star*floor\n",
    "    print(show_space + show)\n",
    "\n",
    "# 피라미드\n",
    "for floor in range(1,n+1):\n",
    "    show_space = space * (n-floor)\n",
    "\n",
    "    for lengh in range(1,n):\n",
    "        show = (star*floor)+(star*(floor-1))\n",
    "\n",
    "    print(show_space + show)\n",
    "\n",
    "print(\"\")\n",
    "\n",
    "# 역피라미드\n",
    "for floor in range(n,0,-1):\n",
    "    show_space = space * (n-floor)\n",
    "\n",
    "    for lengh in range(n,0,-1):\n",
    "        show = (star*(floor))+(star*(floor-1))\n",
    "    print(show_space + show)"
   ]
  },
  {
   "cell_type": "markdown",
   "id": "f9da7992",
   "metadata": {},
   "source": [
    "## 문제 9 — 공백 제거 후 길이\n",
    "\n",
    "**사용 개념**: 입출력, 문자열, 반복문\n",
    "\n",
    "문장을 입력받아 스페이스 `' '`를 모두 제거한 **새 문자열**과 그 **길이**를 출력하세요.\n",
    "\n",
    "- **입력**: 한 줄의 문자열\n",
    "- **출력**:\n",
    "  1) 공백이 제거된 문자열\n",
    "  2) `길이: N`\n",
    "\n",
    "**예시**\n",
    "입력:\n",
    "```\n",
    " a b  c \n",
    "```\n",
    "출력:\n",
    "```\n",
    "abc\n",
    "길이: 3\n",
    "```"
   ]
  },
  {
   "cell_type": "code",
   "execution_count": null,
   "id": "01cd68d8",
   "metadata": {},
   "outputs": [
    {
     "name": "stdout",
     "output_type": "stream",
     "text": [
      "abc\n",
      "3\n"
     ]
    }
   ],
   "source": [
    "# TODO\n",
    "line = input()\n",
    "# 공백이 아닌 문자만 골라 새 문자열을 만들고, 그 길이를 함께 출력하세요\n",
    "\n",
    "new_line = line.replace(' ','')\n",
    "\n",
    "print(new_line)\n",
    "print(len(new_line))"
   ]
  },
  {
   "cell_type": "markdown",
   "id": "d057dbf9",
   "metadata": {},
   "source": [
    "## 문제 10 — 로그인 (1회)\n",
    "\n",
    "**사용 개념**: 입출력, 문자열, 조건문\n",
    "\n",
    "아이디와 비밀번호를 한 번 입력받아 로그인 성공 여부를 출력하세요.\n",
    "\n",
    "- **조건**:\n",
    "  - 올바른 아이디: `admin` (대소문자 무시)\n",
    "  - 올바른 비밀번호: `1234` (대소문자 구분)\n",
    "- **출력**: 둘 다 맞으면 `성공`, 아니면 `실패`\n",
    "\n",
    "**예시**\n",
    "입력:\n",
    "```\n",
    "Admin\n",
    "1234\n",
    "```\n",
    "출력:\n",
    "```\n",
    "성공\n",
    "```"
   ]
  },
  {
   "cell_type": "code",
   "execution_count": 117,
   "id": "b6e63c22",
   "metadata": {},
   "outputs": [
    {
     "name": "stdout",
     "output_type": "stream",
     "text": [
      "로그인 실패\n"
     ]
    }
   ],
   "source": [
    "# TODO\n",
    "ID_OK = 'admin'\n",
    "PW_OK = '1234'\n",
    "# 입력을 받아 조건에 따라 '성공' 또는 '실패'를 출력하세요\n",
    "\n",
    "log_in_id = input('ID를 입력하세요')\n",
    "log_in_pw = input('PW를 입력하세요')\n",
    "\n",
    "# if log_in_id == ID_OK\n",
    "#     if log_in_pw == PW_OK:\n",
    "#         print(\"로그인 성공\")\n",
    "#     else:\n",
    "#         print('PW가 틀렸습니다.')\n",
    "# else:\n",
    "#     print('등록되지 않은 ID 입니다.')\n",
    "\n",
    "if log_in_id == ID_OK and log_in_pw == PW_OK:\n",
    "    print(\"로그인 성공\")\n",
    "else:\n",
    "    print('로그인 실패')"
   ]
  }
 ],
 "metadata": {
  "kernelspec": {
   "display_name": "Python 3",
   "language": "python",
   "name": "python3"
  },
  "language_info": {
   "codemirror_mode": {
    "name": "ipython",
    "version": 3
   },
   "file_extension": ".py",
   "mimetype": "text/x-python",
   "name": "python",
   "nbconvert_exporter": "python",
   "pygments_lexer": "ipython3",
   "version": "3.12.0"
  }
 },
 "nbformat": 4,
 "nbformat_minor": 5
}
