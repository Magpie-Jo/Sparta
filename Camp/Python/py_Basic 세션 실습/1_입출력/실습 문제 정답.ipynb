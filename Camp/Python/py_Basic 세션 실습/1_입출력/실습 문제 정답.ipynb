{
 "cells": [
  {
   "cell_type": "markdown",
   "id": "98112dfd",
   "metadata": {},
   "source": [
    "## [파이썬] 입출력"
   ]
  },
  {
   "cell_type": "markdown",
   "id": "263dd18f",
   "metadata": {},
   "source": [
    "### 실습 문제 1 : 나만의 명함 만들기\n",
    "\n",
    "1. `input()`으로 이름과 나이를 **각각** 입력 받으세요.\n",
    "2. `print()`를 한 줄만 사용해 다음 형식으로 출력하세요 (f-문자열 이용).\n",
    "\n",
    "```\n",
    "이름: 홍길동 | 나이: 25\n",
    "```\n",
    "\n",
    "- **힌트**: `sep`를 사용하지 말고, 문자열 안에서 구분 기호(`|`)를 직접 넣어보세요."
   ]
  },
  {
   "cell_type": "code",
   "execution_count": 1,
   "id": "161b992b",
   "metadata": {},
   "outputs": [
    {
     "name": "stdout",
     "output_type": "stream",
     "text": [
      "이름: 천준석 | 나이: 30\n"
     ]
    }
   ],
   "source": [
    "name = input(\"이름을 입력하세요: \")\n",
    "age = int(input(\"나이를 입력하세요: \"))\n",
    "\n",
    "print(f\"이름: {name} | 나이: {age}\")"
   ]
  },
  {
   "cell_type": "markdown",
   "id": "bbb956d6",
   "metadata": {},
   "source": [
    "### 실습 문제 2 : 구분자와 줄 바꿈 바꿔보기\n",
    "\n",
    "1. 1 ~ 5를 출력하는 코드를 작성하세요.\n",
    "2. **조건**\n",
    "    - `print()`를 **한 번**만 사용해 다섯 개 숫자를 출력할 것.\n",
    "    - 숫자 사이 구분자는 콤마 `,` 대신 **세미콜론 `;`**으로 바꾼다.\n",
    "    - 마지막에 줄 바꿈 대신 느낌표 `!`로 끝난다.\n",
    "\n",
    "```\n",
    "출력 예시 → 1;2;3;4;5!\n",
    "```\n",
    "\n",
    "- **힌트**: `sep`와 `end` 매개변수를 동시에 지정해 보세요."
   ]
  },
  {
   "cell_type": "code",
   "execution_count": 2,
   "id": "32d236d1",
   "metadata": {},
   "outputs": [
    {
     "name": "stdout",
     "output_type": "stream",
     "text": [
      "1;2;3;4;5!"
     ]
    }
   ],
   "source": [
    "print(1, 2, 3, 4, 5, sep=\";\", end=\"!\")"
   ]
  },
  {
   "cell_type": "markdown",
   "id": "5d29a085",
   "metadata": {},
   "source": [
    "### 실습 문제 3 : 두 수를 한 줄에 입력받아 계산하기\n",
    "\n",
    "1. 사용자에게 “두 수를 입력하세요(공백으로 구분): ”라고 안내하고, 정수 두 개를 **한 줄**에 입력 받으세요.\n",
    "2. `map(int, input().split())` 패턴을 사용해 두 수를 정수로 변환하십시오.\n",
    "3. 두 수의 **합**과 **차**를 다음 형식으로 출력하세요(각각 한 줄).\n",
    "\n",
    "```\n",
    "10 + 3 = 13\n",
    "10 - 3 = 7\n",
    "```\n",
    "\n",
    "- 출력은 f-문자열을 사용하며, 연산 기호와 결과 사이에 정확히 한 칸의 공백이 들어가야 합니다."
   ]
  },
  {
   "cell_type": "code",
   "execution_count": 3,
   "id": "90689ff9",
   "metadata": {},
   "outputs": [
    {
     "name": "stdout",
     "output_type": "stream",
     "text": [
      "10 + 3 = 13\n",
      "10 - 3 = 7\n"
     ]
    }
   ],
   "source": [
    "a, b = map(int, input(\"두 수를 입력하세요(공백으로 구분): \").split())\n",
    "\n",
    "print(f\"{a} + {b} = {a + b}\")\n",
    "print(f\"{a} - {b} = {a - b}\")"
   ]
  },
  {
   "cell_type": "markdown",
   "id": "931677f6",
   "metadata": {},
   "source": [
    "## [파이썬] 변수"
   ]
  },
  {
   "cell_type": "markdown",
   "id": "676fc559",
   "metadata": {},
   "source": [
    "### 실습 문제 1 : 변수 이름과 데이터 타입 확인\n",
    "\n",
    "1. 다음 세 개의 값을 각각 알맞은 변수에 저장하세요.\n",
    "    - 정수 `42`\n",
    "    - 실수 `3.14`\n",
    "    - 문자열 `\"Python\"`\n",
    "2. 세 변수를 한 줄에 모두 `print()`하여 값과 타입을 함께 출력하세요.\n",
    "    - **출력 형식 예시**\n",
    "        \n",
    "        ```\n",
    "        값: 42, 타입: <class 'int'>\n",
    "        값: 3.14, 타입: <class 'float'>\n",
    "        값: Python, 타입: <class 'str'>\n",
    "        ```\n",
    "        \n",
    "    - **힌트** : `type()` 함수를 이용하고, f-문자열로 한 줄씩 표현해 보세요."
   ]
  },
  {
   "cell_type": "code",
   "execution_count": 1,
   "id": "3abd5a53",
   "metadata": {},
   "outputs": [
    {
     "name": "stdout",
     "output_type": "stream",
     "text": [
      "값: 42, 타입: <class 'int'>\n",
      "값: 3.14, 타입: <class 'float'>\n",
      "값: Python, 타입: <class 'str'>\n"
     ]
    }
   ],
   "source": [
    "# 값 저장\n",
    "num_int = 42\n",
    "num_float = 3.14\n",
    "text_str = \"Python\"\n",
    "\n",
    "# 값과 타입 출력\n",
    "print(f\"값: {num_int}, 타입: {type(num_int)}\")\n",
    "print(f\"값: {num_float}, 타입: {type(num_float)}\")\n",
    "print(f\"값: {text_str}, 타입: {type(text_str)}\")"
   ]
  },
  {
   "cell_type": "markdown",
   "id": "23ad1958",
   "metadata": {},
   "source": [
    "### 실습 문제 2 : 한 줄에 여러 변수 할당 & 연산\n",
    "\n",
    "1. 한 줄 대입으로 `a, b, c` 세 변수에 각각 `5, 7, 9`를 저장하세요.\n",
    "2. 세 변수의 **평균**을 구해 `avg`에 저장한 뒤,\n",
    "    \n",
    "    `print()` 하나로 `a, b, c, avg` 네 값을 다음과 같이 출력하세요.\n",
    "    \n",
    "    ```\n",
    "    a=5, b=7, c=9 → 평균: 7.\n",
    "    ```\n",
    "    \n",
    "    - 평균은 **실수**로 표시되도록 하세요(예: `7.0`)."
   ]
  },
  {
   "cell_type": "code",
   "execution_count": 2,
   "id": "7f59179f",
   "metadata": {},
   "outputs": [
    {
     "name": "stdout",
     "output_type": "stream",
     "text": [
      "a=5, b=7, c=9 → 평균: 7.0\n"
     ]
    }
   ],
   "source": [
    "# 한 줄에 여러 변수 할당\n",
    "a, b, c = 5, 7, 9\n",
    "\n",
    "# 평균 계산 (실수형)\n",
    "avg = (a + b + c) / 3\n",
    "\n",
    "# 출력\n",
    "print(f\"a={a}, b={b}, c={c} → 평균: {avg}\")"
   ]
  },
  {
   "cell_type": "markdown",
   "id": "b7b51653",
   "metadata": {},
   "source": [
    "### 실습 문제 3 : 문자열 합치기와 반복 출력\n",
    "\n",
    "1. 이름(name)과 좋아하는 언어(language)를 각각 입력 받으세요.\n",
    "\n",
    "2. 두 변수를 이용해 \"홍길동은 Python을 좋아합니다!\" 와 같은 문장을 출력하세요.\n",
    "\n",
    "3. 위 문장을 3번 반복 출력하세요. (반복문 또는 문자열 연산 사용 가능)\n",
    "\n",
    "예상 출력 :  \n",
    "이름을 입력하세요: 홍길동  \n",
    "좋아하는 프로그래밍 언어를 입력하세요: Python  \n",
    "홍길동은 Python을 좋아합니다!  \n",
    "홍길동은 Python을 좋아합니다!홍길동은 Python을 좋아합니다!홍길동은 Python을 좋아합니다!"
   ]
  },
  {
   "cell_type": "code",
   "execution_count": 3,
   "id": "8c649ca2",
   "metadata": {},
   "outputs": [
    {
     "name": "stdout",
     "output_type": "stream",
     "text": [
      "천준석은 python을/를 좋아합니다!\n",
      "천준석은 python을/를 좋아합니다!천준석은 python을/를 좋아합니다!천준석은 python을/를 좋아합니다!\n",
      "천준석은 python을/를 좋아합니다!\n",
      "천준석은 python을/를 좋아합니다!\n",
      "천준석은 python을/를 좋아합니다!\n"
     ]
    }
   ],
   "source": [
    "# 입력 받기\n",
    "name = input(\"이름을 입력하세요: \")\n",
    "language = input(\"좋아하는 프로그래밍 언어를 입력하세요: \")\n",
    "\n",
    "# 문장 생성\n",
    "sentence = f\"{name}은 {language}을/를 좋아합니다!\"\n",
    "\n",
    "# 한 번 출력\n",
    "print(sentence)\n",
    "\n",
    "# 3번 반복 출력 (방법 1: 문자열 곱하기)\n",
    "print(sentence * 3)\n",
    "\n",
    "# 3번 반복 출력 (방법 2: 반복문)\n",
    "for _ in range(3):\n",
    "    print(sentence)"
   ]
  },
  {
   "cell_type": "markdown",
   "id": "1d805642",
   "metadata": {},
   "source": [
    "## [파이썬] 문자열"
   ]
  },
  {
   "cell_type": "markdown",
   "id": "33913685",
   "metadata": {},
   "source": [
    "## 실습 문제 1 : 문자열 인덱싱과 슬라이싱\n",
    "\n",
    "**문제**\n",
    "\n",
    "사용자로부터 문자열을 하나 입력받아 다음을 출력하세요.\n",
    "\n",
    "1. 첫 번째 문자와 마지막 문자 (한 줄에 함께 출력)\n",
    "2. 문자열의 앞 3글자와 뒤 3글자\n",
    "3. 문자열을 거꾸로 뒤집은 문자열\n",
    "\n",
    "**실행 예시**\n",
    "```\n",
    "문자열을 입력하세요: Python\n",
    "첫 글자: P, 마지막 글자: n\n",
    "앞 3글자: Pyt, 뒤 3글자: hon\n",
    "거꾸로: nohtyP\n",
    "```"
   ]
  },
  {
   "cell_type": "code",
   "execution_count": 4,
   "id": "de1fbe6f",
   "metadata": {},
   "outputs": [
    {
     "name": "stdout",
     "output_type": "stream",
     "text": [
      "첫 글자: P, 마지막 글자: n\n",
      "앞 3글자: Pyt, 뒤 3글자: hon\n",
      "거꾸로: nohtyP\n"
     ]
    }
   ],
   "source": [
    "sentence = input(\"문자열을 입력하세요: \")\n",
    "\n",
    "# 1) 첫 번째 문자와 마지막 문자\n",
    "print(f\"첫 글자: {sentence[0]}, 마지막 글자: {sentence[-1]}\")\n",
    "\n",
    "# 2) 앞 3글자와 뒤 3글자\n",
    "print(f\"앞 3글자: {sentence[:3]}, 뒤 3글자: {sentence[-3:]}\")\n",
    "\n",
    "# 3) 거꾸로 뒤집기\n",
    "print(f\"거꾸로: {sentence[::-1]}\")"
   ]
  },
  {
   "cell_type": "markdown",
   "id": "04bba2c5",
   "metadata": {},
   "source": [
    "## 실습 문제 2 : 문자열 메서드 활용\n",
    "\n",
    "**문제**\n",
    "\n",
    "아래의 문자열을 이용해 다음 작업을 수행하세요.\n",
    "\n",
    "```python\n",
    "sentence = \"   I love Python. Python is powerful!   \"\n",
    "```\n",
    "\n",
    "1. 양쪽 공백을 제거한 후 소문자로 변환한 문자열 출력\n",
    "2. `\"python\"`이 몇 번 나오는지 개수 출력\n",
    "3. `\"python\"`을 `\"java\"`로 치환한 문자열 출력\n",
    "4. 문자열을 공백 기준으로 나누어 리스트로 출력\n",
    "\n",
    "**실행 예시**\n",
    "```\n",
    "정제된 문자열: i love python. python is powerful!\n",
    "'python' 개수: 2\n",
    "치환 결과: i love java. java is powerful!\n",
    "단어 리스트: ['i', 'love', 'python.', 'python', 'is', 'powerful!']\n",
    "```"
   ]
  },
  {
   "cell_type": "code",
   "execution_count": 5,
   "id": "94198f5a",
   "metadata": {},
   "outputs": [
    {
     "name": "stdout",
     "output_type": "stream",
     "text": [
      "정제된 문자열: i love python. python is powerful!\n",
      "'python' 개수: 2\n",
      "치환 결과: i love java. java is powerful!\n",
      "단어 리스트: ['i', 'love', 'python.', 'python', 'is', 'powerful!']\n"
     ]
    }
   ],
   "source": [
    "sentence = \"   I love Python. Python is powerful!   \"\n",
    "\n",
    "# 1) 양쪽 공백 제거 + 소문자 변환\n",
    "clean = sentence.strip().lower()\n",
    "print(f\"정제된 문자열: {clean}\")\n",
    "\n",
    "# 2) 'python' 개수\n",
    "count_python = clean.count(\"python\")\n",
    "print(f\"'python' 개수: {count_python}\")\n",
    "\n",
    "# 3) 'python' → 'java' 치환\n",
    "replaced = clean.replace(\"python\", \"java\")\n",
    "print(f\"치환 결과: {replaced}\")\n",
    "\n",
    "# 4) 공백 기준 분할\n",
    "word_list = clean.split()\n",
    "print(f\"단어 리스트: {word_list}\")"
   ]
  },
  {
   "cell_type": "markdown",
   "id": "65615542",
   "metadata": {},
   "source": [
    "## 실습 문제 3 : 문자열 합치기와 분리\n",
    "\n",
    "**문제**\n",
    "\n",
    "1. 아래 두 문자열을 각각 변수에 저장하세요.\n",
    "    - `\"Hello\"`\n",
    "    - `\"Python\"`\n",
    "2. 두 문자열을 `+` 연산자로 연결하여 `\"Hello Python!\"` 형태로 출력하세요. (단, 사이에 공백과 느낌표 포함)\n",
    "3. `\"apple,banana,cherry\"`라는 문자열을 `split(\",\")`을 이용하여 리스트로 변환하고, 결과를 출력하세요.\n",
    "4. 위 리스트를 `\" | \"` 구분자를 사용해 다시 문자열로 합쳐 출력하세요.\n",
    "\n",
    "**실행 예시**\n",
    "```\n",
    "Hello Python!\n",
    "['apple', 'banana', 'cherry']\n",
    "apple | banana | cherry\n",
    "```"
   ]
  },
  {
   "cell_type": "code",
   "execution_count": 6,
   "id": "bcb64b9d",
   "metadata": {},
   "outputs": [
    {
     "name": "stdout",
     "output_type": "stream",
     "text": [
      "Hello Python!\n",
      "['apple', 'banana', 'cherry']\n",
      "apple | banana | cherry\n"
     ]
    }
   ],
   "source": [
    "# 1) 문자열 변수 선언\n",
    "word1 = \"Hello\"\n",
    "word2 = \"Python\"\n",
    "\n",
    "# 2) 문자열 연결\n",
    "result = word1 + \" \" + word2 + \"!\"\n",
    "print(result)  # Hello Python!\n",
    "\n",
    "# 3) 문자열 분리\n",
    "fruits_str = \"apple,banana,cherry\"\n",
    "fruits_list = fruits_str.split(\",\")\n",
    "print(fruits_list)  # ['apple', 'banana', 'cherry']\n",
    "\n",
    "# 4) 리스트를 문자열로 결합\n",
    "joined_fruits = \" | \".join(fruits_list)\n",
    "print(joined_fruits)  # apple | banana | cherry"
   ]
  }
 ],
 "metadata": {
  "kernelspec": {
   "display_name": "data6",
   "language": "python",
   "name": "python3"
  },
  "language_info": {
   "codemirror_mode": {
    "name": "ipython",
    "version": 3
   },
   "file_extension": ".py",
   "mimetype": "text/x-python",
   "name": "python",
   "nbconvert_exporter": "python",
   "pygments_lexer": "ipython3",
   "version": "3.10.12"
  }
 },
 "nbformat": 4,
 "nbformat_minor": 5
}
