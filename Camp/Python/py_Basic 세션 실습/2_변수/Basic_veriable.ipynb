{
 "cells": [
  {
   "cell_type": "markdown",
   "id": "93670574",
   "metadata": {},
   "source": [
    "### 실습 문제 1 : 변수 이름과 데이터 타입 확인\n",
    "\n",
    "1. 다음 세 개의 값을 각각 알맞은 변수에 저장하세요.\n",
    "    - 정수 `42`\n",
    "    - 실수 `3.14`\n",
    "    - 문자열 `\"Python\"`\n",
    "2. 세 변수를 모두 `print()`하여 값과 타입을 함께 출력하세요.\n",
    "    - **출력 형식 예시**\n",
    "\n",
    "    - 값: 42, 타입: <class 'int'>  \n",
    "    - 값: 3.14, 타입: <class 'float'>  \n",
    "    - 값: Python, 타입: <class 'str'>"
   ]
  },
  {
   "cell_type": "code",
   "execution_count": 13,
   "id": "4d1eb5ee",
   "metadata": {},
   "outputs": [
    {
     "name": "stdout",
     "output_type": "stream",
     "text": [
      "값: 42,       타입: <class 'int'>\n",
      "값: 3.14,     타입: <class 'float'>\n",
      "값: Python,   타입: <class 'str'>\n"
     ]
    }
   ],
   "source": [
    "var_int = 42\n",
    "var_float = 3.14\n",
    "var_str = 'Python'\n",
    "\n",
    "print(f'값: {var_int},       타입: {type(var_int)}')\n",
    "print(f'값: {var_float},     타입: {type(var_float)}')\n",
    "print(f'값: {var_str},   타입: {type(var_str)}')\n"
   ]
  },
  {
   "cell_type": "markdown",
   "id": "aa67e470",
   "metadata": {},
   "source": [
    "### 실습 문제 2 : 한 줄에 여러 변수 할당 & 연산\n",
    "\n",
    "1. 한 줄 대입으로 `a, b, c` 세 변수에 각각 `5, 7, 9`를 저장하세요.\n",
    "2. 세 변수의 **평균**을 구해 `avg`에 저장한 뒤,\n",
    "    \n",
    "    `print()` 하나로 `a, b, c, avg` 네 값을 다음과 같이 출력하세요.\n",
    "    \n",
    "    ```\n",
    "     a=5, b=7, c=9 → 평균: 7.\n",
    "    ```\n",
    "    \n",
    "    - 평균은 **실수**로 표시되도록 하세요(예: `7.0`)."
   ]
  },
  {
   "cell_type": "code",
   "execution_count": 23,
   "id": "f1c6baa8",
   "metadata": {},
   "outputs": [
    {
     "name": "stdout",
     "output_type": "stream",
     "text": [
      "a=5, b=7, c=9 → 평균 : 7.0.\n"
     ]
    }
   ],
   "source": [
    "a,b,c = 5, 7, 9\n",
    "\n",
    "avg = sum([a,b,c])/3\n",
    "\n",
    "print(f'a={a}, b={b}, c={c} → 평균 : {avg}.')"
   ]
  },
  {
   "cell_type": "markdown",
   "id": "65f394ca",
   "metadata": {},
   "source": [
    "### 실습 문제 3 : 문자열 합치기와 반복 출력  \n",
    "\n",
    "1. `이름(name)`과 좋아하는 `언어(language)`를 각각 입력 받으세요.  \n",
    "2. 두 변수를 이용해 **`\"홍길동은 Python을 좋아합니다!\"`** 와 같은 문장을 출력하세요.  \n",
    "3. 위 문장을 3번 반복 출력하세요. (반복문 또는 문자열 연산 사용 가능)  \n",
    "\n",
    "    예상 출력 :  \n",
    "    이름을 입력하세요: 홍길동  \n",
    "    좋아하는 프로그래밍 언어를 입력하세요: Python  \n",
    "    홍길동은 Python을 좋아합니다!  \n",
    "    홍길동은 Python을 좋아합니다!홍길동은 Python을 좋아합니다!홍길동은 Python을 좋아합니다!"
   ]
  },
  {
   "cell_type": "code",
   "execution_count": null,
   "id": "028e6049",
   "metadata": {},
   "outputs": [
    {
     "name": "stdout",
     "output_type": "stream",
     "text": [
      "이름을 입력하세요 :  홍길동\n",
      "좋아하는 프로그래밍 언어를 입력하세요 :  python\n",
      "홍길동은 python을 좋아합니다!\n",
      "홍길동은 python을 좋아합니다!홍길동은 python을 좋아합니다!홍길동은 python을 좋아합니다!\n"
     ]
    },
    {
     "ename": "",
     "evalue": "",
     "output_type": "error",
     "traceback": [
      "\u001b[1;31m현재 셀 또는 이전 셀에서 코드를 실행하는 동안 Kernel이 충돌했습니다. \n",
      "\u001b[1;31m셀의 코드를 검토하여 가능한 오류 원인을 식별하세요. \n",
      "\u001b[1;31m자세한 내용을 보려면 <a href='https://aka.ms/vscodeJupyterKernelCrash'>여기</a>를 클릭하세요. \n",
      "\u001b[1;31m자세한 내용은 Jupyter <a href='command:jupyter.viewOutput'>로그</a>를 참조하세요."
     ]
    }
   ],
   "source": [
    "Q_name = \"이름을 입력하세요 : \"                         #지문 1\n",
    "Q_language = \"좋아하는 프로그래밍 언어를 입력하세요 : \"  #지문 2\n",
    "\n",
    "name = input(Q_name)                                   #이름 입력\n",
    "language = input(Q_language)                           #선호 언어 입력\n",
    "\n",
    "say = f'{name}은 {language}을 좋아합니다!'              #결과물 출력을 변수선언\n",
    "\n",
    "print(Q_name,name)\n",
    "print(Q_language,language)\n",
    "print(say)\n",
    "print(say*3)\n",
    "\n"
   ]
  }
 ],
 "metadata": {
  "kernelspec": {
   "display_name": "Python 3",
   "language": "python",
   "name": "python3"
  },
  "language_info": {
   "codemirror_mode": {
    "name": "ipython",
    "version": 3
   },
   "file_extension": ".py",
   "mimetype": "text/x-python",
   "name": "python",
   "nbconvert_exporter": "python",
   "pygments_lexer": "ipython3",
   "version": "3.12.0"
  }
 },
 "nbformat": 4,
 "nbformat_minor": 5
}
