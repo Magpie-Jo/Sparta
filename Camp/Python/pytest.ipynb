{
 "cells": [
  {
   "cell_type": "code",
   "execution_count": 2,
   "id": "e5b2657e",
   "metadata": {},
   "outputs": [
    {
     "name": "stdout",
     "output_type": "stream",
     "text": [
      "test\n"
     ]
    }
   ],
   "source": [
    "print('test')"
   ]
  },
  {
   "cell_type": "code",
   "execution_count": 3,
   "id": "769165a5",
   "metadata": {},
   "outputs": [
    {
     "name": "stdout",
     "output_type": "stream",
     "text": [
      "window test\n",
      "mac 응답바람\n"
     ]
    }
   ],
   "source": [
    "print(\"window test\")\n",
    "print(\"mac 응답바람\")"
   ]
  },
  {
   "cell_type": "markdown",
   "id": "85d8d136",
   "metadata": {},
   "source": [
    "1234"
   ]
  },
  {
   "cell_type": "markdown",
   "id": "1c104c9c",
   "metadata": {},
   "source": [
    "맥 응답했다.\n",
    "윈도우 응답바람"
   ]
  },
  {
   "cell_type": "markdown",
   "id": "48f87a8b",
   "metadata": {},
   "source": [
    "test"
   ]
  },
  {
   "cell_type": "markdown",
   "id": "a0baa9cf",
   "metadata": {},
   "source": []
  }
 ],
 "metadata": {
  "kernelspec": {
   "display_name": "Python 3",
   "language": "python",
   "name": "python3"
  },
  "language_info": {
   "codemirror_mode": {
    "name": "ipython",
    "version": 3
   },
   "file_extension": ".py",
   "mimetype": "text/x-python",
   "name": "python",
   "nbconvert_exporter": "python",
   "pygments_lexer": "ipython3",
   "version": "3.13.7"
  }
 },
 "nbformat": 4,
 "nbformat_minor": 5
}
