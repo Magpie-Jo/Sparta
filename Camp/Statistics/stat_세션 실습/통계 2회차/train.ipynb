{
 "cells": [
  {
   "cell_type": "code",
   "execution_count": 3,
   "id": "670d0dc1",
   "metadata": {},
   "outputs": [],
   "source": [
    "import pandas as pd\n",
    "import numpy as np\n",
    "import matplotlib.pyplot as plt\n",
    "import scipy.stats as stats"
   ]
  },
  {
   "cell_type": "code",
   "execution_count": 6,
   "id": "b835f040",
   "metadata": {},
   "outputs": [],
   "source": [
    "df = pd.read_csv('../stroke-data.csv')\n",
    "df.dropna(subset='bmi',inplace=True)"
   ]
  },
  {
   "cell_type": "code",
   "execution_count": 9,
   "id": "e4663681",
   "metadata": {},
   "outputs": [],
   "source": [
    "n = 25\n",
    "sample_df = df.sample(n,random_state=1)\n",
    "\n",
    "bmi_data = sample_df['bmi']"
   ]
  },
  {
   "cell_type": "markdown",
   "id": "95cdaeb3",
   "metadata": {},
   "source": [
    "## 신뢰구간"
   ]
  },
  {
   "cell_type": "code",
   "execution_count": 11,
   "id": "70993dd6",
   "metadata": {},
   "outputs": [
    {
     "data": {
      "text/plain": [
       "(np.float64(27.667585189423043), np.float64(32.87641481057696))"
      ]
     },
     "execution_count": 11,
     "metadata": {},
     "output_type": "execute_result"
    }
   ],
   "source": [
    "# 표본 평균\n",
    "sample_mean = np.mean(bmi_data)\n",
    "\n",
    "#표본 표준편차\n",
    "s = np.std(bmi_data)\n",
    "\n",
    "#표준 오차의 근차값\n",
    "\n",
    "se = s/np.sqrt(n)\n",
    "\n",
    "\n",
    "# t분포 기반 신뢰구간 구하기\n",
    "stats.t.interval(confidence= 0.95, df = n-1 ,loc = sample_mean, scale = se )"
   ]
  },
  {
   "cell_type": "markdown",
   "id": "eddf002d",
   "metadata": {},
   "source": [
    "## 가설검정 실습 \n",
    "## 가설검정은 *데이터로 가설을 평가하는 과정*입니다.\n",
    "### *STEP 1: 가설 설정*\n",
    " - H₀: 귀무가설\n",
    " - H₁: 대립가설\n",
    "### *STEP 2: 검정 방법 선택*\n",
    " - z-검정, t-검정, 카이제곱, F-검정 등\n",
    "### *STEP 3: 유의수준 결정*\n",
    " - 보통 *α = 0.05* 사용\n",
    "### *STEP 4: 검정통계량 & p-value 계산*\n",
    " - 표본 → 검정통계량 → p-value\n",
    "### *STEP 5: 결론*\n",
    " - p ≤ α → 귀무가설 기각\n",
    " - p > α → 귀무가설 채택(유지)"
   ]
  },
  {
   "cell_type": "markdown",
   "id": "d308ee8f",
   "metadata": {},
   "source": [
    "### **STEP 1: 가설 설정**\n",
    "  - 귀무가설: bmi의 평균은 30.272이다.\n",
    "  - 대립가설: bmi의 평균은 30.272이 아니다.\n"
   ]
  },
  {
   "cell_type": "code",
   "execution_count": 14,
   "id": "93fd7c44",
   "metadata": {},
   "outputs": [
    {
     "name": "stdout",
     "output_type": "stream",
     "text": [
      "귀무가설 : 30.272000000000002\n"
     ]
    }
   ],
   "source": [
    "print(f'귀무가설 : {bmi_data.mean()}')"
   ]
  },
  {
   "cell_type": "markdown",
   "id": "8966e017",
   "metadata": {},
   "source": [
    "### **STEP 2: 검정 방법 선택**\n",
    " - 선택한 방법 : 단일표본 t-검정\n",
    "  - 표본이 1개이고, 기준값과의 비교를 하고 있음. 모집단의 표준편차를 모르는 상황(가정)\n",
    " - 단일표본 t-검정을 사용해도 확인\n",
    "  - 단일표본 t-검정 전제 : 정규성\n",
    "  - n > 30이면 보통 정규성을 가정할 수 있지만 이상치가 많은 데이터이거나 특수한 분포를 가지는 경우, 정규성을 가정하기 어려울 수 있다.\n",
    "  - 정규성 가정 확인을 위한 방법으로는 qq-plot 시각화하고, 정규성 검정(Kolmogorov-Sminov 검정)을 별도 시행한다.\n"
   ]
  },
  {
   "cell_type": "code",
   "execution_count": 27,
   "id": "5ed3fbaa",
   "metadata": {},
   "outputs": [
    {
     "data": {
      "image/png": "[encoded data removed]",
      "text/plain": [
       "<Figure size 400x400 with 1 Axes>"
      ]
     },
     "metadata": {},
     "output_type": "display_data"
    }
   ],
   "source": [
    "plt.figure(figsize=(4,4))\n",
    "stats.probplot(bmi_data, plot=plt)\n",
    "plt.title(\"Q-Q plot\")\n",
    "plt.show()\n"
   ]
  },
  {
   "cell_type": "code",
   "execution_count": 15,
   "id": "ea71511d",
   "metadata": {},
   "outputs": [
    {
     "name": "stdout",
     "output_type": "stream",
     "text": [
      "statiscs =  0.09664739454966476 p-value 0.9560303107107065\n",
      "정규성을 만족한다고 볼수있음 (귀무가설 기각 불가)\n"
     ]
    }
   ],
   "source": [
    "stat, p = stats.kstest(bmi_data,'norm',args=(sample_mean,s))\n",
    "print(\"statiscs = \" , stat, \"p-value\", p)\n",
    "\n",
    "if p > 0.05:\n",
    "    print('정규성을 만족한다고 볼수있음 (귀무가설 기각 불가)')\n",
    "else:\n",
    "    print('정규성을 만족하지 않는다(귀무가설 기각)')"
   ]
  },
  {
   "cell_type": "markdown",
   "id": "6bc5fdce",
   "metadata": {},
   "source": [
    "- **STEP 3: 유의수준 결정**\n",
    " - α = 0.05"
   ]
  },
  {
   "cell_type": "markdown",
   "id": "e12dc0a1",
   "metadata": {},
   "source": [
    "- **STEP 4: 검정통계량 & p-value 계산**"
   ]
  },
  {
   "cell_type": "code",
   "execution_count": 16,
   "id": "e59bc7ec",
   "metadata": {},
   "outputs": [
    {
     "name": "stdout",
     "output_type": "stream",
     "text": [
      "One_sample t-test\n",
      "검정통계량(t_statistics) = 0.0000, p_value = 1.0000\n"
     ]
    }
   ],
   "source": [
    "# 단일 표본 검정 : stats.ttest_1samp\n",
    "t_stat, p_value = stats.ttest_1samp(bmi_data, popmean = 30.272)\n",
    "\n",
    "print('One_sample t-test')\n",
    "print(f'검정통계량(t_statistics) = {t_stat:.4f}, p_value = {p_value:.4f}')"
   ]
  },
  {
   "cell_type": "markdown",
   "id": "a4116ecf",
   "metadata": {},
   "source": [
    "- 결과 \n",
    "p-value가 1 : 항상 귀무가설이 참이다 -> 귀무가설 채택 > 평균이 30.272 이다."
   ]
  },
  {
   "cell_type": "markdown",
   "id": "79240495",
   "metadata": {},
   "source": [
    "#### 2.독립표본 t검정(이표본 t-검정) : 서로 다른 표본 2개의 평균 비교"
   ]
  },
  {
   "cell_type": "markdown",
   "id": "a39458d7",
   "metadata": {},
   "source": [
    "뇌졸중에 걸린 사람과 걸리지 않은 사람, 두 집단의 bmi를 비교"
   ]
  },
  {
   "cell_type": "code",
   "execution_count": 20,
   "id": "4ce21ab7",
   "metadata": {},
   "outputs": [],
   "source": [
    "# 뇌졸중 환자 집단 샘플\n",
    "sample_df_a = df.loc[df['stroke']==1].sample(n=40 , random_state=1)\n",
    "\n",
    "# 비뇌졸중 환자 집단 샘플\n",
    "sample_df_b = df.loc[df['stroke']==0].sample(n=40 , random_state=1)"
   ]
  },
  {
   "cell_type": "code",
   "execution_count": 22,
   "id": "af2e8a23",
   "metadata": {},
   "outputs": [],
   "source": [
    "bmi_data_a = sample_df_a['bmi'].values\n",
    "bmi_data_b = sample_df_b['bmi'].values"
   ]
  },
  {
   "cell_type": "markdown",
   "id": "558350a1",
   "metadata": {},
   "source": [
    "- **STEP 1: 가설 설정**\n",
    "  - 귀무가설: 두 집단의 bmi 평균은 같다.\n",
    "  - 대립가설: 두 집단의 bmi 평균은 다르다."
   ]
  },
  {
   "cell_type": "code",
   "execution_count": 26,
   "id": "924ede62",
   "metadata": {},
   "outputs": [
    {
     "name": "stdout",
     "output_type": "stream",
     "text": [
      "a : 30.115\n",
      "b : 28.354999999999997\n"
     ]
    }
   ],
   "source": [
    "# 두 집단의 평균 구하기\n",
    "print('a :' , np.mean(bmi_data_a))\n",
    "print('b :' , np.mean(bmi_data_b))"
   ]
  },
  {
   "cell_type": "markdown",
   "id": "17d9a4c3",
   "metadata": {},
   "source": [
    "- **STEP 2: 검정 방법 선택**\n",
    " - 선택한 방법 : 2표본 t-검정\n",
    "  - 표본이 2개이고, 서로 평균을 비교하고 있음.\n",
    " - 2표본 t-검정을 사용해도 확인\n",
    "  - 2표본 t-검정 전제 : 정규성, 등분산성\n",
    "   - 정규성 : n > 30이면 보통 정규성을 가정할 수 있지만 이상치가 많은 데이터이거나 특수한 분포를 가지는 경우, 정규성을 가정하기 어려울 수 있다.\n",
    "    - 정규성 가정 확인을 위한 방법으로는 qq-plot 시각화하고, 정규성 검정(Kolmogorov-Sminov 검정)을 별도 시행한다.\n",
    "   - 등분산성 : 두 집단의 분산이 같은지 확인\n",
    "    - 두 집단의 분산이 다를 경우, 일반적인 2표본 t-검정을 사용할 수 없다."
   ]
  },
  {
   "cell_type": "code",
   "execution_count": 36,
   "id": "cc26319e",
   "metadata": {},
   "outputs": [
    {
     "data": {
      "image/png": "[encoded data removed]",
      "text/plain": [
       "<Figure size 400x400 with 1 Axes>"
      ]
     },
     "metadata": {},
     "output_type": "display_data"
    },
    {
     "name": "stdout",
     "output_type": "stream",
     "text": [
      "statiscs =  0.14779603744458747 p-value 0.3148685028513951\n",
      "정규성을 만족한다고 볼수있음 (귀무가설 기각 불가)\n"
     ]
    }
   ],
   "source": [
    "plt.figure(figsize=(4,4))\n",
    "stats.probplot(bmi_data_a, plot=plt)\n",
    "plt.title(\"Q-Q plot - have storke\")\n",
    "plt.show()\n",
    "\n",
    "stat, p = stats.kstest(bmi_data_a,'norm',args=(sample_mean,s))\n",
    "print(\"statiscs = \" , stat, \"p-value\", p)\n",
    "\n",
    "if p > 0.05:\n",
    "    print('정규성을 만족한다고 볼수있음 (귀무가설 기각 불가)')\n",
    "else:\n",
    "    print('정규성을 만족하지 않는다(귀무가설 기각)')"
   ]
  },
  {
   "cell_type": "code",
   "execution_count": 30,
   "id": "e0ffd176",
   "metadata": {},
   "outputs": [
    {
     "data": {
      "image/png": "[encoded data removed]",
      "text/plain": [
       "<Figure size 400x400 with 1 Axes>"
      ]
     },
     "metadata": {},
     "output_type": "display_data"
    }
   ],
   "source": [
    "plt.figure(figsize=(4,4))\n",
    "stats.probplot(bmi_data_b, plot=plt)\n",
    "plt.title(\"Q-Q plot - not storke\")\n",
    "plt.show()"
   ]
  },
  {
   "cell_type": "code",
   "execution_count": 37,
   "id": "2d60a87c",
   "metadata": {},
   "outputs": [
    {
     "name": "stdout",
     "output_type": "stream",
     "text": [
      "statiscs =  0.17988614319046958 p-value 0.13253536968265367\n",
      "정규성을 만족한다고 볼수있음 (귀무가설 기각 불가)\n"
     ]
    }
   ],
   "source": [
    "stat, p = stats.kstest(bmi_data_b,'norm',args=(sample_mean,s))\n",
    "print(\"statiscs = \" , stat, \"p-value\", p)\n",
    "\n",
    "if p > 0.05:\n",
    "    print('정규성을 만족한다고 볼수있음 (귀무가설 기각 불가)')\n",
    "else:\n",
    "    print('정규성을 만족하지 않는다(귀무가설 기각)')"
   ]
  },
  {
   "cell_type": "code",
   "execution_count": 38,
   "id": "bc944e38",
   "metadata": {},
   "outputs": [
    {
     "name": "stdout",
     "output_type": "stream",
     "text": [
      "Levene Test : stat = 5.643653761236718 p-value = 0.01997345938928798\n",
      "등분산 가정 불만족 (Welch T_test 권장)\n"
     ]
    }
   ],
   "source": [
    "#등분산성 검정 : Levene 검정\n",
    "\n",
    "stat, p = stats.levene(bmi_data_a, bmi_data_b)\n",
    "print('Levene Test : stat =', stat, 'p-value =', p)\n",
    "\n",
    "if p > 0.05:\n",
    "    print('등분산 가정 만족 (일반 t-test 사용가능)')\n",
    "else:\n",
    "    print('등분산 가정 불만족 (Welch T_test 권장)')\n",
    "    "
   ]
  },
  {
   "cell_type": "markdown",
   "id": "2de05ed2",
   "metadata": {},
   "source": [
    "- **STEP 3: 유의수준 결정**\n",
    " - α = 0.05"
   ]
  },
  {
   "cell_type": "markdown",
   "id": "b7be480a",
   "metadata": {},
   "source": [
    "- **STEP 4: 검정통계량 & p-value 계산**"
   ]
  },
  {
   "cell_type": "code",
   "execution_count": 41,
   "id": "6b57821a",
   "metadata": {},
   "outputs": [
    {
     "name": "stdout",
     "output_type": "stream",
     "text": [
      "Two-sample Welch's t-test\n",
      "t-statstics = 1.3496, p-value = 0.1815\n"
     ]
    }
   ],
   "source": [
    "# Welch's T-test\n",
    "\n",
    "t_stat, p_value = stats.ttest_ind(bmi_data_a, bmi_data_b,equal_var=False)\n",
    "print(\"Two-sample Welch's t-test\")\n",
    "print(f't-statstics = {t_stat:.4f}, p-value = {p_value:.4f}')"
   ]
  },
  {
   "cell_type": "code",
   "execution_count": null,
   "id": "983de626",
   "metadata": {},
   "outputs": [],
   "source": []
  }
 ],
 "metadata": {
  "kernelspec": {
   "display_name": "Python 3",
   "language": "python",
   "name": "python3"
  },
  "language_info": {
   "codemirror_mode": {
    "name": "ipython",
    "version": 3
   },
   "file_extension": ".py",
   "mimetype": "text/x-python",
   "name": "python",
   "nbconvert_exporter": "python",
   "pygments_lexer": "ipython3",
   "version": "3.12.0"
  }
 },
 "nbformat": 4,
 "nbformat_minor": 5
}
