{
 "cells": [
  {
   "cell_type": "code",
   "execution_count": 1,
   "id": "8580bbb2",
   "metadata": {},
   "outputs": [],
   "source": [
    "import pandas as pd\n",
    "import matplotlib as plot\n",
    "import seaborn as sns"
   ]
  },
  {
   "cell_type": "code",
   "execution_count": 2,
   "id": "26340b81",
   "metadata": {},
   "outputs": [],
   "source": [
    "import pandas as pd\n",
    "# 데이터 불러오기\n",
    "customers = pd.read_csv('customer_hm.csv')\n",
    "articles = pd.read_csv('articles_hm.csv')\n",
    "transactions = pd.read_csv('transactions_hm.csv')"
   ]
  },
  {
   "cell_type": "code",
   "execution_count": null,
   "id": "29d05763",
   "metadata": {},
   "outputs": [
    {
     "name": "stdout",
     "output_type": "stream",
     "text": [
      "(1048575, 6)\n",
      "(105542, 25)\n",
      "(1048575, 5)\n"
     ]
    }
   ],
   "source": [
    "# 각 데이터의 크기(행렬 개수) 확인\n",
    "print(customers.shape)\n",
    "print(articles.shape)\n",
    "print(transactions.shape)"
   ]
  },
  {
   "cell_type": "code",
   "execution_count": 5,
   "id": "3a7d3872",
   "metadata": {},
   "outputs": [
    {
     "name": "stdout",
     "output_type": "stream",
     "text": [
      "['customer_id', 'FN', 'Active', 'club_member_status', 'fashion_news_frequency', 'age']\n",
      "['article_id', 'product_code', 'prod_name', 'product_type_no', 'product_type_name', 'product_group_name', 'graphical_appearance_no', 'graphical_appearance_name', 'colour_group_code', 'colour_group_name', 'perceived_colour_value_id', 'perceived_colour_value_name', 'perceived_colour_master_id', 'perceived_colour_master_name', 'department_no', 'department_name', 'index_code', 'index_name', 'index_group_no', 'index_group_name', 'section_no', 'section_name', 'garment_group_no', 'garment_group_name', 'detail_desc']\n",
      "['t_dat', 'customer_id', 'article_id', 'price', 'sales_channel_id']\n"
     ]
    }
   ],
   "source": [
    "# 각 데이터의 컬럼 확인\n",
    "print(customers.columns.tolist())\n",
    "print(articles.columns.tolist())\n",
    "print(transactions.columns.tolist())"
   ]
  },
  {
   "cell_type": "code",
   "execution_count": 9,
   "id": "e27240dd",
   "metadata": {},
   "outputs": [
    {
     "name": "stdout",
     "output_type": "stream",
     "text": [
      "                                         customer_id  FN  Active  \\\n",
      "0  00000dbacae5abe5e23885899a1fa44253a17956c6d1c3...   0       0   \n",
      "1  0000423b00ade91418cceaf3b26c6af3dd342b51fd051e...   0       0   \n",
      "2  000058a12d5b43e67d225668fa1f8d618c13dc232df0ca...   0       0   \n",
      "\n",
      "  club_member_status fashion_news_frequency  age  \n",
      "0             ACTIVE                   NONE   49  \n",
      "1             ACTIVE                   NONE   25  \n",
      "2             ACTIVE                   NONE   24  \n"
     ]
    }
   ],
   "source": [
    "print(customers.head(3))\n",
    "# print(articles.head())\n",
    "# print(transactions.head())"
   ]
  },
  {
   "cell_type": "code",
   "execution_count": 10,
   "id": "a0ddefab",
   "metadata": {},
   "outputs": [
    {
     "name": "stdout",
     "output_type": "stream",
     "text": [
      "<class 'pandas.core.frame.DataFrame'>\n",
      "RangeIndex: 1048575 entries, 0 to 1048574\n",
      "Data columns (total 6 columns):\n",
      " #   Column                  Non-Null Count    Dtype \n",
      "---  ------                  --------------    ----- \n",
      " 0   customer_id             1048575 non-null  object\n",
      " 1   FN                      1048575 non-null  int64 \n",
      " 2   Active                  1048575 non-null  int64 \n",
      " 3   club_member_status      1048575 non-null  object\n",
      " 4   fashion_news_frequency  1048574 non-null  object\n",
      " 5   age                     1048575 non-null  int64 \n",
      "dtypes: int64(3), object(3)\n",
      "memory usage: 48.0+ MB\n"
     ]
    }
   ],
   "source": [
    "customers.info()"
   ]
  },
  {
   "cell_type": "code",
   "execution_count": 11,
   "id": "3f7631da",
   "metadata": {},
   "outputs": [
    {
     "data": {
      "image/png": "[encoded data removed]",
      "text/plain": [
       "<Figure size 640x480 with 1 Axes>"
      ]
     },
     "metadata": {},
     "output_type": "display_data"
    }
   ],
   "source": [
    "import matplotlib.pyplot as plt\n",
    "\n",
    "# 단변량 수치형 변수의 분포 -> 히스토그램\n",
    "customers['age'].hist(bins=30, color='skyblue', edgecolor='black')\n",
    "plt.title('Distribution of Customer Age')\n",
    "plt.xlabel('Age')\n",
    "plt.ylabel('Number of Customers')\n",
    "plt.show()"
   ]
  },
  {
   "cell_type": "code",
   "execution_count": 12,
   "id": "6df7f4d5",
   "metadata": {},
   "outputs": [
    {
     "name": "stdout",
     "output_type": "stream",
     "text": [
      "=== H&M 거래 요약 (2019년) ===\n",
      "- 날짜 범위: 2019-01-01  →  2019-12-31\n",
      "- 총 거래 건수: 1,048,575 건\n",
      "- 고유 고객 수: 458,235 명\n",
      "\n",
      "[판매 채널별 거래 건수]\n",
      "channel\n",
      "online(2)     729192\n",
      "offline(1)    319383\n",
      "\n",
      "[판매 채널별 비중(%)]\n",
      "channel\n",
      "online(2)     69.54\n",
      "offline(1)    30.46\n",
      "\n",
      "해석: 온라인(채널=2) 거래가 오프라인(채널=1)보다 많습니다 → 온라인 비중이 더 높음.\n"
     ]
    }
   ],
   "source": [
    "# 0) str -> datetime type 변경\n",
    "transactions['t_dat'] = pd.to_datetime(transactions['t_dat'])\n",
    "\n",
    "# 1) 날짜 범위\n",
    "min_date = transactions['t_dat'].min()\n",
    "max_date = transactions['t_dat'].max()\n",
    "\n",
    "# 2) 총 거래 건수 & 고유 고객 수\n",
    "n_tx = len(transactions)\n",
    "n_cust = transactions['customer_id'].nunique() # nunique : 고유값의 수\n",
    "\n",
    "# 3) 채널 비중(1=오프라인, 2=온라인)\n",
    "transactions['channel'] = transactions['sales_channel_id'].map({1: 'offline(1)', 2: 'online(2)'}).fillna('other/unknown')\n",
    "ch_counts = transactions['channel'].value_counts()\n",
    "ch_share = (transactions['channel'].value_counts(normalize=True) * 100).round(2) # normalize=True : 값의 빈도(비율) 구하기\n",
    "\n",
    "# 4) 출력\n",
    "print(\"=== H&M 거래 요약 (2019년) ===\")\n",
    "print(f\"- 날짜 범위: {min_date.date()}  →  {max_date.date()}\")\n",
    "print(f\"- 총 거래 건수: {n_tx:,} 건\")\n",
    "print(f\"- 고유 고객 수: {n_cust:,} 명\")\n",
    "\n",
    "print(\"\\n[판매 채널별 거래 건수]\")\n",
    "print(ch_counts.to_string())\n",
    "\n",
    "print(\"\\n[판매 채널별 비중(%)]\")\n",
    "print(ch_share.to_string())\n",
    "\n",
    "# 5) 간단 해석(온라인 > 오프라인 여부)\n",
    "online = ch_counts.get('online(2)', 0)\n",
    "offline = ch_counts.get('offline(1)', 0)\n",
    "if online > offline:\n",
    "    print(\"\\n해석: 온라인(채널=2) 거래가 오프라인(채널=1)보다 많습니다 → 온라인 비중이 더 높음.\")\n",
    "elif online < offline:\n",
    "    print(\"\\n해석: 오프라인(채널=1) 거래가 온라인(채널=2)보다 많습니다.\")\n",
    "else:\n",
    "    print(\"\\n해석: 온라인과 오프라인 거래 건수가 동일합니다.\")"
   ]
  },
  {
   "cell_type": "code",
   "execution_count": 13,
   "id": "94b8412b",
   "metadata": {},
   "outputs": [],
   "source": [
    "plt.rcParams['font.family'] = 'Malgun Gothic' # For Windows # plt.rcParams['font.family'] = 'AppleGothic' # For MacOS %matplotlib inline"
   ]
  },
  {
   "cell_type": "code",
   "execution_count": null,
   "id": "415a5078",
   "metadata": {},
   "outputs": [],
   "source": []
  }
 ],
 "metadata": {
  "kernelspec": {
   "display_name": "Python 3",
   "language": "python",
   "name": "python3"
  },
  "language_info": {
   "codemirror_mode": {
    "name": "ipython",
    "version": 3
   },
   "file_extension": ".py",
   "mimetype": "text/x-python",
   "name": "python",
   "nbconvert_exporter": "python",
   "pygments_lexer": "ipython3",
   "version": "3.13.7"
  }
 },
 "nbformat": 4,
 "nbformat_minor": 5
}
