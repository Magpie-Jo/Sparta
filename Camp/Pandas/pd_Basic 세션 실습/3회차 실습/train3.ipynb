{
 "cells": [
  {
   "cell_type": "code",
   "execution_count": 1,
   "id": "a8194930",
   "metadata": {},
   "outputs": [],
   "source": [
    "import pandas as pd\n",
    "import numpy as np\n",
    "import matplotlib as plt\n",
    "import seaborn as sns"
   ]
  },
  {
   "cell_type": "code",
   "execution_count": 2,
   "id": "1d3d0ee6",
   "metadata": {},
   "outputs": [],
   "source": [
    "df = pd.read_csv('train.csv')"
   ]
  },
  {
   "cell_type": "code",
   "execution_count": 3,
   "id": "8535b8f8",
   "metadata": {},
   "outputs": [
    {
     "name": "stdout",
     "output_type": "stream",
     "text": [
      "<class 'pandas.core.frame.DataFrame'>\n",
      "RangeIndex: 891 entries, 0 to 890\n",
      "Data columns (total 12 columns):\n",
      " #   Column       Non-Null Count  Dtype  \n",
      "---  ------       --------------  -----  \n",
      " 0   PassengerId  891 non-null    int64  \n",
      " 1   Survived     891 non-null    int64  \n",
      " 2   Pclass       891 non-null    int64  \n",
      " 3   Name         891 non-null    object \n",
      " 4   Sex          891 non-null    object \n",
      " 5   Age          714 non-null    float64\n",
      " 6   SibSp        891 non-null    int64  \n",
      " 7   Parch        891 non-null    int64  \n",
      " 8   Ticket       891 non-null    object \n",
      " 9   Fare         891 non-null    float64\n",
      " 10  Cabin        204 non-null    object \n",
      " 11  Embarked     889 non-null    object \n",
      "dtypes: float64(2), int64(5), object(5)\n",
      "memory usage: 83.7+ KB\n"
     ]
    }
   ],
   "source": [
    "df.info()"
   ]
  },
  {
   "cell_type": "code",
   "execution_count": 5,
   "id": "ef90b6dd",
   "metadata": {},
   "outputs": [
    {
     "data": {
      "text/plain": [
       "Pclass\n",
       "1    84.154687\n",
       "2    20.662183\n",
       "3    13.675550\n",
       "Name: Fare, dtype: float64"
      ]
     },
     "execution_count": 5,
     "metadata": {},
     "output_type": "execute_result"
    }
   ],
   "source": [
    "df.groupby('Pclass')['Fare'].mean()"
   ]
  },
  {
   "cell_type": "code",
   "execution_count": 10,
   "id": "a29d089d",
   "metadata": {},
   "outputs": [
    {
     "data": {
      "text/plain": [
       "Sex\n",
       "female    74.203822\n",
       "male      18.890815\n",
       "Name: Survived, dtype: float64"
      ]
     },
     "execution_count": 10,
     "metadata": {},
     "output_type": "execute_result"
    }
   ],
   "source": [
    "df.groupby('Sex')['Survived'].mean()*100"
   ]
  },
  {
   "cell_type": "code",
   "execution_count": 17,
   "id": "aff1981f",
   "metadata": {},
   "outputs": [
    {
     "data": {
      "text/html": [
       "<div>\n",
       "<style scoped>\n",
       "    .dataframe tbody tr th:only-of-type {\n",
       "        vertical-align: middle;\n",
       "    }\n",
       "\n",
       "    .dataframe tbody tr th {\n",
       "        vertical-align: top;\n",
       "    }\n",
       "\n",
       "    .dataframe thead th {\n",
       "        text-align: right;\n",
       "    }\n",
       "</style>\n",
       "<table border=\"1\" class=\"dataframe\">\n",
       "  <thead>\n",
       "    <tr style=\"text-align: right;\">\n",
       "      <th></th>\n",
       "      <th></th>\n",
       "      <th>mean</th>\n",
       "      <th>count</th>\n",
       "    </tr>\n",
       "    <tr>\n",
       "      <th>Pclass</th>\n",
       "      <th>Sex</th>\n",
       "      <th></th>\n",
       "      <th></th>\n",
       "    </tr>\n",
       "  </thead>\n",
       "  <tbody>\n",
       "    <tr>\n",
       "      <th rowspan=\"2\" valign=\"top\">1</th>\n",
       "      <th>female</th>\n",
       "      <td>0.968085</td>\n",
       "      <td>94</td>\n",
       "    </tr>\n",
       "    <tr>\n",
       "      <th>male</th>\n",
       "      <td>0.368852</td>\n",
       "      <td>122</td>\n",
       "    </tr>\n",
       "    <tr>\n",
       "      <th rowspan=\"2\" valign=\"top\">2</th>\n",
       "      <th>female</th>\n",
       "      <td>0.921053</td>\n",
       "      <td>76</td>\n",
       "    </tr>\n",
       "    <tr>\n",
       "      <th>male</th>\n",
       "      <td>0.157407</td>\n",
       "      <td>108</td>\n",
       "    </tr>\n",
       "    <tr>\n",
       "      <th rowspan=\"2\" valign=\"top\">3</th>\n",
       "      <th>female</th>\n",
       "      <td>0.500000</td>\n",
       "      <td>144</td>\n",
       "    </tr>\n",
       "    <tr>\n",
       "      <th>male</th>\n",
       "      <td>0.135447</td>\n",
       "      <td>347</td>\n",
       "    </tr>\n",
       "  </tbody>\n",
       "</table>\n",
       "</div>"
      ],
      "text/plain": [
       "                   mean  count\n",
       "Pclass Sex                    \n",
       "1      female  0.968085     94\n",
       "       male    0.368852    122\n",
       "2      female  0.921053     76\n",
       "       male    0.157407    108\n",
       "3      female  0.500000    144\n",
       "       male    0.135447    347"
      ]
     },
     "execution_count": 17,
     "metadata": {},
     "output_type": "execute_result"
    }
   ],
   "source": [
    "df.groupby(['Pclass','Sex'])['Survived'].agg({'mean','count'})"
   ]
  },
  {
   "cell_type": "code",
   "execution_count": 24,
   "id": "c4dce667",
   "metadata": {},
   "outputs": [],
   "source": [
    "titanic_df= df\n",
    "titanic_df['LastName'] = titanic_df['Name'].str.split(',').str[0]"
   ]
  },
  {
   "cell_type": "code",
   "execution_count": 25,
   "id": "918b2e2e",
   "metadata": {},
   "outputs": [
    {
     "data": {
      "text/html": [
       "<div>\n",
       "<style scoped>\n",
       "    .dataframe tbody tr th:only-of-type {\n",
       "        vertical-align: middle;\n",
       "    }\n",
       "\n",
       "    .dataframe tbody tr th {\n",
       "        vertical-align: top;\n",
       "    }\n",
       "\n",
       "    .dataframe thead th {\n",
       "        text-align: right;\n",
       "    }\n",
       "</style>\n",
       "<table border=\"1\" class=\"dataframe\">\n",
       "  <thead>\n",
       "    <tr style=\"text-align: right;\">\n",
       "      <th></th>\n",
       "      <th>Name</th>\n",
       "      <th>LastName</th>\n",
       "    </tr>\n",
       "  </thead>\n",
       "  <tbody>\n",
       "    <tr>\n",
       "      <th>0</th>\n",
       "      <td>Braund, Mr. Owen Harris</td>\n",
       "      <td>Braund</td>\n",
       "    </tr>\n",
       "    <tr>\n",
       "      <th>1</th>\n",
       "      <td>Cumings, Mrs. John Bradley (Florence Briggs Th...</td>\n",
       "      <td>Cumings</td>\n",
       "    </tr>\n",
       "    <tr>\n",
       "      <th>2</th>\n",
       "      <td>Heikkinen, Miss. Laina</td>\n",
       "      <td>Heikkinen</td>\n",
       "    </tr>\n",
       "    <tr>\n",
       "      <th>3</th>\n",
       "      <td>Futrelle, Mrs. Jacques Heath (Lily May Peel)</td>\n",
       "      <td>Futrelle</td>\n",
       "    </tr>\n",
       "    <tr>\n",
       "      <th>4</th>\n",
       "      <td>Allen, Mr. William Henry</td>\n",
       "      <td>Allen</td>\n",
       "    </tr>\n",
       "    <tr>\n",
       "      <th>...</th>\n",
       "      <td>...</td>\n",
       "      <td>...</td>\n",
       "    </tr>\n",
       "    <tr>\n",
       "      <th>886</th>\n",
       "      <td>Montvila, Rev. Juozas</td>\n",
       "      <td>Montvila</td>\n",
       "    </tr>\n",
       "    <tr>\n",
       "      <th>887</th>\n",
       "      <td>Graham, Miss. Margaret Edith</td>\n",
       "      <td>Graham</td>\n",
       "    </tr>\n",
       "    <tr>\n",
       "      <th>888</th>\n",
       "      <td>Johnston, Miss. Catherine Helen \"Carrie\"</td>\n",
       "      <td>Johnston</td>\n",
       "    </tr>\n",
       "    <tr>\n",
       "      <th>889</th>\n",
       "      <td>Behr, Mr. Karl Howell</td>\n",
       "      <td>Behr</td>\n",
       "    </tr>\n",
       "    <tr>\n",
       "      <th>890</th>\n",
       "      <td>Dooley, Mr. Patrick</td>\n",
       "      <td>Dooley</td>\n",
       "    </tr>\n",
       "  </tbody>\n",
       "</table>\n",
       "<p>891 rows × 2 columns</p>\n",
       "</div>"
      ],
      "text/plain": [
       "                                                  Name   LastName\n",
       "0                              Braund, Mr. Owen Harris     Braund\n",
       "1    Cumings, Mrs. John Bradley (Florence Briggs Th...    Cumings\n",
       "2                               Heikkinen, Miss. Laina  Heikkinen\n",
       "3         Futrelle, Mrs. Jacques Heath (Lily May Peel)   Futrelle\n",
       "4                             Allen, Mr. William Henry      Allen\n",
       "..                                                 ...        ...\n",
       "886                              Montvila, Rev. Juozas   Montvila\n",
       "887                       Graham, Miss. Margaret Edith     Graham\n",
       "888           Johnston, Miss. Catherine Helen \"Carrie\"   Johnston\n",
       "889                              Behr, Mr. Karl Howell       Behr\n",
       "890                                Dooley, Mr. Patrick     Dooley\n",
       "\n",
       "[891 rows x 2 columns]"
      ]
     },
     "execution_count": 25,
     "metadata": {},
     "output_type": "execute_result"
    }
   ],
   "source": [
    "titanic_df[['Name','LastName']]"
   ]
  },
  {
   "cell_type": "code",
   "execution_count": 39,
   "id": "6b55e166",
   "metadata": {},
   "outputs": [],
   "source": [
    "cond = titanic_df['Name'].str.contains('Miss.')"
   ]
  },
  {
   "cell_type": "code",
   "execution_count": 46,
   "id": "f8ced18e",
   "metadata": {},
   "outputs": [
    {
     "data": {
      "text/plain": [
       "182"
      ]
     },
     "execution_count": 46,
     "metadata": {},
     "output_type": "execute_result"
    }
   ],
   "source": [
    "result = titanic_df[cond]\n",
    "result[['Name']]\n",
    "len(result)"
   ]
  },
  {
   "cell_type": "code",
   "execution_count": null,
   "id": "6036d148",
   "metadata": {},
   "outputs": [
    {
     "data": {
      "text/plain": [
       "0                                Braund, Mr. Owen Harris\n",
       "1      Cumings, Mrs. John Bradley Florence Briggs Thayer\n",
       "2                                 Heikkinen, Miss. Laina\n",
       "3             Futrelle, Mrs. Jacques Heath Lily May Peel\n",
       "4                               Allen, Mr. William Henry\n",
       "                             ...                        \n",
       "886                                Montvila, Rev. Juozas\n",
       "887                         Graham, Miss. Margaret Edith\n",
       "888             Johnston, Miss. Catherine Helen \"Carrie\"\n",
       "889                                Behr, Mr. Karl Howell\n",
       "890                                  Dooley, Mr. Patrick\n",
       "Name: Name, Length: 891, dtype: object"
      ]
     },
     "execution_count": 56,
     "metadata": {},
     "output_type": "execute_result"
    }
   ],
   "source": [
    "titanic_df['Name'].str.replace(')' , '').str.replace('(' , '')\n",
    "\n"
   ]
  },
  {
   "cell_type": "code",
   "execution_count": 57,
   "id": "f83de85a",
   "metadata": {},
   "outputs": [
    {
     "name": "stdout",
     "output_type": "stream",
     "text": [
      "문자열 형태 :\n",
      " 0    2025-01-01\n",
      "1    2025-03-15\n",
      "2    2025-03-31\n",
      "dtype: object\n"
     ]
    }
   ],
   "source": [
    "date_strings = pd.Series(['2025-01-01', '2025-03-15', '2025-03-31',])\n",
    "print('문자열 형태 :\\n', date_strings)"
   ]
  },
  {
   "cell_type": "code",
   "execution_count": 58,
   "id": "63042c3d",
   "metadata": {},
   "outputs": [
    {
     "data": {
      "text/plain": [
       "0   2025-01-01\n",
       "1   2025-03-15\n",
       "2   2025-03-31\n",
       "dtype: datetime64[ns]"
      ]
     },
     "execution_count": 58,
     "metadata": {},
     "output_type": "execute_result"
    }
   ],
   "source": [
    "date_strings = pd.to_datetime(date_strings)\n",
    "date_strings"
   ]
  },
  {
   "cell_type": "code",
   "execution_count": 61,
   "id": "9c959b47",
   "metadata": {},
   "outputs": [
    {
     "data": {
      "text/plain": [
       "0    2025\n",
       "1    2025\n",
       "2    2025\n",
       "dtype: int32"
      ]
     },
     "execution_count": 61,
     "metadata": {},
     "output_type": "execute_result"
    }
   ],
   "source": [
    "date_strings.dt.year\n"
   ]
  },
  {
   "cell_type": "code",
   "execution_count": 60,
   "id": "369971a2",
   "metadata": {},
   "outputs": [
    {
     "data": {
      "text/plain": [
       "0    1\n",
       "1    3\n",
       "2    3\n",
       "dtype: int32"
      ]
     },
     "execution_count": 60,
     "metadata": {},
     "output_type": "execute_result"
    }
   ],
   "source": [
    "date_strings.dt.month\n"
   ]
  },
  {
   "cell_type": "code",
   "execution_count": 62,
   "id": "cb1cefee",
   "metadata": {},
   "outputs": [
    {
     "data": {
      "text/plain": [
       "0     1\n",
       "1    15\n",
       "2    31\n",
       "dtype: int32"
      ]
     },
     "execution_count": 62,
     "metadata": {},
     "output_type": "execute_result"
    }
   ],
   "source": [
    "date_strings.dt.day\n"
   ]
  },
  {
   "cell_type": "code",
   "execution_count": 63,
   "id": "167a74c0",
   "metadata": {},
   "outputs": [
    {
     "data": {
      "text/plain": [
       "0    2025-01-01\n",
       "1    2025-03-15\n",
       "2    2025-03-31\n",
       "dtype: object"
      ]
     },
     "execution_count": 63,
     "metadata": {},
     "output_type": "execute_result"
    }
   ],
   "source": [
    "date_strings.dt.date"
   ]
  },
  {
   "cell_type": "code",
   "execution_count": 70,
   "id": "2c6fe59d",
   "metadata": {},
   "outputs": [
    {
     "name": "stdout",
     "output_type": "stream",
     "text": [
      "  Embarked            BoardTime\n",
      "0        S  1912-04-10 12:00:00\n",
      "1        C  1912-04-10 18:00:00\n",
      "2        S  1912-04-10 12:00:00\n"
     ]
    }
   ],
   "source": [
    "# Embarked 값에 따른 탑승 일시 매핑\n",
    "embark_to_time = {'S': '1912-04-10 12:00:00',\n",
    "         'C': '1912-04-10 18:00:00',\n",
    "         'Q': '1912-04-11 12:00:00'}\n",
    "# BoardTime 열 추가 (현재는 문자열 상태)\n",
    "titanic_df['BoardTime'] = titanic_df['Embarked'].map(embark_to_time)\n",
    "print(titanic_df[['Embarked', 'BoardTime']].head(3))"
   ]
  },
  {
   "cell_type": "code",
   "execution_count": 77,
   "id": "39a722bb",
   "metadata": {},
   "outputs": [],
   "source": [
    "titanic_df['BoardTime']= pd.to_datetime(titanic_df['BoardTime'])"
   ]
  },
  {
   "cell_type": "code",
   "execution_count": 75,
   "id": "d947a9e4",
   "metadata": {},
   "outputs": [
    {
     "data": {
      "text/plain": [
       "Timestamp('1912-04-10 12:00:00')"
      ]
     },
     "execution_count": 75,
     "metadata": {},
     "output_type": "execute_result"
    }
   ],
   "source": [
    "titanic_df['BoardTime'].min()"
   ]
  },
  {
   "cell_type": "code",
   "execution_count": 76,
   "id": "b58e5689",
   "metadata": {},
   "outputs": [
    {
     "data": {
      "text/plain": [
       "Timestamp('1912-04-11 12:00:00')"
      ]
     },
     "execution_count": 76,
     "metadata": {},
     "output_type": "execute_result"
    }
   ],
   "source": [
    "titanic_df['BoardTime'].max()"
   ]
  },
  {
   "cell_type": "code",
   "execution_count": 79,
   "id": "be1f5c71",
   "metadata": {},
   "outputs": [
    {
     "data": {
      "text/plain": [
       "BoardTime\n",
       "1912-04-10    812\n",
       "1912-04-11     77\n",
       "Name: count, dtype: int64"
      ]
     },
     "execution_count": 79,
     "metadata": {},
     "output_type": "execute_result"
    }
   ],
   "source": [
    "titanic_df['BoardTime'].dt.date.value_counts()"
   ]
  },
  {
   "cell_type": "code",
   "execution_count": 80,
   "id": "da3d14b6",
   "metadata": {},
   "outputs": [
    {
     "name": "stdout",
     "output_type": "stream",
     "text": [
      "행 방향 결합 결과:\n",
      "    ID  Score\n",
      "0   1     50\n",
      "1   2     60\n",
      "2   3     70\n",
      "3   4     80\n",
      "4   5     90\n"
     ]
    }
   ],
   "source": [
    "classA = pd.DataFrame({'ID': [1, 2, 3],\n",
    "            'Score': [50, 60, 70]})\n",
    "classB = pd.DataFrame({'ID': [4, 5],\n",
    "            'Score': [80, 90]})\n",
    "combined = pd.concat([classA, classB], axis=0, ignore_index=True)\n",
    "print(\"행 방향 결합 결과:\\n\", combined)"
   ]
  },
  {
   "cell_type": "code",
   "execution_count": 81,
   "id": "0536af8f",
   "metadata": {},
   "outputs": [
    {
     "name": "stdout",
     "output_type": "stream",
     "text": [
      "열 방향 결합 결과:\n",
      "       Name  Score\n",
      "0    Alice     85\n",
      "1      Bob     92\n",
      "2  Charlie     88\n"
     ]
    }
   ],
   "source": [
    "names = pd.Series(['Alice', 'Bob', 'Charlie'])\n",
    "scores = pd.Series([85, 92, 88])\n",
    "merged_df = pd.concat([names, scores], axis=1)\n",
    "merged_df.columns = ['Name', 'Score']\n",
    "print(\"열 방향 결합 결과:\\n\", merged_df)"
   ]
  },
  {
   "cell_type": "code",
   "execution_count": null,
   "id": "bbdc6f6e",
   "metadata": {},
   "outputs": [],
   "source": []
  }
 ],
 "metadata": {
  "kernelspec": {
   "display_name": "Python 3",
   "language": "python",
   "name": "python3"
  },
  "language_info": {
   "codemirror_mode": {
    "name": "ipython",
    "version": 3
   },
   "file_extension": ".py",
   "mimetype": "text/x-python",
   "name": "python",
   "nbconvert_exporter": "python",
   "pygments_lexer": "ipython3",
   "version": "3.12.0"
  }
 },
 "nbformat": 4,
 "nbformat_minor": 5
}
