{
 "cells": [
  {
   "cell_type": "markdown",
   "id": "29b56712",
   "metadata": {},
   "source": [
    "1회차\n",
    "\n",
    "경로 : 1회차 실습\\train.ipynb\n",
    "    \n",
    "    1. 데이터 타입\n",
    "        - 수치형(int64,float64)\n",
    "        - 범주형(object, category)\n",
    "        - 불린형(bool)\n",
    "        - 날짜형(datetime64[ns])\n",
    "        - 결측치 (NaN)\n",
    "    2. 시리즈\n",
    "    3. 데이터프레임\n",
    "    4. 데이터 저장/불러오기\n",
    "        - .read_csv('')\n",
    "        - .to_csv('')\n",
    "    5. 데이터 인덱싱/슬라이싱\n",
    "\n",
    "    ++ 1.불리언 필터\n",
    "    ++ 2.복합 조건\n"
   ]
  },
  {
   "cell_type": "markdown",
   "id": "d4fefbfe",
   "metadata": {},
   "source": [
    "2회차\n",
    "\n",
    "경로 : 2회차 실습\\"
   ]
  },
  {
   "cell_type": "markdown",
   "id": "809ffeeb",
   "metadata": {},
   "source": []
  }
 ],
 "metadata": {
  "language_info": {
   "name": "python"
  }
 },
 "nbformat": 4,
 "nbformat_minor": 5
}
