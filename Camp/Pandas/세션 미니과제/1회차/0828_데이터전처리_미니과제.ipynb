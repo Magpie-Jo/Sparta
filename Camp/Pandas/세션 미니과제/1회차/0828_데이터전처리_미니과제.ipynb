{
 "cells": [
  {
   "cell_type": "markdown",
   "id": "bfacce22",
   "metadata": {},
   "source": [
    "# 개요\n",
    "- 참고 자료를 보셔도 좋지만, 코드 이해뿐만 아니라 데이터 전처리 처리에 대한 순서 / 법칙을 이해하면서 작성합시다!\n",
    "- 코드에 대한 다양한 도전을 합시다 :) \n",
    "- 원본 데이터 : https://www.kaggle.com/datasets/fedesoriano/stroke-prediction-dataset/data"
   ]
  },
  {
   "cell_type": "markdown",
   "id": "d967b205",
   "metadata": {},
   "source": [
    "## 문제 1: 데이터 불러오기와 크기 확인\n",
    "뇌졸중 예측 데이터셋 CSV 파일을 pandas를 사용하여 불러오고, 데이터프레임의 크기(행과 열의 개수)를 출력하는 코드를 작성하세요. (힌트: pd.read_csv 함수를 사용합니다.)"
   ]
  },
  {
   "cell_type": "code",
   "execution_count": null,
   "id": "1e266f0e",
   "metadata": {},
   "outputs": [],
   "source": []
  },
  {
   "cell_type": "markdown",
   "id": "6771ba02",
   "metadata": {},
   "source": [
    "## 문제 2: 데이터 미리보기 (앞부분 확인)\n",
    "데이터가 잘 불러와졌는지 확인하기 위해 데이터프레임의 처음 5행을 출력하는 코드를 작성하세요. 이때 데이터의 각 열 이름도 함께 확인해보세요. 그리고 각 열의 의미를 적어보세요!  \n",
    "그리고 특정 열이 어떤 값이 있는지 확인해보세요! (특정열.unique() 사용)"
   ]
  },
  {
   "cell_type": "code",
   "execution_count": null,
   "id": "d39e71c7",
   "metadata": {},
   "outputs": [],
   "source": []
  },
  {
   "cell_type": "raw",
   "id": "3fcda12e",
   "metadata": {
    "vscode": {
     "languageId": "raw"
    }
   },
   "source": [
    "id : \n",
    "gender : \n",
    "age : \n",
    "hypertension : \n",
    "heart_disease\t : \n",
    "ever_married : \n",
    "work_type : \n",
    "Residence_type:   \n",
    "avg_glucose_level : \n",
    "bmi : \n",
    "smoking_status : \n",
    "stroke : "
   ]
  },
  {
   "cell_type": "markdown",
   "id": "8da740e1",
   "metadata": {},
   "source": [
    "## 문제 3: 데이터 정보 확인 (데이터 타입과 결측값)\n",
    "데이터프레임의 각 열에 대한 요약 정보를 출력하는 코드를 작성하세요. 이를 통해 각 열의 데이터 타입(dtype)과 누락된 값(null/결측값) 개수를 확인해보세요. (힌트: DataFrame.info() 메서드를 사용합니다.)"
   ]
  },
  {
   "cell_type": "code",
   "execution_count": null,
   "id": "4aad61ba",
   "metadata": {},
   "outputs": [],
   "source": []
  },
  {
   "cell_type": "markdown",
   "id": "f4aad627",
   "metadata": {},
   "source": [
    "## 문제 3-1: 데이터 정보 확인 (특정 컬럼 값 분포 확인)\n",
    "hypertension, ever_married, avg_glucose_level, stroke 열의 값 분포를 확인하세요! (힌트: value_counts() 메서드를 사용합니다.)"
   ]
  },
  {
   "cell_type": "code",
   "execution_count": null,
   "id": "d00b23d5",
   "metadata": {},
   "outputs": [],
   "source": []
  },
  {
   "cell_type": "markdown",
   "id": "99cc2c7f",
   "metadata": {},
   "source": [
    "## 문제 4: 결측값 개수 확인\n",
    "각 열별로 결측값(null)이 몇 개인지 합계로 확인하려 합니다. 이를 계산하는 코드를 작성하세요. (힌트: isnull() 또는 isna()와 sum() 함수를 활용합니다.)"
   ]
  },
  {
   "cell_type": "code",
   "execution_count": null,
   "id": "4bcd4610",
   "metadata": {},
   "outputs": [],
   "source": []
  },
  {
   "cell_type": "markdown",
   "id": "cf96d0c3",
   "metadata": {},
   "source": [
    "## 문제 5: id 열 삭제하기\n",
    "id 열은 각 환자를 식별하기 위한 고유 식별자일 뿐, 예측 모델링에는 필요하지 않은 정보입니다. 데이터프레임에서 id 열을 제거하는 코드를 작성하세요."
   ]
  },
  {
   "cell_type": "code",
   "execution_count": null,
   "id": "bf7ffa6f",
   "metadata": {},
   "outputs": [],
   "source": []
  },
  {
   "cell_type": "markdown",
   "id": "febbe352",
   "metadata": {},
   "source": [
    "## 문제 6: BMI 결측값 처리 (중앙값 대체)\n",
    "bmi 열에 존재하는 201개의 결측값을 어떻게 처리할지 결정해야 합니다. 이번에는 중앙값(median)을 사용하여 이 결측치를 채우려고 합니다. bmi 열의 중앙값을 계산하고, 그 값으로 결측값들을 채우는 코드를 작성하세요."
   ]
  },
  {
   "cell_type": "code",
   "execution_count": null,
   "id": "188ed74d",
   "metadata": {},
   "outputs": [],
   "source": []
  },
  {
   "cell_type": "markdown",
   "id": "5c1986ab",
   "metadata": {},
   "source": [
    "## 문제 7: 행 삭제(drop) 연습\n",
    "bmi 값이 결측치(NaN) 이거나, bmi < 10 또는 bmi > 80인 행은 잘못된 데이터라고 가정합시다.  \n",
    "이런 행들을 제거한 새로운 데이터프레임 df_clean을 만드세요. (원본 df는 그대로 둡니다.)  \n",
    "제거 전/후 행 개수를 비교해서 출력해보세요.  "
   ]
  },
  {
   "cell_type": "code",
   "execution_count": null,
   "id": "85064a73",
   "metadata": {},
   "outputs": [],
   "source": []
  },
  {
   "cell_type": "markdown",
   "id": "5f39220d",
   "metadata": {},
   "source": [
    "## 문제 8: 조건 필터링 + 다중 정렬\n",
    "나이 60세 이상이면서 (고혈압=1 또는 심장질환=1)인 행만 필터링해 생성  \n",
    "avg_glucose_level 내림차순, 동률이면 bmi 오름차순으로 정렬  \n",
    "상위 10명에 대해 id, age, avg_glucose_level, bmi, stroke만 출력  "
   ]
  },
  {
   "cell_type": "code",
   "execution_count": null,
   "id": "3c27c3b7",
   "metadata": {},
   "outputs": [],
   "source": []
  },
  {
   "cell_type": "markdown",
   "id": "5544c0e4",
   "metadata": {},
   "source": [
    "## 문제 9: .loc vs .iloc 비교하기\n",
    "데이터프레임 df에서 age, bmi, stroke 열만 뽑아서 확인해봅시다.\n",
    "1. .loc를 사용해서 0~2번째 행의 age, bmi, stroke 값을 가져오세요.\n",
    "2. .iloc를 사용해서 같은 행과 열을 가져오세요.\n",
    "3. 두 결과가 같은지 눈으로 비교해보세요."
   ]
  },
  {
   "cell_type": "code",
   "execution_count": null,
   "id": "eb4a7baf",
   "metadata": {},
   "outputs": [],
   "source": []
  }
 ],
 "metadata": {
  "kernelspec": {
   "display_name": "data6",
   "language": "python",
   "name": "python3"
  },
  "language_info": {
   "codemirror_mode": {
    "name": "ipython",
    "version": 3
   },
   "file_extension": ".py",
   "mimetype": "text/x-python",
   "name": "python",
   "nbconvert_exporter": "python",
   "pygments_lexer": "ipython3",
   "version": "3.10.12"
  }
 },
 "nbformat": 4,
 "nbformat_minor": 5
}
