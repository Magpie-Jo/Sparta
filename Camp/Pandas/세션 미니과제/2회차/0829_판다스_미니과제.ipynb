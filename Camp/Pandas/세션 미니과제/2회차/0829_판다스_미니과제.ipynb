{
 "cells": [
  {
   "cell_type": "markdown",
   "id": "648fa6d6",
   "metadata": {},
   "source": [
    "# 개요\n",
    "- 참고 자료를 보셔도 좋지만, 코드 이해뿐만 아니라 데이터 전처리 처리에 대한 순서 / 법칙을 이해하면서 작성합시다!\n",
    "- 코드에 대한 다양한 도전을 합시다 :) \n",
    "- 원본 데이터 : https://www.kaggle.com/datasets/rounakbanik/pokemon"
   ]
  },
  {
   "cell_type": "markdown",
   "id": "a2dfdcdb",
   "metadata": {},
   "source": [
    "문제를 풀기 전에, pokemon.csv 파일을 읽고, 데이터를 다양한 함수를 사용해서 살펴보세요!!! (.head(), .shape(), .info(), .value_counts() 등..)"
   ]
  },
  {
   "cell_type": "code",
   "execution_count": 4,
   "id": "dba20edd",
   "metadata": {},
   "outputs": [],
   "source": [
    "import pandas as pd\n",
    "pokemon = pd.read_csv('pokemon.csv')  # 경로는 환경에 맞게 조정"
   ]
  },
  {
   "cell_type": "markdown",
   "id": "d1fba4d6",
   "metadata": {},
   "source": [
    "## 문제 1 : 단일 열 그룹화 - type1별 평균 공격력\n",
    "type1 기준으로 그룹화하여 attack의 평균을 구하세요. (결과는 Series/한 컬럼 집계)"
   ]
  },
  {
   "cell_type": "code",
   "execution_count": null,
   "id": "61a9a048",
   "metadata": {},
   "outputs": [],
   "source": []
  },
  {
   "cell_type": "markdown",
   "id": "f5ec3b90",
   "metadata": {},
   "source": [
    "## 문제 2 : 다중 열 그룹화 - generation × is_legendary 조합별 개수\n",
    "generation과 is_legendary 두 컬럼으로 그룹화하고, 각 그룹의 포켓몬 개수를 구한 뒤 count라는 이름의 컬럼으로 표 형태로 출력하세요."
   ]
  },
  {
   "cell_type": "code",
   "execution_count": null,
   "id": "6cb87eb6",
   "metadata": {},
   "outputs": [],
   "source": []
  },
  {
   "cell_type": "markdown",
   "id": "8cb8b96b",
   "metadata": {},
   "source": [
    "## 문제 3번 : 여러 집계 한 번에 - type1별 hp 평균 + attack 평균\n",
    "type1별로 hp의 평균과 attack의 평균을 동시에 계산하세요. (컬럼별 다른 함수 지정: agg 딕셔너리)"
   ]
  },
  {
   "cell_type": "code",
   "execution_count": null,
   "id": "a36f5f19",
   "metadata": {},
   "outputs": [],
   "source": []
  },
  {
   "cell_type": "markdown",
   "id": "5e5907e8",
   "metadata": {},
   "source": [
    "## 문제 4번 : 문자열 기본: 대문자 변환 + 길이 구하기\n",
    "name 컬럼을 모두 대문자로 바꾼 name_upper와, 이름 글자 수를 담은 name_len 컬럼을 추가하고, 상위 5개 행만 확인하세요."
   ]
  },
  {
   "cell_type": "code",
   "execution_count": null,
   "id": "735577b6",
   "metadata": {},
   "outputs": [],
   "source": []
  },
  {
   "cell_type": "markdown",
   "id": "93f78ea8",
   "metadata": {},
   "source": [
    "## 문제 5번 : 날짜 기본: 문자열 → 날짜 변환 & 연도/요일 추출\n",
    "아래 날짜 문자열 리스트를 Series로 만들고 pd.to_datetime으로 변환한 뒤, 연도(year)와 요일(day_name)을 각각 출력하세요."
   ]
  },
  {
   "cell_type": "code",
   "execution_count": null,
   "id": "e4753fa6",
   "metadata": {},
   "outputs": [],
   "source": [
    "dates_str = ['1996-02-27', '1999-11-21', '2002-11-21']"
   ]
  },
  {
   "cell_type": "code",
   "execution_count": null,
   "id": "7002a0a8",
   "metadata": {},
   "outputs": [],
   "source": []
  },
  {
   "cell_type": "markdown",
   "id": "f0e58aad",
   "metadata": {},
   "source": [
    "## 문제 6번 : map으로 쉬운 값 치환 - 전설 여부 라벨 만들기\n",
    "is_legendary가 1이면 \"Legendary\", 0이면 \"Normal\"을 부여한 새 컬럼 legendary_label을 만드세요."
   ]
  },
  {
   "cell_type": "code",
   "execution_count": null,
   "id": "275b70f9",
   "metadata": {},
   "outputs": [],
   "source": []
  },
  {
   "cell_type": "markdown",
   "id": "65903861",
   "metadata": {},
   "source": [
    "## 문제 7번 : concat 기초 - Fire와 Water 묶어 세로로 붙이기\n",
    "type1 == 'Fire'인 포켓몬의 name, type1만 담은 fire_df와\n",
    "type1 == 'Water'인 포켓몬의 name, type1만 담은 water_df를 만든 뒤, 두 DataFrame을 세로 방향으로 이어붙여(ignore_index=True) fw_concat을 만들고 상위 8행을 확인하세요."
   ]
  },
  {
   "cell_type": "code",
   "execution_count": null,
   "id": "fe129024",
   "metadata": {},
   "outputs": [],
   "source": []
  },
  {
   "cell_type": "markdown",
   "id": "26f6a152",
   "metadata": {},
   "source": [
    "## 문제 8번 : generation 라벨 붙이기 (Left Merge)\n",
    "아래의 작은 매핑 테이블 gen_info를 직접 만들고, pokemon과 generation 컬럼을 기준으로 left merge 하여 gen_name 컬럼을 붙이세요. 결과의 상위 5행을 출력하세요.\n",
    "\n",
    "매핑은 다음과 같이 사용하세요:  \n",
    "1 → \"Gen I\"  \n",
    "2 → \"Gen II\"  \n",
    "3 → \"Gen III\"  \n",
    "4 → \"Gen IV\"  \n",
    "5 → \"Gen V\"  \n",
    "6 → \"Gen VI\"  \n",
    "7 → \"Gen VII\"  "
   ]
  },
  {
   "cell_type": "code",
   "execution_count": null,
   "id": "729d2eb9",
   "metadata": {},
   "outputs": [],
   "source": []
  },
  {
   "cell_type": "markdown",
   "id": "b32e1dd6",
   "metadata": {},
   "source": [
    "## 문제 9번 : 전처리 결과 저장\n",
    "지금까지 만든 가공 결과(예: pokemon_with_gen)를 CSV로 저장하세요. 파일명은 pokemon_processed.csv, 인덱스 제외."
   ]
  },
  {
   "cell_type": "code",
   "execution_count": null,
   "id": "c414be1f",
   "metadata": {},
   "outputs": [],
   "source": []
  }
 ],
 "metadata": {
  "kernelspec": {
   "display_name": "data6",
   "language": "python",
   "name": "python3"
  },
  "language_info": {
   "codemirror_mode": {
    "name": "ipython",
    "version": 3
   },
   "file_extension": ".py",
   "mimetype": "text/x-python",
   "name": "python",
   "nbconvert_exporter": "python",
   "pygments_lexer": "ipython3",
   "version": "3.10.12"
  }
 },
 "nbformat": 4,
 "nbformat_minor": 5
}
