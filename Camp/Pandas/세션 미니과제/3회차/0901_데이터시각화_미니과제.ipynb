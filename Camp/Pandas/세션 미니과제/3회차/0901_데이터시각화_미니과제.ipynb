{
 "cells": [
  {
   "cell_type": "markdown",
   "id": "59405c5a",
   "metadata": {
    "vscode": {
     "languageId": "powershell"
    }
   },
   "source": [
    "# 주의 사항\n",
    "1. 이미지를 보고 문제에 요구하는 사항을 만족하여 코드를 작성하세요! (최대한 비슷하게 하셔도 좋아요! 모양을 비슷하게 나오게 하는 것을 목표로!)\n",
    "2. 이미지와 코드를 창 분할해서 이미지를 보면서 코드 작성!\n",
    "3. 각 문제는 어떤 라이브러리로 작성해야되는지 적혀져있으니 확인 필수!\n",
    "4. 범례 한글 적용을 위해 각 os에 맞게 코드 실행 필수!\n",
    "5. 남겨진 주석은 참고용이므로 굳이 주석을 따를 필요는 없습니다!\n",
    "6. 색깔, 범례, 100% 일치할 필요 없습니다. 모양이 같으면 됩니다!\n",
    "7. 그래프를 그렸다면 나름의 그래프 해석도 한번 해보세요!!"
   ]
  },
  {
   "cell_type": "code",
   "execution_count": 1,
   "id": "aeb84912",
   "metadata": {},
   "outputs": [],
   "source": [
    "import pandas as pd\n",
    "\n",
    "df = pd.read_csv('pokemon.csv')"
   ]
  },
  {
   "cell_type": "code",
   "execution_count": 2,
   "id": "6bc39c7f",
   "metadata": {},
   "outputs": [],
   "source": [
    "# 범례 한글 적용\n",
    "\n",
    "import matplotlib.pyplot as plt\n",
    "\n",
    "plt.rcParams['font.family'] = 'Malgun Gothic' # For Windows\n",
    "# plt.rcParams['font.family'] = 'AppleGothic' # For MacOS\n",
    "%matplotlib inline"
   ]
  },
  {
   "cell_type": "markdown",
   "id": "f0324e24",
   "metadata": {},
   "source": [
    "## 문제 1: 포켓몬 타입 분포 (Bar Plot)\n",
    "문제 설명: 포켓몬 데이터셋의 type1 컬럼을 이용하여, 각 포켓몬 주요 타입별 포켓몬 수를 나타내는 막대 그래프를 그리세요. 타입별로 몇 마리의 포켓몬이 있는지 한눈에 비교할 수 있도록 시각화합니다.  \n",
    "Matplotlib 라이브러리를 사용하여 구현하세요."
   ]
  },
  {
   "cell_type": "code",
   "execution_count": 1,
   "id": "78ec6bcd",
   "metadata": {},
   "outputs": [],
   "source": [
    "# 1. type1별 포켓몬 수 계산\n",
    "# - 각 타입별 개수 세기 : value_counts()\n",
    "\n",
    "# - 보기 좋게 개수 내림차순 정렬 : sort_values(ascending=False)\n",
    "\n",
    "\n",
    "# 2. 막대 그래프 그리기\n",
    "# - 타입명을 x축, 포켓몬 수를 y축으로 막대 그리기(skyblue)\n",
    "\n",
    "\n",
    "# 3. 그래프 제목과 축 레이블 설정\n",
    "# - 그래프 제목\n",
    "# - x축 레이블\n",
    "# - y축 레이블\n",
    "\n",
    "\n",
    "# 4. x축 눈금 라벨 각도 조정 (라벨 겹침 방지)\n",
    "# - 타입 이름이 많으므로 45도 회전|"
   ]
  },
  {
   "cell_type": "markdown",
   "id": "6ff6a005",
   "metadata": {},
   "source": [
    "## 문제 2: 공격 vs 방어 상관관계 (Scatter Plot)\n",
    "문제 설명: 포켓몬의 공격력(attack)과 방어력(defense) 사이의 관계를 산점도로 시각화하세요. Seaborn 라이브러리의 scatterplot을 사용하며, 전설 포켓몬과 일반 포켓몬이 서로 구분되도록 점의 색상을 다르게 표시합니다 (is_legendary 값을 활용). 이를 통해 공격력과 방어력 간 상관관계와 전설 포켓몬들의 분포 특성을 관찰합니다."
   ]
  },
  {
   "cell_type": "code",
   "execution_count": 2,
   "id": "f4020d33",
   "metadata": {},
   "outputs": [],
   "source": [
    "# 1. 전설 여부를 나타내는 새로운 범주형 컬럼 추가 (시각화용)\n",
    "# - 'is_legendary'가 0이면 '일반', 1이면 '전설' 문자열로 변환, map\n",
    "\n",
    "\n",
    "# 2. 산점도 그리기 (공격력 vs 방어력)\n",
    "\n",
    "# hue : 색상 분류하는 기준! (범례도 자동 생성)\n",
    "# style : 마커 모양 분류 기준\n",
    "# markers : 마커 모양\n",
    "# palette : 색상 조합\n",
    "# alpha : 투명도(0 완전 투명, 1 불투명)\n",
    "\n",
    "# 3. 그래프 제목과 축 레이블 설정\n",
    "# - 그래프 제목\n",
    "# - x축 레이블\n",
    "# - y축 레이블\n",
    "\n",
    "\n",
    "# 4. 범례 제목 설정 (plt.legend(title=' '))\n"
   ]
  },
  {
   "cell_type": "markdown",
   "id": "847f926a",
   "metadata": {},
   "source": [
    "## 문제 3: 전설 vs 일반 포켓몬 능력치 분포 비교 (Histogram)\n",
    "문제 설명: 전설 포켓몬과 일반 포켓몬의 종합 능력치(base_total) 분포를 비교하는 히스토그램을 그리세요. 두 그룹의 분포를 한 그래프에 겹쳐서 표시하여, 전설 포켓몬이 일반 포켓몬에 비해 능력치 분포에 어떤 차이가 있는지 시각적으로 확인합니다.  \n",
    "Matplotlib 라이브러리를 사용하여 구현하세요."
   ]
  },
  {
   "cell_type": "code",
   "execution_count": 4,
   "id": "a8e0d0e3",
   "metadata": {},
   "outputs": [],
   "source": [
    "# 1. 전설 포켓몬과 일반 포켓몬으로 데이터 분리\n",
    "\n",
    "\n",
    "# - 전설 포켓몬들의 종합 능력치 시리즈\n",
    "# - 일반 포켓몬들의 종합 능력치 시리즈\n",
    "\n",
    "# 2. 히스토그램 설정\n",
    "# - 능력치 최소 180부터 최대 800까지 40 간격으로 구간 설정\n",
    "\n",
    "\n",
    "# 3. 두 그룹의 히스토그램을 투명도 있게 겹쳐 그리기\n",
    "\n",
    "# 4. 그래프 제목과 축 레이블, 범례 설정\n"
   ]
  },
  {
   "cell_type": "markdown",
   "id": "71ef191c",
   "metadata": {},
   "source": [
    "## 문제 4: 세대별 평균 능력치 추이 (Line Plot)\n",
    "문제 설명: 포켓몬 세대(generation)별 평균 종합 능력치(base_total)의 변화를 선 그래프로 나타내세요. 세대를 1세대부터 7세대까지 x축에 두고, 해당 세대에 속한 포켓몬들의 평균 종합 능력치가 y축으로 오도록 해서 세대 간 능력치 변화 추이를 파악합니다.  \n",
    "Matplotlib 라이브러리를 사용하여 구현하세요."
   ]
  },
  {
   "cell_type": "code",
   "execution_count": 5,
   "id": "c1b3b779",
   "metadata": {},
   "outputs": [],
   "source": [
    "# 1. 세대별 평균 종합 능력치 계산 - df.groupby(그룹핑할 기준)[그룹핑할 데이터].mean() / median()\n",
    "# - generation 컬럼으로 그룹화하여 base_total 평균 계산\n",
    "\n",
    "\n",
    "# 2. 세대 값과 평균값 준비\n",
    "# - 세대 번호 (1, 2, ..., 7)\n",
    "# - 각 세대별 평균 base_total 값\n",
    "\n",
    "\n",
    "# 3. 선 그래프 그리기\n",
    "# - 세대별 평균을 선으로 연결 (포인트 표시)\n",
    "\n",
    "# 4. 그래프 제목과 축 레이블 설정\n",
    "\n",
    "\n",
    "# 5. x축 눈금 세대를 정수 단위로 표시\n",
    "# - 1~7 정수값 그대로 눈금 표시\n",
    "\n"
   ]
  },
  {
   "cell_type": "markdown",
   "id": "94f3df5b",
   "metadata": {},
   "source": [
    "## 문제 5: 세대별 능력치 분포 비교 (Box Plot)\n",
    "문제 설명: 세대별 포켓몬들의 종합 능력치 분포를 Boxplot으로 시각화하세요. x축에 세대(generation)를, y축에 종합 능력치(base_total)를 놓고, 세대마다 포켓몬 능력치의 분포(중앙값, 사분위 범위 등)를 비교합니다. 각 세대별로 포켓몬 능력치가 어느 범위에 분포하는지, 그리고 세대 간 분포의 차이가 있는지 확인해보세요.  \n",
    "Seaborn 라이브러리를 사용하여 구현합니다."
   ]
  },
  {
   "cell_type": "code",
   "execution_count": 6,
   "id": "78c746a8",
   "metadata": {},
   "outputs": [],
   "source": [
    "# 1. Boxplot 그리기 (세대별 base_total 분포)\n",
    "\n",
    "\n",
    "# 2. 그래프 제목과 축 레이블 설정\n"
   ]
  },
  {
   "cell_type": "markdown",
   "id": "cbd760e9",
   "metadata": {},
   "source": [
    "## 문제 6: 타입별 스피드 분포 (Violin Plot)\n",
    "문제 설명: 포켓몬의 주 타입별 스피드 분포를 Violin Plot으로 나타내세요. 각 포켓몬의 주 타입(type1)을 그룹으로 구분하여, 해당 그룹 포켓몬들의 스피드(speed) 분포가 어떻게 나타나는지 비교합니다. Seaborn의 violinplot을 사용하여 구현하며, Violin Plot의 모양을 통해 각 타입의 스피드 분포 형태(중심, 퍼짐 정도 등)를 관찰해보세요."
   ]
  },
  {
   "cell_type": "code",
   "execution_count": 7,
   "id": "36c5a449",
   "metadata": {},
   "outputs": [],
   "source": [
    "# 1. 타입별 스피드 분포를 나태내는 Violinplot 그리기\n",
    "\n",
    "\n",
    "# 2. type1 값을 스피드 중앙값 기준으로 정렬하여 순서 지정 (분포 비교를 더 쉽게)\n",
    "# df.groupby(그룹핑할 녀석)[그룹필한 값].평균?/중앙값?.sort_values()\n",
    "# - 각 타입별 speed 중앙값으로 정렬된 타입 순서\n",
    "\n",
    "\n",
    "# 3. 그래프 제목과 축 레이블 설정\n"
   ]
  },
  {
   "cell_type": "markdown",
   "id": "0833bc4d",
   "metadata": {},
   "source": [
    "## 문제 7: 능력치 상관관계 히트맵 (Heatmap)\n",
    "문제 설명: 포켓몬의 주요 능력치 간 상관관계를 히트맵(Heatmap)으로 시각화하세요. 예를 들어 HP, Attack, Defense, Special Attack, Special Defense, Speed 등의 기본 스탯들 사이의 상관계수 행렬을 구한 뒤, 이를 Heatmap으로 표시합니다. 가능하다면 몸무게(Weight)나 키(Height) 같은 물리적 특성과의 상관관계도 함께 포함해보세요.  \n",
    "Seaborn 라이브러리를 사용하여 히트맵을 그리고, 각 셀에 상관계수 값을 숫자로 표시합니다."
   ]
  },
  {
   "cell_type": "code",
   "execution_count": 9,
   "id": "4530fc9b",
   "metadata": {},
   "outputs": [],
   "source": [
    "# 1. 상관관계를 볼 특성 선택 (HP, Attack, Defense, Sp.Atk, Sp.Def, Speed, Weight, Height 등)\n",
    "\n",
    "\n",
    "# 2. 선택한 특성들의 상관계수 행렬 계산\n",
    "# - stats 리스트에 해당하는 컬럼들 간의 피어슨 상관계수 계산 df[stats].corr()\n",
    "\n",
    "\n",
    "# 3. 히트맵 그리기\n",
    "# - 상관계수를 소수 둘째자리까지 표시 - sns.heatmap()\n",
    "\n",
    "\n",
    "# 3. 그래프 제목과 축 레이블 설정\n",
    "# - x축 레이블 각도 조정\n",
    "# - y축 레이블은 수평 표시"
   ]
  },
  {
   "cell_type": "markdown",
   "id": "6b227b46",
   "metadata": {},
   "source": [
    "## 문제 8: 키와 몸무게의 관계 (Plotly Scatter Plot)\n",
    "문제 설명: Plotly 라이브러리를 사용하여 포켓몬의 키(height_m)와 몸무게(weight_kg) 관계를 나타내는 인터랙티브 산점도를 그리세요. 일반 포켓몬과 전설 포켓몬이 구분되도록 점 색상을 다르게 설정하고, 각 데이터 점에 마우스를 올리면 해당 포켓몬의 이름이 표시되도록 구현합니다. Plotly의 scatter(혹은 px.scatter) 기능을 활용하여 대화형으로 확대/축소 및 툴팁 확인이 가능한 산점도를 만들어 보세요."
   ]
  },
  {
   "cell_type": "code",
   "execution_count": null,
   "id": "c5d79992",
   "metadata": {},
   "outputs": [],
   "source": [
    "# 1. 전설 여부를 나타내는 범주형 라벨 컬럼 추가 (Normal vs Legendary)\n",
    "\n",
    "\n",
    "# 2. Plotly 익스프레스의 scatter 함수로 산점도 객체 생성\n",
    "\n",
    "\n",
    "# 3. 산점도 그래프 보여주기 (주피터 노트북 등에서 인터랙티브로 표시)\n"
   ]
  }
 ],
 "metadata": {
  "kernelspec": {
   "display_name": "data6",
   "language": "python",
   "name": "python3"
  },
  "language_info": {
   "codemirror_mode": {
    "name": "ipython",
    "version": 3
   },
   "file_extension": ".py",
   "mimetype": "text/x-python",
   "name": "python",
   "nbconvert_exporter": "python",
   "pygments_lexer": "ipython3",
   "version": "3.10.12"
  }
 },
 "nbformat": 4,
 "nbformat_minor": 5
}
