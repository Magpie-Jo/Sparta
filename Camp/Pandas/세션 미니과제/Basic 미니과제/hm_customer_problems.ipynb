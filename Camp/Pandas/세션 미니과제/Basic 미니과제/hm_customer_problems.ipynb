{
 "cells": [
  {
   "cell_type": "markdown",
   "id": "54abed31",
   "metadata": {},
   "source": [
    "# [문제] H&M 고객 데이터(customer_hm.csv) — 기본 전처리 & 인덱싱/슬라이싱\n",
    "> **주의:** 아래 문제는 반드시 제공된 문법 안에서만 풀이하세요.\n",
    "- 사용 가능: `read_csv`, `to_csv`, `Series`, `DataFrame`, `head`, `shape`, `info`, `describe`, `value_counts`\n",
    "- 인덱싱/슬라이싱: `[]`, `[['col1','col2']]`, `.loc`, `.iloc`, 슬라이싱(끝 포함/제외), 불리언 필터, `&`, `|`\n",
    "- 결측치: `isnull().sum()`\n"
   ]
  },
  {
   "cell_type": "markdown",
   "id": "6de72f62",
   "metadata": {},
   "source": [
    "## 0) 환경 세팅\n",
    "- 파일 경로: `/mnt/data/customer_hm.csv`\n",
    "- 열(예시): `customer_id`, `FN`, `Active`, `club_member_status`, `fashion_news_frequency`, `age`\n"
   ]
  },
  {
   "cell_type": "code",
   "execution_count": null,
   "id": "9ea230ca",
   "metadata": {},
   "outputs": [],
   "source": [
    "\n",
    "import pandas as pd\n",
    "\n",
    "df = pd.read_csv('customer_hm.csv')\n",
    "print(\"로드 완료!\")"
   ]
  },
  {
   "cell_type": "markdown",
   "id": "07ae4391",
   "metadata": {},
   "source": [
    "### 문제 1. 데이터 처음 5행을 확인하세요 (`head()`)."
   ]
  },
  {
   "cell_type": "code",
   "execution_count": null,
   "id": "4f1b5c4f",
   "metadata": {},
   "outputs": [],
   "source": [
    "\n"
   ]
  },
  {
   "cell_type": "markdown",
   "id": "edf7fc12",
   "metadata": {},
   "source": [
    "### 문제 2. 데이터의 행, 열 개수를 확인하세요 (`shape`)."
   ]
  },
  {
   "cell_type": "code",
   "execution_count": null,
   "id": "d71768db",
   "metadata": {},
   "outputs": [],
   "source": []
  },
  {
   "cell_type": "markdown",
   "id": "e797d4b1",
   "metadata": {},
   "source": [
    "### 문제 3. 각 컬럼의 타입과 결측치를 포함한 요약 정보를 확인하세요 (`info()`)."
   ]
  },
  {
   "cell_type": "code",
   "execution_count": null,
   "id": "628d6d3b",
   "metadata": {},
   "outputs": [],
   "source": []
  },
  {
   "cell_type": "markdown",
   "id": "61fcb738",
   "metadata": {},
   "source": [
    "### 문제 4. 수치형 컬럼들의 통계 요약을 확인하세요 (`describe()`)."
   ]
  },
  {
   "cell_type": "code",
   "execution_count": null,
   "id": "c32da15f",
   "metadata": {},
   "outputs": [],
   "source": []
  },
  {
   "cell_type": "markdown",
   "id": "8489585d",
   "metadata": {},
   "source": [
    "### 문제 5. `customer_id`, `age`, `club_member_status` 열만 선택해 처음 5행을 출력하세요 (`[['col1','col2']]`)."
   ]
  },
  {
   "cell_type": "code",
   "execution_count": null,
   "id": "8529edeb",
   "metadata": {},
   "outputs": [],
   "source": []
  },
  {
   "cell_type": "markdown",
   "id": "5cf4b902",
   "metadata": {},
   "source": [
    "### 문제 6. `age` 한 열만 선택했을 때와 두 중괄호로 선택했을 때의 차이를 확인하세요 (`Series vs DataFrame`)."
   ]
  },
  {
   "cell_type": "code",
   "execution_count": null,
   "id": "b1ad267a",
   "metadata": {},
   "outputs": [],
   "source": []
  },
  {
   "cell_type": "markdown",
   "id": "a4d7c925",
   "metadata": {},
   "source": [
    "### 문제 7. `.loc`으로 0~5행(끝 포함)과 `['customer_id','Name'가 없으므로 'club_member_status','age']` 열을 선택해 보세요."
   ]
  },
  {
   "cell_type": "code",
   "execution_count": null,
   "id": "0bc98928",
   "metadata": {},
   "outputs": [],
   "source": []
  },
  {
   "cell_type": "markdown",
   "id": "dcc2b854",
   "metadata": {},
   "source": [
    "### 문제 8. `.iloc`으로 0~6행(끝 제외)과 열 위치 `[0,1,2,5]`를 선택해 보세요."
   ]
  },
  {
   "cell_type": "code",
   "execution_count": null,
   "id": "ef878f9b",
   "metadata": {},
   "outputs": [],
   "source": []
  },
  {
   "cell_type": "markdown",
   "id": "7227f834",
   "metadata": {},
   "source": [
    "### 문제 9. 불리언 필터로 `age >= 50`인 행만 선택하고 `['customer_id','age','Active']` 열만 보세요."
   ]
  },
  {
   "cell_type": "code",
   "execution_count": null,
   "id": "987df9f2",
   "metadata": {},
   "outputs": [],
   "source": []
  },
  {
   "cell_type": "markdown",
   "id": "74df45f8",
   "metadata": {},
   "source": [
    "### 문제 10. 복합 조건으로 `Active == 1` AND `fashion_news_frequency == 'Regularly'`인 행을 선택하고 `['customer_id','fashion_news_frequency','age']`만 보세요."
   ]
  },
  {
   "cell_type": "code",
   "execution_count": null,
   "id": "e9fbc057",
   "metadata": {},
   "outputs": [],
   "source": []
  },
  {
   "cell_type": "markdown",
   "id": "66f4cac4",
   "metadata": {},
   "source": [
    "### 문제 11. 범주형 컬럼 `club_member_status`의 분포를 확인하세요 (`value_counts()`)."
   ]
  },
  {
   "cell_type": "code",
   "execution_count": null,
   "id": "c889f461",
   "metadata": {},
   "outputs": [],
   "source": []
  },
  {
   "cell_type": "markdown",
   "id": "d2409730",
   "metadata": {},
   "source": [
    "### 문제 12. 컬럼별 결측치 개수를 확인하세요 (`isnull().sum()`)."
   ]
  },
  {
   "cell_type": "code",
   "execution_count": null,
   "id": "c37b5422",
   "metadata": {},
   "outputs": [],
   "source": []
  },
  {
   "cell_type": "markdown",
   "id": "af2aec22",
   "metadata": {},
   "source": [
    "### 문제 13. `age >= 18`인 행만 골라 `output/hm_adults.csv`로 저장하세요 (`to_csv`)."
   ]
  },
  {
   "cell_type": "code",
   "execution_count": null,
   "id": "34f571fa",
   "metadata": {},
   "outputs": [],
   "source": []
  }
 ],
 "metadata": {
  "language_info": {
   "name": "python"
  }
 },
 "nbformat": 4,
 "nbformat_minor": 5
}
