{
 "cells": [
  {
   "cell_type": "markdown",
   "id": "ba990ae1",
   "metadata": {},
   "source": [
    "# [문제] 서울시 부동산 2024(2024.csv) — 기본 전처리 & 인덱싱/슬라이싱\n",
    "> **주의:** 아래 문제는 반드시 제공된 문법 안에서만 풀이하세요.\n",
    "- 사용 가능: `read_csv`, `to_csv`, `Series`, `DataFrame`, `head`, `shape`, `info`, `describe`, `value_counts`, `to_datetime`\n",
    "- 인덱싱/슬라이싱: `[]`, `[['col1','col2']]`, `.loc`, `.iloc`, 슬라이싱(끝 포함/제외), 불리언 필터, `&`, `|`\n",
    "- 결측치: `isnull().sum()`\n"
   ]
  },
  {
   "cell_type": "markdown",
   "id": "ee96294c",
   "metadata": {},
   "source": [
    "## 0) 환경 세팅\n",
    "- 파일 경로: `2024.csv` (인코딩: `cp949`)\n",
    "- 열(예시): `시군구명`, `법정동명`, `지번구분`, `본번`, `부번`, `건물명`, `계약일`, `물건금액(만원)`, `건물면적(㎡)`, `토지면적(㎡)`, `층`, `권리구분`, `취소일`, `건축년도`, `건물용도`, `신고구분`, `신고한 개업공인중개사 시군구명`\n"
   ]
  },
  {
   "cell_type": "code",
   "execution_count": null,
   "id": "00dfa5cc",
   "metadata": {},
   "outputs": [],
   "source": [
    "\n",
    "import pandas as pd\n",
    "\n",
    "path = \"2024.csv\"\n",
    "df = pd.read_csv(path, encoding=\"cp949\")\n",
    "print(\"로드 완료!\")"
   ]
  },
  {
   "cell_type": "markdown",
   "id": "bd676623",
   "metadata": {},
   "source": [
    "### 문제 1. 데이터 처음 5행을 확인하세요 (`head()`)."
   ]
  },
  {
   "cell_type": "code",
   "execution_count": null,
   "id": "5b6812ac",
   "metadata": {},
   "outputs": [],
   "source": [
    "\n"
   ]
  },
  {
   "cell_type": "markdown",
   "id": "b506c26c",
   "metadata": {},
   "source": [
    "### 문제 2. 데이터의 행, 열 개수를 확인하세요 (`shape`)."
   ]
  },
  {
   "cell_type": "code",
   "execution_count": null,
   "id": "a254ffcb",
   "metadata": {},
   "outputs": [],
   "source": [
    "\n"
   ]
  },
  {
   "cell_type": "markdown",
   "id": "dc30d54f",
   "metadata": {},
   "source": [
    "### 문제 3. 각 컬럼의 타입과 결측치를 포함한 요약 정보를 확인하세요 (`info()`)."
   ]
  },
  {
   "cell_type": "code",
   "execution_count": null,
   "id": "223c4d98",
   "metadata": {},
   "outputs": [],
   "source": [
    "\n"
   ]
  },
  {
   "cell_type": "markdown",
   "id": "f963c21c",
   "metadata": {},
   "source": [
    "### 문제 4. 수치형 컬럼들의 통계 요약을 확인하세요 (`describe()`)."
   ]
  },
  {
   "cell_type": "code",
   "execution_count": null,
   "id": "adf060d0",
   "metadata": {},
   "outputs": [],
   "source": [
    "\n"
   ]
  },
  {
   "cell_type": "markdown",
   "id": "d4863297",
   "metadata": {},
   "source": [
    "### 문제 5. `['시군구명','법정동명','계약일','물건금액(만원)','건물면적(㎡)']` 열만 선택해 처음 5행을 출력하세요."
   ]
  },
  {
   "cell_type": "code",
   "execution_count": null,
   "id": "11d13347",
   "metadata": {},
   "outputs": [],
   "source": [
    "\n"
   ]
  },
  {
   "cell_type": "markdown",
   "id": "a0fc9c10",
   "metadata": {},
   "source": [
    "### 문제 6. `계약일`을 날짜형으로 변환한 뒤, `info()`로 타입 변화를 확인하세요 (사용 방법 : `pd.to_datetime` -> `pd.to_datetime(df['컬럼명']`))."
   ]
  },
  {
   "cell_type": "code",
   "execution_count": null,
   "id": "41e74151",
   "metadata": {},
   "outputs": [],
   "source": [
    "\n"
   ]
  },
  {
   "cell_type": "markdown",
   "id": "4e1199e7",
   "metadata": {},
   "source": [
    "### 문제 7. `.loc`으로 0~9행(끝 포함)과 문제 5의 5개 열을 선택해 보세요."
   ]
  },
  {
   "cell_type": "code",
   "execution_count": null,
   "id": "bfdeffa2",
   "metadata": {},
   "outputs": [],
   "source": [
    "\n"
   ]
  },
  {
   "cell_type": "markdown",
   "id": "02d02267",
   "metadata": {},
   "source": [
    "### 문제 8. `.iloc`으로 0~10행(끝 제외)과 열 위치 `[0,1,6,7,8]`을 선택해 보세요."
   ]
  },
  {
   "cell_type": "code",
   "execution_count": null,
   "id": "932025e9",
   "metadata": {},
   "outputs": [],
   "source": []
  },
  {
   "cell_type": "markdown",
   "id": "ebceb7c2",
   "metadata": {},
   "source": [
    "### 문제 9. 불리언 필터로 `시군구명 == '강남구'` AND `건물면적(㎡) >= 85`인 행만 선택하고 `['시군구명','법정동명','건물면적(㎡)','물건금액(만원)']`만 보세요."
   ]
  },
  {
   "cell_type": "code",
   "execution_count": null,
   "id": "9ec28f73",
   "metadata": {},
   "outputs": [],
   "source": []
  },
  {
   "cell_type": "markdown",
   "id": "75fb979c",
   "metadata": {},
   "source": [
    "### 문제 10. `건축년도 >= 2000`인 행만 선택하고 `['시군구명','건축년도','건물용도']`를 보세요."
   ]
  },
  {
   "cell_type": "code",
   "execution_count": null,
   "id": "d798b888",
   "metadata": {},
   "outputs": [],
   "source": [
    "\n"
   ]
  },
  {
   "cell_type": "markdown",
   "id": "a62f4e69",
   "metadata": {},
   "source": [
    "### 문제 11. `건물용도`의 분포를 확인하세요 (`value_counts()`), 상위 5개만 확인(`head()`)."
   ]
  },
  {
   "cell_type": "code",
   "execution_count": null,
   "id": "f86a2094",
   "metadata": {},
   "outputs": [],
   "source": [
    "\n"
   ]
  },
  {
   "cell_type": "markdown",
   "id": "105303b3",
   "metadata": {},
   "source": [
    "### 문제 12. 컬럼별 결측치 개수를 확인하세요 (`isnull().sum()`)."
   ]
  },
  {
   "cell_type": "code",
   "execution_count": null,
   "id": "77ef494e",
   "metadata": {},
   "outputs": [],
   "source": [
    "\n"
   ]
  },
  {
   "cell_type": "markdown",
   "id": "0dce06fd",
   "metadata": {},
   "source": [
    "### 문제 13. 문제 9의 필터 결과를 `seoul2024_gangnam_85.csv`로 저장하세요 (`to_csv`)."
   ]
  },
  {
   "cell_type": "code",
   "execution_count": null,
   "id": "4ada7fc5",
   "metadata": {},
   "outputs": [],
   "source": [
    "\n"
   ]
  }
 ],
 "metadata": {
  "language_info": {
   "name": "python"
  }
 },
 "nbformat": 4,
 "nbformat_minor": 5
}
