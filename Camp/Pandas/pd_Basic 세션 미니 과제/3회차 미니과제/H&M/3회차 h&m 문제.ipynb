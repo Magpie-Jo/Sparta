{
 "cells": [
  {
   "cell_type": "markdown",
   "id": "ddb60c86",
   "metadata": {},
   "source": [
    "# H&M 고객 데이터 문제 세트 (Pandas)"
   ]
  },
  {
   "cell_type": "code",
   "execution_count": 1,
   "id": "b57678c5",
   "metadata": {},
   "outputs": [
    {
     "name": "stdout",
     "output_type": "stream",
     "text": [
      "(1048575, 6)\n"
     ]
    },
    {
     "data": {
      "text/html": [
       "<div>\n",
       "<style scoped>\n",
       "    .dataframe tbody tr th:only-of-type {\n",
       "        vertical-align: middle;\n",
       "    }\n",
       "\n",
       "    .dataframe tbody tr th {\n",
       "        vertical-align: top;\n",
       "    }\n",
       "\n",
       "    .dataframe thead th {\n",
       "        text-align: right;\n",
       "    }\n",
       "</style>\n",
       "<table border=\"1\" class=\"dataframe\">\n",
       "  <thead>\n",
       "    <tr style=\"text-align: right;\">\n",
       "      <th></th>\n",
       "      <th>customer_id</th>\n",
       "      <th>FN</th>\n",
       "      <th>Active</th>\n",
       "      <th>club_member_status</th>\n",
       "      <th>fashion_news_frequency</th>\n",
       "      <th>age</th>\n",
       "    </tr>\n",
       "  </thead>\n",
       "  <tbody>\n",
       "    <tr>\n",
       "      <th>0</th>\n",
       "      <td>00000dbacae5abe5e23885899a1fa44253a17956c6d1c3...</td>\n",
       "      <td>0</td>\n",
       "      <td>0</td>\n",
       "      <td>ACTIVE</td>\n",
       "      <td>NONE</td>\n",
       "      <td>49</td>\n",
       "    </tr>\n",
       "    <tr>\n",
       "      <th>1</th>\n",
       "      <td>0000423b00ade91418cceaf3b26c6af3dd342b51fd051e...</td>\n",
       "      <td>0</td>\n",
       "      <td>0</td>\n",
       "      <td>ACTIVE</td>\n",
       "      <td>NONE</td>\n",
       "      <td>25</td>\n",
       "    </tr>\n",
       "    <tr>\n",
       "      <th>2</th>\n",
       "      <td>000058a12d5b43e67d225668fa1f8d618c13dc232df0ca...</td>\n",
       "      <td>0</td>\n",
       "      <td>0</td>\n",
       "      <td>ACTIVE</td>\n",
       "      <td>NONE</td>\n",
       "      <td>24</td>\n",
       "    </tr>\n",
       "    <tr>\n",
       "      <th>3</th>\n",
       "      <td>00005ca1c9ed5f5146b52ac8639a40ca9d57aeff4d1bd2...</td>\n",
       "      <td>0</td>\n",
       "      <td>0</td>\n",
       "      <td>ACTIVE</td>\n",
       "      <td>NONE</td>\n",
       "      <td>54</td>\n",
       "    </tr>\n",
       "    <tr>\n",
       "      <th>4</th>\n",
       "      <td>00006413d8573cd20ed7128e53b7b13819fe5cfc2d801f...</td>\n",
       "      <td>1</td>\n",
       "      <td>1</td>\n",
       "      <td>ACTIVE</td>\n",
       "      <td>Regularly</td>\n",
       "      <td>52</td>\n",
       "    </tr>\n",
       "  </tbody>\n",
       "</table>\n",
       "</div>"
      ],
      "text/plain": [
       "                                         customer_id  FN  Active  \\\n",
       "0  00000dbacae5abe5e23885899a1fa44253a17956c6d1c3...   0       0   \n",
       "1  0000423b00ade91418cceaf3b26c6af3dd342b51fd051e...   0       0   \n",
       "2  000058a12d5b43e67d225668fa1f8d618c13dc232df0ca...   0       0   \n",
       "3  00005ca1c9ed5f5146b52ac8639a40ca9d57aeff4d1bd2...   0       0   \n",
       "4  00006413d8573cd20ed7128e53b7b13819fe5cfc2d801f...   1       1   \n",
       "\n",
       "  club_member_status fashion_news_frequency  age  \n",
       "0             ACTIVE                   NONE   49  \n",
       "1             ACTIVE                   NONE   25  \n",
       "2             ACTIVE                   NONE   24  \n",
       "3             ACTIVE                   NONE   54  \n",
       "4             ACTIVE              Regularly   52  "
      ]
     },
     "execution_count": 1,
     "metadata": {},
     "output_type": "execute_result"
    }
   ],
   "source": [
    "# ✅ 기본 설정 (수정 금지)\n",
    "import pandas as pd\n",
    "\n",
    "df = pd.read_csv(\"customer_hm.csv\")\n",
    "print(df.shape)\n",
    "df.head()"
   ]
  },
  {
   "cell_type": "markdown",
   "id": "c11524ff",
   "metadata": {},
   "source": [
    "---\n",
    "\n",
    "### 문제 1 — 그룹화: `club_member_status`별 고객 수 집계\n",
    "• `club_member_status`별 행 개수를 구하세요. (힌트: `groupby`와 `.size()` 또는 `.count()`)  \n",
    "• 결과는 Series 또는 DataFrame 형태여도 됩니다."
   ]
  },
  {
   "cell_type": "code",
   "execution_count": null,
   "id": "6731f728",
   "metadata": {},
   "outputs": [],
   "source": [
    "# TODO: 여기에서 풀이 코드를 작성하세요.\n"
   ]
  },
  {
   "cell_type": "markdown",
   "id": "0e30fa11",
   "metadata": {},
   "source": [
    "---\n",
    "\n",
    "### 문제 2 — 그룹화: `fashion_news_frequency`별 평균 나이\n",
    "• `fashion_news_frequency` 그룹별 `age`의 평균을 구하세요. (`groupby` + `.mean()`)"
   ]
  },
  {
   "cell_type": "code",
   "execution_count": null,
   "id": "115d472e",
   "metadata": {},
   "outputs": [],
   "source": [
    "# TODO: 여기에서 풀이 코드를 작성하세요.\n"
   ]
  },
  {
   "cell_type": "markdown",
   "id": "e4477189",
   "metadata": {},
   "source": [
    "---\n",
    "\n",
    "### 문제 3 — 그룹화: `club_member_status`와 `Active` 복합 그룹의 `FN` 평균(=구독률)\n",
    "• `['club_member_status', 'Active']`로 그룹화하여 `FN`의 평균을 구하세요. (0/1 평균은 비율로 해석 가능)"
   ]
  },
  {
   "cell_type": "code",
   "execution_count": null,
   "id": "3a057de3",
   "metadata": {},
   "outputs": [],
   "source": [
    "# TODO: 여기에서 풀이 코드를 작성하세요.\n"
   ]
  },
  {
   "cell_type": "markdown",
   "id": "37fca938",
   "metadata": {},
   "source": [
    "---\n",
    "\n",
    "### 문제 4 — 문자열: `customer_id` 길이 계산\n",
    "• `customer_id`의 문자 길이를 계산한 `id_len` 열을 추가하세요. (`.str.len()`)  \n",
    "• 추가로, `id_len`의 최솟값/최댓값을 출력하세요."
   ]
  },
  {
   "cell_type": "code",
   "execution_count": null,
   "id": "a1bd3b1b",
   "metadata": {},
   "outputs": [],
   "source": [
    "# TODO: 여기에서 풀이 코드를 작성하세요.\n"
   ]
  },
  {
   "cell_type": "markdown",
   "id": "f6bce786",
   "metadata": {},
   "source": [
    "---\n",
    "\n",
    "### 문제 5 — 문자열: 아이디 접두(prefix) 추출 및 빈도\n",
    "• `customer_id`의 앞 8글자를 추출하여 `id_prefix` 열로 저장하세요. (`.str[:8]`)  \n",
    "• `id_prefix`의 상위 10개 빈도를 구하세요. (`value_counts().head(10)`)"
   ]
  },
  {
   "cell_type": "code",
   "execution_count": null,
   "id": "5ba9156a",
   "metadata": {},
   "outputs": [],
   "source": [
    "# TODO: 여기에서 풀이 코드를 작성하세요.\n"
   ]
  },
  {
   "cell_type": "markdown",
   "id": "f41fbaff",
   "metadata": {},
   "source": [
    "---\n",
    "\n",
    "### 문제 6 — 문자열: `fashion_news_frequency` 소문자화\n",
    "• `fashion_news_frequency` 값을 모두 소문자로 변환하여 `fn_lower` 열에 저장하세요. (`.str.lower()`)  \n",
    "• 변환 후 고유값을 출력하세요. (`.unique()`)"
   ]
  },
  {
   "cell_type": "code",
   "execution_count": null,
   "id": "f928212e",
   "metadata": {},
   "outputs": [],
   "source": [
    "# TODO: 여기에서 풀이 코드를 작성하세요.\n"
   ]
  },
  {
   "cell_type": "markdown",
   "id": "a305f120",
   "metadata": {},
   "source": [
    "---\n",
    "\n",
    "### 문제 7 — map: `club_member_status`를 한글 라벨로 매핑\n",
    "• 매핑 사전 예시: `{{'ACTIVE': '활동', 'PRE-CREATE': '사전생성', 'LEFT': '탈퇴'}}`  \n",
    "• `status_ko` 열로 저장하고, 각 라벨별 개수를 구하세요. (`.map` + `value_counts()`)"
   ]
  },
  {
   "cell_type": "code",
   "execution_count": null,
   "id": "65662a53",
   "metadata": {},
   "outputs": [],
   "source": [
    "# TODO: 여기에서 풀이 코드를 작성하세요.\n"
   ]
  },
  {
   "cell_type": "markdown",
   "id": "f661cbc2",
   "metadata": {},
   "source": [
    "---\n",
    "\n",
    "### 문제 8 — apply/lambda: 나이대 구간화\n",
    "• `age`를 기준으로 `age_group`을 생성하세요. 규칙 예시: `<20: '10대', 20~39: '20-30대', 40~59: '40-50대', 60+: '60대+'`.  \n",
    "• 각 나이대별 고객 수를 구하세요."
   ]
  },
  {
   "cell_type": "code",
   "execution_count": null,
   "id": "d21325f1",
   "metadata": {},
   "outputs": [],
   "source": [
    "# TODO: 여기에서 풀이 코드를 작성하세요.\n"
   ]
  },
  {
   "cell_type": "markdown",
   "id": "43e7dbcc",
   "metadata": {},
   "source": [
    "---\n",
    "\n",
    "### 문제 9 — 시간: 출생연도(근사) → datetime 변환\n",
    "• `approx_birth_year = 2024 - age` 로 계산 후, 문자열 `'YYYY-01-01'`을 만들어 `pd.to_datetime`으로 변환하여 `birthdate` 열을 만드세요.  \n",
    "• `birthdate.dt.year`를 확인하고, 출생연도(근사)별 고객 수를 집계하세요."
   ]
  },
  {
   "cell_type": "code",
   "execution_count": null,
   "id": "7ef3f903",
   "metadata": {},
   "outputs": [],
   "source": [
    "# TODO: 여기에서 풀이 코드를 작성하세요.\n"
   ]
  },
  {
   "cell_type": "markdown",
   "id": "1459f257",
   "metadata": {},
   "source": [
    "---\n",
    "\n",
    "### 문제 10 — 시간: 멤버십 가입일 가정 → 재직일수(근사)\n",
    "• 상태별 가상의 가입일 매핑을 만드세요. 예시: `ACTIVE → '2020-01-01'`, `PRE-CREATE → '2024-01-01'`, `LEFT → '2019-01-01'`.  \n",
    "• 이를 `member_since` 문자열 열로 만든 뒤 `pd.to_datetime`으로 변환하고, 기준일 `'2024-12-31'`와의 일수 차(`tenure_days`)를 계산하세요. (`.dt`/timedelta)"
   ]
  },
  {
   "cell_type": "code",
   "execution_count": null,
   "id": "1ac2052a",
   "metadata": {},
   "outputs": [],
   "source": [
    "# TODO: 여기에서 풀이 코드를 작성하세요.\n"
   ]
  },
  {
   "cell_type": "markdown",
   "id": "7ae0b039",
   "metadata": {},
   "source": [
    "---\n",
    "\n",
    "### 문제 11 — Merge: 뉴스 구독 빈도 매핑 병합\n",
    "• 다음과 같은 매핑 DataFrame을 생성하세요: \n",
    "  `map_df = pd.DataFrame({{'fashion_news_frequency': ['NONE','Monthly','Regularly'], 'fn_rank': [0,1,2]}})`  \n",
    "• `df`와 `map_df`를 `fashion_news_frequency` 기준으로 **left merge**하여 `fn_rank` 열을 추가하세요."
   ]
  },
  {
   "cell_type": "code",
   "execution_count": null,
   "id": "a6223f42",
   "metadata": {},
   "outputs": [],
   "source": [
    "# TODO: 여기에서 풀이 코드를 작성하세요.\n"
   ]
  },
  {
   "cell_type": "markdown",
   "id": "74b6fd3d",
   "metadata": {},
   "source": [
    "---\n",
    "\n",
    "### 문제 12 — Concat: 짝수/홀수 인덱스 분할 후 복원\n",
    "• 짝수 인덱스만 담은 `df_even`, 홀수 인덱스만 담은 `df_odd`를 만든 뒤 `pd.concat([df_even, df_odd], axis=0)`으로 다시 합치세요.  \n",
    "• 원본 행 수와 동일한지 확인하세요."
   ]
  },
  {
   "cell_type": "code",
   "execution_count": null,
   "id": "2ff68eb2",
   "metadata": {},
   "outputs": [],
   "source": [
    "# TODO: 여기에서 풀이 코드를 작성하세요.\n"
   ]
  }
 ],
 "metadata": {
  "kernelspec": {
   "display_name": "Python 3",
   "language": "python",
   "name": "python3"
  },
  "language_info": {
   "codemirror_mode": {
    "name": "ipython",
    "version": 3
   },
   "file_extension": ".py",
   "mimetype": "text/x-python",
   "name": "python",
   "nbconvert_exporter": "python",
   "pygments_lexer": "ipython3",
   "version": "3.12.0"
  }
 },
 "nbformat": 4,
 "nbformat_minor": 5
}
