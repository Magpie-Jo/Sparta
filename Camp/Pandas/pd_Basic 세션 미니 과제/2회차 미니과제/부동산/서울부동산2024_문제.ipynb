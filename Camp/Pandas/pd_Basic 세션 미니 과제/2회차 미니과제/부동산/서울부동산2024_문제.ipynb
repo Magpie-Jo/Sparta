{
 "cells": [
  {
   "cell_type": "markdown",
   "id": "d49f33ba",
   "metadata": {},
   "source": [
    "# 서울시 부동산 2024 (2024.csv)\n",
    "\n",
    "## 문제 0 - 데이터 로딩\n",
    "데이터는 다음 경로에서 읽어옵니다: `2024.csv`  \n",
    "encoding=\"cp949\" 옵션 권장"
   ]
  },
  {
   "cell_type": "code",
   "execution_count": null,
   "id": "0f730697",
   "metadata": {},
   "outputs": [],
   "source": [
    "# TODO: 여기에서 코드를 작성하세요.\n"
   ]
  },
  {
   "cell_type": "markdown",
   "id": "aa75ad21",
   "metadata": {},
   "source": [
    "### 문제 1 — 조건 필터링(AND)\n",
    "- 자치구명이 '강남구' **이면서** 건물용도가 '오피스텔'인 행만 필터링하세요."
   ]
  },
  {
   "cell_type": "code",
   "execution_count": null,
   "id": "752c4a42",
   "metadata": {},
   "outputs": [],
   "source": [
    "# TODO: 여기에서 코드를 작성하세요.\n"
   ]
  },
  {
   "cell_type": "markdown",
   "id": "ada6dd42",
   "metadata": {},
   "source": [
    "### 문제 2 — 조건 필터링(OR)\n",
    "- 층(`층`)이 10층 이상 **또는** 물건금액(만원)이 100000 이상인 행만 필터링하세요."
   ]
  },
  {
   "cell_type": "code",
   "execution_count": null,
   "id": "35af9242",
   "metadata": {},
   "outputs": [],
   "source": [
    "# TODO: 여기에서 코드를 작성하세요.\n"
   ]
  },
  {
   "cell_type": "markdown",
   "id": "18e0a906",
   "metadata": {},
   "source": [
    "### 문제 3 — 결측치 조건\n",
    "- 취소일이 결측(`NaN`)인 행만 필터링하세요. (거래 취소가 없는 건)"
   ]
  },
  {
   "cell_type": "code",
   "execution_count": null,
   "id": "86b949d0",
   "metadata": {},
   "outputs": [],
   "source": [
    "# TODO: 여기에서 코드를 작성하세요.\n"
   ]
  },
  {
   "cell_type": "markdown",
   "id": "9477c5ce",
   "metadata": {},
   "source": [
    "### 문제 4 — 특정 값 필터링\n",
    "- 신고구분이 '직거래'인 행만 필터링하세요."
   ]
  },
  {
   "cell_type": "code",
   "execution_count": null,
   "id": "3bce8fec",
   "metadata": {},
   "outputs": [],
   "source": [
    "# TODO: 여기에서 코드를 작성하세요.\n"
   ]
  },
  {
   "cell_type": "markdown",
   "id": "9dad654d",
   "metadata": {},
   "source": [
    "### 문제 5 — 정렬\n",
    "- 물건금액(만원) 기준 **내림차순** 정렬 후 상위 10행을 출력하세요."
   ]
  },
  {
   "cell_type": "code",
   "execution_count": null,
   "id": "a967bb0f",
   "metadata": {},
   "outputs": [],
   "source": [
    "# TODO: 여기에서 코드를 작성하세요.\n"
   ]
  },
  {
   "cell_type": "markdown",
   "id": "0a5e7c89",
   "metadata": {},
   "source": [
    "### 문제 6 — 다중 정렬\n",
    "- 건축년도 **오름차순**, 건물면적(㎡) **내림차순**으로 다중 정렬하세요."
   ]
  },
  {
   "cell_type": "code",
   "execution_count": null,
   "id": "51b97b66",
   "metadata": {},
   "outputs": [],
   "source": [
    "# TODO: 여기에서 코드를 작성하세요.\n"
   ]
  },
  {
   "cell_type": "markdown",
   "id": "4b69bda4",
   "metadata": {},
   "source": [
    "### 문제 7 — 열 제거\n",
    "- 분석에 불필요하다고 가정하고 `권리구분` 열을 제거한 새로운 DataFrame을 만들고 컬럼 목록을 출력하세요."
   ]
  },
  {
   "cell_type": "code",
   "execution_count": null,
   "id": "b1348759",
   "metadata": {},
   "outputs": [],
   "source": [
    "# TODO: 여기에서 코드를 작성하세요.\n"
   ]
  },
  {
   "cell_type": "markdown",
   "id": "dafed8b9",
   "metadata": {},
   "source": [
    "### 문제 8 — 열 이름 변경\n",
    "- `물건금액(만원)`→`거래금액_만원`, `건물면적(㎡)`→`건물면적_m2`, `토지면적(㎡)`→`토지면적_m2`로 변경하세요."
   ]
  },
  {
   "cell_type": "code",
   "execution_count": null,
   "id": "41e0eaa9",
   "metadata": {},
   "outputs": [],
   "source": [
    "# TODO: 여기에서 코드를 작성하세요.\n"
   ]
  },
  {
   "cell_type": "markdown",
   "id": "5ccab39d",
   "metadata": {},
   "source": [
    "### 문제 9 — 결측치 개수\n",
    "- 각 열의 결측치 개수를 한 번에 확인하세요."
   ]
  },
  {
   "cell_type": "code",
   "execution_count": null,
   "id": "4a7fe3a4",
   "metadata": {},
   "outputs": [],
   "source": [
    "# TODO: 여기에서 코드를 작성하세요.\n"
   ]
  },
  {
   "cell_type": "markdown",
   "id": "27576de5",
   "metadata": {},
   "source": [
    "### 문제 10 — 결측치 채우기(수치형)\n",
    "- 건축년도 결측치를 건축년도 **중앙값**으로 채운 새 DataFrame을 만들고, 채운 후 해당 열의 결측치 개수를 출력하세요."
   ]
  },
  {
   "cell_type": "code",
   "execution_count": null,
   "id": "55ebbe1f",
   "metadata": {},
   "outputs": [],
   "source": [
    "# TODO: 여기에서 코드를 작성하세요.\n"
   ]
  },
  {
   "cell_type": "markdown",
   "id": "d03e2bde",
   "metadata": {},
   "source": [
    "### 문제 11 — 결측치 채우기(문자열)\n",
    "- 건물명 결측치를 '미기재'로 채우고, 채운 후 해당 열의 결측치 개수를 출력하세요."
   ]
  },
  {
   "cell_type": "code",
   "execution_count": null,
   "id": "9f4b86ee",
   "metadata": {},
   "outputs": [],
   "source": [
    "# TODO: 여기에서 코드를 작성하세요.\n"
   ]
  },
  {
   "cell_type": "markdown",
   "id": "35ae3946",
   "metadata": {},
   "source": [
    "### 문제 12 — 중복 확인 및 제거(subset)\n",
    "- 중복 기준을 `['자치구명','법정동명','계약일','건물면적(㎡)','물건금액(만원)']`으로 하여 중복 개수를 확인하고, 이를 기준으로 중복을 제거한 뒤 제거 전/후 행 수를 비교하세요."
   ]
  },
  {
   "cell_type": "code",
   "execution_count": null,
   "id": "9ddb97ca",
   "metadata": {},
   "outputs": [],
   "source": [
    "# TODO: 여기에서 코드를 작성하세요.\n"
   ]
  }
 ],
 "metadata": {
  "language_info": {
   "name": "python"
  }
 },
 "nbformat": 4,
 "nbformat_minor": 5
}
