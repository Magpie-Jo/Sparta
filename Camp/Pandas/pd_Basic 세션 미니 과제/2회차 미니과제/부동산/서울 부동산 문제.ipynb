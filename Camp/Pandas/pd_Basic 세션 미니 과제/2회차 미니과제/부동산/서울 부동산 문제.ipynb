{
 "cells": [
  {
   "cell_type": "markdown",
   "id": "941eeadd",
   "metadata": {},
   "source": [
    "# 서울시 부동산 2024 데이터 문제 세트 (Pandas)"
   ]
  },
  {
   "cell_type": "code",
   "execution_count": null,
   "id": "751fd676",
   "metadata": {},
   "outputs": [],
   "source": [
    "# ✅ 기본 설정 (수정 금지)\n",
    "import pandas as pd\n",
    "\n",
    "df = pd.read_csv(\"2024.csv\", encoding=\"cp949\")\n",
    "print(df.shape)\n",
    "df.head()"
   ]
  },
  {
   "cell_type": "markdown",
   "id": "de25edd8",
   "metadata": {},
   "source": [
    "---\n",
    "\n",
    "### 문제 1 — 시간: `계약일`을 datetime으로 변환\n",
    "• `계약일`(예: 20241014)을 문자열로 바꾼 뒤 `format='%Y%m%d'`로 `pd.to_datetime` 하여 `계약일_dt` 열을 만드세요."
   ]
  },
  {
   "cell_type": "code",
   "execution_count": null,
   "id": "5f87b543",
   "metadata": {},
   "outputs": [],
   "source": [
    "# TODO: 여기에서 풀이 코드를 작성하세요.\n"
   ]
  },
  {
   "cell_type": "markdown",
   "id": "b07c291c",
   "metadata": {},
   "source": [
    "---\n",
    "\n",
    "### 문제 2 — 시간: 계약 연/월/일 추출\n",
    "• `계약일_dt`에서 연(`year`), 월(`month`), 일(`day`)을 각각 `계약연`, `계약월`, `계약일자` 열로 추출하세요. (`.dt`)"
   ]
  },
  {
   "cell_type": "code",
   "execution_count": null,
   "id": "d3116d99",
   "metadata": {},
   "outputs": [],
   "source": [
    "# TODO: 여기에서 풀이 코드를 작성하세요.\n"
   ]
  },
  {
   "cell_type": "markdown",
   "id": "3432840b",
   "metadata": {},
   "source": [
    "---\n",
    "\n",
    "### 문제 3 — 그룹화: 자치구별 평균 거래금액\n",
    "• `자치구명`별 `물건금액(만원)`의 평균을 구하세요. (결과를 내림차순 정렬해도 무방)"
   ]
  },
  {
   "cell_type": "code",
   "execution_count": null,
   "id": "f5d0fcf8",
   "metadata": {},
   "outputs": [],
   "source": [
    "# TODO: 여기에서 풀이 코드를 작성하세요.\n"
   ]
  },
  {
   "cell_type": "markdown",
   "id": "a0c9832c",
   "metadata": {},
   "source": [
    "---\n",
    "\n",
    "### 문제 4 — 그룹화: (자치구, 건물용도)별 건수와 평균금액\n",
    "• `['자치구명','건물용도']`로 그룹화하여 건수(`.size()` 또는 `.count()`)와 평균금액(`mean`)을 함께 구하세요. (`.agg`)"
   ]
  },
  {
   "cell_type": "code",
   "execution_count": null,
   "id": "7452335a",
   "metadata": {},
   "outputs": [],
   "source": [
    "# TODO: 여기에서 풀이 코드를 작성하세요.\n"
   ]
  },
  {
   "cell_type": "markdown",
   "id": "e5c0b477",
   "metadata": {},
   "source": [
    "---\n",
    "\n",
    "### 문제 5 — 문자열: '빌라' 포함 거래수\n",
    "• `건물명`에 '빌라' 문자열이 **포함**된 행만 필터링하여 몇 건인지 구하세요."
   ]
  },
  {
   "cell_type": "code",
   "execution_count": null,
   "id": "50f358ff",
   "metadata": {},
   "outputs": [],
   "source": [
    "# TODO: 여기에서 풀이 코드를 작성하세요.\n"
   ]
  },
  {
   "cell_type": "markdown",
   "id": "a8d15638",
   "metadata": {},
   "source": [
    "---\n",
    "\n",
    "### 문제 6 — 문자열: 법정동명의 마지막 글자 빈도\n",
    "• `법정동명`의 마지막 글자를 추출해 `동_끝글자` 열로 저장하고, 빈도 상위 10개를 구하세요. (`.str[-1]`)"
   ]
  },
  {
   "cell_type": "code",
   "execution_count": null,
   "id": "39a47f78",
   "metadata": {},
   "outputs": [],
   "source": [
    "# TODO: 여기에서 풀이 코드를 작성하세요.\n"
   ]
  },
  {
   "cell_type": "markdown",
   "id": "d2205fa9",
   "metadata": {},
   "source": [
    "---\n",
    "\n",
    "### 문제 7 — apply/lambda: ㎡당 단가(만원) 계산\n",
    "• 각 행에 대해 `단가_만원_㎡ = 물건금액(만원) / 건물면적(㎡)` 열을 `DataFrame.apply`(axis=1)로 계산하세요.  \n",
    "• 계산 후, 자치구별 평균 단가를 구하세요."
   ]
  },
  {
   "cell_type": "code",
   "execution_count": null,
   "id": "a9e33772",
   "metadata": {},
   "outputs": [],
   "source": [
    "# TODO: 여기에서 풀이 코드를 작성하세요.\n"
   ]
  },
  {
   "cell_type": "markdown",
   "id": "55a7ee1a",
   "metadata": {},
   "source": [
    "---\n",
    "\n",
    "### 문제 8 — map: 신고구분 설명 라벨 추가\n",
    "• 매핑 사전 예시: `{{'중개거래': '중개사 통해 거래', '직거래': '직접 거래'}}` → `신고구분_설명` 열을 추가하세요."
   ]
  },
  {
   "cell_type": "code",
   "execution_count": null,
   "id": "10c28bcd",
   "metadata": {},
   "outputs": [],
   "source": [
    "# TODO: 여기에서 풀이 코드를 작성하세요.\n"
   ]
  },
  {
   "cell_type": "markdown",
   "id": "7bee4ba4",
   "metadata": {},
   "source": [
    "---\n",
    "\n",
    "### 문제 9 — Merge: 자치구 권역 라벨 병합\n",
    "• 다음과 같은 매핑 DataFrame을 생성하세요 (예시는 일부 자치구만 포함):  \n",
    "  `zone_df = pd.DataFrame({{'자치구명':['강서구','영등포구','성동구','서대문구','은평구','동대문구','금천구'], '권역':['서남권','서남권','동북권','서북권','서북권','동북권','서남권']}})`  \n",
    "\n",
    "\n",
    "• `df`와 `zone_df`를 `자치구명` 기준으로 **merge**하여 `권역` 열을 추가하세요. (merge를 선택해서 수행하세요 -> 선택한 merge에는 이유가 있어야 함)"
   ]
  },
  {
   "cell_type": "code",
   "execution_count": null,
   "id": "b9e08437",
   "metadata": {},
   "outputs": [],
   "source": [
    "# TODO: 여기에서 풀이 코드를 작성하세요.\n"
   ]
  },
  {
   "cell_type": "markdown",
   "id": "38cdb3fe",
   "metadata": {},
   "source": [
    "---\n",
    "\n",
    "### 문제 10 — Concat: 짝수/홀수 인덱스 분할 후 복원\n",
    "• `df_even = df.iloc[::2]`, `df_odd = df.iloc[1::2]`로 분할 후 `pd.concat`으로 다시 합치고, 원본 행 수와 같은지 확인하세요."
   ]
  },
  {
   "cell_type": "code",
   "execution_count": null,
   "id": "62f16f2c",
   "metadata": {},
   "outputs": [],
   "source": [
    "# TODO: 여기에서 풀이 코드를 작성하세요.\n"
   ]
  },
  {
   "cell_type": "markdown",
   "id": "eb97c6d6",
   "metadata": {},
   "source": [
    "---\n",
    "\n",
    "### 문제 11 — 시간: 취소일과의 차이(일수) 계산\n",
    " • `취소일`을 `pd.to_datetime(..., format='%Y%m%d', errors='coerce')`로 변환한 `취소일_dt` 열을 만들고,  \n",
    "• `취소일_dt - 계약일_dt`의 일수 차(`days_to_cancel`)를 계산하세요."
   ]
  },
  {
   "cell_type": "code",
   "execution_count": null,
   "id": "9b11ed77",
   "metadata": {},
   "outputs": [],
   "source": [
    "# TODO: 여기에서 풀이 코드를 작성하세요.\n",
    "# 먼저 취소일 결측치를 없애고 계산 -> 그렇지 않으면 NaT(Not a Time) 값이 다수 나옴.\n",
    "df = df.dropna(subset=['취소일'])"
   ]
  },
  {
   "cell_type": "markdown",
   "id": "75b89177",
   "metadata": {},
   "source": [
    "---\n",
    "\n",
    "### 문제 12 — 문자열: 건물명 괄호 제거\n",
    "• `건물명`에서 괄호 '('와 ')'를 제거한 `건물명_clean` 열을 만드세요. (`.str.replace('(', '')` 연쇄 사용 또는 정규표현식 사용 가능)"
   ]
  },
  {
   "cell_type": "code",
   "execution_count": null,
   "id": "3b37701e",
   "metadata": {},
   "outputs": [],
   "source": [
    "# TODO: 여기에서 풀이 코드를 작성하세요.\n"
   ]
  }
 ],
 "metadata": {
  "language_info": {
   "name": "python",
   "pygments_lexer": "ipython3"
  }
 },
 "nbformat": 4,
 "nbformat_minor": 5
}
