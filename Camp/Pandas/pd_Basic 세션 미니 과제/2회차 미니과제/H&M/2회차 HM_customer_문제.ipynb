{
 "cells": [
  {
   "cell_type": "markdown",
   "id": "ffce48dc",
   "metadata": {},
   "source": [
    "# H&M 고객 데이터 (customer_hm.csv)\n",
    "\n",
    "\n",
    "## 문제 0 - 데이터 로딩\n",
    "데이터는 다음 경로에서 읽어옵니다: `customer_hm.csv`"
   ]
  },
  {
   "cell_type": "code",
   "execution_count": 2,
   "id": "5f9cd0c2",
   "metadata": {},
   "outputs": [],
   "source": [
    "# TODO: 여기에서 코드를 작성하세요.\n"
   ]
  },
  {
   "cell_type": "markdown",
   "id": "5c3d6935",
   "metadata": {},
   "source": [
    "### 문제 1 — 조건 필터링\n",
    "- 나이가 40세 이상인 고객 행만 필터링하여 첫 5행을 출력하고, 행 개수를 함께 출력하세요."
   ]
  },
  {
   "cell_type": "code",
   "execution_count": null,
   "id": "8ceb9304",
   "metadata": {},
   "outputs": [],
   "source": [
    "# TODO: 여기에서 코드를 작성하세요.\n"
   ]
  },
  {
   "cell_type": "markdown",
   "id": "891a7328",
   "metadata": {},
   "source": [
    "### 문제 2 — 다중 조건(AND)\n",
    "- 클럽 회원 상태가 'ACTIVE' 이면서 `FN` 값이 1인 고객만 필터링하세요."
   ]
  },
  {
   "cell_type": "code",
   "execution_count": null,
   "id": "f900f0fa",
   "metadata": {},
   "outputs": [],
   "source": [
    "# TODO: 여기에서 코드를 작성하세요.\n"
   ]
  },
  {
   "cell_type": "markdown",
   "id": "3ebbe047",
   "metadata": {},
   "source": [
    "### 문제 3 — 다중 조건(OR)\n",
    "- 나이가 18세 미만 **또는** 65세 이상인 고객만 필터링하세요."
   ]
  },
  {
   "cell_type": "code",
   "execution_count": null,
   "id": "f9f36fe3",
   "metadata": {},
   "outputs": [],
   "source": [
    "# TODO: 여기에서 코드를 작성하세요.\n"
   ]
  },
  {
   "cell_type": "markdown",
   "id": "9ce84781",
   "metadata": {},
   "source": [
    "### 문제 4 — 다중 조건(특정 값들)\n",
    "- `fashion_news_frequency`가 'Monthly' **또는** 'Regularly'인 고객만 필터링하세요."
   ]
  },
  {
   "cell_type": "code",
   "execution_count": null,
   "id": "5e255240",
   "metadata": {},
   "outputs": [],
   "source": [
    "# TODO: 여기에서 코드를 작성하세요.\n"
   ]
  },
  {
   "cell_type": "markdown",
   "id": "66a5b576",
   "metadata": {},
   "source": [
    "### 문제 5 — 결측치 조건\n",
    "- `fashion_news_frequency`가 결측(`NaN`)인 고객만 필터링하세요."
   ]
  },
  {
   "cell_type": "code",
   "execution_count": null,
   "id": "c42eb58e",
   "metadata": {},
   "outputs": [],
   "source": [
    "# TODO: 여기에서 코드를 작성하세요.\n"
   ]
  },
  {
   "cell_type": "markdown",
   "id": "16609d51",
   "metadata": {},
   "source": [
    "### 문제 6 — 정렬\n",
    "- 나이(`age`) 기준 **내림차순**으로 정렬하여 상위 5명을 출력하세요."
   ]
  },
  {
   "cell_type": "code",
   "execution_count": null,
   "id": "ca56efdb",
   "metadata": {},
   "outputs": [],
   "source": [
    "# TODO: 여기에서 코드를 작성하세요.\n"
   ]
  },
  {
   "cell_type": "markdown",
   "id": "bb8edb04",
   "metadata": {},
   "source": [
    "### 문제 7 — 다중 정렬\n",
    "- `Active` **내림차순**, `age` **오름차순** 순서로 다중 정렬하세요."
   ]
  },
  {
   "cell_type": "code",
   "execution_count": null,
   "id": "67a42fc4",
   "metadata": {},
   "outputs": [],
   "source": [
    "# TODO: 여기에서 코드를 작성하세요.\n"
   ]
  },
  {
   "cell_type": "markdown",
   "id": "132f5199",
   "metadata": {},
   "source": [
    "### 문제 8 — 열 제거\n",
    "- 분석에 불필요하다고 가정하고 `FN` 열을 **제거**한 새로운 DataFrame을 만들어 컬럼 목록을 출력하세요."
   ]
  },
  {
   "cell_type": "code",
   "execution_count": null,
   "id": "85b969dd",
   "metadata": {},
   "outputs": [],
   "source": [
    "# TODO: 여기에서 코드를 작성하세요.\n"
   ]
  },
  {
   "cell_type": "markdown",
   "id": "ada39967",
   "metadata": {},
   "source": [
    "### 문제 9 — 열 이름 변경\n",
    "- `age`를 `나이`, `Active`를 `활성`으로 **열 이름 변경**한 DataFrame을 만들어 컬럼 목록을 출력하세요."
   ]
  },
  {
   "cell_type": "code",
   "execution_count": null,
   "id": "383d4c70",
   "metadata": {},
   "outputs": [],
   "source": [
    "# TODO: 여기에서 코드를 작성하세요.\n"
   ]
  },
  {
   "cell_type": "markdown",
   "id": "f4846d4e",
   "metadata": {},
   "source": [
    "### 문제 10 — 결측치 개수\n",
    "- 각 열의 결측치 개수를 한 번에 확인하세요."
   ]
  },
  {
   "cell_type": "code",
   "execution_count": null,
   "id": "48cafb0f",
   "metadata": {},
   "outputs": [],
   "source": [
    "# TODO: 여기에서 코드를 작성하세요.\n"
   ]
  },
  {
   "cell_type": "markdown",
   "id": "828a9519",
   "metadata": {},
   "source": [
    "### 문제 11 — 결측치 채우기\n",
    "- 문제 10번에서 확인한 결측치를 합당한 이유에 맞게 삭제 or 대체해보세요!"
   ]
  },
  {
   "cell_type": "code",
   "execution_count": null,
   "id": "ed052bad",
   "metadata": {},
   "outputs": [],
   "source": [
    "# TODO: 여기에서 코드를 작성하세요.\n"
   ]
  },
  {
   "cell_type": "markdown",
   "id": "bfce2e12",
   "metadata": {},
   "source": [
    "### 문제 12 — 중복 확인 및 제거\n",
    "- 중복 행 개수를 확인하고(`duplicated().sum()`), 중복을 제거한 DataFrame을 만든 뒤 제거 전/후 행 개수를 비교하세요."
   ]
  },
  {
   "cell_type": "code",
   "execution_count": null,
   "id": "89fba80e",
   "metadata": {},
   "outputs": [],
   "source": [
    "# TODO: 여기에서 코드를 작성하세요.\n"
   ]
  }
 ],
 "metadata": {
  "kernelspec": {
   "display_name": "data6",
   "language": "python",
   "name": "python3"
  },
  "language_info": {
   "codemirror_mode": {
    "name": "ipython",
    "version": 3
   },
   "file_extension": ".py",
   "mimetype": "text/x-python",
   "name": "python",
   "nbconvert_exporter": "python",
   "pygments_lexer": "ipython3",
   "version": "3.10.12"
  }
 },
 "nbformat": 4,
 "nbformat_minor": 5
}
