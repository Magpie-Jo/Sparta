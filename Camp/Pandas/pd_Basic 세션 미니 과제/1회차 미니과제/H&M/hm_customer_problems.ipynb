{
 "cells": [
  {
   "cell_type": "markdown",
   "id": "54abed31",
   "metadata": {},
   "source": [
    "# [문제] H&M 고객 데이터(customer_hm.csv) — 기본 전처리 & 인덱싱/슬라이싱\n",
    "> **주의:** 아래 문제는 반드시 제공된 문법 안에서만 풀이하세요.\n",
    "- 사용 가능: `read_csv`, `to_csv`, `Series`, `DataFrame`, `head`, `shape`, `info`, `describe`, `value_counts`\n",
    "- 인덱싱/슬라이싱: `[]`, `[['col1','col2']]`, `.loc`, `.iloc`, 슬라이싱(끝 포함/제외), 불리언 필터, `&`, `|`\n",
    "- 결측치: `isnull().sum()`\n"
   ]
  },
  {
   "cell_type": "markdown",
   "id": "6de72f62",
   "metadata": {},
   "source": [
    "## 0) 환경 세팅\n",
    "- 파일 경로: `/mnt/data/customer_hm.csv`\n",
    "- 열(예시): `customer_id`, `FN`, `Active`, `club_member_status`, `fashion_news_frequency`, `age`\n"
   ]
  },
  {
   "cell_type": "code",
   "execution_count": 2,
   "id": "9ea230ca",
   "metadata": {},
   "outputs": [
    {
     "name": "stdout",
     "output_type": "stream",
     "text": [
      "로드 완료!\n"
     ]
    }
   ],
   "source": [
    "\n",
    "import pandas as pd\n",
    "\n",
    "df = pd.read_csv('customer_hm.csv')\n",
    "print(\"로드 완료!\")"
   ]
  },
  {
   "cell_type": "markdown",
   "id": "07ae4391",
   "metadata": {},
   "source": [
    "### 문제 1. 데이터 처음 5행을 확인하세요 (`head()`)."
   ]
  },
  {
   "cell_type": "code",
   "execution_count": 3,
   "id": "4f1b5c4f",
   "metadata": {},
   "outputs": [
    {
     "data": {
      "text/html": [
       "<div>\n",
       "<style scoped>\n",
       "    .dataframe tbody tr th:only-of-type {\n",
       "        vertical-align: middle;\n",
       "    }\n",
       "\n",
       "    .dataframe tbody tr th {\n",
       "        vertical-align: top;\n",
       "    }\n",
       "\n",
       "    .dataframe thead th {\n",
       "        text-align: right;\n",
       "    }\n",
       "</style>\n",
       "<table border=\"1\" class=\"dataframe\">\n",
       "  <thead>\n",
       "    <tr style=\"text-align: right;\">\n",
       "      <th></th>\n",
       "      <th>customer_id</th>\n",
       "      <th>FN</th>\n",
       "      <th>Active</th>\n",
       "      <th>club_member_status</th>\n",
       "      <th>fashion_news_frequency</th>\n",
       "      <th>age</th>\n",
       "    </tr>\n",
       "  </thead>\n",
       "  <tbody>\n",
       "    <tr>\n",
       "      <th>0</th>\n",
       "      <td>00000dbacae5abe5e23885899a1fa44253a17956c6d1c3...</td>\n",
       "      <td>0</td>\n",
       "      <td>0</td>\n",
       "      <td>ACTIVE</td>\n",
       "      <td>NONE</td>\n",
       "      <td>49</td>\n",
       "    </tr>\n",
       "    <tr>\n",
       "      <th>1</th>\n",
       "      <td>0000423b00ade91418cceaf3b26c6af3dd342b51fd051e...</td>\n",
       "      <td>0</td>\n",
       "      <td>0</td>\n",
       "      <td>ACTIVE</td>\n",
       "      <td>NONE</td>\n",
       "      <td>25</td>\n",
       "    </tr>\n",
       "    <tr>\n",
       "      <th>2</th>\n",
       "      <td>000058a12d5b43e67d225668fa1f8d618c13dc232df0ca...</td>\n",
       "      <td>0</td>\n",
       "      <td>0</td>\n",
       "      <td>ACTIVE</td>\n",
       "      <td>NONE</td>\n",
       "      <td>24</td>\n",
       "    </tr>\n",
       "    <tr>\n",
       "      <th>3</th>\n",
       "      <td>00005ca1c9ed5f5146b52ac8639a40ca9d57aeff4d1bd2...</td>\n",
       "      <td>0</td>\n",
       "      <td>0</td>\n",
       "      <td>ACTIVE</td>\n",
       "      <td>NONE</td>\n",
       "      <td>54</td>\n",
       "    </tr>\n",
       "    <tr>\n",
       "      <th>4</th>\n",
       "      <td>00006413d8573cd20ed7128e53b7b13819fe5cfc2d801f...</td>\n",
       "      <td>1</td>\n",
       "      <td>1</td>\n",
       "      <td>ACTIVE</td>\n",
       "      <td>Regularly</td>\n",
       "      <td>52</td>\n",
       "    </tr>\n",
       "  </tbody>\n",
       "</table>\n",
       "</div>"
      ],
      "text/plain": [
       "                                         customer_id  FN  Active  \\\n",
       "0  00000dbacae5abe5e23885899a1fa44253a17956c6d1c3...   0       0   \n",
       "1  0000423b00ade91418cceaf3b26c6af3dd342b51fd051e...   0       0   \n",
       "2  000058a12d5b43e67d225668fa1f8d618c13dc232df0ca...   0       0   \n",
       "3  00005ca1c9ed5f5146b52ac8639a40ca9d57aeff4d1bd2...   0       0   \n",
       "4  00006413d8573cd20ed7128e53b7b13819fe5cfc2d801f...   1       1   \n",
       "\n",
       "  club_member_status fashion_news_frequency  age  \n",
       "0             ACTIVE                   NONE   49  \n",
       "1             ACTIVE                   NONE   25  \n",
       "2             ACTIVE                   NONE   24  \n",
       "3             ACTIVE                   NONE   54  \n",
       "4             ACTIVE              Regularly   52  "
      ]
     },
     "execution_count": 3,
     "metadata": {},
     "output_type": "execute_result"
    }
   ],
   "source": [
    "df.head()\n"
   ]
  },
  {
   "cell_type": "markdown",
   "id": "edf7fc12",
   "metadata": {},
   "source": [
    "### 문제 2. 데이터의 행, 열 개수를 확인하세요 (`shape`)."
   ]
  },
  {
   "cell_type": "code",
   "execution_count": 4,
   "id": "d71768db",
   "metadata": {},
   "outputs": [
    {
     "data": {
      "text/plain": [
       "(1048575, 6)"
      ]
     },
     "execution_count": 4,
     "metadata": {},
     "output_type": "execute_result"
    }
   ],
   "source": [
    "df.shape"
   ]
  },
  {
   "cell_type": "markdown",
   "id": "e797d4b1",
   "metadata": {},
   "source": [
    "### 문제 3. 각 컬럼의 타입과 결측치를 포함한 요약 정보를 확인하세요 (`info()`)."
   ]
  },
  {
   "cell_type": "code",
   "execution_count": 5,
   "id": "628d6d3b",
   "metadata": {},
   "outputs": [
    {
     "name": "stdout",
     "output_type": "stream",
     "text": [
      "<class 'pandas.core.frame.DataFrame'>\n",
      "RangeIndex: 1048575 entries, 0 to 1048574\n",
      "Data columns (total 6 columns):\n",
      " #   Column                  Non-Null Count    Dtype \n",
      "---  ------                  --------------    ----- \n",
      " 0   customer_id             1048575 non-null  object\n",
      " 1   FN                      1048575 non-null  int64 \n",
      " 2   Active                  1048575 non-null  int64 \n",
      " 3   club_member_status      1048575 non-null  object\n",
      " 4   fashion_news_frequency  1048574 non-null  object\n",
      " 5   age                     1048575 non-null  int64 \n",
      "dtypes: int64(3), object(3)\n",
      "memory usage: 48.0+ MB\n"
     ]
    }
   ],
   "source": [
    "df.info()"
   ]
  },
  {
   "cell_type": "markdown",
   "id": "61fcb738",
   "metadata": {},
   "source": [
    "### 문제 4. 수치형 컬럼들의 통계 요약을 확인하세요 (`describe()`)."
   ]
  },
  {
   "cell_type": "code",
   "execution_count": 6,
   "id": "c32da15f",
   "metadata": {},
   "outputs": [
    {
     "data": {
      "text/html": [
       "<div>\n",
       "<style scoped>\n",
       "    .dataframe tbody tr th:only-of-type {\n",
       "        vertical-align: middle;\n",
       "    }\n",
       "\n",
       "    .dataframe tbody tr th {\n",
       "        vertical-align: top;\n",
       "    }\n",
       "\n",
       "    .dataframe thead th {\n",
       "        text-align: right;\n",
       "    }\n",
       "</style>\n",
       "<table border=\"1\" class=\"dataframe\">\n",
       "  <thead>\n",
       "    <tr style=\"text-align: right;\">\n",
       "      <th></th>\n",
       "      <th>FN</th>\n",
       "      <th>Active</th>\n",
       "      <th>age</th>\n",
       "    </tr>\n",
       "  </thead>\n",
       "  <tbody>\n",
       "    <tr>\n",
       "      <th>count</th>\n",
       "      <td>1.048575e+06</td>\n",
       "      <td>1.048575e+06</td>\n",
       "      <td>1.048575e+06</td>\n",
       "    </tr>\n",
       "    <tr>\n",
       "      <th>mean</th>\n",
       "      <td>3.555397e-01</td>\n",
       "      <td>3.461326e-01</td>\n",
       "      <td>3.636919e+01</td>\n",
       "    </tr>\n",
       "    <tr>\n",
       "      <th>std</th>\n",
       "      <td>4.786767e-01</td>\n",
       "      <td>4.757363e-01</td>\n",
       "      <td>1.430899e+01</td>\n",
       "    </tr>\n",
       "    <tr>\n",
       "      <th>min</th>\n",
       "      <td>0.000000e+00</td>\n",
       "      <td>0.000000e+00</td>\n",
       "      <td>1.600000e+01</td>\n",
       "    </tr>\n",
       "    <tr>\n",
       "      <th>25%</th>\n",
       "      <td>0.000000e+00</td>\n",
       "      <td>0.000000e+00</td>\n",
       "      <td>2.400000e+01</td>\n",
       "    </tr>\n",
       "    <tr>\n",
       "      <th>50%</th>\n",
       "      <td>0.000000e+00</td>\n",
       "      <td>0.000000e+00</td>\n",
       "      <td>3.200000e+01</td>\n",
       "    </tr>\n",
       "    <tr>\n",
       "      <th>75%</th>\n",
       "      <td>1.000000e+00</td>\n",
       "      <td>1.000000e+00</td>\n",
       "      <td>4.900000e+01</td>\n",
       "    </tr>\n",
       "    <tr>\n",
       "      <th>max</th>\n",
       "      <td>1.000000e+00</td>\n",
       "      <td>1.000000e+00</td>\n",
       "      <td>9.900000e+01</td>\n",
       "    </tr>\n",
       "  </tbody>\n",
       "</table>\n",
       "</div>"
      ],
      "text/plain": [
       "                 FN        Active           age\n",
       "count  1.048575e+06  1.048575e+06  1.048575e+06\n",
       "mean   3.555397e-01  3.461326e-01  3.636919e+01\n",
       "std    4.786767e-01  4.757363e-01  1.430899e+01\n",
       "min    0.000000e+00  0.000000e+00  1.600000e+01\n",
       "25%    0.000000e+00  0.000000e+00  2.400000e+01\n",
       "50%    0.000000e+00  0.000000e+00  3.200000e+01\n",
       "75%    1.000000e+00  1.000000e+00  4.900000e+01\n",
       "max    1.000000e+00  1.000000e+00  9.900000e+01"
      ]
     },
     "execution_count": 6,
     "metadata": {},
     "output_type": "execute_result"
    }
   ],
   "source": [
    "df.describe()"
   ]
  },
  {
   "cell_type": "markdown",
   "id": "8489585d",
   "metadata": {},
   "source": [
    "### 문제 5. `customer_id`, `age`, `club_member_status` 열만 선택해 처음 5행을 출력하세요 (`[['col1','col2']]`)."
   ]
  },
  {
   "cell_type": "code",
   "execution_count": 7,
   "id": "8529edeb",
   "metadata": {},
   "outputs": [
    {
     "data": {
      "text/html": [
       "<div>\n",
       "<style scoped>\n",
       "    .dataframe tbody tr th:only-of-type {\n",
       "        vertical-align: middle;\n",
       "    }\n",
       "\n",
       "    .dataframe tbody tr th {\n",
       "        vertical-align: top;\n",
       "    }\n",
       "\n",
       "    .dataframe thead th {\n",
       "        text-align: right;\n",
       "    }\n",
       "</style>\n",
       "<table border=\"1\" class=\"dataframe\">\n",
       "  <thead>\n",
       "    <tr style=\"text-align: right;\">\n",
       "      <th></th>\n",
       "      <th>customer_id</th>\n",
       "      <th>age</th>\n",
       "      <th>club_member_status</th>\n",
       "    </tr>\n",
       "  </thead>\n",
       "  <tbody>\n",
       "    <tr>\n",
       "      <th>0</th>\n",
       "      <td>00000dbacae5abe5e23885899a1fa44253a17956c6d1c3...</td>\n",
       "      <td>49</td>\n",
       "      <td>ACTIVE</td>\n",
       "    </tr>\n",
       "    <tr>\n",
       "      <th>1</th>\n",
       "      <td>0000423b00ade91418cceaf3b26c6af3dd342b51fd051e...</td>\n",
       "      <td>25</td>\n",
       "      <td>ACTIVE</td>\n",
       "    </tr>\n",
       "    <tr>\n",
       "      <th>2</th>\n",
       "      <td>000058a12d5b43e67d225668fa1f8d618c13dc232df0ca...</td>\n",
       "      <td>24</td>\n",
       "      <td>ACTIVE</td>\n",
       "    </tr>\n",
       "    <tr>\n",
       "      <th>3</th>\n",
       "      <td>00005ca1c9ed5f5146b52ac8639a40ca9d57aeff4d1bd2...</td>\n",
       "      <td>54</td>\n",
       "      <td>ACTIVE</td>\n",
       "    </tr>\n",
       "    <tr>\n",
       "      <th>4</th>\n",
       "      <td>00006413d8573cd20ed7128e53b7b13819fe5cfc2d801f...</td>\n",
       "      <td>52</td>\n",
       "      <td>ACTIVE</td>\n",
       "    </tr>\n",
       "  </tbody>\n",
       "</table>\n",
       "</div>"
      ],
      "text/plain": [
       "                                         customer_id  age club_member_status\n",
       "0  00000dbacae5abe5e23885899a1fa44253a17956c6d1c3...   49             ACTIVE\n",
       "1  0000423b00ade91418cceaf3b26c6af3dd342b51fd051e...   25             ACTIVE\n",
       "2  000058a12d5b43e67d225668fa1f8d618c13dc232df0ca...   24             ACTIVE\n",
       "3  00005ca1c9ed5f5146b52ac8639a40ca9d57aeff4d1bd2...   54             ACTIVE\n",
       "4  00006413d8573cd20ed7128e53b7b13819fe5cfc2d801f...   52             ACTIVE"
      ]
     },
     "execution_count": 7,
     "metadata": {},
     "output_type": "execute_result"
    }
   ],
   "source": [
    "df[['customer_id','age','club_member_status']].head()"
   ]
  },
  {
   "cell_type": "markdown",
   "id": "5cf4b902",
   "metadata": {},
   "source": [
    "### 문제 6. `age` 한 열만 선택했을 때와 두 중괄호로 선택했을 때의 차이를 확인하세요 (`Series vs DataFrame`)."
   ]
  },
  {
   "cell_type": "code",
   "execution_count": 11,
   "id": "b1ad267a",
   "metadata": {},
   "outputs": [
    {
     "data": {
      "text/html": [
       "<div>\n",
       "<style scoped>\n",
       "    .dataframe tbody tr th:only-of-type {\n",
       "        vertical-align: middle;\n",
       "    }\n",
       "\n",
       "    .dataframe tbody tr th {\n",
       "        vertical-align: top;\n",
       "    }\n",
       "\n",
       "    .dataframe thead th {\n",
       "        text-align: right;\n",
       "    }\n",
       "</style>\n",
       "<table border=\"1\" class=\"dataframe\">\n",
       "  <thead>\n",
       "    <tr style=\"text-align: right;\">\n",
       "      <th></th>\n",
       "      <th>age</th>\n",
       "    </tr>\n",
       "  </thead>\n",
       "  <tbody>\n",
       "    <tr>\n",
       "      <th>0</th>\n",
       "      <td>49</td>\n",
       "    </tr>\n",
       "    <tr>\n",
       "      <th>1</th>\n",
       "      <td>25</td>\n",
       "    </tr>\n",
       "    <tr>\n",
       "      <th>2</th>\n",
       "      <td>24</td>\n",
       "    </tr>\n",
       "    <tr>\n",
       "      <th>3</th>\n",
       "      <td>54</td>\n",
       "    </tr>\n",
       "    <tr>\n",
       "      <th>4</th>\n",
       "      <td>52</td>\n",
       "    </tr>\n",
       "    <tr>\n",
       "      <th>...</th>\n",
       "      <td>...</td>\n",
       "    </tr>\n",
       "    <tr>\n",
       "      <th>1048570</th>\n",
       "      <td>22</td>\n",
       "    </tr>\n",
       "    <tr>\n",
       "      <th>1048571</th>\n",
       "      <td>41</td>\n",
       "    </tr>\n",
       "    <tr>\n",
       "      <th>1048572</th>\n",
       "      <td>38</td>\n",
       "    </tr>\n",
       "    <tr>\n",
       "      <th>1048573</th>\n",
       "      <td>54</td>\n",
       "    </tr>\n",
       "    <tr>\n",
       "      <th>1048574</th>\n",
       "      <td>49</td>\n",
       "    </tr>\n",
       "  </tbody>\n",
       "</table>\n",
       "<p>1048575 rows × 1 columns</p>\n",
       "</div>"
      ],
      "text/plain": [
       "         age\n",
       "0         49\n",
       "1         25\n",
       "2         24\n",
       "3         54\n",
       "4         52\n",
       "...      ...\n",
       "1048570   22\n",
       "1048571   41\n",
       "1048572   38\n",
       "1048573   54\n",
       "1048574   49\n",
       "\n",
       "[1048575 rows x 1 columns]"
      ]
     },
     "execution_count": 11,
     "metadata": {},
     "output_type": "execute_result"
    }
   ],
   "source": [
    "df['age']   # 시리즈 형태\n",
    "df[['age']] # 데이터프레임 형태"
   ]
  },
  {
   "cell_type": "markdown",
   "id": "a4d7c925",
   "metadata": {},
   "source": [
    "### 문제 7. `.loc`으로 0~5행(끝 포함)과 `['customer_id','Name'가 없으므로 'club_member_status','age']` 열을 선택해 보세요."
   ]
  },
  {
   "cell_type": "code",
   "execution_count": 16,
   "id": "0bc98928",
   "metadata": {},
   "outputs": [
    {
     "data": {
      "text/html": [
       "<div>\n",
       "<style scoped>\n",
       "    .dataframe tbody tr th:only-of-type {\n",
       "        vertical-align: middle;\n",
       "    }\n",
       "\n",
       "    .dataframe tbody tr th {\n",
       "        vertical-align: top;\n",
       "    }\n",
       "\n",
       "    .dataframe thead th {\n",
       "        text-align: right;\n",
       "    }\n",
       "</style>\n",
       "<table border=\"1\" class=\"dataframe\">\n",
       "  <thead>\n",
       "    <tr style=\"text-align: right;\">\n",
       "      <th></th>\n",
       "      <th>club_member_status</th>\n",
       "      <th>age</th>\n",
       "    </tr>\n",
       "  </thead>\n",
       "  <tbody>\n",
       "    <tr>\n",
       "      <th>0</th>\n",
       "      <td>ACTIVE</td>\n",
       "      <td>49</td>\n",
       "    </tr>\n",
       "    <tr>\n",
       "      <th>1</th>\n",
       "      <td>ACTIVE</td>\n",
       "      <td>25</td>\n",
       "    </tr>\n",
       "    <tr>\n",
       "      <th>2</th>\n",
       "      <td>ACTIVE</td>\n",
       "      <td>24</td>\n",
       "    </tr>\n",
       "    <tr>\n",
       "      <th>3</th>\n",
       "      <td>ACTIVE</td>\n",
       "      <td>54</td>\n",
       "    </tr>\n",
       "    <tr>\n",
       "      <th>4</th>\n",
       "      <td>ACTIVE</td>\n",
       "      <td>52</td>\n",
       "    </tr>\n",
       "    <tr>\n",
       "      <th>5</th>\n",
       "      <td>ACTIVE</td>\n",
       "      <td>20</td>\n",
       "    </tr>\n",
       "  </tbody>\n",
       "</table>\n",
       "</div>"
      ],
      "text/plain": [
       "  club_member_status  age\n",
       "0             ACTIVE   49\n",
       "1             ACTIVE   25\n",
       "2             ACTIVE   24\n",
       "3             ACTIVE   54\n",
       "4             ACTIVE   52\n",
       "5             ACTIVE   20"
      ]
     },
     "execution_count": 16,
     "metadata": {},
     "output_type": "execute_result"
    }
   ],
   "source": [
    "df.loc[0:5,['club_member_status','age']]"
   ]
  },
  {
   "cell_type": "markdown",
   "id": "dcc2b854",
   "metadata": {},
   "source": [
    "### 문제 8. `.iloc`으로 0~6행(끝 제외)과 열 위치 `[0,1,2,5]`를 선택해 보세요."
   ]
  },
  {
   "cell_type": "code",
   "execution_count": 18,
   "id": "ef878f9b",
   "metadata": {},
   "outputs": [
    {
     "data": {
      "text/html": [
       "<div>\n",
       "<style scoped>\n",
       "    .dataframe tbody tr th:only-of-type {\n",
       "        vertical-align: middle;\n",
       "    }\n",
       "\n",
       "    .dataframe tbody tr th {\n",
       "        vertical-align: top;\n",
       "    }\n",
       "\n",
       "    .dataframe thead th {\n",
       "        text-align: right;\n",
       "    }\n",
       "</style>\n",
       "<table border=\"1\" class=\"dataframe\">\n",
       "  <thead>\n",
       "    <tr style=\"text-align: right;\">\n",
       "      <th></th>\n",
       "      <th>customer_id</th>\n",
       "      <th>FN</th>\n",
       "      <th>Active</th>\n",
       "      <th>age</th>\n",
       "    </tr>\n",
       "  </thead>\n",
       "  <tbody>\n",
       "    <tr>\n",
       "      <th>0</th>\n",
       "      <td>00000dbacae5abe5e23885899a1fa44253a17956c6d1c3...</td>\n",
       "      <td>0</td>\n",
       "      <td>0</td>\n",
       "      <td>49</td>\n",
       "    </tr>\n",
       "    <tr>\n",
       "      <th>1</th>\n",
       "      <td>0000423b00ade91418cceaf3b26c6af3dd342b51fd051e...</td>\n",
       "      <td>0</td>\n",
       "      <td>0</td>\n",
       "      <td>25</td>\n",
       "    </tr>\n",
       "    <tr>\n",
       "      <th>2</th>\n",
       "      <td>000058a12d5b43e67d225668fa1f8d618c13dc232df0ca...</td>\n",
       "      <td>0</td>\n",
       "      <td>0</td>\n",
       "      <td>24</td>\n",
       "    </tr>\n",
       "    <tr>\n",
       "      <th>3</th>\n",
       "      <td>00005ca1c9ed5f5146b52ac8639a40ca9d57aeff4d1bd2...</td>\n",
       "      <td>0</td>\n",
       "      <td>0</td>\n",
       "      <td>54</td>\n",
       "    </tr>\n",
       "    <tr>\n",
       "      <th>4</th>\n",
       "      <td>00006413d8573cd20ed7128e53b7b13819fe5cfc2d801f...</td>\n",
       "      <td>1</td>\n",
       "      <td>1</td>\n",
       "      <td>52</td>\n",
       "    </tr>\n",
       "    <tr>\n",
       "      <th>5</th>\n",
       "      <td>0000757967448a6cb83efb3ea7a3fb9d418ac7adf2379d...</td>\n",
       "      <td>0</td>\n",
       "      <td>0</td>\n",
       "      <td>20</td>\n",
       "    </tr>\n",
       "    <tr>\n",
       "      <th>6</th>\n",
       "      <td>00007d2de826758b65a93dd24ce629ed66842531df6699...</td>\n",
       "      <td>1</td>\n",
       "      <td>1</td>\n",
       "      <td>32</td>\n",
       "    </tr>\n",
       "  </tbody>\n",
       "</table>\n",
       "</div>"
      ],
      "text/plain": [
       "                                         customer_id  FN  Active  age\n",
       "0  00000dbacae5abe5e23885899a1fa44253a17956c6d1c3...   0       0   49\n",
       "1  0000423b00ade91418cceaf3b26c6af3dd342b51fd051e...   0       0   25\n",
       "2  000058a12d5b43e67d225668fa1f8d618c13dc232df0ca...   0       0   24\n",
       "3  00005ca1c9ed5f5146b52ac8639a40ca9d57aeff4d1bd2...   0       0   54\n",
       "4  00006413d8573cd20ed7128e53b7b13819fe5cfc2d801f...   1       1   52\n",
       "5  0000757967448a6cb83efb3ea7a3fb9d418ac7adf2379d...   0       0   20\n",
       "6  00007d2de826758b65a93dd24ce629ed66842531df6699...   1       1   32"
      ]
     },
     "execution_count": 18,
     "metadata": {},
     "output_type": "execute_result"
    }
   ],
   "source": [
    "df.iloc[0:7,[0,1,2,5]]"
   ]
  },
  {
   "cell_type": "markdown",
   "id": "7227f834",
   "metadata": {},
   "source": [
    "### 문제 9. 불리언 필터로 `age >= 50`인 행만 선택하고 `['customer_id','age','Active']` 열만 보세요."
   ]
  },
  {
   "cell_type": "code",
   "execution_count": 28,
   "id": "987df9f2",
   "metadata": {},
   "outputs": [
    {
     "data": {
      "text/html": [
       "<div>\n",
       "<style scoped>\n",
       "    .dataframe tbody tr th:only-of-type {\n",
       "        vertical-align: middle;\n",
       "    }\n",
       "\n",
       "    .dataframe tbody tr th {\n",
       "        vertical-align: top;\n",
       "    }\n",
       "\n",
       "    .dataframe thead th {\n",
       "        text-align: right;\n",
       "    }\n",
       "</style>\n",
       "<table border=\"1\" class=\"dataframe\">\n",
       "  <thead>\n",
       "    <tr style=\"text-align: right;\">\n",
       "      <th></th>\n",
       "      <th>customer_id</th>\n",
       "      <th>age</th>\n",
       "      <th>Active</th>\n",
       "    </tr>\n",
       "  </thead>\n",
       "  <tbody>\n",
       "    <tr>\n",
       "      <th>3</th>\n",
       "      <td>00005ca1c9ed5f5146b52ac8639a40ca9d57aeff4d1bd2...</td>\n",
       "      <td>54</td>\n",
       "      <td>0</td>\n",
       "    </tr>\n",
       "    <tr>\n",
       "      <th>4</th>\n",
       "      <td>00006413d8573cd20ed7128e53b7b13819fe5cfc2d801f...</td>\n",
       "      <td>52</td>\n",
       "      <td>1</td>\n",
       "    </tr>\n",
       "    <tr>\n",
       "      <th>12</th>\n",
       "      <td>00009d946eec3ea54add5ba56d5210ea898def4b46c685...</td>\n",
       "      <td>56</td>\n",
       "      <td>1</td>\n",
       "    </tr>\n",
       "    <tr>\n",
       "      <th>14</th>\n",
       "      <td>0000b2f1829e23b24feec422ef13df3ccedaedc85368e6...</td>\n",
       "      <td>54</td>\n",
       "      <td>1</td>\n",
       "    </tr>\n",
       "    <tr>\n",
       "      <th>15</th>\n",
       "      <td>0000b7a134c3ec0d8842fad1fd4ca28517424c14fc4848...</td>\n",
       "      <td>75</td>\n",
       "      <td>0</td>\n",
       "    </tr>\n",
       "    <tr>\n",
       "      <th>...</th>\n",
       "      <td>...</td>\n",
       "      <td>...</td>\n",
       "      <td>...</td>\n",
       "    </tr>\n",
       "    <tr>\n",
       "      <th>1048555</th>\n",
       "      <td>c88ed14b441c956cad259d9ec588fa0e62a53f38c85f8b...</td>\n",
       "      <td>57</td>\n",
       "      <td>1</td>\n",
       "    </tr>\n",
       "    <tr>\n",
       "      <th>1048559</th>\n",
       "      <td>c88edd334619bcbb99a989a9897fb58f8048c5432edd35...</td>\n",
       "      <td>64</td>\n",
       "      <td>0</td>\n",
       "    </tr>\n",
       "    <tr>\n",
       "      <th>1048560</th>\n",
       "      <td>c88ee2bf9eff1dd1f88e0660e700c536e2d5d32662abd1...</td>\n",
       "      <td>52</td>\n",
       "      <td>0</td>\n",
       "    </tr>\n",
       "    <tr>\n",
       "      <th>1048561</th>\n",
       "      <td>c88ef06636e7b60623be92eff392af29d3271eed02fb57...</td>\n",
       "      <td>52</td>\n",
       "      <td>0</td>\n",
       "    </tr>\n",
       "    <tr>\n",
       "      <th>1048573</th>\n",
       "      <td>c88fa15c06519c4bdcab386fea313b226113584b729874...</td>\n",
       "      <td>54</td>\n",
       "      <td>1</td>\n",
       "    </tr>\n",
       "  </tbody>\n",
       "</table>\n",
       "<p>245566 rows × 3 columns</p>\n",
       "</div>"
      ],
      "text/plain": [
       "                                               customer_id  age  Active\n",
       "3        00005ca1c9ed5f5146b52ac8639a40ca9d57aeff4d1bd2...   54       0\n",
       "4        00006413d8573cd20ed7128e53b7b13819fe5cfc2d801f...   52       1\n",
       "12       00009d946eec3ea54add5ba56d5210ea898def4b46c685...   56       1\n",
       "14       0000b2f1829e23b24feec422ef13df3ccedaedc85368e6...   54       1\n",
       "15       0000b7a134c3ec0d8842fad1fd4ca28517424c14fc4848...   75       0\n",
       "...                                                    ...  ...     ...\n",
       "1048555  c88ed14b441c956cad259d9ec588fa0e62a53f38c85f8b...   57       1\n",
       "1048559  c88edd334619bcbb99a989a9897fb58f8048c5432edd35...   64       0\n",
       "1048560  c88ee2bf9eff1dd1f88e0660e700c536e2d5d32662abd1...   52       0\n",
       "1048561  c88ef06636e7b60623be92eff392af29d3271eed02fb57...   52       0\n",
       "1048573  c88fa15c06519c4bdcab386fea313b226113584b729874...   54       1\n",
       "\n",
       "[245566 rows x 3 columns]"
      ]
     },
     "execution_count": 28,
     "metadata": {},
     "output_type": "execute_result"
    }
   ],
   "source": [
    "df[df['age'] >= 50][['customer_id','age','Active']]"
   ]
  },
  {
   "cell_type": "markdown",
   "id": "74df45f8",
   "metadata": {},
   "source": [
    "### 문제 10. 복합 조건으로 `Active == 1` AND `fashion_news_frequency == 'Regularly'`인 행을 선택하고 `['customer_id','fashion_news_frequency','age']`만 보세요."
   ]
  },
  {
   "cell_type": "code",
   "execution_count": null,
   "id": "e9fbc057",
   "metadata": {},
   "outputs": [
    {
     "data": {
      "text/html": [
       "<div>\n",
       "<style scoped>\n",
       "    .dataframe tbody tr th:only-of-type {\n",
       "        vertical-align: middle;\n",
       "    }\n",
       "\n",
       "    .dataframe tbody tr th {\n",
       "        vertical-align: top;\n",
       "    }\n",
       "\n",
       "    .dataframe thead th {\n",
       "        text-align: right;\n",
       "    }\n",
       "</style>\n",
       "<table border=\"1\" class=\"dataframe\">\n",
       "  <thead>\n",
       "    <tr style=\"text-align: right;\">\n",
       "      <th></th>\n",
       "      <th>customer_id</th>\n",
       "      <th>fashion_news_frequency</th>\n",
       "      <th>age</th>\n",
       "    </tr>\n",
       "  </thead>\n",
       "  <tbody>\n",
       "    <tr>\n",
       "      <th>4</th>\n",
       "      <td>00006413d8573cd20ed7128e53b7b13819fe5cfc2d801f...</td>\n",
       "      <td>Regularly</td>\n",
       "      <td>52</td>\n",
       "    </tr>\n",
       "    <tr>\n",
       "      <th>6</th>\n",
       "      <td>00007d2de826758b65a93dd24ce629ed66842531df6699...</td>\n",
       "      <td>Regularly</td>\n",
       "      <td>32</td>\n",
       "    </tr>\n",
       "    <tr>\n",
       "      <th>12</th>\n",
       "      <td>00009d946eec3ea54add5ba56d5210ea898def4b46c685...</td>\n",
       "      <td>Regularly</td>\n",
       "      <td>56</td>\n",
       "    </tr>\n",
       "    <tr>\n",
       "      <th>13</th>\n",
       "      <td>0000ae1bbb25e04bdc7e35f718e852adfb3fbb72ef38b3...</td>\n",
       "      <td>Regularly</td>\n",
       "      <td>29</td>\n",
       "    </tr>\n",
       "    <tr>\n",
       "      <th>14</th>\n",
       "      <td>0000b2f1829e23b24feec422ef13df3ccedaedc85368e6...</td>\n",
       "      <td>Regularly</td>\n",
       "      <td>54</td>\n",
       "    </tr>\n",
       "    <tr>\n",
       "      <th>...</th>\n",
       "      <td>...</td>\n",
       "      <td>...</td>\n",
       "      <td>...</td>\n",
       "    </tr>\n",
       "    <tr>\n",
       "      <th>1048568</th>\n",
       "      <td>c88f46be101e5795b5d346e861a6b9091b03d8fbb200d6...</td>\n",
       "      <td>Regularly</td>\n",
       "      <td>18</td>\n",
       "    </tr>\n",
       "    <tr>\n",
       "      <th>1048569</th>\n",
       "      <td>c88f47ef5f8ad8addaafcacff4c1b637efb2e6b81d4d74...</td>\n",
       "      <td>Regularly</td>\n",
       "      <td>20</td>\n",
       "    </tr>\n",
       "    <tr>\n",
       "      <th>1048570</th>\n",
       "      <td>c88f5971612e659a4e90d6f08d9c29bdf1e4268fcf52d5...</td>\n",
       "      <td>Regularly</td>\n",
       "      <td>22</td>\n",
       "    </tr>\n",
       "    <tr>\n",
       "      <th>1048571</th>\n",
       "      <td>c88f5d0deba322a686e7928da6a7f3d2318e102d1c2cdb...</td>\n",
       "      <td>Regularly</td>\n",
       "      <td>41</td>\n",
       "    </tr>\n",
       "    <tr>\n",
       "      <th>1048573</th>\n",
       "      <td>c88fa15c06519c4bdcab386fea313b226113584b729874...</td>\n",
       "      <td>Regularly</td>\n",
       "      <td>54</td>\n",
       "    </tr>\n",
       "  </tbody>\n",
       "</table>\n",
       "<p>361936 rows × 3 columns</p>\n",
       "</div>"
      ],
      "text/plain": [
       "                                               customer_id  \\\n",
       "4        00006413d8573cd20ed7128e53b7b13819fe5cfc2d801f...   \n",
       "6        00007d2de826758b65a93dd24ce629ed66842531df6699...   \n",
       "12       00009d946eec3ea54add5ba56d5210ea898def4b46c685...   \n",
       "13       0000ae1bbb25e04bdc7e35f718e852adfb3fbb72ef38b3...   \n",
       "14       0000b2f1829e23b24feec422ef13df3ccedaedc85368e6...   \n",
       "...                                                    ...   \n",
       "1048568  c88f46be101e5795b5d346e861a6b9091b03d8fbb200d6...   \n",
       "1048569  c88f47ef5f8ad8addaafcacff4c1b637efb2e6b81d4d74...   \n",
       "1048570  c88f5971612e659a4e90d6f08d9c29bdf1e4268fcf52d5...   \n",
       "1048571  c88f5d0deba322a686e7928da6a7f3d2318e102d1c2cdb...   \n",
       "1048573  c88fa15c06519c4bdcab386fea313b226113584b729874...   \n",
       "\n",
       "        fashion_news_frequency  age  \n",
       "4                    Regularly   52  \n",
       "6                    Regularly   32  \n",
       "12                   Regularly   56  \n",
       "13                   Regularly   29  \n",
       "14                   Regularly   54  \n",
       "...                        ...  ...  \n",
       "1048568              Regularly   18  \n",
       "1048569              Regularly   20  \n",
       "1048570              Regularly   22  \n",
       "1048571              Regularly   41  \n",
       "1048573              Regularly   54  \n",
       "\n",
       "[361936 rows x 3 columns]"
      ]
     },
     "execution_count": 32,
     "metadata": {},
     "output_type": "execute_result"
    }
   ],
   "source": [
    "req = (df['Active'] == 1) & (df['fashion_news_frequency'] == 'Regularly')\n",
    "\n",
    "columns = [\n",
    "        'customer_id',\n",
    "        'fashion_news_frequency',\n",
    "        'age'\n",
    "]\n",
    "\n",
    "df[req][columns]"
   ]
  },
  {
   "cell_type": "markdown",
   "id": "66f4cac4",
   "metadata": {},
   "source": [
    "### 문제 11. 범주형 컬럼 `club_member_status`의 분포를 확인하세요 (`value_counts()`)."
   ]
  },
  {
   "cell_type": "code",
   "execution_count": 33,
   "id": "c889f461",
   "metadata": {},
   "outputs": [
    {
     "data": {
      "text/plain": [
       "club_member_status\n",
       "ACTIVE        982635\n",
       "PRE-CREATE     65581\n",
       "LEFT CLUB        359\n",
       "Name: count, dtype: int64"
      ]
     },
     "execution_count": 33,
     "metadata": {},
     "output_type": "execute_result"
    }
   ],
   "source": [
    "df['club_member_status'].value_counts()"
   ]
  },
  {
   "cell_type": "markdown",
   "id": "d2409730",
   "metadata": {},
   "source": [
    "### 문제 12. 컬럼별 결측치 개수를 확인하세요 (`isnull().sum()`)."
   ]
  },
  {
   "cell_type": "code",
   "execution_count": 35,
   "id": "c37b5422",
   "metadata": {},
   "outputs": [
    {
     "data": {
      "text/plain": [
       "customer_id               0\n",
       "FN                        0\n",
       "Active                    0\n",
       "club_member_status        0\n",
       "fashion_news_frequency    1\n",
       "age                       0\n",
       "dtype: int64"
      ]
     },
     "execution_count": 35,
     "metadata": {},
     "output_type": "execute_result"
    }
   ],
   "source": [
    "df.isnull().sum()"
   ]
  },
  {
   "cell_type": "markdown",
   "id": "af2aec22",
   "metadata": {},
   "source": [
    "### 문제 13. `age >= 18`인 행만 골라 `output/hm_adults.csv`로 저장하세요 (`to_csv`)."
   ]
  },
  {
   "cell_type": "code",
   "execution_count": 40,
   "id": "34f571fa",
   "metadata": {},
   "outputs": [],
   "source": [
    "hm_adults = df[df['age'] >= 18]\n",
    "\n",
    "hm_adults.to_csv('hm_adults.csv')"
   ]
  },
  {
   "cell_type": "code",
   "execution_count": null,
   "id": "b14fea56",
   "metadata": {},
   "outputs": [],
   "source": []
  }
 ],
 "metadata": {
  "kernelspec": {
   "display_name": "Python 3",
   "language": "python",
   "name": "python3"
  },
  "language_info": {
   "codemirror_mode": {
    "name": "ipython",
    "version": 3
   },
   "file_extension": ".py",
   "mimetype": "text/x-python",
   "name": "python",
   "nbconvert_exporter": "python",
   "pygments_lexer": "ipython3",
   "version": "3.13.7"
  }
 },
 "nbformat": 4,
 "nbformat_minor": 5
}
