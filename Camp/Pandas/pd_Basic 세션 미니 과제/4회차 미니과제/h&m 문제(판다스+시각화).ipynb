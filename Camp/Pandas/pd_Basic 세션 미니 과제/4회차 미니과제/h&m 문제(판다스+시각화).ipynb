{
 "cells": [
  {
   "cell_type": "markdown",
   "id": "ad64f9c4",
   "metadata": {},
   "source": [
    "# H&M 고객 데이터"
   ]
  },
  {
   "cell_type": "markdown",
   "id": "5e3f6e42",
   "metadata": {},
   "source": [
    "## 사전 준비"
   ]
  },
  {
   "cell_type": "code",
   "execution_count": null,
   "id": "08535aaf",
   "metadata": {},
   "outputs": [],
   "source": [
    "# 공통 셋업\n",
    "import pandas as pd\n",
    "import seaborn as sns\n",
    "import matplotlib.pyplot as plt\n",
    "\n",
    "plt.rcParams[\"font.family\"] = \"Malgun Gothic\"  # Mac은 AppleGothic 권장\n",
    "plt.rcParams[\"axes.unicode_minus\"] = False\n",
    "%matplotlib inline\n",
    "\n",
    "# 데이터 로드\n",
    "hm_path = \"customer_hm.csv\"\n",
    "hm = pd.read_csv(hm_path)\n",
    "hm.head()"
   ]
  },
  {
   "cell_type": "markdown",
   "id": "00ef7ded",
   "metadata": {},
   "source": [
    "## 문제 1. 멤버 상태별 고객 수\n",
    "멤버 상태별 고객 수를 막대그래프로 비교해 보세요. 막대는 많은 순서대로 정렬하고, 그래프 제목과 축 라벨을 알기 쉽게 적어 주세요."
   ]
  },
  {
   "cell_type": "code",
   "execution_count": null,
   "id": "7efd5383",
   "metadata": {},
   "outputs": [],
   "source": [
    "## 여기에 코드를 작성하세요.\n"
   ]
  },
  {
   "cell_type": "markdown",
   "id": "e15e9699",
   "metadata": {},
   "source": [
    "## 문제 2. 패션 뉴스 구독 빈도별 고객 수\n",
    "패션 뉴스 구독 빈도별 고객 수를 막대그래프로 그려 보세요. 보기 좋게 내림차순으로 정렬하세요."
   ]
  },
  {
   "cell_type": "code",
   "execution_count": null,
   "id": "c532fc64",
   "metadata": {},
   "outputs": [],
   "source": [
    "## 여기에 코드를 작성하세요.\n"
   ]
  },
  {
   "cell_type": "markdown",
   "id": "e8adcc0b",
   "metadata": {},
   "source": [
    "## 문제 3. 나이 분포\n",
    "고객 나이의 분포를 히스토그램으로 나타내고, 적절한 구간 수를 선택해 주세요. 축 라벨과 제목을 넣어 주세요."
   ]
  },
  {
   "cell_type": "code",
   "execution_count": null,
   "id": "0bbb872c",
   "metadata": {},
   "outputs": [],
   "source": [
    "## 여기에 코드를 작성하세요.\n"
   ]
  },
  {
   "cell_type": "markdown",
   "id": "fb744b2d",
   "metadata": {},
   "source": [
    "## 문제 4. Active=1 고객의 나이 분포\n",
    "활성 고객(Active=1)만 선택해 나이 분포를 히스토그램으로 그려 보세요. 표본 수가 충분한지 함께 확인해 보세요."
   ]
  },
  {
   "cell_type": "code",
   "execution_count": null,
   "id": "168701d9",
   "metadata": {},
   "outputs": [],
   "source": [
    "## 여기에 코드를 작성하세요.\n"
   ]
  },
  {
   "cell_type": "markdown",
   "id": "5a9036d2",
   "metadata": {},
   "source": [
    "## 문제 5. 멤버 상태별 나이 분포(박스플롯)\n",
    "멤버 상태에 따라 나이 분포가 어떻게 다른지 박스플롯으로 비교해 보세요. 이상치가 보인다면 간단히 언급해 주세요."
   ]
  },
  {
   "cell_type": "code",
   "execution_count": null,
   "id": "9d52a389",
   "metadata": {},
   "outputs": [],
   "source": [
    "## 여기에 코드를 작성하세요.\n"
   ]
  },
  {
   "cell_type": "markdown",
   "id": "42f3a09c",
   "metadata": {},
   "source": [
    "## 문제 6. 멤버 상태별 평균 나이\n",
    "각 멤버 상태의 평균 나이를 막대그래프로 보여 주세요. 값의 크기 순서로 정렬하면 더 읽기 쉽습니다."
   ]
  },
  {
   "cell_type": "code",
   "execution_count": null,
   "id": "71903686",
   "metadata": {},
   "outputs": [],
   "source": [
    "## 여기에 코드를 작성하세요.\n"
   ]
  },
  {
   "cell_type": "markdown",
   "id": "40b2438f",
   "metadata": {},
   "source": [
    "## 문제 7. 멤버 상태별 Active 비율\n",
    "각 멤버 상태에서 Active(0/1)의 평균을 구해 비율 막대그래프로 나타내 보세요. y축 범위를 0~1로 맞추면 직관적입니다."
   ]
  },
  {
   "cell_type": "code",
   "execution_count": null,
   "id": "dccb3150",
   "metadata": {},
   "outputs": [],
   "source": [
    "## 여기에 코드를 작성하세요.\n"
   ]
  },
  {
   "cell_type": "markdown",
   "id": "35ab12fe",
   "metadata": {},
   "source": [
    "## 문제 8. 패션 뉴스 구독 빈도별 Active 비율\n",
    "패션 뉴스 구독 빈도별로 Active 비율을 비교하는 막대그래프를 그려 보세요. 막대 위아래 순서를 보기 좋게 정렬해 주세요."
   ]
  },
  {
   "cell_type": "code",
   "execution_count": null,
   "id": "ad0a989c",
   "metadata": {},
   "outputs": [],
   "source": [
    "## 여기에 코드를 작성하세요.\n"
   ]
  },
  {
   "cell_type": "markdown",
   "id": "bcd698e8",
   "metadata": {},
   "source": [
    "## 문제 9. 구독 빈도별 나이 분포 (바이올린)\n",
    "패션 뉴스 구독 빈도에 따라 나이 분포가 어떻게 다른지 바이올린 플롯으로 비교해 보세요. 중앙값과 분위도 함께 보이도록 설정해 주세요."
   ]
  },
  {
   "cell_type": "code",
   "execution_count": null,
   "id": "dabd0ea1",
   "metadata": {},
   "outputs": [],
   "source": [
    "## 여기에 코드를 작성하세요.\n"
   ]
  },
  {
   "cell_type": "markdown",
   "id": "698449e0",
   "metadata": {},
   "source": [
    "## 문제 10. 나이와 FN의 관계 (색상으로 구분)\n",
    "나이와 FN 사이의 관계를 산점도로 그리고, 멤버 상태에 따라 색상으로 구분해 보세요. 보기 좋게 제목과 축 라벨을 넣어 주세요."
   ]
  },
  {
   "cell_type": "code",
   "execution_count": null,
   "id": "8af28df2",
   "metadata": {},
   "outputs": [],
   "source": [
    "## 여기에 코드를 작성하세요.\n"
   ]
  },
  {
   "cell_type": "markdown",
   "id": "6dd0c15c",
   "metadata": {},
   "source": [
    "## 문제 11. 멤버 상태 × 구독 빈도 (행 기준 비율 히트맵)\n",
    "멤버 상태와 패션 뉴스 구독 빈도의 관계를 표로 만든 뒤, 각 행이 100%가 되도록 비율로 변환해 히트맵으로 표현해 보세요. 셀에 값도 표시해 주세요."
   ]
  },
  {
   "cell_type": "code",
   "execution_count": null,
   "id": "0c9f8ff0",
   "metadata": {},
   "outputs": [],
   "source": [
    "## 여기에 코드를 작성하세요.\n"
   ]
  },
  {
   "cell_type": "markdown",
   "id": "c72c21be",
   "metadata": {},
   "source": [
    "## 문제 12. 구독 빈도별 나이 분포 (패싯 히스토그램)\n",
    "패션 뉴스 구독 빈도별로 나이 히스토그램을 나란히 비교해 보세요. 가로로 여러 패널이 보이도록 배치하고, 축 범위를 공유해 주세요."
   ]
  },
  {
   "cell_type": "code",
   "execution_count": null,
   "id": "1b71201b",
   "metadata": {},
   "outputs": [],
   "source": [
    "## 여기에 코드를 작성하세요.\n"
   ]
  },
  {
   "cell_type": "markdown",
   "id": "f24f0b89",
   "metadata": {},
   "source": [
    "## 문제 13. 수치형 변수 상관관계 (히트맵)\n",
    "데이터의 수치형 변수들 사이 상관관계를 히트맵으로 표현하고, 값도 함께 표시해 주세요. 강한 양/음의 상관이 보이는지 살펴보세요."
   ]
  },
  {
   "cell_type": "code",
   "execution_count": null,
   "id": "06889a30",
   "metadata": {},
   "outputs": [],
   "source": [
    "## 여기에 코드를 작성하세요.\n"
   ]
  }
 ],
 "metadata": {
  "language_info": {
   "name": "python"
  }
 },
 "nbformat": 4,
 "nbformat_minor": 5
}
