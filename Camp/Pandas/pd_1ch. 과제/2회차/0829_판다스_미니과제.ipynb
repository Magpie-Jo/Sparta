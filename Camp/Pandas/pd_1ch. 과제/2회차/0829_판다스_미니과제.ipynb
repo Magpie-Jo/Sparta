{
 "cells": [
  {
   "cell_type": "markdown",
   "id": "648fa6d6",
   "metadata": {},
   "source": [
    "# 개요\n",
    "- 참고 자료를 보셔도 좋지만, 코드 이해뿐만 아니라 데이터 전처리 처리에 대한 순서 / 법칙을 이해하면서 작성합시다!\n",
    "- 코드에 대한 다양한 도전을 합시다 :) \n",
    "- 원본 데이터 : https://www.kaggle.com/datasets/rounakbanik/pokemon"
   ]
  },
  {
   "cell_type": "markdown",
   "id": "a2dfdcdb",
   "metadata": {},
   "source": [
    "문제를 풀기 전에, pokemon.csv 파일을 읽고, 데이터를 다양한 함수를 사용해서 살펴보세요!!! (.head(), .shape(), .info(), .value_counts() 등..)"
   ]
  },
  {
   "cell_type": "code",
   "execution_count": 1,
   "id": "dba20edd",
   "metadata": {},
   "outputs": [
    {
     "name": "stdout",
     "output_type": "stream",
     "text": [
      "Index(['attack', 'base_egg_steps', 'base_happiness', 'base_total',\n",
      "       'capture_rate', 'classfication', 'defense', 'experience_growth',\n",
      "       'height_m', 'hp', 'japanese_name', 'name', 'percentage_male',\n",
      "       'pokedex_number', 'sp_attack', 'sp_defense', 'speed', 'type1', 'type2',\n",
      "       'weight_kg', 'generation', 'is_legendary'],\n",
      "      dtype='object')\n"
     ]
    }
   ],
   "source": [
    "import pandas as pd\n",
    "pokemon = pd.read_csv('pokemon.csv')  # 경로는 환경에 맞게 조정\n",
    "\n",
    "\n",
    "#print(pm.shape,'\\n')\n",
    "#print(pm.info(),'\\n')\n",
    "print(pokemon.iloc[:,19:43].columns)\n",
    "\n",
    "pm=pokemon"
   ]
  },
  {
   "cell_type": "markdown",
   "id": "79d59f5c",
   "metadata": {},
   "source": [
    "컬럼명\n",
    "\n",
    "타입별 공격계수(index = 0~18)  \n",
    "attack              → 공격  \n",
    "base_egg_steps      → 알 부화 걸음 수  \n",
    "base_happiness      → 기본 친밀도  \n",
    "base_total          → 종족값 합계  \n",
    "capture_rate        → 포획률  \n",
    "classfication       → 분류  \n",
    "defense             → 방어  \n",
    "experience_growth   → 경험치 성장률  \n",
    "height_m            → 키 (미터)  \n",
    "hp                  → 체력 (HP)  \n",
    "japanese_name       → 일본어 이름  \n",
    "name                → 이름  \n",
    "percentage_male     → 수컷 비율(%)  \n",
    "pokedex_number      → 포켓덱스 번호  \n",
    "sp_attack           → 특수공격  \n",
    "sp_defense          → 특수방어  \n",
    "speed               → 스피드  \n",
    "type1               → 타입1  \n",
    "type2               → 타입2  \n",
    "weight_kg           → 몸무게 (킬로그램)  \n",
    "generation          → 세대  \n",
    "is_legendary        → 전설 여부  "
   ]
  },
  {
   "cell_type": "markdown",
   "id": "d1fba4d6",
   "metadata": {},
   "source": [
    "## 문제 1 : 단일 열 그룹화 - type1별 평균 공격력\n",
    "type1 기준으로 그룹화하여 attack의 평균을 구하세요. (결과는 Series/한 컬럼 집계)"
   ]
  },
  {
   "cell_type": "code",
   "execution_count": 2,
   "id": "61a9a048",
   "metadata": {},
   "outputs": [
    {
     "data": {
      "text/html": [
       "<div>\n",
       "<style scoped>\n",
       "    .dataframe tbody tr th:only-of-type {\n",
       "        vertical-align: middle;\n",
       "    }\n",
       "\n",
       "    .dataframe tbody tr th {\n",
       "        vertical-align: top;\n",
       "    }\n",
       "\n",
       "    .dataframe thead th {\n",
       "        text-align: right;\n",
       "    }\n",
       "</style>\n",
       "<table border=\"1\" class=\"dataframe\">\n",
       "  <thead>\n",
       "    <tr style=\"text-align: right;\">\n",
       "      <th></th>\n",
       "      <th>type1</th>\n",
       "      <th>attack</th>\n",
       "    </tr>\n",
       "  </thead>\n",
       "  <tbody>\n",
       "    <tr>\n",
       "      <th>0</th>\n",
       "      <td>bug</td>\n",
       "      <td>70.12</td>\n",
       "    </tr>\n",
       "    <tr>\n",
       "      <th>1</th>\n",
       "      <td>dark</td>\n",
       "      <td>87.79</td>\n",
       "    </tr>\n",
       "    <tr>\n",
       "      <th>2</th>\n",
       "      <td>dragon</td>\n",
       "      <td>106.41</td>\n",
       "    </tr>\n",
       "    <tr>\n",
       "      <th>3</th>\n",
       "      <td>electric</td>\n",
       "      <td>70.82</td>\n",
       "    </tr>\n",
       "    <tr>\n",
       "      <th>4</th>\n",
       "      <td>fairy</td>\n",
       "      <td>62.11</td>\n",
       "    </tr>\n",
       "    <tr>\n",
       "      <th>5</th>\n",
       "      <td>fighting</td>\n",
       "      <td>99.18</td>\n",
       "    </tr>\n",
       "    <tr>\n",
       "      <th>6</th>\n",
       "      <td>fire</td>\n",
       "      <td>81.50</td>\n",
       "    </tr>\n",
       "    <tr>\n",
       "      <th>7</th>\n",
       "      <td>flying</td>\n",
       "      <td>66.67</td>\n",
       "    </tr>\n",
       "    <tr>\n",
       "      <th>8</th>\n",
       "      <td>ghost</td>\n",
       "      <td>72.74</td>\n",
       "    </tr>\n",
       "    <tr>\n",
       "      <th>9</th>\n",
       "      <td>grass</td>\n",
       "      <td>73.77</td>\n",
       "    </tr>\n",
       "    <tr>\n",
       "      <th>10</th>\n",
       "      <td>ground</td>\n",
       "      <td>94.81</td>\n",
       "    </tr>\n",
       "    <tr>\n",
       "      <th>11</th>\n",
       "      <td>ice</td>\n",
       "      <td>73.30</td>\n",
       "    </tr>\n",
       "    <tr>\n",
       "      <th>12</th>\n",
       "      <td>normal</td>\n",
       "      <td>75.16</td>\n",
       "    </tr>\n",
       "    <tr>\n",
       "      <th>13</th>\n",
       "      <td>poison</td>\n",
       "      <td>72.66</td>\n",
       "    </tr>\n",
       "    <tr>\n",
       "      <th>14</th>\n",
       "      <td>psychic</td>\n",
       "      <td>65.57</td>\n",
       "    </tr>\n",
       "    <tr>\n",
       "      <th>15</th>\n",
       "      <td>rock</td>\n",
       "      <td>90.67</td>\n",
       "    </tr>\n",
       "    <tr>\n",
       "      <th>16</th>\n",
       "      <td>steel</td>\n",
       "      <td>93.08</td>\n",
       "    </tr>\n",
       "    <tr>\n",
       "      <th>17</th>\n",
       "      <td>water</td>\n",
       "      <td>73.31</td>\n",
       "    </tr>\n",
       "  </tbody>\n",
       "</table>\n",
       "</div>"
      ],
      "text/plain": [
       "       type1  attack\n",
       "0        bug   70.12\n",
       "1       dark   87.79\n",
       "2     dragon  106.41\n",
       "3   electric   70.82\n",
       "4      fairy   62.11\n",
       "5   fighting   99.18\n",
       "6       fire   81.50\n",
       "7     flying   66.67\n",
       "8      ghost   72.74\n",
       "9      grass   73.77\n",
       "10    ground   94.81\n",
       "11       ice   73.30\n",
       "12    normal   75.16\n",
       "13    poison   72.66\n",
       "14   psychic   65.57\n",
       "15      rock   90.67\n",
       "16     steel   93.08\n",
       "17     water   73.31"
      ]
     },
     "execution_count": 2,
     "metadata": {},
     "output_type": "execute_result"
    }
   ],
   "source": [
    "TypeAttack_AVG = pm.groupby('type1')['attack'].mean()\n",
    "\n",
    "TypeAttack_AVG.reset_index().round(2)"
   ]
  },
  {
   "cell_type": "markdown",
   "id": "f5ec3b90",
   "metadata": {},
   "source": [
    "## 문제 2 : 다중 열 그룹화 - generation × is_legendary 조합별 개수\n",
    "generation과 is_legendary 두 컬럼으로 그룹화하고, 각 그룹의 포켓몬 개수를 구한 뒤 count라는 이름의 컬럼으로 표 형태로 출력하세요."
   ]
  },
  {
   "cell_type": "code",
   "execution_count": 3,
   "id": "6cb87eb6",
   "metadata": {},
   "outputs": [
    {
     "data": {
      "text/html": [
       "<div>\n",
       "<style scoped>\n",
       "    .dataframe tbody tr th:only-of-type {\n",
       "        vertical-align: middle;\n",
       "    }\n",
       "\n",
       "    .dataframe tbody tr th {\n",
       "        vertical-align: top;\n",
       "    }\n",
       "\n",
       "    .dataframe thead th {\n",
       "        text-align: right;\n",
       "    }\n",
       "</style>\n",
       "<table border=\"1\" class=\"dataframe\">\n",
       "  <thead>\n",
       "    <tr style=\"text-align: right;\">\n",
       "      <th></th>\n",
       "      <th>generation</th>\n",
       "      <th>is_legendary</th>\n",
       "      <th>count</th>\n",
       "    </tr>\n",
       "  </thead>\n",
       "  <tbody>\n",
       "    <tr>\n",
       "      <th>0</th>\n",
       "      <td>1</td>\n",
       "      <td>0</td>\n",
       "      <td>146</td>\n",
       "    </tr>\n",
       "    <tr>\n",
       "      <th>1</th>\n",
       "      <td>1</td>\n",
       "      <td>1</td>\n",
       "      <td>5</td>\n",
       "    </tr>\n",
       "    <tr>\n",
       "      <th>2</th>\n",
       "      <td>2</td>\n",
       "      <td>0</td>\n",
       "      <td>94</td>\n",
       "    </tr>\n",
       "    <tr>\n",
       "      <th>3</th>\n",
       "      <td>2</td>\n",
       "      <td>1</td>\n",
       "      <td>6</td>\n",
       "    </tr>\n",
       "    <tr>\n",
       "      <th>4</th>\n",
       "      <td>3</td>\n",
       "      <td>0</td>\n",
       "      <td>125</td>\n",
       "    </tr>\n",
       "    <tr>\n",
       "      <th>5</th>\n",
       "      <td>3</td>\n",
       "      <td>1</td>\n",
       "      <td>10</td>\n",
       "    </tr>\n",
       "    <tr>\n",
       "      <th>6</th>\n",
       "      <td>4</td>\n",
       "      <td>0</td>\n",
       "      <td>94</td>\n",
       "    </tr>\n",
       "    <tr>\n",
       "      <th>7</th>\n",
       "      <td>4</td>\n",
       "      <td>1</td>\n",
       "      <td>13</td>\n",
       "    </tr>\n",
       "    <tr>\n",
       "      <th>8</th>\n",
       "      <td>5</td>\n",
       "      <td>0</td>\n",
       "      <td>143</td>\n",
       "    </tr>\n",
       "    <tr>\n",
       "      <th>9</th>\n",
       "      <td>5</td>\n",
       "      <td>1</td>\n",
       "      <td>13</td>\n",
       "    </tr>\n",
       "    <tr>\n",
       "      <th>10</th>\n",
       "      <td>6</td>\n",
       "      <td>0</td>\n",
       "      <td>66</td>\n",
       "    </tr>\n",
       "    <tr>\n",
       "      <th>11</th>\n",
       "      <td>6</td>\n",
       "      <td>1</td>\n",
       "      <td>6</td>\n",
       "    </tr>\n",
       "    <tr>\n",
       "      <th>12</th>\n",
       "      <td>7</td>\n",
       "      <td>0</td>\n",
       "      <td>63</td>\n",
       "    </tr>\n",
       "    <tr>\n",
       "      <th>13</th>\n",
       "      <td>7</td>\n",
       "      <td>1</td>\n",
       "      <td>17</td>\n",
       "    </tr>\n",
       "  </tbody>\n",
       "</table>\n",
       "</div>"
      ],
      "text/plain": [
       "    generation  is_legendary  count\n",
       "0            1             0    146\n",
       "1            1             1      5\n",
       "2            2             0     94\n",
       "3            2             1      6\n",
       "4            3             0    125\n",
       "5            3             1     10\n",
       "6            4             0     94\n",
       "7            4             1     13\n",
       "8            5             0    143\n",
       "9            5             1     13\n",
       "10           6             0     66\n",
       "11           6             1      6\n",
       "12           7             0     63\n",
       "13           7             1     17"
      ]
     },
     "execution_count": 3,
     "metadata": {},
     "output_type": "execute_result"
    }
   ],
   "source": [
    "group_pm = pm.groupby(['generation','is_legendary']).size().reset_index(name = 'count')\n",
    "\n",
    "group_pm\n"
   ]
  },
  {
   "cell_type": "markdown",
   "id": "8cb8b96b",
   "metadata": {},
   "source": [
    "## 문제 3번 : 여러 집계 한 번에 - type1별 hp 평균 + attack 평균\n",
    "type1별로 hp의 평균과 attack의 평균을 동시에 계산하세요. (컬럼별 다른 함수 지정: agg 딕셔너리)"
   ]
  },
  {
   "cell_type": "code",
   "execution_count": null,
   "id": "a36f5f19",
   "metadata": {},
   "outputs": [],
   "source": []
  },
  {
   "cell_type": "markdown",
   "id": "5e5907e8",
   "metadata": {},
   "source": [
    "## 문제 4번 : 문자열 기본: 대문자 변환 + 길이 구하기\n",
    "name 컬럼을 모두 대문자로 바꾼 name_upper와, 이름 글자 수를 담은 name_len 컬럼을 추가하고, 상위 5개 행만 확인하세요."
   ]
  },
  {
   "cell_type": "code",
   "execution_count": null,
   "id": "735577b6",
   "metadata": {},
   "outputs": [],
   "source": []
  },
  {
   "cell_type": "markdown",
   "id": "93f78ea8",
   "metadata": {},
   "source": [
    "## 문제 5번 : 날짜 기본: 문자열 → 날짜 변환 & 연도/요일 추출\n",
    "아래 날짜 문자열 리스트를 Series로 만들고 pd.to_datetime으로 변환한 뒤, 연도(year)와 요일(day_name)을 각각 출력하세요."
   ]
  },
  {
   "cell_type": "code",
   "execution_count": 4,
   "id": "e4753fa6",
   "metadata": {},
   "outputs": [],
   "source": [
    "dates_str = ['1996-02-27', '1999-11-21', '2002-11-21']"
   ]
  },
  {
   "cell_type": "code",
   "execution_count": null,
   "id": "7002a0a8",
   "metadata": {},
   "outputs": [],
   "source": []
  },
  {
   "cell_type": "markdown",
   "id": "f0e58aad",
   "metadata": {},
   "source": [
    "## 문제 6번 : map으로 쉬운 값 치환 - 전설 여부 라벨 만들기\n",
    "is_legendary가 1이면 \"Legendary\", 0이면 \"Normal\"을 부여한 새 컬럼 legendary_label을 만드세요."
   ]
  },
  {
   "cell_type": "code",
   "execution_count": null,
   "id": "275b70f9",
   "metadata": {},
   "outputs": [],
   "source": []
  },
  {
   "cell_type": "markdown",
   "id": "65903861",
   "metadata": {},
   "source": [
    "## 문제 7번 : concat 기초 - Fire와 Water 묶어 세로로 붙이기\n",
    "type1 == 'Fire'인 포켓몬의 name, type1만 담은 fire_df와\n",
    "type1 == 'Water'인 포켓몬의 name, type1만 담은 water_df를 만든 뒤, 두 DataFrame을 세로 방향으로 이어붙여(ignore_index=True) fw_concat을 만들고 상위 8행을 확인하세요."
   ]
  },
  {
   "cell_type": "code",
   "execution_count": null,
   "id": "fe129024",
   "metadata": {},
   "outputs": [],
   "source": []
  },
  {
   "cell_type": "markdown",
   "id": "26f6a152",
   "metadata": {},
   "source": [
    "## 문제 8번 : generation 라벨 붙이기 (Left Merge)\n",
    "아래의 작은 매핑 테이블 gen_info를 직접 만들고, pokemon과 generation 컬럼을 기준으로 left merge 하여 gen_name 컬럼을 붙이세요. 결과의 상위 5행을 출력하세요.\n",
    "\n",
    "매핑은 다음과 같이 사용하세요:  \n",
    "1 → \"Gen I\"  \n",
    "2 → \"Gen II\"  \n",
    "3 → \"Gen III\"  \n",
    "4 → \"Gen IV\"  \n",
    "5 → \"Gen V\"  \n",
    "6 → \"Gen VI\"  \n",
    "7 → \"Gen VII\"  "
   ]
  },
  {
   "cell_type": "code",
   "execution_count": null,
   "id": "729d2eb9",
   "metadata": {},
   "outputs": [],
   "source": []
  },
  {
   "cell_type": "markdown",
   "id": "b32e1dd6",
   "metadata": {},
   "source": [
    "## 문제 9번 : 전처리 결과 저장\n",
    "지금까지 만든 가공 결과(예: pokemon_with_gen)를 CSV로 저장하세요. 파일명은 pokemon_processed.csv, 인덱스 제외."
   ]
  },
  {
   "cell_type": "code",
   "execution_count": null,
   "id": "c414be1f",
   "metadata": {},
   "outputs": [],
   "source": []
  }
 ],
 "metadata": {
  "kernelspec": {
   "display_name": "Python 3",
   "language": "python",
   "name": "python3"
  },
  "language_info": {
   "codemirror_mode": {
    "name": "ipython",
    "version": 3
   },
   "file_extension": ".py",
   "mimetype": "text/x-python",
   "name": "python",
   "nbconvert_exporter": "python",
   "pygments_lexer": "ipython3",
   "version": "3.13.7"
  }
 },
 "nbformat": 4,
 "nbformat_minor": 5
}
