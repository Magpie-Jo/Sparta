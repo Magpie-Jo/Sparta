{
 "cells": [
  {
   "cell_type": "code",
   "execution_count": 1,
   "id": "31a2aa01",
   "metadata": {},
   "outputs": [],
   "source": [
    "import pandas as pd\n",
    "import seaborn as sns\n",
    "import numpy as np\n",
    "import matplotlib.pyplot as plt\n",
    "import os\n",
    "\n",
    "if os.name == 'nt':\n",
    "    plt.rcParams[\"font.family\"] = \"Malgun Gothic\"  # Windows 폰트 설정\n",
    "elif os.name == 'posix':\n",
    "    plt.rcParams[\"font.family\"] = \"AppleGothic\"  # Mac 폰트 설정"
   ]
  },
  {
   "cell_type": "code",
   "execution_count": null,
   "id": "bc4695f2",
   "metadata": {},
   "outputs": [],
   "source": []
  }
 ],
 "metadata": {
  "kernelspec": {
   "display_name": "Python 3",
   "language": "python",
   "name": "python3"
  },
  "language_info": {
   "codemirror_mode": {
    "name": "ipython",
    "version": 3
   },
   "file_extension": ".py",
   "mimetype": "text/x-python",
   "name": "python",
   "nbconvert_exporter": "python",
   "pygments_lexer": "ipython3",
   "version": "3.13.8"
  }
 },
 "nbformat": 4,
 "nbformat_minor": 5
}
